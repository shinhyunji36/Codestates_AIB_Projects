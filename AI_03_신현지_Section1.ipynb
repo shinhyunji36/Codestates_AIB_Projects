{
  "nbformat": 4,
  "nbformat_minor": 0,
  "metadata": {
    "colab": {
      "name": "AI_03_신현지_Section1",
      "provenance": [],
      "authorship_tag": "ABX9TyMhcHxzQ7UqmGyC+l2taz09",
      "include_colab_link": true
    },
    "kernelspec": {
      "name": "python3",
      "display_name": "Python 3"
    },
    "language_info": {
      "name": "python"
    }
  },
  "cells": [
    {
      "cell_type": "markdown",
      "metadata": {
        "id": "view-in-github",
        "colab_type": "text"
      },
      "source": [
        "<a href=\"https://colab.research.google.com/github/shinhyunji36/codestates-ai-project/blob/main/AI_03_%EC%8B%A0%ED%98%84%EC%A7%80_Section1.ipynb\" target=\"_parent\"><img src=\"https://colab.research.google.com/assets/colab-badge.svg\" alt=\"Open In Colab\"/></a>"
      ]
    },
    {
      "cell_type": "markdown",
      "metadata": {
        "id": "1AGGZqlpb9DY"
      },
      "source": [
        "#**Section1 Project**\n",
        "- AI_03 신현지\n",
        "- 준비 기간\n",
        "\n",
        "  : 2021.05.28 ~ 2021. 06.02\n",
        "- 프로젝트 목표 \n",
        "\n",
        "  : 다음 분기에 어떤 게임을 설계해야하는가 데이터 기반 의사결정 과정과 그 결과 제시"
      ]
    },
    {
      "cell_type": "code",
      "metadata": {
        "id": "9MPOkBgTcmnF"
      },
      "source": [
        ""
      ],
      "execution_count": null,
      "outputs": []
    }
  ]
}