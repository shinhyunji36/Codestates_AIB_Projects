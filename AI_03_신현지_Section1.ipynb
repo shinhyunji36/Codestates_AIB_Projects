{
  "nbformat": 4,
  "nbformat_minor": 0,
  "metadata": {
    "colab": {
      "name": "AI_03_신현지_Section1",
      "provenance": [],
      "collapsed_sections": [],
      "authorship_tag": "ABX9TyP+jhh7eEPVOsdMvforHD0K",
      "include_colab_link": true
    },
    "kernelspec": {
      "name": "python3",
      "display_name": "Python 3"
    },
    "language_info": {
      "name": "python"
    }
  },
  "cells": [
    {
      "cell_type": "markdown",
      "metadata": {
        "id": "view-in-github",
        "colab_type": "text"
      },
      "source": [
        "<a href=\"https://colab.research.google.com/github/shinhyunji36/codestates-ai-project/blob/main/AI_03_%EC%8B%A0%ED%98%84%EC%A7%80_Section1.ipynb\" target=\"_parent\"><img src=\"https://colab.research.google.com/assets/colab-badge.svg\" alt=\"Open In Colab\"/></a>"
      ]
    },
    {
      "cell_type": "markdown",
      "metadata": {
        "id": "1AGGZqlpb9DY"
      },
      "source": [
        "#**Section1 Project**\n",
        "- AI_03 신현지\n",
        "- 준비 기간 : 2021.05.28 ~ 2021. 06.02\n",
        "\n",
        "- 프로젝트 목표 : **다음 분기에 어떤 게임을 설계해야하는가**\n",
        "- 조사 방법 : **데이터 기반 의사결정** 과정과 그 결과 제시\n",
        "- 발표 대상 : **(데이터 분석에 관한 배경지식이 없는) 비데이터 직군**\n"
      ]
    },
    {
      "cell_type": "markdown",
      "metadata": {
        "id": "B1pgsgz1l0D9"
      },
      "source": [
        "#**Section1 keyword**\n",
        "- Sprint 1 : EDA, Feature Engineering, Data Manipulation, Data Visualization\n",
        "- Sprint 2 : Hypothesis Test, CI, Bayesian\n",
        "- Sprint 3 : DR, PCA, Cluster"
      ]
    },
    {
      "cell_type": "markdown",
      "metadata": {
        "id": "YLw9ii_3jqHA"
      },
      "source": [
        "# **Data Description**\n",
        "- data type : game sales\n",
        "- Features :\n",
        "\n",
        "  1) Name : 게임의 이름\n",
        "\n",
        "  2) Platform : 게임이 지원되는 플랫폼의 이름\n",
        "\n",
        "  3) Year : 게임이 출시된 연도\n",
        "\n",
        "  4) Genre : 게임의 장르\n",
        "\n",
        "  5) Publisher : 게임을 제작한 회사\n",
        "\n",
        "  6) NA_Sales : 북미지역에서의 출고량\n",
        "\n",
        "  7) EU_Sales : 유럽지역에서의 출고량\n",
        "\n",
        "  8) JP_Sales : 일본지역에서의 출고량\n",
        "\n",
        "  9) Other_Sales : 기타지역에서의 출고량\n",
        "\n",
        "  * *Sales feature 내 단위 : k = 1000(천), m = 1000000(백만)*"
      ]
    },
    {
      "cell_type": "markdown",
      "metadata": {
        "id": "417w4hY_lPeM"
      },
      "source": [
        "#**공통 사항**\n",
        "1. 지역에 따라서 선호하는 게임 장르가 다를까\n",
        "2. 연도별 게임의 트렌드가 있을까\n",
        "3. 출고량이 높은 게임에 대한 분석 및 시각화 프로세스"
      ]
    },
    {
      "cell_type": "markdown",
      "metadata": {
        "id": "UCXfdHryiEza"
      },
      "source": [
        "# **1. EDA**\n",
        "###**1-1. 데이터 준비 및 전처리**"
      ]
    },
    {
      "cell_type": "code",
      "metadata": {
        "id": "9MPOkBgTcmnF",
        "colab": {
          "resources": {
            "http://localhost:8080/nbextensions/google.colab/files.js": {
              "data": "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",
              "ok": true,
              "headers": [
                [
                  "content-type",
                  "application/javascript"
                ]
              ],
              "status": 200,
              "status_text": ""
            }
          },
          "base_uri": "https://localhost:8080/",
          "height": 76
        },
        "outputId": "c1b1c5aa-4637-4eb5-9140-51ab2eef6480"
      },
      "source": [
        "# 로컬 데이터 불러오기\n",
        "from google.colab import files\n",
        "uploaded = files.upload()"
      ],
      "execution_count": 2,
      "outputs": [
        {
          "output_type": "display_data",
          "data": {
            "text/html": [
              "\n",
              "     <input type=\"file\" id=\"files-755a50e7-1fb1-4833-9534-3c2368ad4824\" name=\"files[]\" multiple disabled\n",
              "        style=\"border:none\" />\n",
              "     <output id=\"result-755a50e7-1fb1-4833-9534-3c2368ad4824\">\n",
              "      Upload widget is only available when the cell has been executed in the\n",
              "      current browser session. Please rerun this cell to enable.\n",
              "      </output>\n",
              "      <script src=\"/nbextensions/google.colab/files.js\"></script> "
            ],
            "text/plain": [
              "<IPython.core.display.HTML object>"
            ]
          },
          "metadata": {
            "tags": []
          }
        },
        {
          "output_type": "stream",
          "text": [
            "Saving vgames2.csv to vgames2.csv\n"
          ],
          "name": "stdout"
        }
      ]
    },
    {
      "cell_type": "code",
      "metadata": {
        "id": "-8YwJZHRiEUC"
      },
      "source": [
        "# 기본 라이브러리 불러오기\n",
        "import pandas as pd\n",
        "import numpy as np\n",
        "import matplotlib.pyplot as plt"
      ],
      "execution_count": 3,
      "outputs": []
    },
    {
      "cell_type": "code",
      "metadata": {
        "colab": {
          "base_uri": "https://localhost:8080/",
          "height": 522
        },
        "id": "Lz4JJTtlnBsJ",
        "outputId": "b069248d-529b-4a4e-fc4b-27bfaa0b36b3"
      },
      "source": [
        "# csv파일 불러오기\n",
        "df = pd.read_csv(\"vgames2.csv\",index_col=1).iloc[:,1:]\n",
        "df.head()"
      ],
      "execution_count": 143,
      "outputs": [
        {
          "output_type": "execute_result",
          "data": {
            "text/html": [
              "<div>\n",
              "<style scoped>\n",
              "    .dataframe tbody tr th:only-of-type {\n",
              "        vertical-align: middle;\n",
              "    }\n",
              "\n",
              "    .dataframe tbody tr th {\n",
              "        vertical-align: top;\n",
              "    }\n",
              "\n",
              "    .dataframe thead th {\n",
              "        text-align: right;\n",
              "    }\n",
              "</style>\n",
              "<table border=\"1\" class=\"dataframe\">\n",
              "  <thead>\n",
              "    <tr style=\"text-align: right;\">\n",
              "      <th></th>\n",
              "      <th>Platform</th>\n",
              "      <th>Year</th>\n",
              "      <th>Genre</th>\n",
              "      <th>Publisher</th>\n",
              "      <th>NA_Sales</th>\n",
              "      <th>EU_Sales</th>\n",
              "      <th>JP_Sales</th>\n",
              "      <th>Other_Sales</th>\n",
              "    </tr>\n",
              "    <tr>\n",
              "      <th>Name</th>\n",
              "      <th></th>\n",
              "      <th></th>\n",
              "      <th></th>\n",
              "      <th></th>\n",
              "      <th></th>\n",
              "      <th></th>\n",
              "      <th></th>\n",
              "      <th></th>\n",
              "    </tr>\n",
              "  </thead>\n",
              "  <tbody>\n",
              "    <tr>\n",
              "      <th>Candace Kane's Candy Factory</th>\n",
              "      <td>DS</td>\n",
              "      <td>2008.0</td>\n",
              "      <td>Action</td>\n",
              "      <td>Destineer</td>\n",
              "      <td>0.04</td>\n",
              "      <td>0</td>\n",
              "      <td>0</td>\n",
              "      <td>0</td>\n",
              "    </tr>\n",
              "    <tr>\n",
              "      <th>The Munchables</th>\n",
              "      <td>Wii</td>\n",
              "      <td>2009.0</td>\n",
              "      <td>Action</td>\n",
              "      <td>Namco Bandai Games</td>\n",
              "      <td>0.17</td>\n",
              "      <td>0</td>\n",
              "      <td>0</td>\n",
              "      <td>0.01</td>\n",
              "    </tr>\n",
              "    <tr>\n",
              "      <th>Otome wa Oanesama Boku ni Koi Shiteru Portable</th>\n",
              "      <td>PSP</td>\n",
              "      <td>2010.0</td>\n",
              "      <td>Adventure</td>\n",
              "      <td>Alchemist</td>\n",
              "      <td>0</td>\n",
              "      <td>0</td>\n",
              "      <td>0.02</td>\n",
              "      <td>0</td>\n",
              "    </tr>\n",
              "    <tr>\n",
              "      <th>Deal or No Deal: Special Edition</th>\n",
              "      <td>DS</td>\n",
              "      <td>2010.0</td>\n",
              "      <td>Misc</td>\n",
              "      <td>Zoo Games</td>\n",
              "      <td>0.04</td>\n",
              "      <td>0</td>\n",
              "      <td>0</td>\n",
              "      <td>0</td>\n",
              "    </tr>\n",
              "    <tr>\n",
              "      <th>Ben 10 Ultimate Alien: Cosmic Destruction</th>\n",
              "      <td>PS3</td>\n",
              "      <td>2010.0</td>\n",
              "      <td>Platform</td>\n",
              "      <td>D3Publisher</td>\n",
              "      <td>0.12</td>\n",
              "      <td>0.09</td>\n",
              "      <td>0</td>\n",
              "      <td>0.04</td>\n",
              "    </tr>\n",
              "  </tbody>\n",
              "</table>\n",
              "</div>"
            ],
            "text/plain": [
              "                                               Platform  ...  Other_Sales\n",
              "Name                                                     ...             \n",
              "Candace Kane's Candy Factory                         DS  ...            0\n",
              "The Munchables                                      Wii  ...         0.01\n",
              "Otome wa Oanesama Boku ni Koi Shiteru Portable      PSP  ...            0\n",
              "Deal or No Deal: Special Edition                     DS  ...            0\n",
              "Ben 10 Ultimate Alien: Cosmic Destruction           PS3  ...         0.04\n",
              "\n",
              "[5 rows x 8 columns]"
            ]
          },
          "metadata": {
            "tags": []
          },
          "execution_count": 143
        }
      ]
    },
    {
      "cell_type": "code",
      "metadata": {
        "colab": {
          "base_uri": "https://localhost:8080/"
        },
        "id": "S1joANUinPSS",
        "outputId": "37ec53d7-1ec8-49ec-f283-90be9ab671af"
      },
      "source": [
        "# 데이터 타입 확인 : dtypes, 직접 데이터 열어 확인(엑셀 필터로 간추린 확인)\n",
        "df.dtypes"
      ],
      "execution_count": 11,
      "outputs": [
        {
          "output_type": "execute_result",
          "data": {
            "text/plain": [
              "Platform        object\n",
              "Year           float64\n",
              "Genre           object\n",
              "Publisher       object\n",
              "NA_Sales        object\n",
              "EU_Sales        object\n",
              "JP_Sales        object\n",
              "Other_Sales     object\n",
              "dtype: object"
            ]
          },
          "metadata": {
            "tags": []
          },
          "execution_count": 11
        }
      ]
    },
    {
      "cell_type": "code",
      "metadata": {
        "id": "PGoyczglvPbv"
      },
      "source": [
        "# feature에 맞지 않는 값 들어있나 value_counts로 내부 값들과 그 값의 개수 확인\n",
        "df['Platform'].value_counts(normalize=False, sort=True, ascending=False,bins=None,dropna=False)\n",
        "df['Year'].value_counts(normalize=False, sort=True, ascending=True,bins=None,dropna=False).head(40)\n",
        "df['Other_Sales'].value_counts(normalize=False, sort=True, ascending=True,bins=None,dropna=False).head(30)\n",
        "df['EU_Sales'].value_counts(normalize=False, sort=True, ascending=True,bins=None,dropna=False).head(30)\n",
        "df['NA_Sales'].value_counts(normalize=False, sort=True, ascending=True,bins=None,dropna=False).head(30)\n",
        "df['JP_Sales'].value_counts(normalize=False, sort=True, ascending=True,bins=None,dropna=False).head(30)"
      ],
      "execution_count": null,
      "outputs": []
    },
    {
      "cell_type": "code",
      "metadata": {
        "colab": {
          "base_uri": "https://localhost:8080/"
        },
        "id": "yFZ_YrUh4Vrn",
        "outputId": "fd97b14b-d4fd-443d-a870-1e16960078d5"
      },
      "source": [
        "df['Genre'].value_counts(normalize=False, sort=True, ascending=True,bins=None,dropna=False)"
      ],
      "execution_count": 48,
      "outputs": [
        {
          "output_type": "execute_result",
          "data": {
            "text/plain": [
              "NaN               50\n",
              "Puzzle           578\n",
              "Strategy         680\n",
              "Fighting         847\n",
              "Simulation       865\n",
              "Platform         884\n",
              "Racing          1243\n",
              "Adventure       1280\n",
              "Shooter         1308\n",
              "Role-Playing    1483\n",
              "Misc            1734\n",
              "Sports          2341\n",
              "Action          3305\n",
              "Name: Genre, dtype: int64"
            ]
          },
          "metadata": {
            "tags": []
          },
          "execution_count": 48
        }
      ]
    },
    {
      "cell_type": "code",
      "metadata": {
        "colab": {
          "base_uri": "https://localhost:8080/"
        },
        "id": "tg-dHL-OpYqN",
        "outputId": "21e1fa0a-1b04-4b36-b647-1c744528df19"
      },
      "source": [
        "# 데이터 결측치 확인\n",
        "df.isnull().sum()"
      ],
      "execution_count": 58,
      "outputs": [
        {
          "output_type": "execute_result",
          "data": {
            "text/plain": [
              "Platform         0\n",
              "Year           271\n",
              "Genre           50\n",
              "Publisher       58\n",
              "NA_Sales         0\n",
              "EU_Sales         0\n",
              "JP_Sales         0\n",
              "Other_Sales      0\n",
              "dtype: int64"
            ]
          },
          "metadata": {
            "tags": []
          },
          "execution_count": 58
        }
      ]
    },
    {
      "cell_type": "code",
      "metadata": {
        "colab": {
          "base_uri": "https://localhost:8080/",
          "height": 803
        },
        "id": "HGUUnlqW6MQw",
        "outputId": "15143235-21fc-45f3-933d-9093bc070a0a"
      },
      "source": [
        "# 결측치 있는 행 어떻게 생겼는지 확인\n",
        "cond = df['Year'].isnull() == True\n",
        "cond1 = df['Genre'].isnull() == True\n",
        "cond2 = df['Publisher'].isnull() == True\n",
        "df[cond]"
      ],
      "execution_count": 69,
      "outputs": [
        {
          "output_type": "execute_result",
          "data": {
            "text/html": [
              "<div>\n",
              "<style scoped>\n",
              "    .dataframe tbody tr th:only-of-type {\n",
              "        vertical-align: middle;\n",
              "    }\n",
              "\n",
              "    .dataframe tbody tr th {\n",
              "        vertical-align: top;\n",
              "    }\n",
              "\n",
              "    .dataframe thead th {\n",
              "        text-align: right;\n",
              "    }\n",
              "</style>\n",
              "<table border=\"1\" class=\"dataframe\">\n",
              "  <thead>\n",
              "    <tr style=\"text-align: right;\">\n",
              "      <th></th>\n",
              "      <th>Platform</th>\n",
              "      <th>Year</th>\n",
              "      <th>Genre</th>\n",
              "      <th>Publisher</th>\n",
              "      <th>NA_Sales</th>\n",
              "      <th>EU_Sales</th>\n",
              "      <th>JP_Sales</th>\n",
              "      <th>Other_Sales</th>\n",
              "    </tr>\n",
              "    <tr>\n",
              "      <th>Name</th>\n",
              "      <th></th>\n",
              "      <th></th>\n",
              "      <th></th>\n",
              "      <th></th>\n",
              "      <th></th>\n",
              "      <th></th>\n",
              "      <th></th>\n",
              "      <th></th>\n",
              "    </tr>\n",
              "  </thead>\n",
              "  <tbody>\n",
              "    <tr>\n",
              "      <th>Rock Band</th>\n",
              "      <td>X360</td>\n",
              "      <td>NaN</td>\n",
              "      <td>Misc</td>\n",
              "      <td>Electronic Arts</td>\n",
              "      <td>1.93</td>\n",
              "      <td>0.34</td>\n",
              "      <td>0</td>\n",
              "      <td>0.21</td>\n",
              "    </tr>\n",
              "    <tr>\n",
              "      <th>Yu-Gi-Oh! 5D's Wheelie Breakers (JP sales)</th>\n",
              "      <td>Wii</td>\n",
              "      <td>NaN</td>\n",
              "      <td>Racing</td>\n",
              "      <td>Unknown</td>\n",
              "      <td>0</td>\n",
              "      <td>0</td>\n",
              "      <td>0.02</td>\n",
              "      <td>0</td>\n",
              "    </tr>\n",
              "    <tr>\n",
              "      <th>Jewel Link Chronicles: Mountains of Madness</th>\n",
              "      <td>DS</td>\n",
              "      <td>NaN</td>\n",
              "      <td>Puzzle</td>\n",
              "      <td>Avanquest</td>\n",
              "      <td>0</td>\n",
              "      <td>0.06</td>\n",
              "      <td>0</td>\n",
              "      <td>0.01</td>\n",
              "    </tr>\n",
              "    <tr>\n",
              "      <th>Majesty 2: The Fantasy Kingdom Sim</th>\n",
              "      <td>X360</td>\n",
              "      <td>NaN</td>\n",
              "      <td>Simulation</td>\n",
              "      <td>Unknown</td>\n",
              "      <td>0.03</td>\n",
              "      <td>0</td>\n",
              "      <td>0</td>\n",
              "      <td>0</td>\n",
              "    </tr>\n",
              "    <tr>\n",
              "      <th>Famista 64</th>\n",
              "      <td>N64</td>\n",
              "      <td>NaN</td>\n",
              "      <td>Sports</td>\n",
              "      <td>Namco Bandai Games</td>\n",
              "      <td>0</td>\n",
              "      <td>0</td>\n",
              "      <td>0.17</td>\n",
              "      <td>0.03</td>\n",
              "    </tr>\n",
              "    <tr>\n",
              "      <th>...</th>\n",
              "      <td>...</td>\n",
              "      <td>...</td>\n",
              "      <td>...</td>\n",
              "      <td>...</td>\n",
              "      <td>...</td>\n",
              "      <td>...</td>\n",
              "      <td>...</td>\n",
              "      <td>...</td>\n",
              "    </tr>\n",
              "    <tr>\n",
              "      <th>Freaky Flyers</th>\n",
              "      <td>GC</td>\n",
              "      <td>NaN</td>\n",
              "      <td>Racing</td>\n",
              "      <td>Unknown</td>\n",
              "      <td>0.01</td>\n",
              "      <td>0</td>\n",
              "      <td>0</td>\n",
              "      <td>0</td>\n",
              "    </tr>\n",
              "    <tr>\n",
              "      <th>Space Invaders</th>\n",
              "      <td>2600</td>\n",
              "      <td>NaN</td>\n",
              "      <td>Shooter</td>\n",
              "      <td>Atari</td>\n",
              "      <td>2.36</td>\n",
              "      <td>0.14</td>\n",
              "      <td>0M</td>\n",
              "      <td>0.03</td>\n",
              "    </tr>\n",
              "    <tr>\n",
              "      <th>Madden NFL 11</th>\n",
              "      <td>Wii</td>\n",
              "      <td>NaN</td>\n",
              "      <td>Sports</td>\n",
              "      <td>Unknown</td>\n",
              "      <td>0.7</td>\n",
              "      <td>0</td>\n",
              "      <td>0</td>\n",
              "      <td>50K</td>\n",
              "    </tr>\n",
              "    <tr>\n",
              "      <th>Yoostar on MTV</th>\n",
              "      <td>X360</td>\n",
              "      <td>NaN</td>\n",
              "      <td>Misc</td>\n",
              "      <td>Unknown</td>\n",
              "      <td>0.06</td>\n",
              "      <td>0</td>\n",
              "      <td>0</td>\n",
              "      <td>0</td>\n",
              "    </tr>\n",
              "    <tr>\n",
              "      <th>Bejeweled 3</th>\n",
              "      <td>X360</td>\n",
              "      <td>NaN</td>\n",
              "      <td>Puzzle</td>\n",
              "      <td>Unknown</td>\n",
              "      <td>0.13</td>\n",
              "      <td>0</td>\n",
              "      <td>0</td>\n",
              "      <td>0.01</td>\n",
              "    </tr>\n",
              "  </tbody>\n",
              "</table>\n",
              "<p>271 rows × 8 columns</p>\n",
              "</div>"
            ],
            "text/plain": [
              "                                            Platform  Year  ... JP_Sales Other_Sales\n",
              "Name                                                        ...                     \n",
              "Rock Band                                       X360   NaN  ...        0        0.21\n",
              "Yu-Gi-Oh! 5D's Wheelie Breakers (JP sales)       Wii   NaN  ...     0.02           0\n",
              "Jewel Link Chronicles: Mountains of Madness       DS   NaN  ...        0        0.01\n",
              "Majesty 2: The Fantasy Kingdom Sim              X360   NaN  ...        0           0\n",
              "Famista 64                                       N64   NaN  ...     0.17        0.03\n",
              "...                                              ...   ...  ...      ...         ...\n",
              "Freaky Flyers                                     GC   NaN  ...        0           0\n",
              "Space Invaders                                  2600   NaN  ...       0M        0.03\n",
              "Madden NFL 11                                    Wii   NaN  ...        0         50K\n",
              "Yoostar on MTV                                  X360   NaN  ...        0           0\n",
              "Bejeweled 3                                     X360   NaN  ...        0        0.01\n",
              "\n",
              "[271 rows x 8 columns]"
            ]
          },
          "metadata": {
            "tags": []
          },
          "execution_count": 69
        }
      ]
    },
    {
      "cell_type": "markdown",
      "metadata": {
        "id": "WnHatuS5raBu"
      },
      "source": [
        "### **1-2. 데이터 확인 후 전처리 계획**\n",
        "\n",
        "1. 데이터 타입 관련\n",
        "\n",
        "  1) NA_Sales,\tEU_Sales,\tJP_Sales,\tOther_Sales (각 나라별 출고량)\n",
        "\n",
        "  ```\n",
        "  (1) 현재 object 타입으로 =>  int 타입 변환 필요\n",
        "  (2) 소수와 k,m 등 단위 통일 필요 (k = 천 , m = 백만)\n",
        "  ```\n",
        "\n",
        "  2) Year (출시 연도)\n",
        "  ```\n",
        "  (1) N/A , 2015(4자리 연도), 15(2자리 연도), 0(2000년?)(한자리 연도) 섞여있음 \n",
        "      => 결측치 처리, 4자리로 통일 필요\n",
        "  ```\n",
        "  3) 알맞은 feature에 안들어가고 한칸씩 밀린 데이터 (사진 예시 : 엑셀 데이터 캡쳐) \n",
        "    ![image.png](data:image/png;base64,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)\n",
        "    ![image.png](data:image/png;base64,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)\n",
        "      ![image.png](data:image/png;base64,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)\n",
        "    ```\n",
        "  그러나! 엑셀과 달리 파이썬에서는 제대로 출력될 수 도 있으니, 둘 다 확인봐야한다!!! **\n",
        "  ```\n",
        "\n",
        "\n",
        "\n",
        "2. 결측치 관련 (isnull().sum() != 0)\n",
        "\n",
        "  1) Year, Genre, Publisher\n",
        "\n",
        "  ```\n",
        "  (1) Year : 고민 필요 >> 해당 행 지우기? ( 공통 사항 : 연도별 게임 트랜드)\n",
        "  (2) Genre : 고민 필요 > 해당 행 지우기? ( 공통 사항 : 지역별 선호 장르)\n",
        "  (3) Publisher : 상관 X?\n",
        "  ```"
      ]
    },
    {
      "cell_type": "code",
      "metadata": {
        "id": "GTR-Jmfj6bJq"
      },
      "source": [
        "# sales feature 숫자 단위 통일 : M(백만) 단위로 통일\n",
        "\n",
        "#1. M 없애기\n",
        "#2. K를 기준으로 그 앞 문자(숫자의 모습을 한 문자)를 int 타입으로 만들기 \n",
        "#3. int 타입으로 만들어진 것에 1000(k)를 곱하고, 거기에 1000000(m)을 나눠줘서 백만 단위로 만들어주기 (k = 1000, m = 1000000)\n",
        "\n"
      ],
      "execution_count": null,
      "outputs": []
    },
    {
      "cell_type": "code",
      "metadata": {
        "colab": {
          "base_uri": "https://localhost:8080/"
        },
        "id": "yJA_qa2QJhcp",
        "outputId": "50d6e152-2891-4a68-eb8e-91151421f27c"
      },
      "source": [
        "na_sales = []\n",
        "for i in df['NA_Sales']:\n",
        "  na_sales.append(i)\n",
        "\n",
        "print(na_sales)"
      ],
      "execution_count": 75,
      "outputs": [
        {
          "output_type": "stream",
          "text": [
            "['0.04', '0.17', '0', '0.04', '0.12', '0', '0.02', '0.07', '0', '0.04', '480K', '0.14', '0', '0.02', '0', '0.14', '0.01', '0', '0.02', '0', '0.57', '0.06', '0.08', '0', '0.48', '0.02', '0.03', '0', '0', '0.14', '0.05', '1.93', '0.12', '0', '0.29', '0.19', '0.3', '0.26', '0.11', '0.18', '0.3', '0', '0.33', '0', '0.51', '60K', '0', '0.06', '0.13', '0.14', '0.52', '0.18', '0', '0.34', '0.05', '0.25', '0', '0', '0.41', '0.18', '0.02', '0.25', '0.13', '0.08', '0.01', '0', '0.52', '0.04', '0.08', '0.18', '0.22', '0.03', '0.08', '0.22', '0.01', '0.08', '0', '0.35', '0.1', '0', '0.08', '0.1', '0', '0.19', '0.13', '0.17', '0', '0.08', '0.13', '0.22', '0.07', '0.17', '0.67', '0.05', '0', '0.07', '0.02', '0.59', '0.36', '0', '0', '0.18', '0', '0.05', '0.21', '0.06', '0.19', '1.19', '0', '0', '0', '0.01', '0', '0.04', '0.04', '0', '0.04', '0', '0.03', '0', '0', '0.07', '5.91', '0.04', '0', '0', '1.98', '0.04', '0', '0.02', '0.13', '0', '0', '0.02', '0.35', '0.07', '0', '0.12', '0.04', '0.18', '0', '0', '0', '0.09', '0.06', '0K', '0.5', '0.17', '0', '0.94', '0', '0.03', '0.16', '0', '0', '0.63', '0', '0', '0.43', '0', '0.1', '0', '0', '0.2', '0.07', '1.23', '0', '0.19', '0', '0', '0', '0.44', '0.02', '0.42', '0', '0.19', '0.02', '0', '0', '0.06', '0', '0.19', '0.97', '0.01', '0.11', '0', '0.01', '0', '0.04', '0.01', '0.04', '0', '2.67', '0.36', '0.17', '0', '0.01', '0.04', '0', '0.01', '0.08', '0', '0.18', '0.28', '0.18', '0', '0.01', '0.09', '0.09', '0.05', '0.29', '0', '0.01', '0.09', '0', '0', '0.03', '0.11', '0', '0.01', '0', '0.02', '0.18', '6.05', '0.13', '0.02', '0.05', '0.47', '0', '0.05', '0.06', '0.04', '0.03', '0.35', '0', '0.05', '0', '0.33', '0', '0.05', '0.52', '0.14', '0.3', '0', '0', '0.08', '0', '0.49', '0.08', '0', '0.18', '0.13', '0.05', '0.16', '0', '0.26', '0.62', '0.1', '0.24', '0.72', '1.74', '0.16', '0.46', '0', '0.04', '0', '0', '0', '0.09', '0.02', '0.22', '0.1', '0', '0', '0.18', '1.19', '0.09', '0.06', '0.18', '0.06', '0.02', '0', '0.09', '0.12', '0.17', '0.65', '0.08', '0.35', '0', '0.06', '0.11', '0.32', '1.53', '0.16', '0.07', '0.07', '0.05', '0.12', '0.07', '0.01', '0.08', '0.08', '0', '0', '0', '0.32', '0', '0', '0.06', '0.23', '0.03', '0.24', '0.53', '0.1', '0', '0', '0', '0.19', '0', '0.03', '0.08', '0.11', '0.37', '0.13', '1.26', '0.07', '0.39', '0', '0.12', '0.03', '0', '0.12', '0', '0.1', '0.58', '0.04', '0.12', '0', '1.94', '0', '0', '0.02', '0.18', '2.31', '0.19', '0', '0', '0.11', '0.01', '0', '0', '0.05', '0.04', '0.14', '0', '0.24', '0', '0.57', '0.03', '0.05', '0', '0.35', '0', '0', '0', '1.03', '0.26', '0.82', '0.1', '0', '0.21', '0.14', '0.4', '0.93', '0.33', '0.02', '0.23', '0.56', '0.96', '0.04', '0.29', '0.17', '0', '0.48', '1.64', '0.13', '0.04', '0.04', '0.56', '0', '0', '0.26', '0.01', '0.69', '0', '0', '0.05', '0', '0.06', '0.13', '0', '0.02', '0.21', '0.09', '0.1', '0', '0.06', '0.06', '0.37', '0.08', '0.37', '0', '0.06', '0', '0.06', '0', '0.09', '0', '0.12', '0.5', '0', '0.1', '0.4', '0', '0.32', '0.07', '1.25', '0.04', '0', '0.39', '0', '0', '0.02', '0.09', '0', '0.01', '0.01', '0', '0', '0.05', '0.27', '0.01', '0.3', '0', '0.22', '0.92', '0.69', '0.58M', '0.28', '0.27', '1.24', '0.21', '0.03', '0', '0.16', '0.46', '0.41', '0.13', '0.25M', '0', '0.86', '0.53', '0', '0.28', '0.16', '0.02', '0.73', '0.55', '0.08', '0.11', '0', '0.06', '0.17', '0', '1.54', '0', '0', '0', '0', '0.03', '0.11', '0', '0.47', '0', '0', '0', '1.02', '0.13', '0.21', '0.05', '0.29', '0.5', '0.29', '0.28', '0', '0.02', '0.04', '0.03', '0', '0.11', '0', '0', '1.27', '0.04', '0.42', '0', '0', '0.54', '0', '0.15', '1.09', '3.44', '0.5', '0.16', '0.12', '0.28', '0.55', '0.28', '0.06', '0.73', '0.01', '0.06', '0.42', '0.07', '0.02', '0.16', '0', '0', '0.15', '0.04', '0.12', '0.07', '0.03', '0', '0.55', '0', '0.01', '0.67', '0.14', '0.55', '0.1', '0.29', '0.16', '0.04', '0.22', '0', '0.11', '0', '0.1', '0.11', '0.11', '0.14', '0', '0', '1.23', '0.03', '0.08', '0.48', '0', '0.08', '0.21', '0.13', '2.29', '0.13', '0.05', '0', '0.13', '0.01', '0.08', '0.63', '0.88', '0.08', '0', '0.21', '0.05', '0.11', '0.32', '5.55M', '0.21', '1.37', '0.3', '0', '0.41', '0.33', '0.46', '0.05', '0.13', '0', '0.02', '0.19', '0.08', '0', '0.11', '0', '0.14', '2.3', '0.22', '0', '0.12', '0.29', '0.23', '0.16', '0.99', '0.33', '1.15', '0', '0.16', '0.05', '0', '0.1', '0', '0.37', '0.13', '0', '0.21', '0.02', '0.98', '1.02', '0', '0.13', '0.75', '0.74', '0.7', '0.46', '0.18', '0.14M', '0.1', '0.24', '0.21', '0.07', '0.03', '0.45', '1.2', '0', '0.28', '0.03', '0', '1.15', '0.14', '0.13', '0.07', '0.03', '0.75', '1.41', '0.15', '0', '0.11', '0', '0', '0.11', '0.2', '0.12', '0', '0', '0.72', '0.68', '0.06', '0.15', '0.07', '0.01', '0.36', '0.06', '0.86', '0.14', '0.55', '0.41', '0', '0.03', '0.03', '0', '0.63', '0.19', '1.23M', '0.02', '0.11', '0', '0.35', '0.51', '0.11', '0', '0.99', '0.01', '1.56', '0.74', '0.24', '0', '0.13', '0.11', '0.01', '0', '0.14', '0.26', '0', '0.29', '0', '0.02', '0.23', '0.05', '0.15', '0.22', '0', '0.28', '0.12', '0.12', '0.58', '0', '0.13', '0.36', '0.13', '0.32', '0.04', '0.09', '0.19', '0.04', '0.16', '0', '0.02', '0.28', '0.24', '0', '0.09', '0', '0.1', '0.12', '0.06', '0.42', '0', '0', '0.02', '0.15', '0', '0.13', '0.48', '0.52', '0.14', '0', '0.4', '0.31', '0.29', '0.11', '0.09', '0', '0.5', '0.05', '0.13', '1.45', '0.17', '0', '0', '0', '0', '0.01', '0', '0.07', '0', '1.11', '0.02', '0.29', '0.2', '0.13', '0', '2.9', '0.06', '0.1', '0.04', '0', '0.06', '0M', '0.53', '0', '0', '0.1', '0.05', '0', '0.27', '0.08', '0.08', '0.3', '0.83', '0', '0.02', '0.03', '0', '0.41', '0.06', '0.16', '0.02', '0', '0.14', '0', '0.2', '0.06', '0.31', '0', '0.52', '0', '0', '0.78', '0', '0.26', '0.39', '3.38', '0', '0.17', '0.14', '0', '0.13', '0', '0.11', '0.03', '0', '0.19', '0.18', '0', '0', '0.11', '0.54', '0.03', '0.1', '0', '0.32', '0.15', '0.05', '0.82', '0.21', '0.08', '0.43', '1.03', '0', '0.1', '0', '0.07', '0.06', '0.01', '0.04', '0.13', '0.52', '0', '0.05', '0.35', '0.04', '0.05', '0', '0.11', '0.35', '0.02', '0', '0.68', '0.3', '0', '0.34', '0.01', '0.11', '0.64', '0.4', '0.13', '0', '0', '0', '0', '0.04', '0.37', '0.21', '0.09', '0.08', '0.17', '0.23', '0', '0.1', '0', '1.08', '0', '0', '0', '0.12', '0', '0', '0.21', '0K', '0', '0.04', '0', '0', '0.05', '0', '0.13', '0.1', '0.07', '0.06', '0', '0.12', '0.15', '0', '0', '0.02', '0.13', '0.01', '0.48', '0.04', '0.01', '0.47', '0.16', '0.18', '0', '0', '0.38', '0', '0.12', '0', '0.21', '0', '0.14', '0.33', '0', '0.49', '0.17', '0.13', '0.2', '0.36', '0', '0.04', '0.37', '0.09', '0', '0.13', '0', '0.24', '0', '0', '0.05', '0.04', '0.03', '0.21', '0', '0', '1.41', '0', '0.11', '0.05', '0', '0', '0', '0.42', '0', '0', '0', '0.18', '0.12', '0.02', '1.47', '0.46', '0.67', '0.43', '0.03', '0', '0.06M', '0.1', '0', '0', '0.07', '0.16', '0.04', '0.06', '0.5', '0.77', '0.24', '0', '0.33', '0.07', '1.05', '0.04', '0.11', '0.53', '0.2', '0', '0.22', '0.18', '0.45', '0', '0.45', '0.4', '0.07', '0.1', '0', '0.32', '0.2', '0.59', '0.05', '0.07', '0.02', '0', '0.11', '0.09', '0', '0', '0.01', '0.1', '0.33', '0', '0', '0', '0.01', '0.1', '0', '0', '6.85', '0.3', '0.14', '0', '0.08', '0', '0.11', '0.07', '0.1', '0.2', '0.01', '0.01', '0', '0.18', '0.11', '0', '0', '0.02', '0.13', '0', '0.28', '0.15', '0.17', '0.16', '0', '0', '0.75', '0.14', '0.18', '0', '3.83', '0.17', '0.1', '0.35', '0.01', '0.03', '0.38', '0.47', '0.06', '0.07', '3.79', '1.13M', '0.12', '0.32', '0.15', '0.13', '0', '0.11', '0.57', '0.12', '0.01', '0.18', '0.43', '0.1', '0.04', '0.65', '0.02', '0.04', '0.17', '0.29', '0', '0', '0.01', '0', '0.08', '0.02', '0', '0.24', '0.12', '0.44', '0.11', '0.08', '0.07', '0.33', '0', '0', '0.02', '0.09', '0.17', '0.01', '0', '0K', '0.18', '0.1', '0.26', '0.12', '0.05', '0', '0.14', '0', '0.9', '0.03', '0.11', '3.78', '0.05', '0.2', '0', '0.57', '0.22', '0.14', '0', '0', '1.89', '1.17', '0.2', '0', '0.9', '0.13', '0.02', '0.02', '0.01', '0.12', '0.29', '0.07', '0.05', '0.49', '0.31', '4.03', '0.07', '0.3', '0.06', '0.52', '0.05', '0.22', '0.18', '0', '0', '0.18', '0', '0.06', '0.06', '0.09', '0', '0.04', '0', '0.62', '0', '0.25', '0.01', '1.05', '0.23', '0.15', '0.89', '0.04', '0', '0.13', '0.05', '0.07', '0.14', '0.33', '0.61', '0.08', '0.04', '0.03', '0.42', '0.1', '0', '0.03', '0.19', '0', '0', '0.49', '0.93', '0', '0.42', '0.63', '0', '0.04', '0', '0.03', '0', '0', '0.14', '0.58', '0.11', '0.71', '0', '0.12', '0', '0.01', '0.12', '0.01', '0.26', '0.22', '0', '0', '0.09', '0.12', '0.09', '0.01', '0.07', '0', '0.05', '0.39', '0.14', '0.49', '0.48', '0.12', '23.2', '0', '0.06', '0.08', '0.14', '0', '0.09', '0.07', '0', '0.05', '0.41', '0.09', '0.11', '0.06', '0.07', '0.04', '0.11', '1.44', '0', '0.18', '0.23', '0.09', '0', '0.36', '0', '0.08', '0', '0.2', '0.13', '0', '0.02', '0.15', '0.09', '0.02', '0.23', '0', '1.31', '0.72', '0.05', '0.17', '0', '0.37', '0', '0.14', '0.58', '0.09', '0.03', '0.06', '0.31', '0.01', '0', '0.06', '0.1', '0.1', '0.17', '0.28', '3.06', '0.26', '0.62', '0.01', '0.07', '0', '0', '0', '0', '0.03', '0.07', '0.09', '0', '0.21', '0.68', '0.17', '0', '0.07', '0.09', '0.53', '0', '0.88', '0.1', '0', '0.52', '0.19', '0.12', '0.25', '0.09', '0.58', '0.01', '0', '0.22', '0.06', '0.31', '0.1', '0.25', '0.05', '0', '0.05', '0.01', '0.45', '0', '0.04', '0.13', '0.11', '0', '0.04', '0.04', '0.3', '0.18', '0', '3.14', '0.05', '0.17', '0.64', '0', '0.09', '0.2', '0.62', '1.54', '1.66', '0.09', '0', '0.12', '0.79', '0.14', '0.15', '0.06', '0.49', '0.03', '0', '0.12', '0', '0', '0', '0.5', '0', '0.2', '0.07', '0.07', '0', '0.03', '0', '0.12', '0.1', '0.2', '0.19', '1.39', '0.13', '0.07', '0.18', '0.14', '0.05', '0.25', '0', '0.04', '0.11', '0.04', '0.31M', '490K', '0.07', '0', '0.18', '0', '1.85', '0.11', '0.32', '0', '0', '0', '0.37', '0.1', '0', '0.76', '0.12', '0.04', '0', '0.18', '0.09', '0', '0.5', '0', '2.06', '0', '0.16', '1.36', '0.64', '0', '0', '0.34', '0.28', '0.04', '0', '0.78', '0.17', '0', '0.36', '0', '0.1', '1.15', '0', '0.18', '0.01', '0.05', '0', '0', '0.02', '0.47', '0', '0.11', '0', '0.22', '0.41', '0.56', '0', '0.27', '0.19', '0', '0', '0', '0.01', '0.09', '1.3', '0.12', '0.26', '0', '1.06', '1.1', '0.18', '0', '0', '0', '1.05', '0.02', '0.12', '0.21', '0', '0', '0.11', '0.28', '0', '0.18', '0.01', '0.54', '0', '0', '0.17', '0.07', '0', '0.15', '0.01', '0.14', '0.13', '0', '0.03', '0.03', '240K', '0.04', '0.07', '0.16', '0.07', '0', '0', '0', '0', '0.35', '0.35', '0.3', '0.35', '0M', '0.19', '0.26', '0.05', '0.18', '0.18', '0K', '0.05', '0.14', '0.17', '0.15', '0.15', '0.64', '0.01', '0.29', '0.18', '0.13', '0', '0.09', '0.26', '0.28', '0.32', '0.51', '0', '0', '0.39', '0', '0.05', '0.63', '0.09', '0.19', '0.34', '0.1', '0.08', '0.07', '0.02', '0', '2.08', '0.09', '0', '0.05', '0', '0.71', '0.42', '0.22', '0.29', '0', '0.09', '0.21', '0.02', '0.11', '0.01', '0.52', '0', '0.06', '0', '0', '0.05', '0.12', '0.4', '0', '0.14', '0', '0', '0.02', '0', '0.19', '0', '0.57', '0.27', '0', '0.45', '0.15', '0.3', '0', '0.33', '0', '0.98', '0.3', '0.4', '1.04', '0.32', '0.03', '0.05', '0.07', '0', '0.17', '0', '0.23', '0', '0.38', '0.12', '0.03', '0.74', '0.25', '0.66', '0.22', '0', '0.13', '0.14', '0.72', '0', '0.07', '0.06', '0.2', '0.04', '1.36', '0.5', '0.04', '0.01', '0', '0.1', '0.03', '0', '0', '0.23', '0.01', '0', '0', '0', '0.27', '0', '0.08', '0.34', '0.01', '0', '0.24', '0.09', '0.38', '0.08', '0.26', '0.16', '0.03', '1.98', '0.2', '0.13', '0', '0.08', '0.2', '0.36', '1.05', '0', '0', '0', '0.07', '0.21', '0.07', '0', '0.12', '0.05', '0.37', '0.02', '0.1', '0.17', '0.05', '0', '0.35', '0.1', '0.42', '0.04', '2.64', '0', '0', '0.01', '0.16', '0.63', '0.25', '0', '0', '1.15', '0.05', '0.09', '0.04', '0.11', '0', '0.03', '0', '0.03', '0.09', '0.18', '0.01', '0.04', '0', '1.58', '0.62', '0.08', '0.38', '0.05M', '0.02', '0.08', '0', '0.02', '0', '0', '0.14', '1.06', '0.05', '0.29', '0.02', '0.27', '0', '0', '0', '0.03', '0', '0.08', '0.78', '0.02', '0.59', '0.31', '0', '0.13', '0.35', '0', '0.06', '0.29', '0.21', '0.05', '0.32', '0.05', '0', '0.07', '0.11', '0.24', '0.23', '0.18', '0.02', '0.23', '0.11', '0.27', '0.21', '0', '0.02', '0', '0', '0', '0.48', '1.26', '0', '0.04', '0.01', '0', '0', '0', '0', '0.13', '0.2', '0.04', '0.02', '0.57', '0', '0.11', '0', '0', '0.17', '0.07', '0.15', '0.05', '0.06', '0.02', '0.16', '0.05', '0.19', '0.16', '0.2', '0.08', '0.2', '0', '0.07', '0', '0.29', '0.19', '0', '0.04', '0.05', '0', '0.54', '0.24', '0', '0.06', '0.33', '0.09', '0', '0', '0.11', '0.13', '0.14', '0.25', '0', '0.5', '0.37', '0.08', '0.07', '3.11', '0.42', '0.12', '0.12', '0.04', '0.07', '0', '0.23', '0', '0.08', '0.34', '1.53', '0', '0', '0.06', '0.32', '0.21', '0.05', '0', '0', '0', '0.02', '0.08', '0', '0.04', '0.42', '0.17', '0.16', '0', '0.13', '0.22', '0', '0', '0.68', '0', '0.08', '0.06', '0', '0.04', '0', '0.08', '0', '0.05', '0.3', '0', '0.35', '0', '0', '4.34', '0.47', '0.07', '0', '0', '0', '0.21', '0.07', '0.22', '0', '0.11', '0.4', '0', '0', '0', '0.01', '0.19', '0.61', '0.28', '0', '0.04', '0.07', '0', '0', '0.02', '0.58', '0.29', '0.06', '150K', '0', '0.09', '0.33', '0.03', '0.05', '0', '0.04', '0.07', '0', '0.11', '0.06', '0.07', '0.04', '1.78', '0.05', '0.12', '0', '0.3', '0.08', '0.2', '0.07', '0.08', '0.1', '0.35', '0', '0', '0.85', '0.04', '0.08', '0.86', '0.26', '0.35', '0', '2.91', '0', '0.06', '0.72', '0', '0', '0', '0', '0.01', '0.02', '0.13M', '0', '0.19', '0.03', '0.06', '0.08', '0', '0.04', '0.03', '0.14', '0', '0.06', '0.34', '0', '0.15', '0.02', '0', '0.02', '0.02', '0.31', '0', '0.03', '0.04', '0.58', '0', '0.23', '0.14', '0', '0.71', '0', '0.01', '0', '0.86', '0', '0', '0', '0', '0', '0', '0.08', '0K', '0.25', '0.07', '0.58', '0.39', '0.33', '0', '0', '1', '0.05M', '0.14', '0.3', '0', '0.46', '0', '0.1', '0', '0.15', '0.11', '0.52', '0.17', '0', '0.3', '0.13', '0.1', '0.11', '0.09', '0.24', '0.47', '0.05', '0.27', '0', '0.2', '0', '0.03', '0', '0.02', '0', '0.03', '0.46', '0.51', '1.01', '4100K', '0.1', '0.06', '0.42', '0.5', '0.72', '0.39', '5170K', '0', '0.69', '0.01', '0.08', '0', '0.07', '0.53', '0', '0', '0.78', '0.05', '0.3', '0', '0.08', '0.04', '0.15', '0.48', '0.05', '0.18', '0.07', '0.1', '1.07', '0.25', '0.19', '0.04', '0.03', '0', '0.02', '0.07', '0', '0.59', '0.04', '0', '0.23', '0.53', '0.19', '3.8', '2.5', '0.11', '0', '0', '0.44', '0', '0.09', '0.07', '0.53', '0.88', '0.3', '0.05', '0.02', '0.05', '0.24', '0', '0.06', '0.08', '0.04', '1.78', '0', '2.2', '0', '0.08', '0.34', '0', '0.13', '0', '0.85', '0.28', '0', '0.33', '1.5', '0.23', '0.23', '0.02', '0.15', '0', '0', '0.03', '0', '0.51', '0', '0.22', '0.09', '0.51', '0.06', '0.26', '0.21', '0', '0.05', '0.41', '0.07', '0.01', '0', '0.09', '0.05', '0', '0', '0.31', '0.04', '0', '0.11', '0.07', '0', '0.04', '1.19', '0', '0.04', '0.11', '0', '0.18', '0.01', '0', '0', '0', '0.01', '0', '0.17', '1.91', '0.03', '0.4', '0.58', '0.25', '0.07', '0.04', '0.33', '0.14', '0.04', '0.03', '0.06', '0.2', '0.15', '0', '0', '0.18', '0', '0.69', '0.02', '0', '0.03', '0', '0.35', '0.95', '0.36', '0', '0.95', '0.03', '0.01', '0.26', '0.14', '2.03', '0', '0', '0.78', '0.07', '0.3', '0', '0.25', '0', '0', '1.19', '0.1', '0.19', '0.08', '0.4', '0', '0.13', '0.17', '0', '0.35', '0', '0.05', '0.54', '0.19', '0.22', '0.04', '0.09', '0.02', '0.06', '0.16', '0.12', '0.56', '0.64', '0.41', '0', '0', '0', '0.46', '0M', '0.02', '0', '0.38', '0.36', '0.13', '0.4', '0.11', '0.29', '0', '0.04', '0.16', '0.74', '0.12', '0.63', '2.1', '0', '0', '0.1', '0.42', '0', '0', '0.03', '0.07', '0', '0.02', '0.47', '0.32', '0', '0.08', '0.01', '0.03', '0.08', '0.27', '0', '0.2', '0.11', '0.11', '0.36', '0', '0.52', '0.07', '0.28', '0', '0.01', '0', '0.17', '0.24', '0.09', '0.02', '0.11', '1.4', '0', '0.33', '0.02', '3.18', '1.73', '0.07', '0', '0', '0.13', '0.08', '1.2', '0.08', '0.11', '0.92', '0.05', '0', '0.09', '0.19', '0.13', '0.06', '0.02', '0.25', '0.09', '0.39', '1.09', '0.03', '0.43', '0', '0.02', '0.13', '0.33', '0.16', '0.07', '0.28', '0', '0.39', '0', '0.79', '0.21', '0.34', '0.28', '0.08', '0.56', '0.24', '0.4', '0.06', '0.03', '0', '0', '0.25', '1.12', '0.92', '0.26', '0.17', '0', '0', '0.14', '0', '0', '0.05', '0.01', '0', '0', '0', '0', '1.72', '0', '0.04', '0.23', '0.11', '0.02', '0', '0.29', '0.15', '0.04', '0', '0.15', '0.08', '0.02', '0', '0.19', '0', '0', '0.19', '0.03', '0.32', '0.02', '0', '2.05', '0', '0.02', '0.04', '0.22', '1.63', '0.08', '0.03', '0.01', '0.3', '0', '1.22', '0.16', '0', '0.07', '0.1', '0.21', '0.17', '0.23', '0.07', '0.58', '0.3', '0.08', '0', '0.65', '0.34', '0', '0', '0.3', '0.04', '0.05', '0', '0.71', '0.19', '0.16', '0', '0', '0.3', '0', '0.05', '0.26', '0.13', '0', '0.55', '0.03', '0.41', '0.05', '0.25', '0.46', '0.28', '0.04', '0.15', '1.13', '0', '0', '0.03', '0.21', '0.09', '0', '0.93', '0.58', '0.08', '0.01', '0.73', '0.26', '0.17', '0', '0.06', '1.03', '0.08', '0.17', '0.02', '0.22', '0.2', '0', '0', '0.18', '1.49', '0', '0.03', '0.25', '0.72', '0', '0.26', '0.12', '0', '1.3', '0.07', '0.08', '0.16', '0.14', '0.95', '0', '0.2', '0.11', '0.02', '0', '0.28', '0', '0.33', '0.16', '0.14', '0', '0', '0.07', '0.06', '0', '0.07', '0.11', '0.09', '0', '0', '0.14', '0', '0.47', '0.35', '0.28', '0.08', '0.04', '0', '0.79', '0.02', '0.3', '0.23', '0.07', '0.03', '0', '0.55', '0.03', '0.28', '0', '0.46', '0', '0.02', '0.13', '2.55', '0', '0.15', '0', '0.04', '0.87', '0', '0', '0.05', '0.13', '0.37', '0.15', '0.04', '0.12', '0', '0.27', '0.68', '0.01', '0', '0.24', '0.13', '0.81', '0.01', '0.05', '0', '0', '0.67', '0.6', '0.01', '0.17', '0', '0', '0.2', '0.07', '0.04', '0.12', '0.32', '0.35', '0.18', '0.35', '0.03', '0.07', '0', '0', '0.04', '0.1', '1.73', '0.07', '0', '1', '0.67', '0.23', '0.02', '0.47', '0.22', '0.03', '0', '0.01', '0.03', '0.53', '0.16', '0.4', '0.61M', '0.09', '0.13', '0.65', '0.27', '0', '0', '0.09', '1.13', '0.86', '0.1', '0.45', '0.19', '0.28', '0.26', '0', '0', '0.07', '0.13', '0.21', '0.82', '0.08', '0', '2.62', '0.58', '0.12', '0', '0.11', '0.11', '0', '0.27', '1.26', '0.42', '0', '0', '0.32', '0.02', '0.04', '0.35', '0', '0', '0', '0.03', '0', '0.11', '0.42', '0.17', '0.08', '0', '0.09', '0.02', '1.98', '0', '0.4', '0.04', '0.14', '0', '0.11', '0.08', '1.5', '0.09', '0.34', '0', '0.04', '0', '0.53', '0.6', '0', '0.42', '0.01', '0.87', '0', '0.28', '0.2', '0.02', '0', '0', '0', '0.03', '0.09', '0.02', '0.05', '0.23', '0.87', '0.13', '0', '0.44', '0', '0.48', '0.01', '0.01', '0.11', '0.28', '0', '0.25', '0.84', '0.27', '0.7', '0.08', '0.05', '2.38', '0.26', '0.14', '0.31', '0', '0.24', '0.31', '0.03', '0.12', '0.27', '0', '0.45', '0.13', '0', '0.05', '0.25', '0.09', '0.15', '0', '0', '0', '0', '0.49', '0.12', '0.01', '0.33', '0.04', '0.06', '0.08', '1.05', '0', '0.04', '0.02', '0.47', '0.93', '1.15', '0.25', '0.13', '0.24', '0.11', '0.11', '0.3', '0.28', '0.04', '1.11', '0.02', '0.11', '0.06', '0.09', '0', '0.05', '0.49', '0', '0', '0.13', '0.59', '0.16', '0.23', '0.45', '0', '0.06', '0.13', '0', '1.32', '0.05', '0.17', '0.32', '0', '0', '0.12', '0.1', '0.12', '0.1', '0.17', '1.01', '0.07', '0.11', '0', '20K', '0', '0.09', '0', '0.13', '0.89', '0', '0.6', '0', '0.05', '0', '0.03', '0', '0.1', '0.27', '0.27', '0.43', '0.03', '0.46', '0', '0.14', '0', '0', '0.1', '0.12', '0.01', '0.13', '0.21', '0', '0.13', '0', '0.46', '0.38', '0', '0', '0', '0.09', '0.02', '0.12', '0', '3.02', '0', '0', '0', '0.02', '0.14', '0', '0.1', '0', '0.05', '0.78', '1.75', '0.1', '0.08', '0', '0.02', '0.04', '0.24', '0.14', '0.26', '0.08', '0', '0.12', '0', '0.08', '0.09', '0', '0.08', '0', '0.04', '0.52', '0.02', '0', '0.01', '0', '0.37', '1.09', '0', '0.79', '0', '0', '0.06', '0.03', '0.25', '0M', '0.22', '0', '0.41', '0.11', '0.07', '0.43', '0.05', '0.04', '0.13', '0', '0.05', '0.33', '0.01', '0.04', '0', '0.01', '0.13', '0.1', '0.07', '0.09', '0.13', '0', '0.04', '0.47', '2.02', '0.26', '1.82', '0.07', '0', '0', '0', '0.19', '0.4', '0.12', '0.21', '0.32', '0.69', '0.01', '0', '1.68', '0.07', '0.22', '0.11', '0.15', '0.17', '0.01', '0', '0', '1.05', '0.57', '0', '9.03', '0', '0.47', '0.12', '0.37', '0.27', '0', '0', '0.18', '0.47', '0.17', '0', '0.17', '0', '0.23', '0.09', '2.56', '0.28', '0', '0.2', '0', '0.06', '0.13', '0.09', '0.07', '0', '0.1', '0.73', '0.24', '0.4', '0', '0', '0.89', '0.13', '0.11', '0.04', '0.09', '0.04', '0.53', '0.32', '0.06', '0', '0.06', '0.08', '0', '0.04', '0.04', '1.87', '0.02', '0.03', '0.36', '0.29', '0.03', '0', '0.12', '0', '0', '0.07', '0.06', '2.65', '0', '0.64', '0.01', '0.32', '0', '0.81', '0.11', '0.01', '0', '0', '0', '0.11', '0.12', '0.12', '0.05', '0.19', '1.48', '0.96', '0', '0.32', '0.37', '0.01', '0', '3.19', '0.02', '1.33', '0.12', '0.16', '0', '0', '0.13', '0.12', '0.44', '0.17', '0', '0.13', '0', '0.05', '0.35', '41.49', '0.08', '0', '0.07', '0.06', '0.21', '0.73', '0', '0.22', '0', '0.24', '0.17', '0.02', '0.17', '0.05', '0.82', '30K', '0.01', '1.93', '0.03', '0.24', '0.19', '1.16', '0.03', '0.05', '0.06', '0.1', '0', '1.21', '0.04', '0', '0.11', '0.07', '0.01', '0.05', '0.06', '1.48', '0', '0.14', '0', '0.05', '1.66', '0.44', '0', '1.04', '0.36', '0', '0.05', '0', '0.05', '0M', '0.83', '0.02M', '0.19', '0.22', '0.21', '0.41', '0', '0.06', '2.52', '0', '0', '0', '2.28', '0', '0', '0.13', '0.08', '0.36', '0.06', '0.18', '0', '0.08', '1.07', '0.12', '0.01', '0.75', '0.11', '0', '0', '0', '0.11', '0.05', '0', '0.06', '0.14', '0.09', '0', '0.18', '0M', '0.06', '0.19', '0.5', '0.08', '0', '0.08', '1.75', '0.06', '0.11', '5.99', '0', '0.03', '0.07', '0.01', '0.2', '0', '14.03', '0.02', '0', '0.1', '1.2', '1.02', '0', '0.16', '0.59', '0.36', '2.93', '0.46', '0.14', '0', '0', '0.11', '0.05', '0.68', '0.07', '0.34', '0.05', '0', '0.19', '0.07', '1.27', '0.08', '0.04', '0.11', '0.12', '0.34', '0', '0.11', '0.06', '0.13', '0.05', '0', '0', '0.17', '0.16', '0.12', '0.08', '0.41', '0.05', '0.26', '0', '0', '2.45', '0.16', '0.01', '0', '0', '0.06', '0.01', '0.29', '0', '0.05', '0', '0.15', '0.02', '0.43', '0.31', '0.69', '0.07', '0.33', '0.11M', '0.79', '0.54', '0.01', '0.05', '0.06', '0.22', '0.27', '0.26', '0.01', '0.3', '0.08', '0.15', '0.04', '0.02', '0.14', '0.28', '0', '0.02', '0.09', '0.14', '0.02', '1', '0.09', '0', '2.38', '0.42', '0.07', '0.26', '0', '0.13', '0.7', '0', '0', '0', '2.14', '0.18', '0.07', '2.99', '0.06', '0', '0.23', '0.02', '0.04', '0', '0.24', '0.89', '0.02', '0.04', '0', '0.31', '0.08', '0', '0.01', '0', '0', '0', '0.07', '0.28', '0.26', '0.01', '0.14', '0.04', '0', '0.01', '0.26', '0.34', '0.01M', '0', '0.13', '2.03', '0.36', '0', '2.6', '1.02', '0', '1.47', '0.04', '0.11', '0', '0.22', '0.45', '0.35', '0.09', '0', '0.1', '1.35', '0.96', '0.01', '0.04', '0.04', '0.22', '0.3', '0.25', '0.26', '0', '0.1', '0.73', '0.07', '0.15', '0.01', '0.28', '0.16', '0.48', '0', '0.03', '0.05', '1.23', '0', '0', '0', '0.52', '0.07', '0.1', '0', '0', '0.13', '0.48', '0.32', '0.24', '0.19', '0.17', '0.07', '0.02', '0.12', '0.09', '0.39', '0', '0', '0.15', '0.21', '0', '0', '0.31', '0', '0.19', '0.34', '0', '0.23', '0', '0.06', '0', '0.11', '0.18', '0', '0.1', '0.2', '0', '0', '0.27', '0.04', '0.11', '0.1', '0.64', '0', '0', '0', '0', '0.2', '0', '0', '0', '0.03', '0.14', '0.07', '0', '0.07', '0', '0.37', '0.29', '0', '0.16', '0.03', '0.36M', '0.18', '0.27', '0.14', '0.07', '0.13', '0', '0', '0.06', '0', '0.19', '50K', '0.09', '0', '0.1', '0.26', '1.06', '0', '0.61', '0.1', '0.04', '0.07', '2.55', '0', '0', '0.03', '2.2', '0.25', '0.07', '0.08', '0', '0.14', '0.19', '0.02', '0.1', '0.08', '0.02', '0', '0', '0.27', '0.48', '0', '0', '0.2', '0.06', '0.04', '1.28', '0.23', '0.01', '0.19', '0.13', '0.2', '0', '0.08', '0.22', '0.12', '0.06', '0', '0.16', '0.04', '0', '0', '0', '0', '0.35', '0.04', '0.12', '0.08', '0', '0.01', '0', '0', '0.22', '1.24', '0.03', '0.04', '2.95', '70K', '0.02', '0.05', '0.78', '0', '0.04', '0.05', '0', '0', '0.81', '0.08', '0.11', '0', '0', '0.05', '0.92', '0.03', '0.09', '1.27', '1.86', '0.05', '0', '0.02', '0', '15.75', '0.25', '0', '0.01', '0', '0', '0.15', '0', '0', '0.01', '0', '0.03', '0.53', '0.18', '1.18', '0', '0.21', '0', '0', '0.1', '0', '0', '0.13', '0.04', '0.4', '0', '0', '0.2', '0.01', '0.04', '0', '0.19', '0.77', '0.11', '0.04', '0.07', '0.05', '0.08', '0', '0', '0', '0.1', '0.2', '0.1', '0.28', '0.12', '0.1', '0.03', '0.23', '0.21', '0', '0.17', '0.76', '0.13', '0.78', '0.03', '0.04', '0.27', '0', '1.42', '0', '0', '0.1', '0', '0', '0', '0.53', '0.45', '0.15', '0.39', '0', '0.02', '0.13', '0.01', '0.45', '0.72', '0', '0.11', '0.03', '0.41', '0.03', '0.07', '0', '8.94', '0.94', '0.16', '0.45', '0.97', '0.18', '0.13', '0', '0.54', '0', '0', '0.18', '0.85', '0.01', '0.01', '0', '0.11', '0.08', '0.32', '0.09', '0.1', '0.06', '0', '0.03', '0.25', '0', '0.09', '0.59', '0.15', '0.2', '0', '0.11', '0', '0.94', '0', '0.07', '0.81', '0', '0.31', '0.12', '0.03', '0', '0.17', '0', '0', '0.23', '0', '0.03', '7.01', '0.28', '0.14', '0.03', '0.15', '0.06', '0.1', '0', '0', '0.72', '0.06', '0.09', '0.01', '0.08', '0', '190K', '0.05', '0', '0', '0', '0.02', '0.1', '0.07', '0.5', '0.51', '0.69', '0', '0', '0', '0', '0.09', '0.28', '0', '0.03', '0', '0.09', '0', '0.13', '0', '0', '1.07', '0.07', '0', '0.06', '0', '0.13', '0.05', '0', '0.11', '0.63', '0', '0.09', '0.05', '1.16', '0.16', '0', '0.16', '0.09', '0.18', '0.01', '0.04', '0.08', '0.04', '0.08', '0.49', '0.01', '0.84', '0', '0.52', '1.01', '0.09', '0.14', '0', '0', '0.12', '0', '0', '0.02', '0', '1.57', '0.26', '0', '0.04', '0', '0.05', '0.27', '0.36', '0.21', '0', '0.02', '0.08', '0.06', '0.14', '0.33', '0.19', '0.08', '0.31', '0.39', '0.08', '0', '0', '0.02', '0.99', '0', '0', '0.12', '1.62', '0.02', '0.2', '0.01', '0.14', '0.72', '0.05', '0', '0.06', '0.07', '0', '0', '0.11', '0', '0.06', '0', '0.24', '0', '0.19', '0.06', '0.5', '0.91', '0.09', '0.16', '0.07', '0.24', '0', '0.74', '0.36', '0.15', '0', '0.08', '0.5', '0', '0.28', '0', '0.4', '0.03', '0.12', '0.17', '0', '0.07', '0.14', '0.08', '0', '0.36', '0.11', '0', '0', '0.43', '0', '0', '0', '0.8', '0', '1.48', '0', '0.07', '0.2', '0.3', '0', '0.7', '0.03', '0', '2.09', '0.09', '0.92', '0.21', '0.04', '0', '1.96', '0.2', '0.11', '0.01', '0.56', '0.05', '0', '1.4', '0.1', '0.03', '0.04', '0.06', '0.49', '0.16', '0', '0.01', '0', '0.08', '0', '0', '0.04', '0.53', '0.51', '0.2', '0', '0.12', '0', '0', '0.05', '0', '0.05', '0', '0.88', '0.05', '0.12', '0.82', '0.47', '1.52', '1.98', '0.32', '0.08', '0.34', '0', '0.04', '0.13', '0.32', '0.46', '0', '0', '0.08', '0', '0.24', '0.01', '0.19', '0', '0.24', '0.48', '0.3', '0', '0', '0.16', '0.15', '0.01', '0', '0.1', '0.04', '0.09', '0.11', '0.37', '0.15', '0', '0.4', '0', '0.26', '0.18', '0.57', '0', '0.23', '0.22', '0.01', '0.06', '1.44', '0', '0.06', '0.31', '0', '0.16', '0.06', '0.17', '0.05', '0', '0', '0.13', '0.9', '0.05', '0.04', '0.08', '0.07', '0.08', '0.35', '0.14', '0.85', '0.08', '0.05', '0.36', '1.22', '2.39', '0.34', '0.26', '0.09', '0.12', '0', '0.08', '0', '0.05', '0.06', '1.79', '0.01', '0.05', '0.01', '0.16', '0.2', '0.21', '0', '0.54', '0', '0', '0.16', '0.1', '0.52', '0.19', '0.43', '0.18', '0', '0.02', '0', '0.35', '0.05', '0', '0.27', '0.33', '0', '0.85', '0.13', '0.07', '0.06', '0.05', '0', '0.28', '0.87', '0.01', '1.07', '0', '0', '0.01', '0.19', '0.02', '0', '0.22', '0', '0', '0.07', '0', '0.32', '0', '0.76', '1.13', '0.05', '0.16', '0.07', '0', '0.1', '0', '0.21M', '0.26', '0.03', '0', '0.06', '0', '0', '0.18', '0.07', '0.09', '0', '0', '0.41', '0', '0.11', '0', '0', '0', '0', '0.16', '0', '0.22', '0.02', '0', '0.19', '0.1', '0.02', '0.43', '0.07', '0.43M', '0.78', '0.31', '0.32', '0.57', '0.12', '0.04', '0', '0.02', '0.27', '0', '0.07', '0.15', '0.09', '0.01', '0.1', '0.18', '0.46', '0.34', '0', '0.05', '0.09', '0.1', '0.09', '0.14', '0.06', '0', '0.15', '0.69', '0', '0', '0', '0.12', '0', '0', '0.02', '2.19', '0.77', '0.12', '0.4', '0', '0.05', '0.66', '0.17', '0', '0.02', '0.23', '0.36', '0', '1.52', '0.3', '0.09', '0.14', '0.01', '0.06', '0', '0.41', '0', '0.01', '0.01', '0.38', '0.01', '0', '0', '0.77', '0', '0.06', '0.03', '0', '1.43', '0.05', '1.1', '0', '0.17', '0.07', '0.23', '0.12', '1.08', '0', '0.15', '0', '0.58', '0.22', '0', '0.04', '0.1', '0.07', '0', '0.05', '0', '0.05', '0.06', '0.38', '0', '0', '0.31', '0', '0.05', '0.07', '0.2', '0.08', '0.19', '0.18', '1.76', '0', '0.11', '2.78', '0.12', '0.07', '0', '0.21', '0.15', '0', '0', '0', '0.03', '0.3', '0', '0', '0.27', '0.52', '0', '0', '0', '0', '0', '0.16', '0.13', '0.09', '0.15', '0', '0.05', '0.07', '0.04', '1.5', '0', '0.12', '0', '0.38', '0.04', '0', '0.12', '0', '0.46', '0', '0', '0.46', '0.33', '0.47', '1.3M', '0.08', '0', '0.03', '0.04', '0.04', '0.56', '0.02', '0.3', '0.08', '0.01', '0.08', '0', '0.28', '0', '0', '1.71', '0.13', '0.03', '0', '0.15', '0.42', '0', '1.98', '0.07', '0', '0.19', '0.04', '0.49', '0.14', '0', '0.09', '1.3', '0', '0', '0', '0', '0', '0.06', '0.17', '0.17', '0', '0.21', '0.08', '0.17', '0', '0.36', '0.01', '1.32', '0', '0.07', '0', '0', '0.02', '0', '1.02', '0.05', '0.05', '0', '0.16', '0M', '0.01', '0.37', '0.17', '0', '0.1', '0', '0.01', '0.11', '0.11', '0.02', '0.1', '0.09', '0', '0.2', '0.01', '0', '0.51', '0.39', '0', '0', '0.14', '0.65', '0.01', '0.11', '0', '0.23', '0.68', '0', '0.1', '0.27', '0.06', '0.17', '0.09', '0.08', '0', '0.32', '0.55', '0.24', '0.36', '0', '0M', '0.81', '0.11', '0', '0.05', '0.04', '0.2', '0.33', '0.81', '0.16', '0.08', '0.21', '0.01', '0', '0.08', '0.01', '0', '0.48', '0', '0', '0', '0.36', '0.9', '0.12', '0.95', '0', '1.2', '0.03', '0.17', '0.1', '0.31', '0.32', '0', '0.02', '0.17', '0', '0.63', '0.01', '0.15', '0.91', '0.25', '0.29', '0.51', '0.02', '0.08', '0.03', '0.03', '1.07', '0.51', '0', '0.07', '0', '0.54', '0.13', '0.77', '0.31', '0.19', '0.23', '0.09', '0.06', '0.14', '0.06', '0.07', '0.34', '0.11', '1.22', '0.06', '0.03', '0', '0.25', '1.35', '0', '0.05', '0', '0.32', '0.13', '0.06', '0.03', '0.61', '0.09', '0', '0', '0.6', '0.1', '0.11', '0.3', '0.15', '0.11', '29.08', '0.03', '0.3', '0.13', '0.1', '0', '0.18', '0.87', '0.01', '0.04', '0.28', '0.26', '3.13', '0.11', '0.6', '0', '2.99', '0', '0.12', '0.04', '0.02', '0', '0.13', '0', '0', '0', '0.64', '3.1', '1.93', '0.19', '0.13', '0', '0.87', '0.02', '0.29', '0.11', '0.3', '0.06', '0', '0.07', '0', '4.99', '0.51', '0', '0.11', '0.13', '0', '0', '2.08', '0', '0', '0.5', '4.23', '0', '0', '0.55', '0.48', '0.04', '0', '0.02', '0.05', '1.23', '0', '0', '0', '0.02', '0.37', '0.28', '0.56', '0.14', '0.12', '0', '0', '0.01', '0.31', '0.13', '0', '0.03', '0', '0', '0.06', '0.07', '0', '0.17', '0.12', '0', '0.11', '0.07', '0', '0.05', '0.02', '0.52', '0', '0.21', '0.03', '0', '0.08', '0', '0.66', '0.11', '0.09', '0', '0.83', '0.3', '0.15', '0', '0.11', '0.07', '0', '0', '0', '0.15', '0', '0.01', '0.99', '0', '1.75', '0.03', '0.07', '0.1', '0.06', '0.08', '0.03', '0.01', '2.35', '0.09', '0.15', '0.7', '0.17', '0.29', '0.4', '0.22', '2.31', '0.08', '0.97', '0.01', '0.09', '0.01', '0.36', '0.12', '0.03', '0.08', '1.48', '0.04', '14.97', '0.01', '0.08', '0.32', '0', '0.1', '0.11', '0.62', '0.15', '0', '0.17', '0.92', '1.65', '1.49', '1.4', '0.31', '0.07', '0', '0.39', '0.75', '0', '0.06', '0', '0.07', '0.11', '0', '0.08', '0.05', '0.41', '0.33', '0.58', '0.73', '0', '0.11', '0.43', '0.68', '0.01', '0.1', '0.06', '0', '0.27', '0.64', '0.14', '0', '0.09', '0.04', '0.1', '0', '0.32', '0', '0', '0.05', '0', '0.15', '0.1', '0.41', '0.13', '0.11', '0.14', '0.02', '0.18', '0.1', '0', '0.19', '0.1', '0.03', '0', '0.47', '0', '0', '0.31', '0', '0.1', '0.52', '0', '0', '0', '0', '0.14', '0.07', '0', '0.02', '0', '0', '0.99', '0.04', '0.04', '0.02', '0.26', '0.08', '0', '0.28', '0.12', '0.08', '0.09', '0.92', '0', '0.15', '0.02', '0.01', '0.13', '0.5', '0.21', '0', '1.08', '0.01', '0.11', '0.07', '0', '0', '0', '0.14', '0.03', '0.96', '0', '0.17', '0', '0', '0.01', '0', '0', '0.63', '0', '0.03', '0', '0.08', '0.03', '0.16', '1210K', '0.74', '0.04', '0', '0.01', '0.01', '0.36', '0.09', '0.15', '0.33', '0.05', '0.16', '0', '0.03', '0.19', '0.77', '0.27', '0.25', '0.04', '0', '0.14', '0.18', '0.22', '0.02', '0.39', '0.1', '0.18', '0', '0.16', '0.13', '0.11', '0.02', '0.51', '0.03', '0', '0.04', '0.07', '0.5', '0', '0', '0.03', '0', '0.05', '0.03', '0.03', '0.53', '0.07', '1.09', '0.03', '0.07', '0.2', '0.16', '0', '0.34', '0.04', '0', '0.25', '0.03', '0.04', '0', '0', '0.14', '0', '0.47', '0.09', '0.81', '0.14', '0', '0.1', '0.13', '0.54', '0', '0.06', '0.01', '0.39', '0.22', '0.17', '0', '0.07', '0.59', '0.14', '0', '0.1', '0.05', '0', '0.12', '1.33', '0.09', '0.22', '0.16', '0.16', '0.02', '0.22', '0.06', '0.39', '0.06', '0.3', '2.26', '0.07', '0.21', '0', '0.07', '0.65', '0', '0', '0.2', '0', '0.33', '0.18', '2.1', '0M', '0', '0.33', '0', '0', '0.24', '0.01', '0.49', '0.4', '0', '0.25', '0.27', '0.01', '0.22', '1.02', '0.14', '0.1', '1.79', '0.16', '0.11', '3.64', '0', '0.47', '0.1', '0.18', '0', '0.02', '0.13', '0.17', '0.22', '0', '0.1', '0.41', '0.06', '0.41', '0.09', '350K', '0.11', '0', '0.78', '2.71', '0', '0.02', '0.02', '0.12', '0', '0.14', '0.1', '0.59', '0', '0', '0', '0.21', '0.15', '0.87', '0.21', '0.1', '0.95', '0.04', '0.02', '0', '0.01', '0', '0.18', '0', '0.35', '0.32', '0.02', '0', '0.16', '0.26', '0.55', '0.59', '1.08', '0.22', '0.71', '0.33', '0.03', '3.49', '0.13', '0', '0', '0', '0.28', '0.01', '0', '0', '0.06', '0.2', '0', '0', '0.19', '0.04', '3.33', '0', '0.48', '0.61', '0', '0.53', '0.61', '0', '0.27', '0.11', '0', '0', '0.07', '0', '0.44', '0', '1.4', '0.03', '0.74', '0.02', '0.08', '0.11', '0.31', '0.09', '0.19', '0.42', '0.04', '0.1', '0.52', '0', '0.23', '0.19', '0', '0', '1.09', '0.12', '0', '0.13', '0.16', '0', '0.08', '0', '0.25', '0.78', '0.32', '0.11', '0.01', '0.06', '0.12', '0.15', '0.17', '1.22', '0.04', '1.46', '0.13', '0', '0.03', '0.02', '0.16', '0.52', '0.12', '0.44', '1.09', '0.06', '0.06', '0', '0.06', '0.21', '0.18', '0.06', '0.11', '0', '0.13', '0.2', '0', '0.26', '0.01', '0.73', '0.06', '0.08', '0M', '0.24', '0', '0.41', '0.21', '0.03', '0', '0', '0', '0.45', '0.12', '0.14', '0.09', '0.18', '0.14', '0.25', '0.33', '0.1', '0.06', '0.04', '0.67', '0.05', '0.19', '0.5', '0.24', '0.1', '0.04', '0.21', '0.95', '0.05', '0.14', '0', '0.1', '0.06', '0', '1.7', '0.29', '0.4', '0.04', '0.27', '0.04', '0.06', '2.26', '0', '0.1', '0.07', '0.01', '0', '0.14', '0.09', '0', '0', '4.4', '0', '0.27', '4.02', '0.15', '0.93', '0.14', '0.53', '0.34', '0.02', '0.18', '0.94', '1.37', '0.03', '0.05', '0.42', '0.07', '0.13', '0.32', '0', '0.09', '0.01', '0.04', '0.01', '0.01', '0.13', '0', '0.25', '0', '0', '0.07', '0.11', '2.53', '0', '0.09', '0', '0', '0', '0.43', '0.08', '0', '0.07', '0.09', '0.01', '0.18', '0', '1.03', '0.92', '0', '0.16', '0.18', '0.14', '0.43', '1.45', '0.07', '0.55', '0', '0.25', '0.14', '0', '0.08', '0.08', '0.03', '1.63', '0', '0.6', '0.06', '0', '0', '0.01', '0.6', '0.05', '0', '0.15', '0', '0', '0.11', '0.08', '0.41', '0.35', '0', '0', '0.03', '0', '0.08', '0.29', '0.09', '0.1', '0.56', '0.12', '0', '0.08', '1.74', '0', '0.24', '0.14', '0', '0.13', '0', '0', '0', '0.45', '0.01', '0.23', '0.15', '0.04', '0.41', '0', '0', '0', '0.22', '0.16', '0', '0.29', '1.42', '0.03', '0.15', '2.71', '0', '0', '0.08', '0', '0', '0.01', '0.46', '0.37', '0', '0.15', '0.27', '0.03', '0', '0.09', '0', '0', '0.09', '0.12', '0', '0.01', '1.37', '0', '0.14', '0', '0.14', '0.85', '0.31', '0.88', '0.16', '1.15', '0.03', '0.27', '0.49', '0.04', '0.15', '0', '0.06', '0.05', '0.11', '0.15', '0', '0.05', '0.03', '0', '0.07', '0.62', '0.2', '0', '0', '0.13', '0', '0', '0.07', '0.05', '1610K', '0.07', '0.15', '0.67', '0', '0.55', '0.79', '0.16', '0', '0.05', '0.36', '1', '0.07', '0', '0.6', '0.02', '0', '0.25', '0.02', '0.01', '0.21', '0.55', '0', '0.26', '0', '0', '0.08', '0.09', '0.03', '0.26', '0.92', '0', '0.02', '0.16', '0.29', '0.02', '0.41', '0', '0.11', '0.14', '0.07', '1.06', '0.1', '0', '1.26', '0.11', '2.01', '0.2', '0', '0', '0', '0.16', '0.12', '0.21', '100K', '0.06', '0.14', '1.55', '0.27', '0.05', '0.06', '0.01', '4.47', '0.41', '0.15', '0.14', '0.08', '0', '0', '1.9', '0.63', '0.14', '0.2', '0.08', '0.14', '0.19', '0.18', '0', '0.15', '0.04', '0.87', '0.09', '0.11M', '0.33', '0.23', '0', '2.25', '0.05', '0.01', '0.02', '0.13', '0.42', '0.04', '0.02', '1.54', '0.18', '0.14', '0', '0.13', '0.41', '0.17', '0.04', '0.4', '0.1', '0', '0', '0.02', '0.01', '0.01', '0.06', '0.04', '0.17', '0.42', '0.13', '0.04', '0.06', '0.31', '0.17', '0.44', '0.28', '0.52', '0.06', '0.06', '0', '0.1', '0.2', '0.76', '0', '0.14', '0.36', '0.07', '0.53', '0.02', '0.06', '0', '0', '0', '0', '0.01', '0.16', '0', '0.18', '0.07', '0.26', '0.34', '0', '0', '0', '0.15', '0.13', '0', '0.2', '0.09', '0.06', '0', '0.01', '0', '0.11', '0.11', '0.04', '0.12', '0.59', '0.02', '0.08', '0', '0', '0.15', '0.32', '0.01', '0', '0.09', '0', '0', '0.14', '0', '0.03', '0', '0.1', '0.18', '0.66', '0.08', '0', '0.28', '0.36', '0', '0.23', '0.05', '0.16', '0.02', '0.15', '0', '0.27', '0.2', '0.03', '0.09', '0.15', '0.09', '0K', '0.01', '0.09', '0.35', '0', '0', '0', '0.17', '0', '0', '0.04', '0.11', '0.27', '0.63', '3.98', '0.84', '0.05', '0.48', '0', '0.11', '0.08', '0', '0.17', '0.11', '0.71', '0', '0', '0.32', '0.27', '0', '0.31', '0', '0.23', '0.04', '0', '0.37', '0.11', '0.34', '0.05', '0.06', '0.02', '0.1', '0', '0.66', '0.38', '0.48', '0.47', '0.1', '0', '0.08', '2.51', '0.45', '0', '0.07', '0.12', '0.43', '0.04', '0.36', '0', '0', '0.07', '0.34', '0', '0.24', '0.14', '0', '0.28', '0.21', '0.08', '0.41', '0.11', '0.19', '0.71', '0.8', '0.03', '0', '0.91', '0.5', '0', '0.01', '0.13', '0.06', '0', '0.28', '0', '1.61', '0.54', '0', '0.39', '0.12', '0.07', '0.4', '1.84', '0.28', '0.29', '0', '0.05', '0.1', '0.16', '0.1', '1.61', '0', '0.06', '0.05', '0.1', '0.03', '1.81', '0.05', '0.06', '170K', '0.1', '0.13', '0.01', '0.22', '0.52', '0.03', '0', '1.13', '0.32', '0.19', '0', '1210K', '0', '0.05', '0.04', '0.28', '0.01', '0', '1.07', '0', '0.18', '0', '0.72', '0.01', '0.36', '0', '1.52', '0M', '0', '0.36', '1.47', '0.47', '0.31', '1.56', '0', '1.84', '0.05', '0.02', '0.25', '0', '0.01', '0.11', '0', '0', '0.14', '0.13', '0.11', '0.14', '0.01', '0K', '0.07', '0', '0.13', '0.1', '0', '8.41', '0.83', '1.27', '0', '0.09', '0', '1.58', '0', '0', '0.12', '0', '0.01', '0', '0', '0.1', '0.01', '0', '0.01', '0.05', '0', '0', '0.49', '0.07', '0.35', '0.36', '0.11', '0.01', '0.14', '0.36', '0.26', '0.15', '0', '0.73', '0.01', '2.11', '0.09', '0.48', '0.16', '1.44', '0.04', '0.02', '0.02', '0', '0', '0.26', '0', '0.08', '0', '0.08', '0', '0.33', '0.09', '0', '2.03', '0', '0', '0', '0.23', '0', '0', '0.19', '0', '0', '0.34', '0', '0.2', '0', '0.15', '0.31', '0.22', '0.62', '0.03', '0', '0.06', '0.77', '0.18', '1.47', '0.67', '0', '0.11', '0', '0', '0.04', '0.03', '0', '0.44', '0.52', '0.08', '0', '0.02', '0.1', '0.1', '0.1', '0.49', '0', '0', '0.65', '0.98', '0.09', '0.04', '0', '0', '0.15', '0.17', '0', '0.1', '0.35', '0', '0.3', '1.06', '0.5', '0.05', '0.17', '0', '0.29', '0.04', '1.7', '0', '0.32', '0.05', '0.17', '1.32', '0.29', '0.39', '0', '0', '0.02', '0.19', '0.05', '0.17', '0', '0.13', '1.22', '0', '0', '0', '0.03', '0', '0.05', '0.2', '0', '0.01', '0.55', '0.55', '0', '0.03', '0.02', '0.09', '0.1', '0.03', '0.12', '0', '0', '0', '0.04', '0.47', '0', '0.27', '0.45', '0.04', '0.01', '0', '0.26', '0.1', '0.3', '0.05', '0.19', '0.93', '0.01', '0', '0.05', '0.95', '0.1', '0', '0.09', '0.11', '0.19', '0.85', '0.4', '0', '0.03', '0.06', '0', '0.02', '0.21', '0', '0.01', '0.38', '0.1', '0', '0', '0.41', '0', '0.16', '0', '0', '0', '0', '0', '0.01', '0.27', '0.46', '0.25', '0.07', '2.74', '0.07', '0.12', '0.23', '0.02', '0.68', '0.44', '2.42', '0.28', '0.57', '0.23', '0.16', '0.04', '0', '0', '0', '0', '0', '0', '0.61', '0.12', '1.78', '1.15', '0', '0.14', '0.11', '0', '0.11', '0.03', '0', '0.11', '0', '0.15', '0.42', '0.04', '0.02', '0.13', '0.13', '0.42', '0.23', '0.33', '0.18', '0.16', '0', '0.3', '0.41', '0.18', '1.25', '2.03', '0', '0.59', '0.19', '0', '0', '0', '0.09', '0.44', '3.92', '0.01', '0.02', '6.72', '0.06', '0.09', '0', '0.06', '0.69', '0.03', '0.04', '0.04', '0.95', '0.13', '0', '0.05', '0.23', '0.38', '0.43', '0', '0.2', '0.12', '0.18', '0.13', '0.79', '0', '0.21', '0.15', '0', '2.91', '0.18', '0', '0', '0.05', '0.01', '0.07', '0.11', '0.05', '0.38', '0.09', '0', '0.69', '0', '0', '0.36', '0', '0.03', '0.47', '0', '0.21', '0.19', '0.23', '0.65', '0.07', '1.53', '0', '0.02', '0.02', '0.28', '0.07', '0.23', '0.59', '0', '0.31', '0', '0', '0', '0.62', '0', '0.14', '0', '0.68', '0.23', '0.76', '0', '0.11', '0', '0.06', '0.07', '0', '0.04', '0', '0.09', '0.9', '0', '0', '0.04', '0.35', '0', '0.17', '0.03', '1.55', '2.54', '0', '0.07', '0.31', '0.17', '0', '0', '0', '0.08', '0.06', '0.19', '0.07', '0.18', '0', '0', '0.05', '0', '0.05', '0.69', '0.02', '0', '0.1', '0.13', '0.07', '0.06', '0.88', '0', '1.21', '0', '0.01', '4', '0.05', '0.62', '0.1', '0.2', '0', '0', '0.07', '0', '0.71', '1.42', '0.97', '0', '0', '0.9M', '0.05', '0.26', '0.22', '0.18', '0.02', '0', '0', '0', '0.02', '0', '0', '0.04', '0.39', '0', '0.11', '0', '0.14', '0.09', '0.1', '0.08', '0.26', '0.42', '0.14', '0.52', '0.11', '0.69', '0.06', '0.07', '0.06', '0.12', '40K', '0.12', '2.12', '1.65', '0', '0', '0.15', '0.4', '0.31', '0.18', '0', '1.05', '0.01', '0', '0.07', '0.02', '0.16', '0.04', '0', '0.22', '0.22', '0', '0.46', '0.71', '0.18', '0', '0.06', '0', '0.29', '0.11', '0.37', '2.53', '0.46', '1.43', '0', '0.09', '0', '0.25', '0', '0', '0.27', '0.06', '0', '0.02', '0.04', '0.09', '0.04', '0.56', '0', '0.09', '0', '0.11', '7.28', '0.06', '0.22', '0', '0.01', '0.07', '0.07', '0.97', '0.17', '0', '0.08', '0.49', '0', '0.04', '0.01', '0.25', '1.42', '0.07', '0.33', '0.22', '0.39', '0', '0.12', '0.5', '0', '0', '0.19', '0.05', '0.06', '0.72', '0.01', '0.27', '0.23', '1.45', '0.29', '0.44', '0', '0.09', '0.06', '0.18', '0', '0.05', '0.1', '0.02', '0.06', '0', '0.73', '2.13', '0.41', '0.18', '0', '0', '0', '0.05', '0.34', '0', '0', '0.02', '0.63', '0.13', '0.09', '0', '0.08', '0.14', '0.08', '1.12', '0.18', '0.34', '0.15', '0.08', '0.05', '0.01', '0.17', '0.02', '0.07', '0.32', '0.13', '0.01', '0.16', '0', '0.02', '0.5', '0', '0', '0', '0.02', '0', '0.04', '0', '0.07', '0', '0.18', '0.09', '0.35', '0', '0.07', '0.03', '0.14', '0', '0.03', '0.11', '0.3', '0.27', '0.1', '0.09', '0.06', '0.36', '0', '0.65', '0.02', '0', '0', '0.28', '0.1', '0.23', '0.07', '0.09', '0.22', '1.07', '0.25', '0', '0.26', '0.02', '0.37', '0.58', '0.04', '0.3', '0.07', '0.01', '0.01', '0.12', '1.19', '0.15', '0.42', '0.06', '0', '0.07', '0.06', '0', '0.03', '0', '0', '0.02', '0.06', '0.54', '1.2', '0.72', '0.1', '0', '0.03', '0.12', '0.04', '0.12', '0.04', '1.22', '0.05', '0.28', '0.1', '0.88', '0.43', '0.85', '0.53', '0.12', '1.54', '0.04', '0.02', '0.06', '0.06', '0.07', '0.11', '0.01', '0', '0.07', '0.1', '0', '1.59', '0.2', '0.18', '0', '0.87', '1.33', '0', '0.04', '1.88', '0', '0.11', '0', '0.12', '0.39', '0.43', '3.39', '0.78', '0.08', '0.01', '0.45', '0.04', '1.11', '0.16', '0.05', '0.85', '0.02', '0.08', '0.07', '0.39', '0.14', '0.16', '0.28', '0.43', '0.3', '0.35', '0.02', '0', '1.96', '0.16', '0.04', '0.03', '0.05', '0.12', '0.06', '0.08', '2.05', '0.05', '0.93', '0.55', '1.27', '0.04', '0.03', '0', '0', '0.01', '0.02', '0.7', '0.04', '0.02', '0.32', '20K', '0.13', '0.14', '0.09', '0.05', '0', '0', '0', '0.23', '0', '0.16', '0.14', '0.26', '0.14', '0.15', '0.38', '0', '0', '0', '0.57', '0.1', '0', '0.33', '0.59', '0.05', '0', '0', '0', '0.1', '0', '0', '60K', '0.46', '0.55', '0.03', '0', '0.04', '0', '0', '0.12', '0', '0.05', '0.11', '0.69', '0.02', '0', '0.35', '2.55', '0.77', '0.72', '0.04', '0', '0.07', '0', '0.31', '0.19', '0', '0.04', '0.63', '2.11', '0K', '0', '0.02', '0.47', '0.03', '0.67', '0.11', '0.68', '0', '0.06', '2.28', '0.33', '0.01', '0', '0.23', '0.08', '0.02', '0.23', '0.03', '0.02', '0.07', '0', '0.1', '0', '0', '0', '0.52', '0', '0.02', '0.02', '0.13', '0.3', '0', '0.2', '0', '150K', '0.16', '0', '0K', '0.25', '0.03', '0.03', '0.32', '0.2', '0.59', '0.05', '0', '0.29', '0.06', '0.14', '0.07', '0.06', '1.82', '0', '0.15', '0.06', '0', '0.01', '0.84', '0.08', '0.11', '0.05', '0.01', '0.09', '0', '0', '1.27', '0.08', '0', '0.14', '0.04', '0.08', '0.14', '0.23', '0', '0.07', '0.39', '0', '0', '0.26', '0.02', '0.81', '0.03', '0.26', '0.2', '0', '1.27', '0.05', '450K', '0.86', '0', '0.4', '0', '0.68', '0', '0.05', '0.44', '0', '0.1', '0.04', '0', '2.96', '0.23', '0', '0.16', '0.04', '0.16', '0.04', '0.25', '0.14', '0.11', '0.65', '0.15', '0.21', '0', '0.12', '0.56', '0.01', '0.04', '0.01', '0.08', '8.52', '0', '1.09', '0.06', '0.08', '1.12', '0.32', '0.26', '0', '2.82', '0', '0', '9.67', '0.43', '0.07', '0.03', '0.23', '0.13', '0', '0.08', '0', '0.03', '0.77', '0.42', '0.05', '0.04', '0', '0', '0.05', '0.03', '0', '1.06', '0.07', '0', '0.08', '0.51', '0.18', '0', '0.13', '0.25', '0.91', '0', '0.05', '0.24', '0', '0.16', '1.1', '0', '0.03', '0', '0.07', '0', '0.14', '0.45', '0.07', '7.97', '0.08', '0', '0', '0.85', '0', '0.13', '0.04', '0.03', '0.25', '0.1', '0.33', '0.31M', '0.09', '2.93', '0', '0.04', '0', '0', '0.06', '0', '0', '0', '0.13', '0.01', '0.1', '0', '0.02', '0', '0.01', '0.05', '0.38', '0', '0', '1.36', '0.13', '1.07', '0.1', '0.09', '0.06', '0.21', '0.07', '0.14', '0.97', '0.11', '0.01', '0.76', '1.54', '0.13', '0.6', '0.12', '0.34', '0.05', '0.12', '0.01', '0.03', '0.02', '0', '0', '0.2', '0.06', '0', '0.69', '0.04', '0.05', '0', '0', '0', '0.08', '0.05', '0.45', '0.05', '0.68', '0.24', '0.18', '0', '0.61', '0.04', '0', '0.24', '0.24', '0', '0.08', '0', '0.16', '0', '0', '0', '0.12', '0', '0', '0.05', '0.03', '0', '0', '0', '1.4', '0.09', '0.1', '0.13', '0.02', '0.01', '8.25', '0.01', '0.08', '0.02', '0', '0', '0.28', '0', '0.35', '0.17', '0.02', '0', '2.06', '0', '0.17', '0', '0', '0', '0', '0.26', '0.5', '0.01', '0.58', '1.86', '0.03', '0', '0.93', '0.78', '0.06', '0.48', '0.02', '0.07', '0.1', '1.45', '0.07', '0.08', '0', '0', '0.05', '1.67', '0.01', '0.16', '0.05', '0.01', '0.3', '0.06', '0.14', '0', '0.22', '0', '0.04', '1.03', '0.21', '0.63', '0.14', '0', '0.47', '0', '0', '1.51', '0.27', '0.49', '0.13', '0', '0.14', '6.91', '0', '0.03', '0.08', '0', '0.36', '0.82', '0.1', '0.26', '0.13', '0.21', '0', '1.26', '0.18', '2.38', '0', '0.13', '0.05', '0.13', '0.02', '0.05', '0.59', '0.17', '0.02', '0.6', '1.57', '0.25', '0', '0', '0', '0', '0', '0', '0', '0.11', '0.12', '0.07', '0', '0.72', '0.55', '0.35', '0.47', '0.37', '0', '0', '3.88', '0', '0.01', '0', '0.12', '0', '0', '0', '0.05', '0.07', '0.25', '0.39', '0', '0.23', '0.03', '0', '0.25', '0.04', '0.81', '0.19', '0.09', '0.01', '0.15', '0.03', '0.11', '3.27', '0.09', '0', '0.39', '0.78', '0.13', '0.06', '0', '0.06', '0', '0', '0.13', '0.46', '0.1', '1.04', '0', '0', '0K', '0.04', '0.03', '0.02', '0.03', '0.24', '0', '4.14', '0.03', '0.6', '0', '0.22', '0.12', '0.14', '0', '0.09', '1.4', '4.34', '0', '0.08', '0.08', '0.03', '0.46', '0.09', '0.88', '0', '0', '2.31', '0', '0', '0.48', '1.92', '0', '0.51', '0.32', '0.07', '0', '0.71', '0.04', '0.02', '0.05', '0.06', '0.08', '0', '0.34', '0', '0', '0.03', '0.18', '0', '220K', '0.08', '0.1', '0', '0', '0', '0.1', '0.02', '0', '0.01', '0.13', '1.7', '1.22', '0.07', '0.04', '0.12', '0.06', '0.1', '0.12', '0.62', '0.14', '0.09', '0.63', '0', '0.09', '0.31', '0', '0.02', '0.22', '0.32', '0', '1.09', '0.3', '0', '0.02', '0.26', '0', '1.29', '0.03', '1.81', '2.04', '0.24', '0.02', '0', '0.18', '0.18', '1.31', '0.09', '0.02', '0.32', '0.11', '0.03', '0.03', '0.05', '0', '0', '0.03', '1.46', '0.12', '0.27', '0.46', '0.25', '0.11', '0', '0.09', '0', '1.11M', '0.93', '0.4', '0.13', '0.06', '0.02', '0.01', '0', '0.05', '0.02', '0', '0.19', '0.16', '0', '0.56', '0.44', '0.09', '0.79', '0.15', '0.08', '0.35', '0.07', '0', '0.09', '0', '0.86', '0', '0.25', '0.23', '1.02', '0.07', '0', '0.26', '310K', '0', '0.2', '0.06', '0.13', '0', '0', '0.3', '0.46', '0', '0', '0.38', '0.71', '0.28', '0.05', '0.12', '0.13', '0', '0.1', '0.07', '0.04', '0.2', '0.11', '0', '0', '0', '0', '0', '0.01', '0.07', '0.11', '0', '0.2', '0.14', '0', '0.54', '0', '0', '0.1', '0.06', '0', '0.06', '0', '0.33', '0.04', '0', '0.05', '0', '0.09', '0', '0', '0.14', '0.22', '0.31', '0.17', '0.03', '0.6', '0', '0.22', '0.09', '0', '0.15', '0.03', '0.07', '0', '0', '0', '0.18', '0.03', '0.07M', '0.01', '0', '0.18', '0.04', '0.06', '0.03', '0', '0.28', '0.09', '0', '0', '0.34', '0', '0.54', '0', '0.26', '0', '0', '0', '0.33', '0.16', '0.01', '0', '0.13', '0.23', '0.25', '0.02', '0.08', '0', '0.06', '0.46', '0.03', '0.06', '0', '0', '0.1', '0.41', '0.1', '0.59', '0.22', '0', '0.4', '0.49', '0.06', '1', '0', '0.06', '0.01', '2.15', '0.18', '0.16', '0.39', '0', '0.1', '0.51', '0.05', '0', '0.12', '0', '0', '0.07', '0', '0.05', '0.07', '0.08', '0.16', '0.07', '0.16', '0.53', '0.06', '0.06', '0', '0.34', '0', '0.41', '0.43', '0.31', '0.02', '1.26', '0', '0', '0', '0.17', '6.16', '0.12', '0.89', '0.39', '0.31', '0.05', '0', '0', '1.03', '0.24', '0', '0.32', '0.15', '1', '0.97', '0.13', '0', '0.56', '0.03', '0', '0.07', '0.05', '0.01', '2.67', '0.2', '0.1', '0.2', '0.08', '0', '0.04', '0.01', '0', '0.53', '0.22', '4.09', '0.08', '0.11M', '0.13', '0.25', '0', '0.39', '0.14', '0.22', '0.49', '0', '0.31', '0', '0', '0', '0.13', '0.49', '0', '0', '0.05', '0.61', '0.03', '0.06', '0', '0.12', '0.27', '0', '1.28', '0', '0.85', '0.17', '0.1', '0.14', '0.49', '0.02', '0.18', '0', '0.1', '0.2', '0', '0.05', '2.42', '0.14', '0.03', '0.13', '0.4', '0', '0', '1610K', '0.42', '0', '0.13', '0', '0.24', '0.21', '0.04', '11.38', '0.02', '0', '0.09', '0.12', '0', '0.13', '0.65', '0.17', '0.13', '0.04', '0.04', '4.26', '0', '0.74', '0.11', '0', '0.32', '0.04', '0.26', '0.5', '0.22', '0.03', '0.32', '0', '0.23', '0.42', '0', '0.2', '0.24', '0', '1.96', '0', '0.35', '0.04', '0.52', '0', '0', '0.61', '0.06', '0.21', '0.05', '0', '0.13', '0.2', '0.17', '0', '0', '0.39', '0.71', '0.28', '0', '0', '0.12', '0', '1.69', '0', '0', '0.33', '0.12', '0.13', '0.1', '1.32', '0.06', '0.07', '0.05', '1.34', '0', '0.72', '0.15', '0', '0.12', '0.42', '0.28', '0.04', '0', '0.02', '0', '0', '2.28', '0.06', '0', '0.03', '0', '0.11', '0', '820K', '0.87', '0', '0.12', '0.65', '0', '0.1', '0.13', '0', '0', '0', '0.08', '0', '0.04', '0.18', '0.19', '0.14', '0', '0.07', '0', '0', '0.01', '0.25', '0.04', '0.3', '0', '20K', '0.07', '0', '0.62', '0', '0.34', '0.02', '0.17', '0.11', '0.22', '0', '0.15', '0', '0.54', '0.01', '0.56', '0.04', '0.51', '0', '0.06', '0', '0.06', '0.33', '0.22', '0.19', '0', '0.06', '0.01', '0.18', '0.19', '0', '0.01', '2.17', '0.19', '1.55', '0', '0', '0.02', '0.25', '0.42', '0', '0.21', '0.17', '0.03', '0.07', '0.07', '0', '0.03', '0.26', '0', '0', '0.06', '0', '0.16', '0.07', '0.05', '0.22', '0', '0.1', '0.58', '80K', '0.51', '0', '0.16', '0.14', '0.02', '0.52', '0.05', '0', '0.03', '0.48', '0.82', '0.86', '0', '0', '0.05', '0.58', '0.2', '0.01', '4.36', '0', '0.06', '0', '0.11', '0.03', '0.19', '0.04', '0', '0.2', '0', '0', '0', '0.16', '2.8', '0.01', '0', '0.8', '0.08', '0.24', '0', '0.44', '0.01', '0.04', '0.04', '0', '0.01', '0', '0.03', '0.09', '0.26', '0.17', '0.02', '0', '0.07', '0.39', '0.11', '0', '0.52', '0.23', '0.94', '0.06', '0.07', '0.08', '0.05', '0', '0.29', '0', '0.13', '0', '0.26', '0', '0.02', '0.04', '0', '0.23', '0', '0.11', '0.06', '0.08', '0', '0', '0.04', '0.03', '290K', '0.05', '0.1', '1.25', '0', '0.09', '0', '0.07', '0', '0.04', '0.05', '0.07', '0.7', '0', '0', '0.02', '0.95', '0.01', '0.2', '0', '0.23', '0.17', '0', '0.12', '0.99', '0.36', '0.17', '1.17', '0.37', '0.09', '0.1', '0.31', '0', '0.17', '0.04', '0.02', '0', '0', '0.11', '0.13', '0', '0', '0.2', '0', '0', '0', '0', '0.04', '0.45', '0.12', '0.14', '0.12', '0.21', '0.08', '0.01', '0', '0.2', '0.15', '0', '0.88', '0', '0.01', '0.07', '0', '0.07', '0', '0', '0', '0.02M', '0.22', '0.17', '0.06', '0.07', '0', '0.49', '0.11', '0.22', '0.16', '0.4', '0.01', '0.26', '0.29', '0.2', '0.23', '0.09', '0.25', '0.04', '0.13', '0.08', '0.08', '1.01', '0.02', '0.15', '0', '0.05', '0.13', '0.02', '0.12', '0', '0.42', '0', '0', '0', '0.33', '0.18', '0', '0.03', '0', '0', '0.43', '0.31', '0', '0.07', '0.26', '0.07', '0.09', '0', '0.16', '0', '0.03', '0', '0.02', '0', '0.09', '0.08', '0.22', '0.59', '0.25', '0.07', '0.04', '0.08', '0', '0.46', '0.1', '0', '0', '0.21', '0.03', '0.05', '1.19', '0.02', '0.07', '0', '0.37', '0.41', '0', '0.01', '0.4', '0.02', '0.72', '0.24', '0.02', '0.07', '0.04', '2.11', '0.03', '0.03', '0.13', '0.1', '0.09', '0.09', '0.48', '0.11', '0', '0', '0.01', '0.38', '0.15', '0.02', '0.04', '0', '0', '0', '3.05', '0', '0.6', '0.37', '0.03', '0.06', '0.07', '0.85', '0.24', '0.18', '0.08', '0', '0.03', '0.06', '0.05', '0.04', '0.3', '0.07', '0.17', '0.07', '0', '0.07', '0', '0', '0.02', '0', '0.23', '1.84', '0.15', '0.04', '0.07', '0.13', '0.13', '0.09', '0', '0.24', '0', '0.37', '0K', '0.04', '0.08', '0.22', '0.11', '0.02', '0.31', '0', '0.63', '0', '0', '0.09', '0.22', '0', '0.13', '0.4', '0.3', '0.16', '0', '0.07', '0', '0.07', '0', '0.05', '0.89', '0.07', '0.29', '0.06', '0.39', '0', '0.08', '0', '130K', '0.17', '0.01', '0.09', '0.44', '0.49', '0.1', '0.06', '0.03', '2.26', '2.08', '0.09', '0', '0', '0', '0.14', '0.02', '0.01', '0', '0.21', '0.05', '0.09', '0', '0.45', '0.04', '0.02', '0.1', '0', '0.03', '0', '0.44', '0', '0.02', '0', '0.02', '0.07', '0.56', '0.12', '0.15', '0.22', '0.62', '0.89', '0.29', '0', '0.03', '0.1', '0', '0.03', '0.02', '0.01', '0.21', '0', '0.42', '0', '0.6', '0', '0.39', '0.2', '0.02', '5.39', '0.04', '0.16', '0.11', '0.44', '2.66M', '0', '0', '0', '0.1', '0', '0.09', '0.26', '0.11', '0.01', '0.12', '0.37', '0', '0.11', '0', '0', '0.42', '0.12', '0', '0.23', '0', '0', '0.06', '0.18', '0', '0.02', '2.47', '0', '0.04', '0', '0.94', '0.05', '0.35', '0', '0.38', '0', '0.03', '0.11', '0', '0.39', '0.1', '0', '0', '0.3', '0.15', '0.01', '0.09', '1.26', '0', '0.1', '0.15', '0.11', '0.07', '0.2', '0.09', '0', '0', '0.01', '0.21', '0.12', '0.73', '0', '0.5', '0', '0', '0.07', '0', '0.23', '0.91', '0.32', '1.07', '0.25', '0.52', '0', '0', '0.15', '0.44', '0', '1.24', '0', '1.07', '0', '0.28', '0.81', '0', '4.15', '0.49', '0.04', '0.23', '0.09', '0.09', '0.4', '0.25', '0.23', '0.58', '0', '0.13', '0', '0M', '0', '0.02', '0', '0', '0.4', '0.43', '0.11', '0.32', '0.44', '0', '0.13', '0.08', '0', '0.44', '0', '0', '0.13', '0.48', '1.28', '0.48', '2.06', '0', '0.21', '0.34', '0.05', '0', '0.06', '0.08', '0.08', '0.09', '0', '0.44', '0.39', '2.82', '0', '0', '0', '0.02', '0', '0.04', '0', '0', '0.29', '0.06', '0.16', '0', '0.84', '0.88', '0.89', '0', '0', '0.07', '0.21', '0', '0.12', '0', '0.07', '0.62', '0', '0.07', '0.08', '0.11', '0.34', '0.07', '0.72', '0.34', '0.13', '0.1', '1.01', '0.28', '0.57', '0.49', '0.04', '0', '0.02', '0', '0', '0.04', '0', '0.2', '0.15', '0', '0.37', '0.03', '0.41', '0.44', '0.73', '0.11', '0.04', '0.08', '0', '0.21', '0.68', '0.1', '0.29', '0.14', '0.02', '0', '0.1', '0.18', '1', '0', '0', '4.46', '0.22', '1.94', '0.01', '0.69', '1.07', '1.44', '0.04', '0.47', '1.18M', '0', '0', '0.13', '0', '0', '0.1', '0.03', '0.06', '0.05', '0', '0.12', '0.42', '0.18', '0.07', '0.03', '0.05', '0.18', '0.06', '0.18', '0.21', '0.09', '0.16', '0.17', '0.57', '0.44', '0', '0.43', '0.08', '0', '0.04', '0', '0.05', '0', '0.36', '1.58', '0.05', '0.7', '0.87', '0', '0', '0', '0', '0', '0.12', '0.14', '0.52', '0.02', '0.3', '0.2', '0.02', '0.11', '0', '0.17', '0.01', '0.85', '0', '0.02', '0.11', '2.12', '0', '0.93', '0.1', '1.01', '20K', '0.86', '0', '1.7', '0', '0', '0.14', '0', '0.04', '0.51', '0.21', '0.02', '0', '0.03', '0', '0.06', '0.07', '0.06', '0.03', '0.12', '0', '0.01', '0.11', '0.05', '0.18', '0.17', '0', '0', '0.22', '0.09', '0.08', '0.09', '0.29', '0', '0.56', '0.18', '0.07', '0.01', '0', '0.58', '0.61', '0.1', '0', '0.06', '0.44', '0.58', '0.03', '0.11', '0.17', '0.9', '0.26', '0.23', '1.09', '0.61', '0', '11.27', '0.15', '0.44', '0.61', '0.06', '1.38', '0.07', '0.02', '0', '2.11', '0.04', '0.44', '0.07', '0.02', '0', '0.05', '0', '0', '0', '0.22', '0', '0', '0.01', '0.05', '0.06', '0.09', '0', '0.25', '0.05', '0.01', '0', '0.02', '0.03', '0.94', '0.82', '0.14', '0.92', '0', '0.33', '1.52', '0.15', '0.09', '0.05', '0.5', '0.33', '0', '0.64', '0', '2.14', '0.14', '0', '0.07', '150K', '0.03', '0.01', '0.02M', '0.1', '0.19', '0.05', '0.11', '0', '0.52', '0', '0', '0.16', '0.09', '0', '0', '0.18', '0.03', '0.08', '0', '0.11', '0', '0.02', '0', '0.01', '0.48', '0.21', '0', '0.35', '0.56', '0.03', '0', '0.08', '0', '0.05', '0', '0.29', '0.92', '0.59', '0.07', '0.07', '0.03', '0.07', '0.35', '0.33', '0', '0.02', '0.05', '0.39', '0', '0.34', '0.03', '0.13', '0.09', '0.95', '0.59', '0.85', '0', '0.15', '0', '0.05', '0.06', '3.66', '0', '0.01', '0.15', '0.04', '0.08', '0', '0.06', '0.33', '0.17', '0.08', '0.11', '0.01', '0.08', '1.63', '0.02', '0.66', '0', '0', '0.35', '0.79', '0.06', '0', '0.31', '0.12', '0', '0', '0', '0', '0', '0.01', '0.01', '1.92', '0.09', '0.01', '0.01', '0', '0', '0.06', '0', '0.05', '0.08', '0.08', '0', '0.17', '0', '0.06', '0.57', '0.1', '0.05', '0.07', '0', '0', '0', '0', '0.18', '0.09', '0.48', '0.04', '4.12', '0.13', '0.04', '0.15', '1.48', '0.09', '0', '0', '4.46', '0.1', '0', '0.23', '0', '0.08', '0.14', '0.15', '0.02', '0', '0.36', '0', '0.31', '0.2', '0.07', '0.08', '0', '0.37', '0.06', '0.32', '0', '1.91', '0', '0.06', '0.55', '0.18', '0.24', '0.18', '0.01', '0.18', '0', '1.29', '0.79', '0.66', '0', '0', '0.52', '0', '0.14', '0.02', '0', '0', '0.03', '0.03', '0.08', '0', '0', '0', '0.55M', '0.21', '0.06', '0', '0.37', '0.02', '0.08', '0.01', '0.07', '0', '0', '0.02', '0.04', '0.11', '0', '0', '0.96', '1.15', '0.09', '0', '0', '0.05', '0.05', '0', '2.41', '0.03', '0.02', '0.02', '0', '0', '0', '0.19', '0.05', '0', '0.5', '0', '0.79', '0', '0', '0.09', '0.25', '0', '0.06', '0', '0.08', '0', '0.05', '0.09', '0.02', '0', '0.19', '0', '0.06', '0.02', '0.08', '0.59', '0.09', '0.07', '0', '0.04', '0.05', '0.43', '0.03', '0.3', '0', '0.11', '0.05', '0.25', '0.49', '0', '0.53', '0.24', '0', '0.1', '3.1', '0.03', '100K', '1.13', '0.42', '0.5', '0.01', '0', '0.01', '0.46', '0.31', '0.29', '0.01', '0', '0', '0', '0.25', '0.11', '0.08', '0.12', '0.12', '0.52', '0', '0.12', '0M', '0', '0', '0.11', '0.14', '0.11', '0.02', '0', '0.3', '0', '0', '0.04', '0.08', '0.02', '0.07', '0.06', '0.05', '0.07', '0.1', '0.23', '0', '0', '0', '0.43', '0', '0.03', '0', '0.4', '0.12', '0.7', '0', '0.27', '0.03', '0K', '0.02', '0', '0', '0.05', '0.01', '0.32', '0.72', '0', '0', '0.02', '0', '0.09', '0.24', '0.04', '0', '0.25', '0.23', '0', '0', '0', '0.02', '0.31', '0', '0.05', '0.09', '0', '0.06', '0', '0.11', '0.25', '0.29', '0', '0.06', '0.15', '0', '0', '0.12', '0', '0.16', '0.15', '0.26', '0', '0.04', '0.86', '0', '60K', '0.67', '0.02', '0.13', '50K', '0', '0.24', '0.15', '0', '0.02', '0.19', '0', '0.04', '0.13', '0.16', '0.05', '0.13', '0.16', '0.54', '0.06', '0.06', '0', '0.08', '0', '0', '0.06', '0.36', '0.77', '0.92', '0.05', '0', '0.24', '0', '0.14', '1.59', '0', '0.25', '0.01', '0', '0.15', '0', '0.06', '0.06', '0', '0.59', '0', '0.06', '0.14', '0', '0.25', '0', '0.74', '0.19', '0', '0.09', '0.11', '0.36', '0.78', '0', '0.16', '0.11', '0.21', '0.17', '0', '2.45', '0.33', '0', '0.1', '0.16', '0', '2.57', '0.01', '0.57', '0.05', '0', '0.15', '0.3', '0.29', '0.06', '0.12', '0', '0.16', '0.13', '0.04', '0.06', '0', '0', '0.23', '1.18', '0.47', '0.22', '0.21', '0', '0.78', '0.27', '0.26', '0', '2', '0.13', '0', '1.27', '0.21', '0', '0.44', '0', '0.09', '0.09', '0.04', '0.43', '0', '0.46', '0.2', '0.11', '0.22', '0', '0.11', '0.64', '0', '0.59', '0.06', '0.06', '0.1', '0.08', '0', '1.68', '0', '1.41', '0', '0.35', '0.07', '0.06', '0.15', '0.25', '0', '0.72', '0', '0.06', '0.11', '0', '4.99', '0.1', '0.19', '0.02', '0.19', '0.24', '0', '0.04', '0', '0.08', '0.14', '0.12', '0', '0.34', '0.91', '0.01', '3.06', '0.11', '0', '0.15', '0.27', '0.02', '0', '0.55', '0.09', '0.19', '0.42', '0.04', '0.23', '0', '0.17', '0.18', '0', '0.45', '0', '0', '0.16', '0.05', '0', '0.19', '0.08', '0', '0.03', '0.47', '1.18', '0', '0', '0.05', '0.05', '0', '0.05', '0.05', '0.72', '0.18', '0.24', '0.42', '0.28', '0.06', '1.09', '0', '0.27', '0.24', '0.14', '0.02', '0.02', '0.02', '0.61', '0.19', '0.09', '0.02', '0', '0', '0.08', '0.09', '0', '0', '0.03', '0', '0', '0.64', '0', '0.35', '0.63', '0.11', '0.2', '0.02', '0', '0.01', '0.14', '0.15', '0', '0.09', '0.39', '0.14', '0.47', '0.05', '0.15', '0.46', '0', '0.05', '0.01', '0', '0', '0.24', '0', '0.14', '0.15', '1.59', '2.58', '0.25', '0.67', '0.11', '0', '0.15', '0.08', '0.11', '0.07', '0.24', '0.25', '0', '0.03', '0.03', '0.01', '0', '0', '0.02', '0.13', '0.34', '0.3', '0.1', '0.28', '0.14', '0.41', '0.06', '0.11', '0.01', '0.01', '1.17', '0', '0.01', '0.16', '0.03', '0', '0.02', '0.1', '0.15', '0', '0.71', '0.12', '0.22', '0.12', '0', '0.05', '0', '2.3', '1.54', '0', '0', '0', '5.89', '0.22', '0.5', '0.05', '0.11', '0.08', '1.01', '0', '0.33', '0.16', '0.43', '0', '0.08', '0.06', '0.25', '0', '0', '0', '0', '0.65', '0.03', '0.08', '0.22', '0.14', '0.58', '0.38', '0', '0.33', '0', '0.24', '0.03', '0.29', '0.19', '0.23', '0.02', '0.01', '0.13', '0.11', '0.01', '0', '0.05', '0.02', '0.04', '0.03', '0.06', '0.14', '0K', '0.72', '0.18', '0.03', '0.06', '0.61', '0.12', '0.45', '0', '0', '0.08', '0.26', '0', '0', '0.01', '0.12', '0.19', '0.1', '0.08', '0.03', '2.18', '0.23', '0', '0', '0', '0', '0.16', '0', '0.2', '0.24', '0.07', '0.12', '0', '0.2', '0.34', '0.05', '0.86', '0.47', '0.44', '0', '0.28', '0.07', '0.08', '0.02', '0.14', '1.13', '0', '0', '0.05', '0.31', '2.57', '0', '0.34', '0M', '0', '1.99', '0.02', '0.48', '0', '0.06', '0.02', '0', '0.03', '0.66', '0', '0', '0.03', '0.05', '0.03', '0', '0', '0.54', '0', '0.45', '0.04', '0.79', '0.14', '0', '0.29', '0.3', '0.09', '0.04', '0.3', '0.09', '0', '0.08', '0.2', '0.47', '0.38', '0.09', '0.19', '0.18', '0.05', '0', '0.09', '0', '0.06', '0.19', '0.18', '0', '0', '0', '0.77', '0.09', '0.12', '0.15', '0.09', '0.01', '0.05', '0', '130K', '0.49', '0.65', '0.93', '0', '0', '0.17', '2.13', '0.47', '0.15', '0.42', '0.39', '0.09', '0.19', '0.11', '0.1', '0', '0.04', '0.03', '0', '0.25', '0.04', '0', '0', '0.34', '1.45', '2.72', '0.19', '0', '0.09', '0.12', '0.35', '0.04', '0.34', '0.06', '0.74', '0.41', '0', '0', '0', '0', '0.17', '0.02', '0.34', '0.15', '0.15', '0.06', '0.14', '0.78', '0', '0.02', '0', '0', '0', '0', '0', '0', '0.01', '0.43', '0', '0', '0.16', '0.22', '0.18', '0.3', '0.18', '0.75', '0.42', '0.05', '0.09', '0.22', '0.04', '0', '0.33', '0.01', '0', '0.02', '0.89', '0.08', '0.1', '0', '0', '0', '0', '1.28', '0.06', '0.08', '0.8', '0', '0.73', '2.36', '0.09', '0.12', '0.18', '0', '0.08', '0.1', '0.1', '0.47', '0', '0.51', '0', '0', '0.2', '0.06', '0.09', '0.47', '0.36', '0.32', '0.65', '0', '0', '0.23', '0', '1.3', '0.03', '0', '0.66', '0.16', '0', '0.08', '0.45', '0.1', '0.02', '0', '0.07', '0.04', '0.07', '0.01', '0', '0.1', '0.04', '0', '0.18', '0', '0', '0', '0.1', '0', '0', '0.07', '0.36', '0.5', '0.14', '0.44', '0.01', '0.03', '0.67', '0.04', '0', '0.07', '0', '0.45', '120K', '0.02', '0.44', '0.09', '0.02', '0.59', '0.02', '0.15', '0.05', '0.52', '0.45', '0.1', '0.08', '0', '0.05', '1.93', '0.06', '0.9', '0.14M', '0', '0', '0.09', '0.19', '0.46', '0', '0.01', '0.21', '0.55', '0', '0.04', '50K', '0', '0.38', '0', '0.04', '0', '0', '0.01', '0.28', '0', '0.06', '0.15', '0', '0.35', '0.17', '0.1', '0.15', '0.22', '0.03', '0.43', '0.12', '0.08', '0.08M', '0.03', '0.08', '0', '0.16', '0', '0', '0.16', '0', '0.05', '0.08', '0', '2.01', '0.03', '0', '0.02', '0', '0.04', '0.13', '0.1', '0.03', '0.38', '0.24', '0.01', '0.04', '0.24', '0.05', '0.1', '1.01', '0.16', '0.04', '0', '0', '0.05', '0.23', '0.69', '0.05', '0', '0.16', '0.39', '0.06', '0', '0', '0.01', '1.08', '0.42', '0', '0.31', '0.24', '0.22', '0.29', '0', '0.82', '0.49', '0.17', '0.01M', '0', '0', '0.28', '0.14', '0.22M', '0.1', '0.29', '0.08', '0', '0.13', '0.18', '0', '0', '0.01', '0.14', '0.01', '0.62', '0.04', '0.01', '0.67', '0', '0.05', '0', '0', '0.12', '0.3', '0.54', '0', '0.02', '0.08', '0.01', '0.14', '0', '0', '0.41', '0.15', '0.17', '0.07', '0.06', '0.12', '0.22', '0', '0', '0.27', '0', '0.01', '0.1', '0.12', '0.03', '0.28', '0.39', '2.1', '0.11', '0', '0.2', '0', '0', '1.47', '0.03', '0.3', '0.26', '0.38', '0', '0.11', '0.08', '0', '0.13', '0.08', '0.04', '0.14', '290K', '0', '0', '0', '0.05', '0.24', '0.09', '0.12', '0.43', '0.39', '0.7', '0.74', '0', '0.18', '0.1', '1.06', '0.07', '0.09', '1.1', '0.02', '0.08', '0', '0', '0.12', '0', '1.76', '0.39', '0', '0.63', '0.77', '0', '1.01', '0.05', '0.27', '0.04', '0', '0', '0.11', '0.12', '0.1', '0', '0.14', '0', '0', '0.17', '0.22', '0.02', '0.63', '0.27', '0.03', '5.77', '0.52', '0.71', '0', '0.02', '2.8', '0.02', '0.18', '0.31', '0', '0.01', '0', '0.09', '0', '0.43', '0.02', '0', '0', '0', '0.99', '0.09', '0.02', '0.17', '0', '0', '0', '0.04', '0', '0', '0.12', '0.1', '0.07', '0.02', '0.13', '0.05', '0', '0', '0', '0', '1.99', '0', '0.3', '0.09', '0', '0.01', '0', '0.08', '0', '0', '0.14', '0.25', '0.22', '0.34', '1.06', '0.34', '0.06', '0.02', '0.57', '0.31', '0.19', '0.05', '0', '0.17', '0', '0', '0.31', '0', '0.64', '0', '0.04', '0.07', '0.18', '0.01', '0.64', '0', '0.06', '0.09', '3.68', '0', '0.04', '0.53', '0', '0', '3.23', '0.05', '0.05', '0', '0.24', '0.01', '0', '0', '0.04', '0', '0.17', '0', '0.06', '0.14', '0', '0', '0.08', '0.93', '0', '0.15', '0.12', '0.07', '0.3', '0', '0', '0.05', '0', '0.06', '0.08', '0', '0.49', '0', '0', '0.18', '0.01', '0.03', '0.47', '0.1', '0.15', '0.03', '0', '0', '0.12', '0.75', '0', '0.1', '0.05', '1.53', '0', '0.49', '0.19', '0.52', '0', '0', '0.2', '0', '0.07', '0.63', '0.37', '0', '0.51', '0', '0.04', '0.02', '0.1', '0.07', '0', '0.72', '0.28', '0.28', '0.07', '0.5', '0.2', '0.25', '0.05', '0.22', '0.03', '5.84', '0.04', '0.05', '0.3', '0.05', '0.94', '0.78', '0.03', '0', '0.12', '0.76', '0.19', '0.07', '0.01', '0.12', '0', '0.07', '0.07', '0.06', '0.87', '0.62', '0.52', '0.03', '0.01', '0.06', '0.01', '0', '20K', '1.28', '0.83', '0.11', '0', '0', '0.1', '0.27', '0.24', '0.19', '0.07', '0.12', '0.07', '0.05', '0.22', '0.14', '0', '0.07', '0.02', '0', '0.53', '0.21', '0.12', '0.61', '0.01', '0.08', '0.08', '0', '0.06', '0.09', '0.05', '0.11', '0.03', '0.01', '0.1', '0', '0.25', '0.14', '0', '0.06', '0.87', '0', '0.76', '0.16', '0.02', '0.2', '0', '0.17', '0.11', '0.03', '0.09', '0.1', '0.05', '0', '0.56', '0.08', '0', '0.01', '0.1', '0.26', '0.32', '0.18', '0.11', '0.23', '0.44', '0', '0.12', '0.09', '0', '0.24', '0', '0.1', '0.22', '0', '0.08', '0', '0.63', '0.11', '0', '0.25', '0.23', '0.41', '0.45', '0.11', '0', '0', '0', '0', '0.29', '0.09', '0.25', '0', '0.09', '0', '0.21', '0.3', '0', '0.23', '0', '0.01', '0.4', '0.03', '0.1', '0', '0.45', '0', '0.04', '0.37', '0.38', '0', '0.26', '0', '0', '0.07', '0.44', '0.28', '0.16', '0.75', '0.08', '0.11', '0.57', '0.35', '0', '0.07', '0', '0.27', '0.81', '0.66', '0.17', '0.04', '0.58', '0.11', '0.15', '0.26', '0.62', '0.28', '0.31', '1.96', '0.06', '0.18', '0.54', '1.76', '0.06', '0.02', '0.02', '0.05', '0', '0.01', '0.03', '0.1', '0.13', '0.28', '0.07', '0.24', '0', '0.12', '0', '0.11', '0.07', '9', '0.07', '0.14', '0', '0.3', '0', '0.6', '0.19', '0.11', '0.1', '0.1', '0.09', '0.01', '0.01', '0.99', '0', '0.06', '0.43', '0', '0.39', '0', '0K', '0.15', '0.28', '0.08', '0', '0', '0', '0.08', '0', '0.2', '0.1', '0.06', '0.07', '0.07', '1.06', '2.85', '0.34', '0', '0.16', '60K', '0.01', '0.05', '0.13', '0.09', '0', '0', '0.1', '0', '0.11', '0.84', '0.02', '0', '0', '0', '0', '0.03', '0.07', '0.58', '0.02', '0.05', '0', '0.05', '0', '0.17', '0', '0.03', '0.02', '0.04', '0.19', '0', '0.03', '1.88', '0.03', '0.08', '10.83', '0.02', '0', '0', '6.82', '0', '0.17', '0', '0.07', '0.11', '0', '0.04', '0.04', '0.3', '0.51', '1.18', '0.02', '0', '0', '0', '0.13', '0', '0.03', '0.11', '0.19', '0.02', '0.14', '0.24', '0.01', '0.03', '0.27', '0', '0.37', '0.4', '0.5', '0.18', '0.36', '0', '0.01', '0.02', '0', '0.2', '0', '0.03', '0.07', '0', '0.02', '0.31', '0', '0.15', '0', '0.11', '0.04', '0.06', '0', '0.09', '0.06', '0.07M', '0', '0.35', '0', '0.47', '0.68', '0.02', '0.17', '0.07', '0.43', '0.1', '0', '0', '0.18', '0.05', '0M', '0.1', '0.32', '0K', '0.09', '0', '0', '0', '0.56', '0.39', '0.19', '2.14', '0.04', '0.13', '0', '0', '0.25', '0', '0.66', '3.54', '0.01', '0', '0.12', '0', '0', '0.07', '0.18', '0.08', '0.78', '0.14', '0', '0.05', '0', '0.42', '0.06', '0.02', '0.09', '0.13', '0', '0.62', '0.54', '0.34', '0', '0.07', '0.63', '0.06', '0', '0.06', '0.24', '0.14', '0.5', '0.19', '0.67', '0.95', '0', '0.06', '0.03', '0', '0.11', '0.25', '0.08', '0.61', '0.08', '0.05', '0.06', '0.12', '0', '0M', '0.14', '2.1', '0.3M', '0.08', '0', '0.03', '0.11', '0.8', '0', '0.26', '0.72', '0', '0', '0.14', '0.39', '0.09', '0.78', '0', '0.15', '3.18', '0.39', '0.26', '0.24', '0', '0.8', '0.21', '0', '0.56', '0.06', '0', '0', '0.08', '0.04', '0.12', '0.04', '3.13', '0M', '0.65', '1.32', '0.21', '0.04M', '0.12', '1.25', '0.13', '3.42', '0.1', '0.4', '1.15', '0.08', '0.08', '0', '0', '0.83', '0.15', '1.49', '0', '0.42', '0', '0', '0.08', '1.43', '0.07', '0', '1.03', '0.02', '0.05', '0.14', '0.43', '0.17', '0.09', '0.5', '0.08', '0', '0', '0.01', '0', '0.06', '0', '0.83', '0.16', '0.55', '0', '0', '0.88', '0.12', '0.14', '0.05', '0M', '0.18', '0', '0.11', '0.03', '0.16', '0.19', '0.19', '0.1', '0', '0', '0.25', '0.42', '0.06', '0.05', '0.31', '0.09', '0.89', '0.6', '0.03', '0', '0.03', '0', '0', '0', '0.09', '0', '0.24', '0', '0.14', '0', '0.7', '0', '0.27', '0.24', '0', '0', '0.38', '0.1', '0', '0', '0.17', '0.27', '0.05', '0.18', '0', '0', '0.14', '0.04', '0.66', '0.1', '0.09', '0.21', '0.55', '0.02', '0.12', '0.79', '0.04', '0.04', '0.03', '0', '0.13', '0.06', '0', '0.69', '0.01', '0.29', '0.23', '6.99', '0.07', '0.01', '0', '0.43', '1780K', '0.2', '0.16', '0.19', '0.03', '0.03', '0.05', '0', '0.02', '0', '0', '0.03', '0.36', '0', '0.42', '0', '0.22', '0', '0.03', '0.33', '0.15', '0', '0.3', '0', '0.01', '0', '0.33', '0', '0.14', '0.1', '0M', '0.32', '0.3', '0.24', '0.03', '0.05', '0.13', '0', '2930K', '0.27', '0.25', '0.07', '0.23', '0.6', '0', '0.03', '0.11', '0', '0.68', '0.85', '0.03', '0.14', '0', '0', '0.54', '0.07', '0.34', '0.09', '0', '0.01', '0.02', '0', '0.05', '0.63', '0', '0.04', '0.12', '0.11', '0.22', '0', '0.14', '0.03', '0.02', '0.87', '0.38', '0.07', '0.59', '0.03', '0.43', '0.13', '0', '0', '0', '0.25', '0.24', '0.36', '0', '0.11', '0.08', '1.14', '0.11', '0.1', '0.15', '0.04', '0.02', '0.04', '0.11', '0.04', '0', '0', '0.61', '0.15', '2.29', '0', '0.64', '0', '0.09', '0.13', '0.03', '2.49', '0.14', '0', '0.4', '0', '0.12', '0.28', '0.47', '0.01', '0.11', '0', '0', '0.07', '0', '0.05', '0.38', '0', '0.21', '0.19', '0.11', '0.41', '0.1', '0.08', '0.06', '5.98', '0', '0', '0.02', '2.33', '1.4', '0', '0.33', '0.73', '0.15', '0', '0.08', '0.11', '0', '0.05', '0.27', '0.07', '0.07', '0.1', '0.24', '0', '0.04', '0', '0', '0.03', '0.08', '0.12', '0.05', '0', '0', '0.24', '0', '0.51', '0.09', '0.57', '0.02', '0.02', '0', '1.97', '0.67', '0.46', '0.04', '0.81', '0.08', '0.26', '0.07', '0', '0.1', '0.22', '0', '0', '0.11', '0.01', '0.99', '0.03', '0', '0', '0', '0.34', '0.11', '0', '0.68', '0', '0.22', '0.07', '0.02', '0.09', '0', '0.62', '0', '5.58', '0', '0', '2.19', '0', '0.37', '0.13', '0', '0.07', '0', '0.1', '0.26', '0', '0.15M', '0.02', '0', '0', '0.03', '0.06', '0.69', '0', '0.04', '0.03', '0.15', '0', '0.04', '0.1M', '0.43', '0.15', '0.07', '0.11', '0.11', '0.06', '0.11', '0.01', '0.56', '0.56', '0.08', '0.16', '0.9', '0.39', '1', '0.06', '0', '0', '0', '0.57', '0.04', '0', '0.04', '0', '0.44', '0.37', '0.04', '0', '0.47', '0.07', '0', '0.02', '0.17', '0.06', '0.19', '0.04', '0.02', '0.08', '0', '0.05', '0.02', '0.18', '0.19', '0.41', '0', '0', '0', '0.26', '0.21', '0.05', '0.08', '2.6', '0.59', '0.15', '0.08', '0', '0.26', '0.31', '0.09', '0.11', '0.51', '0', '0', '0.44', '0.21', '0', '0.13', '0', '0.31', '0', '0.38', '0', '0', '0', '0.15', '0.07', '0.04', '0.04', '0.03', '1.94', '0.11', '0', '0.15', '1.44', '2.04', '0.19', '0', '0.3', '0.14', '0.52', '0.11', '0.16', '0', '0.02', '0.01', '0.05', '0.49', '0.03', '0.2', '0.53', '0.99', '0.03', '0', '0.1', '1.48', '0.4', '1.65', '0.46', '0.01', '0', '3.7', '0', '0.07', '1.22', '0.05', '0.09', '0.02', '0.04', '0', '0', '0', '0.12', '0.27', '0.23', '0', '0.45', '0', '0', '0.61', '0', '0.13', '0.98', '0.18', '0.18', '2.07', '0', '0.13', '0', '4.41', '0.35', '0.04', '0.02', '0', '0.54', '1.68', '0.08', '1.83', '0.04', '0.01', '0.01', '0.13', '0.15', '0.09', '0.1', '0.01', '0', '0.1', '0.11', '0', '0.12', '0', '0.46', '0.04', '0', '0.07', '0.13', '0.18', '0.06', '1.89', '0', '0.28', '0.6', '0.13', '0', '0.1', '0.06', '0.21', '0.07', '0', '0.12', '0', '0', '0', '0.02', '0.77', '0.28', '0.05', '0', '0.24', '0.16', '0.26', '0', '0.1', '0.82', '0.01', '0', '0.48', '0', '0', '0.27', '0.01', '1.37', '0', '0.29M', '0.07', '0', '0.04', '0.77', '0.22', '0.06', '0.73', '1.37', '0', '0.26', '0.03', '0.24', '0.03', '0', '0.04', '0.18', '0', '0.21', '0', '0', '0.13', '0.68', '0.04', '0.96', '0.12', '0.06', '0.5', '0.22', '0.08', '0', '0.05', '0.95', '0.02', '0.17', '0', '0.05', '0.08', '0.02', '0.03', '0.5', '0', '0.02', '0.21', '0.09', '0.32', '0', '0.13', '0.17', '0', '0.15', '0', '0.12', '0.32', '0.21', '0.07', '0', '0', '0.06', '0.1', '0', '0.2', '0.08', '0.01', '0', '0.52', '0.29', '0', '0.04', '0.05', '0.02', '0.34', '0.15', '0.06', '0.97', '0.06', '4.98', '770K', '0.26', '0.16', '0', '0', '0.62', '0.21', '0.05', '0.42', '0.09', '0', '0.05', '0.04', '1.94', '0.15', '0.3', '0', '0.03', '1.19', '0.21', '0.05', '0.15', '0.06', '0.22', '0', '0', '0.21', '0.46', '0.11', '0.01', '0.15', '0', '0', '0.12', '0', '0', '0M', '0.4', '0.06', '0', '0.12', '0.27', '0.04', '0.01', '0', '0.1', '0.01', '0.02', '0', '0.07', '0', '0.2', '0.1', '0.38', '0.04', '0.22', '10K', '280K', '1.27', '0', '0.07', '0', '0', '0', '0.11', '0.01', '0.05', '0', '0.12', '0', '0.02', '0', '0', '0.02', '0.13', '0.09', '0.08', '0', '3.66', '0.24', '0.25', '0.11', '0.09', '0.48', '0.05', '0.04', '0', '0', '0', '0.11', '0.12', '0.14', '0.32', '0.16', '0.09', '0.63', '0.26', '0', '0', '0.63', '0.47', '0.16', '0.04', '0.1', '0', '0', '0.17', '0.11', '0.06', '0.18', '0.09', '0.01', '0.06', '0', '0.22', '0.02', '0.01', '0', '0.47', '1.26', '0.03', '0', '0.06', '0.16', '0.03', '0.2', '0', '0.55', '0.14', '2.43', '0.17', '0.08', '0.03', '0.33', '0.31', '0.13', '0.03', '0.02', '1.47', '0', '0.17', '0.34', '0.06', '0.13', '1.3', '0', '0.09', '0.42', '0.66', '0.29', '0.51', '0.22', '0.61', '0.27', '0.61', '0.06', '0.01', '0.24', '0.26', '0.08', '0.03', '0', '0', '0', '0.56', '1.75', '0.11', '0.27', '0', '0', '0.02', '0.11', '0', '0.43', '0.08', '0.12', '0.02', '0', '0.21', '0.27', '0.32', '0.07', '0.21', '0.45', '0.11', '0', '0', '26.93', '0.01', '0.11', '0.07', '0', '0', '0', '0', '0.06', '0.02', '0.14', '0.75', '0.01', '0', '0.33', '0.06', '0', '0.08', '0.24', '0.07', '0', '0.1', '0.43', '0.05', '0', '0', '0', '0', '0.19', '0.47', '0.12', '1.52', '0.24', '0.52', '0.39', '0', '0.06', '0.17', '0.98', '0.38', '0.07', '0.15', '0', '0.06', '0', '0.14', '0.17', '0.69', '0.18', '0.06', '0.1', '0.18', '0.12', '0.1', '0', '0.02', '50K', '0.13', '0', '0.04', '0', '0.06', '0', '0.02', '0.35', '0.33', '0.08', '6.42', '0', '0', '0.17', '0', '0.73', '0.03', '0.25', '0.35', '0', '0', '1.68', '0.67', '0', '0.2', '0.23', '0.72', '0.1', '0', '0.25', '0.14', '0', '0', '1.21', '0.09', '0.06', '0', '0.08', '0.34', '0.9', '0', '0.17', '0', '0.02', '1.25', '0.1', '0.01', '3.81', '0.16', '1.89', '0.19', '0', '0.38', '0', '0.05', '0.01', '0.48', '0.02', '0', '0.35', '0.22', '0', '0.51', '0.16', '0.09', '0.51', '0', '0.96', '0.03', '0', '0.18', '0', '0.36', '0.13', '0', '0.02', '5.57', '0', '0.01', '0.07', '0', '0.21', '0', '0.09', '0.07', '0.1', '0', '0', '0', '0', '0', '0.06', '0.01', '0.15', '0.05', '0', '0.08', '0', '0.71', '0.15', '0', '0', '0', '0.07', '0', '9.81', '0', '0', '0.37M', '0.46', '0', '0.24', '0.33', '0.01', '0.18', '0.21', '0.76', '0', '0.08', '0.22', '0.3', '0', '0.19', '0.26', '0.02', '0', '0.05', '0.06', '0.06', '0', '0', '0', '0.35', '0.06', '0.5', '0.12M', '0', '0', '0.13', '0.02', '0.21', '0', '0.05', '0', '0', '0', '0', '0', '0', '0', '0', '0.14', '0', '0.1', '0', '0.02', '0.04', '0.26', '0.14', '0', '0.02', '0.23', '3.28', '0.03', '0.32', '0.35', '0.04', '0.08', '0.44', '0', '0.04', '0', '0.03', '0', '0.06', '0', '0.64', '0.04', '0', '0', '0', '0.6', '0.41', '0.14', '0', '0.01', '0.1', '0', '0.11', '0.09', '0.47', '0.31', '0.09', '0.04', '0.04', '0', '0.15', '0.74', '0.27', '0', '0.22', '0.2', '0', '0.11', '0.71', '0.03', '0.94', '0.08', '0.14', '0.72', '0.05', '0', '0', '0.05', '0.06', '0', '0', '0', '0.05', '0', '0.07', '0.01', '0.03', '0', '0.03', '0.68', '0', '0.04', '0', '0.18', '0.02', '0.99', '0.41', '0', '0.07', '0.68', '0.13', '0.1', '0', '0', '0', '0.05', '0.02', '0.12', '0', '0.08', '3.74', '1.19', '0.04', '0.28', '0.02', '0.23', '0', '0.51', '0.71', '0', '0.09', '0.4', '0.16', '0.36', '0', '0', '0', '0.24', '0.38', '0.1', '0.21', '0.73', '0.88', '0.22', '0.02', '0.01', '0.01', '0.08', '0.3', '0.05', '0', '0.16', '540K', '0', '0.51', '0.05', '0', '0.11', '0', '0.07', '0.04', '0.08', '0.06', '2.66', '0.16', '0.09', '1.33', '0', '0.49', '0.63', '0.02', '0.01', '0.29', '0', '0', '0.07', '0.03', '0.16', '2.03', '0.84', '0.33', '0.34', '0.1', '0.74', '0.05', '0.11', '0.23', '0', '0.05', '0', '0.08', '0', '0.45', '0.01', '0.12', '0.25', '1.55', '0', '0', '0.07', '0.32', '0.17', '0', '0.24', '0.01', '0.44', '0', '0.1', '0.96', '0.13', '0.29', '0', '0', '0.01', '0', '0.16', '0.21', '0.05', '0.31', '0.01', '0.1', '0.25', '0.2', '0.06', '0', '0.16', '0.38', '0.18', '9.09', '0', '0.14', '0.08', '0.02M', '0.02', '0', '0.04', '0.25', '1.77', '0.27', '0', '0', '0.25', '9.63M', '0.26', '0.02', '0.05', '6.06', '0.01', '0.07', '0.13', '0.37', '0', '0.08', '0', '0.05', '0', '0', '0.13', '0.07', '0.45', '0.06', '0.24', '0.16', '0.09', '0.06', '0.15', '4.79', '0.01', '0.17', '3.27', '0.07', '0.17', '0.24', '2.59', '0.34', '0', '0.71', '0', '1', '0.7', '0', '0.03', '0.04', '0.07', '0.01', '0', '0.4', '0.02', '0.05', '0.02', '0.02', '0.28', '0.78', '0.12', '0.59', '0.73', '0.32', '2.48', '0', '0', '2.71', '0.61', '0.28', '0', '0.13', '0', '0', '0', '0.14', '0.29', '1.35', '0', '0', '0', '0', '0.08', '0.27', '0.15', '0.2', '0.09', '0.13', '0', '0', '0', '0.03', '0.03', '0.05', '1.12', '0.47', '0.53', '0.41', '0.16', '0', '0', '0.22', '0.01', '0.03', '0.11', '0', '1.05', '0.04', '0', '0', '0', '1.44', '0.08', '0', '0.17', '0.34M', '0.03', '0.05', '0', '0.77', '1.15', '0.03', '0', '0', '0.29', '0.17', '0.07', '0.45', '0.26', '0', '1.04', '0.64', '0', '0.47', '0.05', '0.03', '0.02', '0.33', '0.38', '0.02', '0.14', '0.08', '0', '0.99', '0.01', '0.4', '0.35', '0.02', '0', '2.97', '0', '0.02', '0.05', '0.07', '1.5', '0.08', '0.07', '0.17', '0.09', '0.21', '0.28', '0.03', '0.12', '0', '0.76', '0.37', '0.19', '0.06', '0', '0.49', '0', '0', '0.03', '0.05', '0.02', '0.06', '2.63', '0.06', '0.66', '0.11', '0', '0.91', '0.18', '0.48', '0', '0.12', '0.08', '0.16', '0.07', '0.22', '0.12', '0.02', '0.04', '0.07', '0', '0', '0', '0.18', '0.05', '0.08', '0.2', '0.19', '0', '0.08', '0.92', '0.06', '0', '0.08', '0.14', '0.02', '1.07', '0.32', '0', '0.39', '0.51', '0.38', '0.2', '0.01', '0.04', '4.74', '0M', '0.3', '0.31', '0.04', '0.1', '0.2', '0.03', '0.24', '0.01', '0.19', '0', '0.18', '0.06', '9.07', '0.28', '0.07', '0.24', '0.04', '0.59', '0.73', '0.44', '0.01', '0', '0.1', '0.13', '0', '0', '1.69', '0.05', '0.06', '0.17', '0', '0.05', '0.09', '0.1', '0', '0.28', '0', '0', '0', '0', '0', '0.07', '0', '0.02', '0.07', '0.09', '0.09', '0.22', '0.03', '0.58', '0.43', '0.29', '0', '0.11', '0.12', '0.41', '0', '0.17', '0.03', '0', '0.43', '0.04', '0.07', '0', '0.13', '0', '0.22', '1.48', '0.06', '0.08', '0.06', '0.09', '0.06', '0.02', '1.24', '0.39', '0', '1.48', '0', '0.01', '0.12', '0.1', '0.25', '0.1', '0.07', '0.11', '0.13', '0.05', '0', '0', '0.11', '0.08', '0.53', '0', '0.25', '0.08', '0.54', '0.18', '0.05', '0.38', '0.04', '0', '0', '0', '0.1', '0.08', '0.89', '0.02', '1.32', '0.06', '0', '0.04', '0.46', '0', '0.05', '0', '0.05', '0.04', '0', '0', '0.26M', '0.14', '0.09', '0.12', '0.13', '0.04', '0.45', '0.1', '0', '0.06', '0', '0', '0', '0.14', '0.13', '1.23', '0.05', '0.51', '0', '0.01', '0.05', '1.74', '0.06', '0.09', '0.21', '0.54', '0.45', '0.15', '0.86', '0.01', '0', '0.13', '0.54', '0.06', '0.08', '0.05', '0.22', '0.09', '0.07', '0.25', '0.16', '0.25', '0.01', '0.6', '0', '0.02', '0', '2.47', '0.04', '2.07', '0.21', '0.11', '0.04', '0', '3.51', '0', '0', '0.29', '0.11', '0.02', '0', '0.81', '0.11', '1.57', '0.81', '0', '0', '0.67', '0.26', '0.06', '0.64', '0.91', '0.01', '0.97', '0', '0.13', '0.19', '0.05', '0.1', '0.35', '0.28', '0.18', '0', '0.09', '0.13', '0', '0.09', '0', '0', '0', '2.03', '0.33', '0.27', '0.48', '0.46', '1.43', '0.02', '0.62', '0.12', '0.18', '0', '0.02', '0.45', '0', '0', '0', '0', '1.41', '0', '0.33', '0.17', '0.12', '0.04', '1', '1.6', '0.41', '0.12', '0.51', '1.11', '0', '0', '0.23', '0.13', '0', '0.03', '0.1', '0.19', '0.54', '0.08', '0', '0.82', '0', '0.04', '0.13', '0.04', '0.05', '0.02', '0.1', '0.01', '0.05', '0', '0.2', '0.09', '0.26', '0.1', '0', '0.22', '0.11', '0', '0', '0.03', '0.47', '0.05', '0.04', '0.34', '0.14', '0.71', '0.11', '0.05', '0.17', '0.24', '0', '0.12', '0.4', '0.03', '0.15', '0', '0', '0.07', '0.02', '0.12', '0.18', '0.01', '0.9', '0.35', '0', '0.08', '0.09', '1.77', '0.03', '0', '0', '0.09', '0.21', '0.08', '0', '0.67', '0.21', '0', '0.09', '0.01', '0.06', '0.57', '1.1', '0.02', '0.04', '0', '0', '0.04', '0.19', '0.09', '1.01', '0', '0', '0.03', '0', '0.28', '0.21', '0', '0', '0.02', '0.77', '0.23', '1.81', '0.12', '0', '0.94', '0.04', '0.09', '0.07', '0.07', '0', '0', '0.05', '0', '0.07', '0.21', '0.03', '1.02', '0', '0', '0.01', '0.11', '0.02', '0.08', '0.3', '2.15', '0.59', '0.22', '0.37', '0.16', '0.08', '0', '0.01', '0.3', '0.21', '0.17', '1.38', '0.79', '0', '0.13', '0.45', '0.02', '0.01', '0', '0', '1.3', '0.02', '0.18', '1.07', '0.07', '0.15', '0.03', '0.31', '0.08', '0.08', '0.08', '0.18', '0.23', '0.07', '0.06', '0.06', '0', '0.06', '5.03', '0.37', '1.98', '0', '0', '0.57', '0.1', '0.01', '0.08', '0.03', '0', '0', '0.21', '0', '0.12', '0.38', '0.05', '0', '0.06', '0.1', '0.1', '0', '0.03', '0', '0', '0', '0.31', '0', '0.16', '0.09', '0', '0.12', '0.32', '0.94', '1.64', '0', '0', '0.16', '0.02', '0.41', '0.07', '0.06', '0.23', '0.12', '0K', '0.24', '0.02', '3.22', '1.12', '0.05', '0.42', '0.09', '1.34', '0.14', '0.03', '0', '0.06', '2.49', '2.07', '0', '0', '0.37', '0', '0.12', '0.27', '0', '0', '0', '0.34', '0', '0.02', '0.19', '0.09', '0.15', '0.11', '0.11', '0.06', '0', '0', '0.11', '0.53', '0.08', '0.01', '0.12', '0', '0.08', '0.09', '0.48', '0.2', '0', '0.58', '0.49', '0.03', '0', '0', '0', '0', '0.16', '0.67', '0.01', '0.06', '0.13', '0.07', '0', '0.38', '0.02', '0', '0.16', '0', '0.36', '0', '0', '0', '0.26', '0', '0.22', '0', '0.18', '0.24', '0.05', '0.11', '1.15', '0', '0.56', '1.1', '0.07', '0', '0.02', '0.01', '0.08', '0', '2.08', '1.67', '0.25', '0.96', '0.44', '0.02', '0.01', '0.1', '0.08', '0.03', '0', '0', '0.02', '0', '0.37', '0.52', '0', '0.09', '0.1', '0.05', '0.07', '0.22', '0.09', '0.54', '0.25', '0', '0', '0', '0.05', '0.01', '0', '0.09', '0.01', '0.74', '0.01', '0.01', '0.25', '0', '0.17', '2.18', '0.36', '0', '0', '0.03', '1.19', '0.73', '0.16', '0.02', '0', '0', '0', '0.04', '0', '0', '3.01', '0.17', '2.22', '0.1', '0.34', '0.14', '0.13', '0.01', '0', '0', '0', '0.21', '0.27', '0', '0.28', '0.03', '0', '0.34', '0M', '0.99', '0.07', '0.28', '0.43', '0.3', '0', '0.22', '0.07', '0.05', '0.03', '0.16', '0.14', '0', '0.18', '0.12', '0.23', '0.1', '0.12', '0', '0.07', '0.09', '0.13', '0.13', '0', '0.59', '0.18', '0.32', '0.05', '0.25', '0', '0.13', '0.08', '0', '0', '0.21', '0', '0.1', '0.1', '0.09', '0', '1.2', '0.12', '0.62', '0.21', '0.3', '0', '0', '0.06', '0', '0', '0.06', '0.6', '0.12', '0.08', '0.28', '0', '0.19', '0.14', '0.69', '0.63', '0.01', '0.25', '0.12', '0', '1.38', '0.02', '0', '0.11', '0.08', '0', '0.04', '0.15', '0.12', '0', '0', '0', '0', '0.16', '0.21', '0.24', '0.09', '0.02', '0.38', '0', '0.04', '0.11', '0.42', '0.02', '0.67', '0', '0', '0.09', '0.05', '0.02', '0.18', '0', '0.08', '0', '0.03', '1.02', '0.03', '0', '0.14', '0.02', '0.08', '0.24', '0', '0.04', '0.04', '0.18', '0.08', '0', '0.02', '0.02', '0.29', '0.13', '0.12', '0.03', '0.06', '0.08', '0', '0', '0.09', '0.12', '0.04', '0', '0.19', '0.02', '0.26', '0.05', '0.02', '0.05', '0.03', '0.2', '0.02', '0', '1.44', '0', '0.12', '0', '0.15', '0.01', '0.37', '0.04', '0.29', '2.77', '0.09', '0.12', '0.69', '0.57', '0', '0.03', '0', '0.01', '0.02', '0', '0.09', '0', '0', '0.08', '0.07', '0.1', '0.64', '0.02', '0', '0.07', '0', '0.05', '0', '0', '0.17', '0.05', '0.23', '0.04', '0', '0.03', '0.03', '0.52', '0.01', '0.36', '0.26', '2.29', '0.06', '0.03', '1.59', '0.14', '0.08', '0.02', '0.11', '0.12', '0', '1.68', '0.12', '0', '0', '0.11', '0.09', '0', '0.52', '0.06', '0.95', '0.12', '0.04', '0.01', '0.37', '0.04', '0', '0.37', '0.52', '1', '0.14', '0.1', '0.09', '0', '0.37', '0', '0', '0.8', '0.05', '0.06', '0', '0', '0.03', '0.54', '0.05', '0', '0.1', '2.55', '0', '0.03', '0', '0', '0.12', '0.11', '0.19', '0.11', '0.08', '0.01', '0.01', '0.49', '0.06', '0.06', '0.01', '0.23', '0.14', '0.02', '0.35', '0.09', '0.09', '3.25', '0.04', '0.41', '0.15', '0.37', '0.13', '0', '0', '0.15', '0.16', '0.68', '0.16', '0.24', '0.15', '2.07', '0.06', '0.19', '0.7', '0', '0.63', '550K', '0.65', '0', '0.51', '2010K', '0.12', '0', '0', '5.8', '0.02', '0.17', '0.39', '0', '0.01', '0', '0.03', '0.1', '0', '0.01', '0.35', '0.54', '0', '0.03', '0', '0', '0.21', '0.78', '0.34', '0.08', '0.26', '0', '0.04', '0.12', '0.93', '0.04', '0.18', '0.26', '0', '0', '0.09', '0.49', '0.23', '0', '0', '0.28', '0.03', '0.15', '0.2', '0.15', '0.08', '0.94', '0', '0.33', '0', '0.01', '0.03', '0', '0.18', '0.21', '0.22', '0.6', '0', '0', '3.59', '0.15', '0.07', '0.1', '0.08', '0.38', '1', '0', '0', '0.32', '0.1', '0.15', '0', '0.16', '0.15', '0', '0', '0.14', '0.74', '0.37', '0.18', '0.08', '0.65', '0.15', '0', '0.09', '0.18', '0.04', '0.04', '0', '0', '0', '1.06', '0.23', '0.02', '0.3', '0', '0', '0', '0.12', '0', '0', '0.09', '0.11', '0', '0.1', '0.24', '0.25', '1.33', '0.05', '0.19', '0.22', '0K', '0', '0.13M', '0.06', '0', '0.12', '0.04', '0', '0.01', '0.1', '0.08', '0.12', '0', '0.13', '0.48', '0.01', '0', '0.02', '1.07', '0.03', '0.01', '0.52', '0', '0.41', '0', '0', '0.32', '0.25', '0.43', '0.05', '0.2', '0.03', '0', '0', '0.08', '0.03', '0', '1.17', '0.04', '0.84', '0.37', '0', '0.07', '0.11', '0.06', '0.14', '1.49', '0.21', '0', '0.12', '0.07', '100K', '0', '0.01', '0.22', '1.54', '0.01', '0.04', '0', '0.06', '2.64', '0.51', '0', '0.11', '0.21', '0', '0.05', '0', '0.19', '0.18', '0.24', '0.05', '0.05', '2.13', '0.08', '0.38', '0.36', '0.04', '0.13', '0.73', '0', '0.82', '0.09', '0.08', '0.38', '0.24', '0.66', '0.05', '0.05', '0.01', '0', '0.02', '0.2', '0', '0.23', '0.47', '0.06', '0.94', '0.26', '0.14', '0.07', '0.6', '0.1', '0.04', '0.65', '0.16', '0', '0.05', '0', '0', '0.47', '0.02', '0.41', '0.18', '0.8', '0', '0', '0.18', '0.07', '0.15', '0.05', '0.37', '0', '0.32', '0', '0.87', '0.09', '0', '0', '0.07', '0.11', '0.27', '0.26', '0K', '0', '0.08', '0', '0.27', '0.07', '0.09', '0.03', '0.01', '0.08', '0.67', '0.06', '0.87', '0.11', '0', '0', '0.16', '0', '0', '0.11', '0.02', '0.02', '0.05', '0.28', '0', '0', '1.11', '0.03', '0.15', '0', '0.01', '0.08', '0.09', '0', '0.34', '0', '0.86', '0.22', '0.15', '0.05', '1.69', '0.11', '0.09', '0.09', '0.03', '0.15', '0', '0', '0.1', '0.12', '0.24', '0.14', '0.02', '0', '0.75', '0.06', '0', '0', '0.21', '0.18', '0', '0', '0.65', '0.3', '0.24', '0.1', '0.05', '0.06', '0', '0.36', '0.29', '0.12', '0', '0.28', '0.46', '0.12', '0.45', '0.33', '0.23', '0.18', '0', '0', '0.32', '0.24', '0.06', '0', '0', '1.08', '0', '0.86', '0.12', '0.99', '10K', '0.51', '0.14', '0.01', '0.08', '0', '0.79', '0', '0.05', '0.15', '0.03', '0.07', '0.52', '0.05', '0.12', '0.21', '0', '0', '0.85', '0.3M', '0', '0', '0.08', '0', '0.06', '0.02', '0.15', '0.13', '0.72', '0.76', '0', '0', '0.14', '0.01', '0.08', '0', '0', '0.24', '0.1', '0.29', '0.24', '0', '0', '0', '0.05', '0', '0.04', '0.06', '0.5', '0', '0.08', '0.02', '0.7', '0.16', '0.01', '0.35', '0', '0', '0.16', '0.15', '2.4', '0.06', '0.29', '0.07', '0.28', '2.12', '0.08', '0.11', '0', '1.95', '0.04', '1.58', '0M', '6.16', '0', '0.36', '0.78', '0.03', '0K', '0', '0.04', '0.01', '0.13', '0.07', '0', '0.18M', '0', '0.38', '0.03', '0.25', '0.06', '0', '0.02', '0.86', '0.7', '0.14', '0.16', '0.12', '0.05', '0.17', '0.01', '0.43', '0', '0', '0.34', '0.09', '0', '0', '0.16', '0.03', '0.15', '0.07', '0.76', '0', '0', '0.13', '0.41', '0.16', '0.06', '0', '0.05', '0.02', '0.16', '0.12', '0', '0.19', '0.14', '0.01', '0', '0', '0.08M', '1.08', '0', '0', '0', '0', '0.3', '0', '0', '0.11', '5.08', '0', '0', '0.47', '0', '0.01', '0', '0', '0.05', '0.06', '0', '0.1', '0.82', '0.47', '0.14', '0.01', '0.03', '0', '0.03', '1.14', '0.41', '0.02', '0.38', '0.04', '0.28', '0.13', '0', '0.09', '0.1', '0.15', '0', '0', '0.17', '0.12', '0', '0', '0.23', '0.2', '0.41', '0.05', '0.34', '0.08', '0', '0.07', '0.14', '770K', '0', '0.07', '0.01', '0', '0', '0', '0.16', '0', '0.25', '0.18', '0', '1', '0.14', '0', '0.25', '0.08', '0.1', '0.14', '0.32', '0', '0.76', '0', '0.07', '0.32', '0.23', '0.2', '0.12', '0.46', '0.13', '1.9', '0.02', '0', '0.08', '0', '0.46', '0.01', '0.03', '0.1', '0', '0', '0.1', '0.11', '0.15', '0', '0.17', '0', '0.01', '0.25', '0.11', '2.84', '2.47', '0', '0.12', '1.19', '0.01', '0', '0', '0.04', '0.66', '0.03', '0', '15.85', '0.09', '0.06', '0.32', '0.07', '0.06', '0.59', '0.08', '0.12', '0.27', '0', '0.22', '0.72', '0', '0.22', '0.03', '0', '0.05', '0.5', '0.05', '0.44', '7.03M', '0', '0.89', '0.92', '0.02', '0.13', '0', '0.14', '0.14', '0', '0.03', '0.91', '0.15', '0.2', '0', '0.06', '0.25', '0.07', '0.11', '0.22', '0.13', '0', '0.24', '4.89', '0', '0.16', '0.4', '0.15', '0', '0', '0.38', '0.02', '0', '0.14', '0.1', '0.21', '0', '0', '0.92', '0.04', '0.19', '0.05', '0.04', '0.01', '1.41', '0.06', '0', '0', '0.12', '0.03', '0.01', '0', '0.1', '0.09', '0', '0', '1.13', '0.06', '0.35', '0', '0', '0.19', '0.21', '0.01', '0.03', '0.09', '0', '0.8', '0', '0', '0.06', '0.25', '0', '0', '0.95', '0.08', '0', '0.09', '0.22', '0.09', '0.13', '0.13', '0', '0.02', '0.03', '0.18', '0.12', '0.33', '0.37', '0', '0.05', '0.07', '0', '0.25', '0.07', '0.07', '0.1', '0.12', '0.02M', '0.46', '0.02', '0', '0.2', '0.18', '0.18', '0', '0', '0', '1.22', '0.78', '0.08', '0.2', '0.39', '0.02', '0.25', '0', '0.25', '0.03', '0', '1.53', '0.01', '0.09', '0.06', '0.04', '0.09', '0.19', '1.3', '0.13', '0.11', '0', '0.03', '0.02', '0.13', '0', '0.06', '0', '0', '0.09', '0.02M', '0', '0.23', '0.01', '0', '0', '0.36', '20K', '0.09', '0.05', '0.35', '0.06', '0', '0', '0.27', '0.11', '0.15', '0', '0', '0', '1.29', '0', '0', '0.09', '0.2', '0.02', '1.48', '0.21', '0.31', '0.96', '0', '0', '0.03', '0.32', '0.2', '0.08', '0.05', '0.11', '0', '0.12', '0.17', '0.09', '0.03', '0.01', '0', '0.07', '0.14', '0.1', '0.06', '0.28', '0.34', '0', '0.24', '0.1', '0.19', '1.22', '2.15', '0.05', '0.17', '0', '0.48', '0', '0.32', '0.07', '0.09', '0.1', '0', '0', '0', '1.24', '2.33', '0.24', '0', '1.78', '0.09', '0.93', '0.05', '0', '0.41', '0', '0.37', '1.84', '0.08', '0.02', '0.01', '0.04', '0', '0.03', '0.38', '0', '0', '0.06', '0.03', '0.05', '0.19', '0.09', '0', '0.09', '0.08', '0.04', '0.11', '0.18', '0.55', '0.49', '0', '0', '0.54', '0', '0', '0.17', '0', '0', '3.24', '0.42', '0.03', '0.33', '0.17', '1.37', '0.46', '0.03', '0.71', '0.08', '0.04', '0', '0.12', '4.01', '0.01', '0', '1.94', '0', '0.16', '0.04', '0.04', '0', '0.1M', '1.82', '0.38', '0.06', '340K', '0', '0', '0.04', '0.13', '0.03', '0', '0.5', '0.07', '0.61', '0.12', '0.4', '0.21', '0', '0', '0.16', '0.18', '0', '0', '0.1', '0.31', '0.04', '0.88', '0.03', '0.46', '0.1', '0.04', '0', '0', '0.01', '0.28', '0.03', '2.32', '0', '0.15', '0.35', '0.17', '0', '0.13', '1.03', '0.04', '0', '0.09', '0.15', '0.02', '0.72', '0', '0.06', '0.14', '0', '1.54', '0.33', '0', '0.35', '0.12', '0.28', '0.17', '0.09', '0', '0', '0.03', '0', '1.56', '0.88', '0.1', '0.68', '0.04', '1.9', '0.2', '0.05M', '0', '0.25', '0.07', '2.32', '0', '0.15', '0.04', '0.2', '0.05', '0', '0.59', '0.16', '0.36', '0.15', '0', '0.08', '0', '0', '0.02', '0', '0.03', '0', '0.13', '0.09', '0.34', '0.06', '0.03', '0.04', '0.47', '0.06', '0.01', '0', '1.87', '0.19', '0.26', '0', '0.06', '0.02', '0.08', '0', '0.58', '0.05', '0.1', '0.08', '0.13', '0.21', '0', '0.01', '0', '0.04', '0.05', '0', '0.55', '0.04', '0.13', '0.05', '0', '0', '0.54', '0', '0.09', '0.21', '0', '1.32', '0.14', '0', '0.28', '0', '0.12', '0.21', '0.1', '0', '0.27', '0', '0.03', '0.03', '0.2', '0.04', '0', '0.25', '0.1', '0.02', '0.01', '0.28', '0.25', '0.75', '0.04', '0', '0', '0.15', '0.05', '0.07', '0', '0.1', '1.93', '0.58', '0.02', '0', '0.04', '0.03', '0.12', '0.12', '0', '0', '0.37', '1.97', '3.4', '0.12', '0.09', '0', '0.24', '90K', '0.2', '0.04', '0.85', '0.52', '0.16', '0.22', '0.09', '0.11', '0.04', '0', '0.1', '0.16', '0.14', '0.86', '0', '0.04', '0', '0.11', '0', '1.33', '0', '0.06', '0.24', '0.05', '0.15', '0.06', '0.02', '0.15', '0.12', '0.03', '0.08', '0', '0.28', '0.04', '0.05', '0.14', '0.16', '0.09', '0.79', '0', '0.06', '0.24', '0.68', '0.15', '0.36', '0.23', '0.26', '0.11', '0.05', '0.15', '0.34', '2.02', '0.88', '12.78', '0.05', '0.75', '0', '1.94', '0.12', '0.29', '0.16', '0', '0.48', '0', '0', '0.08', '0.26', '0.45', '0.61', '0.4', '0.72', '0.38', '0.34', '0.05', '0.59', '0.32', '0.75', '0.03', '0.01', '0.69', '0.19', '0.01', '0.18', '0.06', '0', '0.11', '0', '0.27', '0.12', '0.24', '0', '1.36', '0.03', '0', '0.01', '0', '1.38', '0', '0.65', '0.05', '0.05', '0', '0.08', '0.05', '0.13', '0.13', '0.06', '0.19', '0.12', '0.02', '0.38', '0.43', '0.63', '0.21', '0.22', '2.21', '0.15', '0.08', '0', '0.96', '0.24', '0.18', '0.52', '0.15', '0.19', '0.09', '0', '0.11', '0.71', '0.11', '0', '0', '0', '0', '0.03', '0.41', '0.11', '0.38', '0.02', '0', '0.27', '0', '3.36', '0.02', '0.17', '0.09', '0', '0.26', '0.44', '0.75', '0.05', '0.11', '0.08', '0.31', '0.98', '0.13', '0.19', '0', '0.54', '0.18', '0.1', '0', '0.16', '0', '0', '0.31', '0', '0.13', '0.35', '0.02', '0.25', '4.75', '0.46', '0.2', '0.19', '0', '0', '0.21', '0.17', '0.03', '0', '0.1', '0.11', '0.04', '0.08', '0', '0', '0.01', '0.11M', '0.53', '0.06', '0.01', '0.1', '0.26', '0', '0.15', '0.16', '0.98', '0.05', '0.05', '0.02', '0', '0', '0.37', '0', '0.12', '0.33', '0', '0', '0', '0.09', '0', '0.55', '0.21', '0.53', '0', '0.03', '0', '0.23', '0.03', '0.07', '0.08', '0', '0.11', '0.07', '0.1', '0.37', '0.11', '0.74', '0.35', '0.02', '0.58', '0.14', '0.06', '0.3', '0.04', '2.04', '0.05', '0.25', '0.66', '0', '0.02', '0.02', '0.24', '0.06', '0.15', '0', '0', '0.17', '0', '0.02', '0.02', '0.39', '0.27', '0', '0.25', '0.05', '1.11', '0.04', '0.65', '0.1', '0.12', '0.1', '0', '0.03', '0', '0.19', '0.31', '0.04', '2.15', '0.03', '0', '0.12', '0.46', '0.2', '0.27', '0.14', '0.38', '0.13', '0.04', '0.06', '0.46', '0.03', '220K', '0.3', '0.32', '0.04', '0.25', '0', '0.02', '0', '0', '1.23', '0', '0', '0', '0.09', '0.26', '0.08', '0.16', '0.37', '0.01', '0', '0.37', '0.08', '0.11', '0.79', '0', '0.02', '0', '0.66', '0.03', '0.07', '0.11', '0', '0', '1.53', '0.12', '0.03', '1.49', '0', '0.21', '0.1', '0', '0.47', '0.03', '0', '0.29', '0.83', '0.04', '0', '0', '0.04', '0.14', '0.71', '0.21', '0.15', '0.27', '0', '0', '0', '0.22', '0', '0', '0.06', '0.11', '0.01', '0', '0.15', '0.2', '0', '0.13', '0', '0.09', '0', '0.66', '1.58', '0.17', '0', '0.01', '0.23', '0.01', '0.28', '0', '0.1', '0.46', '0.11', '0.61', '0', '0', '0.05', '0', '0', '0', '0.19', '0.04', '0.11', '0', '0', '0.14', '0', '1.08', '1.14', '0.17', '0', '0.09', '0.34', '0.09', '0', '0.21', '0', '0', '0', '0.13', '1.36', '0.11', '0', '0.03', '0', '0.03', '0.17', '0', '0.36', '0.04', '0', '0.33', '0.14', '0.49', '0.48', '0.12', '0.33', '0.04', '0.05', '1.97', '0.11', '0.23', '1.7', '0.45', '0.46', '0', '0.05', '0', '0', '0', '0.11', '0', '0.27', '0.95', '0.16', '0', '0', '0.84', '0.08', '0.05', '0.11', '0.2', '0', '0', '0.61', '0.02', '0.42', '0.35', '0.49', '0', '0.13', '0', '0.46', '0', '0.46', '0.17', '0', '0.1', '0.16', '0.02', '0', '0.48', '0.05', '0.09', '0.64', '0.06', '0.05', '0.03', '0.17', '0', '0.35', '0', '0', '1.87', '0.25', '0.02', '0.04', '1.78', '0.23', '0.04', '0.08', '0', '0', '0.55', '0.18', '0.03', '0', '0', '0.08', '1.43', '1.05', '0.23', '0.08', '0.1', '0.09', '0.13', '1.03', '0.46', '0', '0.17', '3.27', '0.07', '0.01', '0', '0.19', '600K', '0.35', '0', '0', '0.08', '0', '0.3', '0', '0.93', '0.54', '0', '0.03', '0.82', '0.05', '0.11', '0.56', '0.88', '0.01', '0.42', '0.01', '0.47', '1.25', '0.08', '1.65', '0', '0.03', '0.22', '0.21', '0.03', '0.27', '0', '0.77', '0', '0', '0.1', '0', '0.03', '0.07', '0', '0.95', '1.15', '0', '1.45', '0', '0.03', '0.14', '0.05', '1.96', '0.06', '0.13', '0.02', '0.29', '0.05', '0', '0.03', '0.07', '0.08', '0.06', '0.01M', '0.31', '0.14', '0.24', '0.06', '0.1', '0.08', '0', '0', '0.46', '0.03', '0.3', '0.06', '0.03', '0.21', '0', '0.11', '0.1', '0.02', '0.08', '0.04', '0.2', '0.05', '0.23', '0', '0', '0.38', '0.91', '0', '0.45', '0', '0', '0.07', '0.06', '0.36', '0', '0.09', '0.07', '0.08', '0.6', '0.07', '0.4', '0.31', '0.08', '0', '0.19', '0.04', '0.31', '0', '0.23', '0', '0.36', '0.17', '0.03', '0.19', '0.11', '0.14', '0.06', '0.29', '0', '0.03', '0.46', '0.08', '0', '0.01', '0', '0', '0.26', '0.07', '0.09', '0.04', '0.09', '0.06', '0', '0.38', '0.13', '0', '0.03', '0', '0.06', '0.14', '0.49', '0.19', '0', '0', '0.09', '0.04', '0.06', '0.08', '0', '0.03', '0.15', '0.43', '0.19', '1.68', '0.46M', '0.02', '0', '0.03', '0.14', '0.37', '0.01', '0', '0.3', '0.15M', '0.13', '0.04', '0.18', '0.18', '0', '0.09', '0.05', '0.21', '0', '0.04', '0.01', '0', '0.09', '0.07', '0.17', '0', '0.25', '0.11', '0.32', '0.03', '0', '0.57', '0', '0.04', '0.13', '0.2', '0.87', '0.04', '0.08', '0.42', '0', '0', '0.6', '0', '0.11', '1.2', '0.17', '0.08', '0', '0.04', '0.16', '0.07', '0.03', '0', '0', '0.36', '0', '0', '0.81', '0.06', '0.03', '0.12', '0', '0', '0.4', '0', '0', '0.13', '0.79', '0.03', '0.09', '0.19', '0.41', '0', '0.43', '1.13', '0.07', '0.61', '0.14', '0.08', '0.01', '0.07', '0', '0.74', '0', '1.04', '0', '0', '90K', '0', '0.02', '0', '0.07', '0', '0', '0', '0.17', '0.06', '0', '0.38', '0.11', '0', '0', '1.68', '0.34', '0', '0', '1.16', '0.16', '0.21', '0', '0.31', '0.49', '0.14', '0.05', '0.04', '0.29', '0.03', '0.07', '0', '0.13', '0.1', '0.04', '0.07', '0.2', '0.22', '0.16', '0.18', '0.03', '0.03', '0.02', '0', '0.04', '0', '0.01', '0.04', '0', '0.3', '0', '0.14', '0.14', '0.22', '0.14', '0.09', '0.09', '0.08', '0.08', '0', '0', '0', '0.47', '0.07', '0.12', '0.09', '0.06', '0.05', '0.08', '0', '0.11', '0.13', '0M', '0.2', '0', '0.47', '0', '0.09', '0', '0.04', '0.35', '0.54', '0.36', '0.13', '0.35', '0.03M', '0.37', '0.14', '0', '130K', '0', '0.02', '0', '0', '0', '0', '0', '0.29', '0M', '0', '0.49', '0.03', '0.08', '0.1', '0.26', '0', '0.28', '0', '0.22', '0.1', '0.05', '0.02', '0', '0.29', '0', '0.02', '0.07', '0', '0', '0.03', '0.03', '0', '0.04', '0.06', '0', '0.06', '0.05', '0.08', '6.76', '0.05', '0', '0.2', '0.99', '0', '0.03', '0.1', '0.03', '2570K', '0.07', '0.06', '0.19', '0', '0', '0.15', '0.2', '0', '0', '0.24', '0.11', '0.05', '0.17', '0', '0', '0.03', '0', '0.19', '0', '0.62', '0.07', '0.06', '0', '0.26', '0', '0.01', '0.03', '0.06', '1.67', '0', '0.06', '3', '0.07', '0.08', '0.04', '0.02', '0', '0.29', '0.84', '0.02', '0', '0.99', '0.08', '0.8', '0.08', '0', '0.07', '0.1', '0.07', '0.17', '0.35', '0.05', '0', '0.16', '0.01', '0', '0.21', '0.07', '0.03', '0.1', '0', '0.2', '0', '0.29', '0.01', '1.43', '0', '0.02', '0.4', '0.01', '0.15', '0.07', '0.12', '0.3', '0', '0.36', '0.02', '1.73', '0.11', '0', '0.72', '4.05', '0.17', '0', '0.29', '0', '1.07', '0', '0', '1', '0', '0.23', '0', '0.06', '1.2', '1.73', '0.09', '0', '0.26', '1.43', '0.1', '0', '0.45', '0.22', '0.19', '0.07', '0.03', '0', '0.03', '0.16', '0', '0', '0.15', '0', '0.2', '0.03', '0', '1.36', '0.17', '0.01', '0.03', '0.03', '0.13', '0.01', '0.07', '0', '0.05', '0.16', '1.99', '1.56', '0.44', '0.04', '2.18', '1.08', '0', '0.65', '0.05', '0', '0.13', '0.2', '0', '0.17', '0.15', '0M', '0', '0.23', '0.04', '0', '0', '0.19', '0.05', '0', '0.16', '0', '0.11', '0.56', '0.17', '0.25', '0.07', '0.06', '0.04', '0', '0.05', '0.26', '0.03M', '0.14', '0.04', '0.05', '0.15', '0.06', '0.31', '1.35', '0.33', '0', '0.23', '0.03', '1.54', '0.23', '0.01', '0.01', '0', '0.06', '0.12', '0.11', '5.54', '0', '0.04', '0.26', '0', '0.17', '0.12', '0.57', '0.16', '0.33', '0.05', '0', '0.02', '0.01', '0.08', '0', '0.06', '0.06', '0.44', '0.06', '0.15', '1.64', '0.64', '0', '0.02', '0', '0.06', '0', '0.67', '0', '0.02', '0.15', '2.26', '0', '0.4', '0', '0', '0.51', '0', '0.11', '0.02', '0.16', '0', '0.07', '0', '0.54', '0.45', '0', '0.04', '0.22', '0.25', '0.03', '0.05', '0.27', '0', '1.66', '0.11', '0.06', '0.19', '0', '30K', '0.03', '0', '0', '0.42', '0', '0', '0', '0.13', '0.53', '0', '0', '0.05', '0.39', '0', '0.01', '0.17', '3.54', '0.02', '0', '0', '0.03', '0', '0.16', '0.22', '0', '0.08', '0.32', '0.05', '0', '0.06', '0.05', '0.04', '0.01', '0.08', '0.08', '0.39', '0', '0', '0.72', '0.55', '0.02', '0.11', '0', '0.29', '0', '0.28', '0.39', '0.19', '0.51', '0.94', '0', '0.14', '0.07', '0.08', '0.13', '0', '0.08', '0.35', '0.02', '0.17', '0.01', '0.72M', '2.75', '0.08', '0.05', '0.33', '0.12', '0', '1.48', '0', '0', '0.32', '0.07', '0', '0.74', '0', '0.23', '0.75', '0.03', '0.68', '0.34', '0.21', '0.14', '0.72', '0', '0', '0', '0.02', '0', '1.67', '0.05', '0', '0.17', '0.06', '0.04', '0.04', '0.18', '0.06', '0', '0.04', '0', '0.24', '0.07', '0', '0', '0', '0', '0', '0', '1.05', '0.08', '40K', '0.31', '0.06', '0.07', '0.09', '0.1', '0.06', '0.26', '0.2', '0.1', '0.05', '0.05', '0.05', '0.21', '0.6', '0.07', '0.04', '0.23', '0.03', '1.45', '0.22', '0', '0.2', '0', '0.67', '0.11', '0.45', '2', '0.67', '0.05', '0.17', '0.11', '0', '0.11', '0.24', '0', '0.27', '0.42', '0.07', '0', '0.05', '0.03', '0.22', '1.04', '2.71', '0.05', '0.07', '0.03', '0.06', '0.05', '0.04', '0.01', '0.8', '0.13', '0.05', '90K', '0.22', '0.06', '0', '0.08', '0.91', '0.13', '0.1', '0', '0.01', '0.1', '0.29', '0.31', '0.04', '0.29', '0', '0.07', '0.06', '0.03', '0.08', '0', '0.32', '0', '0.36', '0.53', '0', '0.03', '0', '0.05', '1.34', '0.18', '0.39', '0.01', '0.06', '0.01', '0.04', '0.13', '0', '0.12', '0.09', '0.14', '0', '0.1', '0.15', '0.09', '0.27', '0.25', '0.1', '0.81', '0.07', '0.11', '0.35', '0.15', '0.13', '0.01', '0', '1.01', '0.2', '0.47', '0', '0.08', '0', '0.32', '40K', '0', '0.08', '0', '0.06', '1.34', '0.02', '0.01', '0', '0.27', '0', '0.18', '0', '0.1', '3.21', '0.01', '0.03', '0.42', '0.05', '0.02', '0.2', '0.08', '0.01', '0.11', '0.04', '0.11', '0.01', '0.15', '0.09', '0', '0.4', '0.03', '0', '0', '0', '0', '0K', '0.06', '1.51', '0.02', '0.61', '0.01', '0.04', '1.55', '0', '0', '0.09', '0.18', '0.39', '0', '0.13', '0.03', '0', '0', '0.57', '0.03', '0', '0.3', '1.2', '0.05', '0.08', '0', '0.1', '0.07', '0M', '0.1', '0.08', '0', '0.23', '0', '0.44', '0.1', '0', '0.01', '0.02', '0', '0.02', '0.25', '0', '0.01', '0.07', '0.1', '0', '0.35', '0.38', '0.09', '0.03', '0', '0.25', '0', '0.04', '0.6', '0', '0.31', '0.04', '1.09', '0', '0.32', '0', '0.26', '0', '1.16', '0.18', '0', '0.09', '0.06', '0', '0.01', '0', '0', '1.25', '0.09', '0.97', '0.27', '0.11', '0.02', '0.37', '0.04', '0.11', '0.07', '0.02', '0.59', '0.12', '0.13', '0.05', '0.04', '0.03', '0.01', '0.21', '0.22', '0.15', '0', '0.54', '0.36', '0.46', '0.19', '0.23', '0.01', '0.01', '0', '0', '0.46', '0.36', '0.03', '0.03', '0', '0', '0.01', '0', '0.06M', '0.09', '0', '0.06', '0.01', '0.25', '0', '0.14', '0.01', '0', '0.19', '0', '0.48', '0.05', '0.12', '0.09', '0', '6.63', '0.08', '0.1', '0.01', '0.13', '0.03', '0.23', '1.23', '0', '0.29', '0.08', '0.04', '0.28', '0.13', '0', '0.07', '0.04', '0.21', '0.11', '0.42', '0.19', '0.16', '0', '1.43', '1.74', '0.07', '1.57', '0', '0.38', '0', '0', '0.23', '0', '0', '0.08', '0.08', '0.11', '0.02', '0.06', '0.09', '0.15', '0.16', '0.09', '0.14', '0', '0.03', '0.26', '1.41', '0.07', '0', '0.18', '0.1', '0.37', '0.22', '0K', '0.55', '0.03', '0', '0', '0.68', '0.16', '0', '0.1', '0', '0.89', '0.2', '0.19', '0.15', '0', '0.04', '0.23', '0.16', '0.03', '0.05', '0.5', '0.03', '0.05', '0.19', '0', '0.33', '0.15', '0.14', '0.01', '0.06', '0.11', '0', '0.11', '1.11', '0', '3.01', '0.05', '0.07', '0', '9.43', '0.03', '0.87', '0.13', '0.21', '0', '0.06', '0', '0.16', '0.19', '0', '0', '0', '0', '0.44', '0.32', '0.13', '0.02', '0.76', '0.13', '0.09', '0.23', '0.17', '0', '0', '0', '0.12', '0', '0.32', '0.1', '0.24', '0.05', '0.25', '0', '0.07', '0.09', '0', '0', '0.11', '0.04', '0.04', '0.05', '0', '0.15', '0', '0.02', '0.07', '0.42', '0.03', '0', '0', '0.08', '0.11', '0.9', '0.08', '0.71', '0.16', '0.48', '0', '0.04', '3.03', '0.02', '0.34', '0.17', '0', '0', '0.45', '0', '0', '0.87', '0.02', '0', '0.28', '0', '0', '0.04', '0.57', '0.65', '0', '0', '0', '0.52', '0.13', '1.85', '0', '0.34', '0.22', '0', '0K', '0.01', '0', '0', '0.08', '0.01', '0.01', '0', '1.17', '0', '0.24', '0.12', '0.85', '0.03', '0.42', '0.43', '0', '0.08', '0.01', '0.33', '0.1', '0.03', '0.04', '0.06', '0.16', '0.1', '0.11', '0.2', '0', '3.5', '1.03', '0.03', '0.16', '0.01', '0.4', '0', '0', '0.46', '0', '0.07', '0.07', '0', '0.14', '0.23', '0.11', '0', '0.64', '0.02', '0', '0.1', '0.19', '0.36', '0.03', '0.06', '0.08', '0.33', '0.03', '0.02', '0.22', '0.02', '0.01', '0.05', '0.11', '0.67', '0', '1.37', '2.7', '1.63', '0.38', '0', '0.03', '0.12', '0.2', '0.16', '0.15', '0', '0.08', '0.34', '0', '0.06', '0', '0', '0.96M', '0', '0', '0.42', '0.02', '0.2', '0', '0.41', '0.46', '0.26', '0.33', '0.19', '0', '0.04', '0.18', '0', '0', '9.54', '0.09', '0', '0.08', '0.21', '0', '0.3', '0.26', '0.39', '0', '0.26', '0', '0.03', '0.13', '0.08', '0.07', '0.02', '0.17', '0.24', '0', '0.01', '0.06', '0.14', '1.72', '0.08', '0', '0.09', '0', '0', '0.05', '0', '0.06', '2.03', '0.09', '0', '0.23', '0', '0.47', '0.06', '0.39', '1.22', '0.1', '0', '0', '0.15', '0', '6.75', '0.34', '0', '0.04', '0.15', '0.37', '0.04', '0.92', '0.29', '0.07', '0.2', '0.18', '0', '0.07', '0', '0.39', '3.63', '0.08', '0', '0.07', '0.03', '1.76', '0.33', '0', '0.21', '0', '0', '0.03', '0.35', '0.73', '0.02', '0', '0', '0', '0.56', '0.1', '0', '0.05', '1.38', '0.09', '0.34', '0', '0', '0.11', '0', '0.09', '0.13', '0.03', '0', '0.26', '0', '0', '0', '0.28', '0.18', '0.58', '0.02', '0', '0.05', '0', '0', '0.16', '0', '0', '0.13', '0.03', '0.04', '0.85', '0.18', '0.2', '1.06', '0.02', '0', '0.09', '0', '0.31', '1.92', '0.18', '0.27', '0', '0', '0.42', '0.45', '0.99', '0.13', '0.84', '0.15', '0.53', '0.37', '0.1', '0.01', '0.77', '0', '0', '0.24', '0.08', '0', '0', '0', '0.13', '0.11', '0.52', '0.07', '0.02', '1.02', '2.21', '0.19', '0.05', '0.04', '0.13', '2.56', '0.25', '0.03', '0', '0.3', '0.03', '0', '0.05', '0.08', '0.08', '0.04', '0.37', '0.05', '0.26', '0.08', '0.08', '0.28', '0.1', '0', '0', '0.35', '0', '0.02', '0', '0.44', '0.06', '0.04', '0.29', '0', '0.01', '0.16', '0.05', '0.39', '0.33', '0', '0', '0.17', '0.53', '0.02', '0.02', '0.06', '0', '0', '0.06', '0', '0.05', '0.01', '0.1', '0.12', '0', '0', '0.05', '0.16', '0.09', '0', '0.09', '0.2', '0.11', '0.12', '0.07', '0.02', '0', '0', '0', '0', '0.01', '0.29', '0', '0.13', '0', '0.17', '0.02', '0.82', '0', '0.11', '0', '270K', '0', '0.42', '0.25', '0', '0.02', '0', '1.06', '0.14', '0.05', '0.22', '0.16', '0.16', '0.19', '0.15', '0.02', '0.24', '0', '0.67', '420K', '0', '0.08', '0.05', '0K', '0.35', '0.13', '0.06', '0.04', '0.1', '0', '0.09', '0.34', '0', '0.11', '0.37', '0.06', '0.29', '0.03', '1.88', '0.02', '0', '0', '0.1', '0.14', '0.02', '0', '0.72', '1.9', '0.03', '0.73', '0', '0', '0.47', '0', '0', '0.1', '0.1', '0.06', '0', '0.22', '0.45', '0.13M', '0', '0.38', '0.29', '0.09', '0.15', '0.2', '0', '0.09', '0.16', '0.04', '0', '0.45', '0.29', '0', '0.07', '0.05', '0.03', '1.41', '0.03', '0.8', '0.13', '0', '0.21', '0.29', '0', '0.1', '0', '0.24', '0', '0.09', '0', '0.96', '0.14', '0.01', '3.36', '0', '0.02', '0.23', '1.2', '0.03', '0.01', '0.22', '0', '0.51', '0.29', '0.1', '0.09', '0', '0.37', '0.03', '0.4', '0.27', '0.25', '0.27', '0.14', '0.01', '0.01', '0', '0.13', '0.03', '0', '0.58', '0.61', '0.16', '0.05', '0.32', '0.14', '0', '0.06', '0.54', '0.3', '0.03', '0.07', '0', '0.26', '0', '0.13', '0.31', '0.53', '0.12', '0.24', '0.15', '0.4', '0', '0.03', '0.25', '0.07', '0.02', '0', '0', '0.02', '0.2', '0.49', '0.07', '0', '0.05', '0.24', '1.15', '0.23', '0', '0.35', '0.15', '0.05', '2.03', '0', '0', '0.29', '0.13', '0.11', '0.31', '0.1', '0.06', '0.41', '0.03', '1.92', '3.81', '0.08', '0', '0', '0', '0', '0', '0', '0.09', '0.06', '0', '0.09', '1.25', '0.13', '0', '0', '0', '0.01', '0.45', '0', '0.11', '0.01', '0.02', '0.64', '0', '0.35', '1.99', '0', '0.05', '2.14', '1.05', '0.5', '0.06', '0.04', '0.01', '0', '0.06', '0.19', '0.08', '0.04', '0.14', '0.15', '0.71', '0.32', '0', '0.09', '0.28', '0', '1.4', '3.21', '0.06', '0.87', '0.51', '0.45', '0', '0.41', '0', '0.18', '0.19', '0.03', '0.09', '0', '0', '0.1', '0.06', '0', '0.21', '0.09', '0', '0.03', '0.51', '0.1', '0', '0.13', '0.01', '0K', '0.1', '0.4', '0.17', '0', '0', '1.08', '0.1', '0.12', '0', '0.1', '0.84', '0.26', '0.04', '0.17', '0.02', '0.09', '0.41', '0.63', '0.43', '0.17', '0.26', '0.09', '0.02', '0.18', '0.26', '0.83', '0.07', '0.87', '0.29', '0.27', '0.07', '0.12', '0', '0.05', '0.95', '0', '0', '0', '0.06', '0.06', '0', '0.27', '0.15', '0', '0.13M', '0', '0', '0', '1.29', '0.36', '0', '0.15', '0', '0', '0.3', '0.14', '0', '0.46', '0.15', '0.06', '0.05', '0.08', '0.17', '0.44', '0.04', '0.09', '0.02', '0.56', '0.28', '0.03', '0', '0.05', '0', '0.28', '0.07', '0', '0', '0.53', '0.18', '0.86', '1.05', '0.12', '0.17', '0.02', '0.06', '0.2', '0', '0.06', '0.73', '280K', '0.13', '0.71', '0.08', '0.04', '0', '0.08', '0.86', '0', '0.38', '0.29', '0.32', '0', '1.16', '0.12', '0', '0.03', '0', '0', '0.06', '0.36', '0.28', '0.04', '0.48', '0.06', '0.16', '0.12', '0', '1.04', '0', '0.03', '0.03', '0.23', '0.81', '0.08', '0', '0.06', '0', '0.26', '0.07', '0', '0.56', '0.02', '0.13', '0', '0', '0.14', '0.55', '0', '0.19', '0.18', '0.28M', '0', '0.16', '0', '0.41', '0.39', '0', '0.35', '0.45', '0.49', '0.08', '0', '0.25', '0', '0.13', '0', '0.07', '0.02', '0.06', '0.08', '0.64', '0.03', '0.26', '0.19', '0', '0.15', '0', '2.62', '0.07', '0.85', '0.04', '0.23', '0.1', '0.21', '1.1', '0', '0', '0.11', '0', '0.33', '0.03', '0.22', '0.43', '0.03', '0', '1', '0.2', '0', '0.2', '0.24', '0.04', '0.09', '0.3', '0.12', '1.29', '0.07', '0', '0.09', '0', '0', '0', '0', '0', '0', '0.15', '0.02', '0.1', '0.12', '0', '0.12', '0', '0.96', '0.14', '0.46', '0.02', '0.05', '0', '1.75', '0.1', '0.02', '0', '0.2', '0.01', '0', '0', '0.37', '0.96', '0', '0', '0.09', '0.02', '0.04', '0', '0', '0.06', '0.03', '0.27', '0.37', '0.1', '0', '0.1', '0', '0', '0', '0.2', '0.67', '0', '0.05', '0.22', '0', '0.71', '0', '0.2', '0.77', '0.04', '0', '0K', '0.38', '0.05', '0.07', '0', '0.13', '0.1', '0.26', '0.01', '0.43', '0.07', '0', '0.06', '0.17', '0.06', '0.06', '0.02', '0.14', '0', '0.05', '0.09', '0', '0', '0.29', '0', '30K', '0', '0.09', '0', '0', '0.19', '2.79', '0.28', '0.16', '0.01', '0', '0.09', '0', '1.26', '0.22', '0.22', '0.28', '3.13', '0.14', '0.08', '0', '0.71', '0', '0.4', '0', '0K', '0.18', '0.05', '0', '0', '0.01', '0.14', '0.4', '0', '0.4', '0.01', '0', '0.22', '0.2', '0', '0.01', '0.15', '0.14', '0.09', '0.09', '0.16', '0', '0.1', '0.08', '0.04', '0.06', '0.29', '0', '0.09', '0', '1.05', '2.91', '0.23', '0', '0.11', '0.05', '0.04', '1.72', '0', '0.25', '0.02', '0.44', '0.17', '0.33', '0.04', '0.08', '0', '0.12', '0.02', '0.05', '0.44', '0.07', '0.07', '0', '0', '0', '0.03', '0.03', '0.41', '0', '0', '0.02M', '0', '0.14', '0', '0.13', '0.12', '0.29', '0.18', '0', '0.07', '0.05', '1.22', '1.22', '0', '0.03', '0.07', '0.1', '0', '0.13', '0.26', '0.58', '0.35', '0', '0.14', '0.03', '0.31', '0.08', '0.05', '1.55', '0.49', '0.72', '0.24', '0', '0.02', '0', '0.16', '0', '0', '0', '0', '0', '1.52', '0', '0.11', '0.08', '0.14', '0.06', '0.45', '0.09', '0.02', '0.04', '0.74', '0', '0.82', '0.12', '0.1', '0.28', '0', '0', '0.1', '0.13', '0.03', '0.1', '0', '0.09', '0.07', '0.21', '0.11', '0.01', '0.1', '0.09', '0.03', '0.09', '0.11', '0', '0.01', '0.14', '0.06', '0.34', '0.36', '0', '0', '0.06', '0.58', '0', '0.24', '0.15', '0.04', '0', '0.15', '0.13', '0', '0', '0', '0', '0.22', '0.83', '0.01', '0.22', '0', '0.86', '0.09', '0.02', '0', '0.78', '0.12', '0.08', '0.16', '0.04', '0.01', '0.27', '0.36', '0.03', '0.34', '0', '0', '0.01', '0.03', '0.35', '0.25', '0.17', '0', '0.02', '0.03', '0', '0.15', '0.12', '1.18', '0', '0.09', '0.64', '0.35', '0.03', '0', '0', '0', '0.06', '0', '0.01', '0.14', '0', '0.25', '0.38', '0', '0.32', '0.04', '0.39', '0.65', '0', '0.25', '0.09', '0', '0.01', '0.06', '0.02', '0.06', '0.94', '0', '0', '0.14', '0.89', '0.21', '0.03', '1.51', '0.63', '0.13', '0', '0.22', '0.09', '0', '0', '0.35', '0.36', '0.08', '0.06', '0.03', '1.98', '4.21', '0.16', '0', '0', '0.14', '0.03', '0.45', '0.05', '0.09', '1.85', '0.16', '0.31', '0.01', '0.1', '0.08', '0', '0.46', '0.4', '0', '1.47', '0.04', '0.41', '0.06', '0.17', '0', '0', '0.01', '0.59', '0', '0.07', '0', '0.35', '0', '0', '0.31', '0.2', '0.01', '0.08', '0.09', '0.09', '0', '0.14', '0', '2.23', '0.07', '0', '0.05', '0', '0.73', '0.07', '0.36', '0', '0.15', '0.21', '0.05', '0.61', '0.19', '0', '1.25', '0', '0.24', '0.19', '0', '0.44', '0.19', '0', '0.07', '0.14', '0', '0.17', '0.02', '0.03', '0', '0.06', '0.11', '0', '0.29', '0.09', '0.13', '0.58', '0.08', '0.06', '0.13', '0.25', '0.15', '0.06', '0.33', '0.58', '0', '0', '0', '0.16', '0.24', '0', '0', '0.36', '4.52', '0.21', '0', '0', '0', '0M', '0', '0.05', '0.08', '0', '0.04', '1.41', '0.35', '0.07', '0.05', '1.29', '0', '0.15', '0.05', '0.14', '0.22', '0.03', '0.38', '0.36', '0', '0.01', '0', '0', '0.37', '0.44', '0.18', '0.12', '0.16', '0.23', '0.07', '0', '0.06', '0', '0.1', '0.07', '0.03', '0.06', '0', '0.05', '0', '0.03', '0', '0.05', '0.07', '0.24', '0.3', '0.47', '0.15', '0.03', '0', '0.02', '0', '0.23', '0.09', '0.09', '0.17', '0.15', '0.03', '0.45', '0', '0.41', '0', '0.18', '0.4', '0', '0.02', '0', '0.44', '0', '0.06', '0.08', '0.05', '0.18', '0.09', '0.44', '0', '0.92', '0.02', '0.22', '0.02', '0.2', '0', '0.04', '0.14', '0.23', '0.1', '0.21', '0.09', '0.39', '0.1', '0', '0.15', '0.44', '0.09', '0', '0.03', '0', '0.04', '0', '0.05', '0', '0.18', '0.1', '0.17', '0.17', '0.14', '0.08', '0.02', '1.15', '0.08', '0.01', '0.24', '0.93', '0.02', '0.04', '0', '0', '0.01', '0.9', '0', '0.1', '0.01', '0.03', '1.57', '0.3', '0.16', '0.71', '0.06', '0.23', '0.03', '0', '0', '0.21', '0.07', '0.02', '0', '0.31', '0.32', '0.19', '0.46', '0', '0.6', '0', '0.03', '0', '0', '0', '0', '0.08', '0.4', '0', '0.85', '0.94', '0.05', '0.13', '0.82', '0.88', '0.47', '0.24', '0', '0.27', '0.03', '0.17', '0.24', '0', '0.09', '0M', '0.12', '0.39', '0.25', '0.15', '0.2', '0.25', '1.89', '0.16', '0.02', '0.02', '0', '0', '0.4', '0', '0.03', '0', '0.45M', '0.14', '0.02', '0.19', '0.22', '0.21', '0.02', '0.07', '0', '0.04', '0.06', '0.31', '0.92', '0.09', '0.34', '0.08', '0.06', '0.19', '0.01', '0', '0.27', '0.04', '0', '0.27', '0.71', '120K', '0.24', '0', '0.08', '0', '0.3', '0.12', '0', '0.4', '0.23', '0.05', '0.62', '0.04', '0.24', '2.14', '0.13', '0.21', '0.12', '0', '0', '0', '0.13', '0.03', '0', '0.13', '0.76', '0', '0', '0.79', '0.05', '0.04', '0.05', '0.21', '2.09', '0.05', '0.37', '0', '0', '0.05', '0', '0.45', '0.65', '0', '0', '0.05', '0.16', '0.01', '0.19', '0.09', '0.36', '0', '0', '0.39', '0.75', '0', '0.44', '0.25', '0.04', '0.17', '0.01', '0.05', '0.62', '0', '0.12', '0.17', '0.04', '0.21', '0.04', '0', '0.33', '0', '0.1', '0.05', '0', '0.16', '0', '0.48', '0.22', '0.31', '0', '0', '2.36', '2.79', '1.73', '0.7', '1.46', '0.82', '0.01', '0.65', '0.1', '0.11', '0.04', '0.07', '0', '0', '2.45', '0.66', '0.03', '0.06', '0.08', '0.69', '0.06', '0', '0.13', '1.67', '0.03', '1.02', '0.08', '0', '0.25', '0', '0.01', '0.35', '0', '1.11', '0.01', '0.66', '0.11', '0.25', '0.01', '0.12', '0.08', '0.04', '0.26', '0.03', '0', '0', '0.1', '1.06', '0.01', '0.14', '2.23', '0', '0.1', '0.23', '0.07', '720K', '0.06', '1.33', '0.1', '0.03', '0', '0.19', '0.17', '0', '0', '0', '0', '0', '0.01', '0', '0.07', '0.8', '0.01', '0.07', '0', '0.17', '0.01', '0.12', '0.2', '0.19', '0', '0', '0', '0.01', '0.14', '0.06', '0.62', '0.04', '1.22', '0.32', '0', '0', '0', '0', '0.13', '0', '0.01', '0.05', '0.09', '0.18', '0', '0', '0', '0', '0.02', '0.82', '0.46', '0.15', '0.55', '0.09', '0', '0.08', '0', '0', '0.08', '0.04', '0', '0.05', '0.93', '0.01', '1.24', '0.12', '0.11', '0.38', '0', '0.12', '0.25', '0.02', '2.89', '0.09', '0.36', '0.03', '0.26', '0.53M', '0.16', '0', '0', '0.14', '1.87', '0.13', '0.78', '0.07', '0', '0', '1.02', '0.05', '0.31', '0.1', '0.01', '0', '0.06', '0.51', '0', '0', '0', '0.11', '0.13', '0.13', '0.01', '0', '0.04', '0.08', '0.08', '0.12', '0.59', '0', '0', '1.57', '0.01', '0.19', '0.31', '0', '0.09', '0.22', '0', '0.28', '0.06', '0.15', '0.08', '0.15', '0.07', '0.44', '0.12', '0.05', '0.49', '0.18', '1.74', '0', '0.04', '0.15', '0.09', '0', '0', '0', '0', '0.67', '0', '0.76', '0.04', '0.14', '4.76', '0.12', '0.01', '0', '1.56', '1.18', '0.14', '0M', '0', '1.12', '0.33', '0.09', '0', '0', '0', '0.16', '0', '470K', '0', '0.31', '0', '0', '0.14', '0', '0', '0', '0.01', '0.07', '1.97', '0.4', '0', '0', '0.08', '0.04', '0.19', '0', '0', '0.08', '1.47', '0', '3.66', '0.5', '0.12', '0.06', '0', '0.04', '0.16', '0.01', '0', '0.04', '0.01', '0.6', '0', '0', '0.56', '0.25', '14.59', '0.13', '0', '0.03', '0', '0.13', '0', '0.9', '0.22', '0', '0.23', '0', '0.14', '1.75', '0.72', '0.63', '0.36', '0.09', '0.2', '0.29', '0.16', '2.66', '0', '0', '0', '0', '0.06', '0.02', '0.16', '0.07', '0.02', '0.06', '0.51', '0.18', '0', '0.12', '0', '0', '0', '0.2', '0', '0.11', '1.26', '0.11', '0.36', '0', '0.2', '320K', '0.05', '0', '0.13', '0.01', '0.91', '0.06', '0.24', '0', '1.38', '0.07', '0', '0', '4.18', '0', '0.15', '0.01', '0.44', '0.05', '0']\n"
          ],
          "name": "stdout"
        }
      ]
    },
    {
      "cell_type": "code",
      "metadata": {
        "colab": {
          "base_uri": "https://localhost:8080/"
        },
        "id": "R4CNTRuYRnDm",
        "outputId": "d0a27a7a-856b-4505-84c2-d1ef2b8c7196"
      },
      "source": [
        "#1. M 없애기\n",
        "def remove_M(df):\n",
        "  no_m_list = []\n",
        "  for i in df:\n",
        "    x = i.replace('M','')\n",
        "    no_m_list.append(x)\n",
        "  df = no_m_list\n",
        "  return df\n",
        "\n",
        "df['NA_Sales'] = remove_M(df['NA_Sales'])\n",
        "df['EU_Sales'] = remove_M(df['EU_Sales'])\n",
        "df['JP_Sales'] = remove_M(df['JP_Sales'])\n",
        "df['Other_Sales'] = remove_M(df['Other_Sales'])\n",
        "\n",
        "print(df[['NA_Sales','EU_Sales']].head(20))\n",
        "print(df[['JP_Sales','Other_Sales']].tail(20))"
      ],
      "execution_count": 138,
      "outputs": [
        {
          "output_type": "stream",
          "text": [
            "                                                   NA_Sales EU_Sales\n",
            "Name                                                                \n",
            "Candace Kane's Candy Factory                           0.04        0\n",
            "The Munchables                                         0.17        0\n",
            "Otome wa Oanesama Boku ni Koi Shiteru Portable            0        0\n",
            "Deal or No Deal: Special Edition                       0.04        0\n",
            "Ben 10 Ultimate Alien: Cosmic Destruction              0.12     0.09\n",
            "Power Pro Kun Pocket 8                                    0        0\n",
            "JASF: Jane's Advanced Strike Fighters                  0.02     0.01\n",
            "Samurai Warriors: State of War                         0.07        0\n",
            "Imabikisou                                                0        0\n",
            "The Penguins of Madagascar: Dr. Blowhole Return...     0.04     0.03\n",
            "Ford Racing                                            480K     0.33\n",
            "Harvest Moon: More Friends of Mineral Town             0.14     0.05\n",
            "Mount & Blade                                             0     0.02\n",
            "The Professor's Brain Trainer: Logic                   0.02        0\n",
            "Zoids Dash                                                0        0\n",
            "Mini Ninjas                                            0.14     0.16\n",
            "Rise of Nations                                        0.01     0.02\n",
            "Hajime no Ippo: The Fighting! (2014)                      0        0\n",
            "Grand Kingdom                                          0.02        0\n",
            "Tropico Reloaded                                          0     0.02\n",
            "                                              JP_Sales Other_Sales\n",
            "Name                                                              \n",
            "Gex: Enter the Gecko                                 0        0.04\n",
            "Super Ghouls 'n Ghosts                               0           0\n",
            "Captain Morgane and the Golden Turtle                0           0\n",
            "LEGO The Hobbit                                      0        0.02\n",
            "Shanghai: True Valor                                 0           0\n",
            "LEGO Indiana Jones 2: The Adventure Continues        0        0.13\n",
            "Bionicle Heroes                                      0           0\n",
            "Pokemon Channel                                   0.07        0.01\n",
            "Jikkyou Powerful Pro Yakyuu 2000 Ketteiban        0.08        0.01\n",
            "Need for Speed Underground 2                         0         0.1\n",
            "MindJack                                             0        0.03\n",
            "Namco Soccer Prime Goal                           0.12        0.01\n",
            "White Album: Tsuzurareru Fuyu no Omoide           0.05           0\n",
            "Madden NFL 2005                                   0.01         80K\n",
            "Minna no Chizu 2                                  0.02           0\n",
            "Ice Age 2: The Meltdown                              0        0.01\n",
            "Rainbow Islands: Revolution                          0           0\n",
            "NBA 2K16                                          0.03        0.13\n",
            "Toukiden: The Age of Demons                       0.25        0.03\n",
            "The King of Fighters '95                          0.16        0.01\n"
          ],
          "name": "stdout"
        }
      ]
    },
    {
      "cell_type": "code",
      "metadata": {
        "id": "bHp75E_vOOud"
      },
      "source": [
        "## K => M단위로 처리하기 (K 없애기 > 수치화 > *1000 > 나누기 1000000)\n",
        "\n",
        "'''\n",
        "K를 다 없앤 후에는 뭐가 K가 붙어 있던 애인지 모름 >> K있는 애들만 뽑아서 그래서 한번에 해줘야함. \n",
        "'''\n",
        "\n",
        "#얘 보고 다시 생각하기 \n",
        "''' \n",
        "for i in df['NA_Sales'].values : #해당 feature의 값들만 가지고 뽑아낼 수 있음 (column 통으로 가져왔을 때 안됐고(series), 리스트에 넣어서 가져와도 안됐음)\n",
        "  if 'K' in i:\n",
        "    for i in df['NA_Sales'].values:\n",
        "      x = i.replace('K','')\n",
        "      x_num = float(x)\n",
        "      x_to_M = (x_num*1000)/1000000\n",
        "  else:\n",
        "    pass\n",
        "'''\n",
        "\n",
        "def remove_K(df):\n",
        "  no_k_list = []\n",
        "  for i in df:\n",
        "    x = i.replace('K','')\n",
        "    no_k_list.append(x)\n",
        "  df = no_k_list\n",
        "  return df\n",
        "\n",
        "  \n",
        "df['NA_Sales'] = remove_K(df['NA_Sales'])\n",
        "df['EU_Sales'] = remove_K(df['EU_Sales'])\n",
        "df['JP_Sales'] = remove_K(df['JP_Sales'])\n",
        "df['Other_Sales'] = remove_K(df['Other_Sales'])\n",
        "\n",
        "print(df[['NA_Sales','EU_Sales']].head(20))\n",
        "print(df[['JP_Sales','Other_Sales']].head(20))"
      ],
      "execution_count": null,
      "outputs": []
    },
    {
      "cell_type": "code",
      "metadata": {
        "id": "THQ8DFcAdLyg"
      },
      "source": [
        "# x_to_M = (x_num*1000)/1000000"
      ],
      "execution_count": null,
      "outputs": []
    },
    {
      "cell_type": "code",
      "metadata": {
        "id": "2J93scD2bmRr"
      },
      "source": [
        "for i in df['NA_Sales'].values:\n",
        "  x = i.replace('K','')\n",
        "    x_num = float(x)\n",
        "    x_to_M = (x_num*1000)/1000000\n",
        "  else:\n",
        "    pass\n",
        "df['NA_Sales'] = x_to_M\n",
        "print(df['NA_Sales'].head(20))"
      ],
      "execution_count": null,
      "outputs": []
    },
    {
      "cell_type": "code",
      "metadata": {
        "colab": {
          "base_uri": "https://localhost:8080/"
        },
        "id": "AzN9kae5MtQU",
        "outputId": "19dbe42b-97c5-4aab-db3e-6908369a5c4f"
      },
      "source": [
        "na_no_K=[]\n",
        "for i in na_sales:\n",
        "  x1 = i.split('K')[0]\n",
        "  na_no_K.append(x1)\n",
        "na_no_K[:100]"
      ],
      "execution_count": 92,
      "outputs": [
        {
          "output_type": "execute_result",
          "data": {
            "text/plain": [
              "['0.04',\n",
              " '0.17',\n",
              " '0',\n",
              " '0.04',\n",
              " '0.12',\n",
              " '0',\n",
              " '0.02',\n",
              " '0.07',\n",
              " '0',\n",
              " '0.04',\n",
              " '480',\n",
              " '0.14',\n",
              " '0',\n",
              " '0.02',\n",
              " '0',\n",
              " '0.14',\n",
              " '0.01',\n",
              " '0',\n",
              " '0.02',\n",
              " '0',\n",
              " '0.57',\n",
              " '0.06',\n",
              " '0.08',\n",
              " '0',\n",
              " '0.48',\n",
              " '0.02',\n",
              " '0.03',\n",
              " '0',\n",
              " '0',\n",
              " '0.14',\n",
              " '0.05',\n",
              " '1.93',\n",
              " '0.12',\n",
              " '0',\n",
              " '0.29',\n",
              " '0.19',\n",
              " '0.3',\n",
              " '0.26',\n",
              " '0.11',\n",
              " '0.18',\n",
              " '0.3',\n",
              " '0',\n",
              " '0.33',\n",
              " '0',\n",
              " '0.51',\n",
              " '60',\n",
              " '0',\n",
              " '0.06',\n",
              " '0.13',\n",
              " '0.14',\n",
              " '0.52',\n",
              " '0.18',\n",
              " '0',\n",
              " '0.34',\n",
              " '0.05',\n",
              " '0.25',\n",
              " '0',\n",
              " '0',\n",
              " '0.41',\n",
              " '0.18',\n",
              " '0.02',\n",
              " '0.25',\n",
              " '0.13',\n",
              " '0.08',\n",
              " '0.01',\n",
              " '0',\n",
              " '0.52',\n",
              " '0.04',\n",
              " '0.08',\n",
              " '0.18',\n",
              " '0.22',\n",
              " '0.03',\n",
              " '0.08',\n",
              " '0.22',\n",
              " '0.01',\n",
              " '0.08',\n",
              " '0',\n",
              " '0.35',\n",
              " '0.1',\n",
              " '0',\n",
              " '0.08',\n",
              " '0.1',\n",
              " '0',\n",
              " '0.19',\n",
              " '0.13',\n",
              " '0.17',\n",
              " '0',\n",
              " '0.08',\n",
              " '0.13',\n",
              " '0.22',\n",
              " '0.07',\n",
              " '0.17',\n",
              " '0.67',\n",
              " '0.05',\n",
              " '0',\n",
              " '0.07',\n",
              " '0.02',\n",
              " '0.59',\n",
              " '0.36',\n",
              " '0']"
            ]
          },
          "metadata": {
            "tags": []
          },
          "execution_count": 92
        }
      ]
    },
    {
      "cell_type": "code",
      "metadata": {
        "id": "I8DDgl7EKOxW"
      },
      "source": [
        ""
      ],
      "execution_count": null,
      "outputs": []
    }
  ]
}