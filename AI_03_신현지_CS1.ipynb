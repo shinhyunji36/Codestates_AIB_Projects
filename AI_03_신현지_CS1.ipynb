{
  "nbformat": 4,
  "nbformat_minor": 0,
  "metadata": {
    "colab": {
      "name": "AI_03_신현지.ipynb",
      "provenance": [],
      "collapsed_sections": [
        "w01ieAT7dpNk",
        "SmM7bikd2_Yu"
      ],
      "toc_visible": true
    },
    "kernelspec": {
      "name": "python3",
      "display_name": "Python 3"
    },
    "language_info": {
      "name": "python"
    },
    "accelerator": "GPU"
  },
  "cells": [
    {
      "cell_type": "markdown",
      "metadata": {
        "id": "w01ieAT7dpNk"
      },
      "source": [
        "#**라이브러리**"
      ]
    },
    {
      "cell_type": "code",
      "metadata": {
        "id": "iaieJZY1dm3P"
      },
      "source": [
        "# 기본 (?)\n",
        "import pandas as pd\n",
        "import numpy as np\n",
        "\n",
        "# 시각화\n",
        "import matplotlib.pyplot as plt\n",
        "import seaborn as sns\n",
        "# import plotly.express as px\n",
        "# import plotly.graph_objects as go\n",
        "# import networkx as nx\n",
        "# import plotly.io as pio\n",
        "# pio.renderers.default = \"notebook_connected\"\n",
        "# import datetime"
      ],
      "execution_count": 185,
      "outputs": []
    },
    {
      "cell_type": "code",
      "metadata": {
        "colab": {
          "base_uri": "https://localhost:8080/"
        },
        "id": "ZhDMp7-Yg0Sg",
        "outputId": "3a889d82-a81b-48df-8076-28c5483d0a0c"
      },
      "source": [
        "# 코랩 한글 깨짐 현상 - 나눔폰트 설치\n",
        "\n",
        "!sudo apt-get install -y fonts-nanum\n",
        "!sudo fc-cache -fv\n",
        "!rm ~/.cache/matplotlib -rf"
      ],
      "execution_count": 1,
      "outputs": [
        {
          "output_type": "stream",
          "name": "stdout",
          "text": [
            "Reading package lists... Done\n",
            "Building dependency tree       \n",
            "Reading state information... Done\n",
            "The following NEW packages will be installed:\n",
            "  fonts-nanum\n",
            "0 upgraded, 1 newly installed, 0 to remove and 37 not upgraded.\n",
            "Need to get 9,604 kB of archives.\n",
            "After this operation, 29.5 MB of additional disk space will be used.\n",
            "Get:1 http://archive.ubuntu.com/ubuntu bionic/universe amd64 fonts-nanum all 20170925-1 [9,604 kB]\n",
            "Fetched 9,604 kB in 2s (5,431 kB/s)\n",
            "debconf: unable to initialize frontend: Dialog\n",
            "debconf: (No usable dialog-like program is installed, so the dialog based frontend cannot be used. at /usr/share/perl5/Debconf/FrontEnd/Dialog.pm line 76, <> line 1.)\n",
            "debconf: falling back to frontend: Readline\n",
            "debconf: unable to initialize frontend: Readline\n",
            "debconf: (This frontend requires a controlling tty.)\n",
            "debconf: falling back to frontend: Teletype\n",
            "dpkg-preconfigure: unable to re-open stdin: \n",
            "Selecting previously unselected package fonts-nanum.\n",
            "(Reading database ... 155047 files and directories currently installed.)\n",
            "Preparing to unpack .../fonts-nanum_20170925-1_all.deb ...\n",
            "Unpacking fonts-nanum (20170925-1) ...\n",
            "Setting up fonts-nanum (20170925-1) ...\n",
            "Processing triggers for fontconfig (2.12.6-0ubuntu2) ...\n",
            "/usr/share/fonts: caching, new cache contents: 0 fonts, 1 dirs\n",
            "/usr/share/fonts/truetype: caching, new cache contents: 0 fonts, 3 dirs\n",
            "/usr/share/fonts/truetype/humor-sans: caching, new cache contents: 1 fonts, 0 dirs\n",
            "/usr/share/fonts/truetype/liberation: caching, new cache contents: 16 fonts, 0 dirs\n",
            "/usr/share/fonts/truetype/nanum: caching, new cache contents: 10 fonts, 0 dirs\n",
            "/usr/local/share/fonts: caching, new cache contents: 0 fonts, 0 dirs\n",
            "/root/.local/share/fonts: skipping, no such directory\n",
            "/root/.fonts: skipping, no such directory\n",
            "/var/cache/fontconfig: cleaning cache directory\n",
            "/root/.cache/fontconfig: not cleaning non-existent cache directory\n",
            "/root/.fontconfig: not cleaning non-existent cache directory\n",
            "fc-cache: succeeded\n"
          ]
        }
      ]
    },
    {
      "cell_type": "markdown",
      "metadata": {
        "id": "-laGpBb9pB5y"
      },
      "source": [
        "# **데이터 정보**"
      ]
    },
    {
      "cell_type": "markdown",
      "metadata": {
        "id": "3eRzwAG6eLls"
      },
      "source": [
        "1. 21대 국회의원 당선인명단.xlsx (출처 :  중앙선거관리 위원회)\n",
        "\n",
        "2. New_people.csv (출처 : 데이콘)\n",
        "  - 1~21대 국회의원 리스트\n",
        "      > 이름대수, 생일, 학력+경력, url(대한민국헌정회 대별 회원정보 페이지 url, [정당 - 15대 국회 이후 정당 비식별화(숫자로 표기)])\n",
        "\n",
        "3. Suggest.csv (출처 : 데이콘)\n",
        "  - 국회의원 발의법의안 (1대 국회 ~ 21대 국회 전체)\n",
        "\n",
        "3-1. (추가) 21대 국회의원 발의 법의안\n",
        "  - 추가 이유 : 데이콘에서 데이터를 제공한 시점에서 시간이 지났기 때문에 새로운 입법 데이터 추가 및 발의안 처리 사항에 대한 업데이트가 있기 때문. \n",
        "  - 출처 : 열려라 국회\n",
        "  - data 1 : 국회의원 발의 법률안(21대, 2020.06 ~ 2020. 12)\n",
        "  - data 2 : 국회의원 발의 법률안(21대, 2021.01 ~ 2021. 10. 19)\n",
        "  - 기타 사항 : 한 번에 10000 행의 데이터밖에 다운받지 못하기 때문에, 나누어 다운받아 두 데이터를 합쳐줄 것.\n",
        "\n",
        "4. Process.csv (출처 : 데이콘)\n",
        "  - 법안 본회의 처리 안건\n",
        "\n",
        "5. 크롤링 데이터\n",
        "\t- 법안 상세 내용 (크롤링 코드 보고 따라 하기)\n",
        "\n",
        "6. 성별/ 연령별 인구 통계 - 거주자 기준 / 2021.09.30 기준(가장 최근)\n",
        "  - 출처 : https://jumin.mois.go.kr/ageStatMonth.do#none\n",
        "  - 연령대별 인구 분포\n",
        "  - 성별 연령 평균\n",
        "\n",
        "+ 추가 사항\n",
        "  - 국회 출석률, 입법률\n",
        "\n",
        "  \n",
        "\n"
      ]
    },
    {
      "cell_type": "markdown",
      "metadata": {
        "id": "5MCCjxkrfJTG"
      },
      "source": [
        "###**데이터 로드**"
      ]
    },
    {
      "cell_type": "code",
      "metadata": {
        "colab": {
          "base_uri": "https://localhost:8080/"
        },
        "id": "UloxPUSQo28Q",
        "outputId": "3f6c7418-8908-4e5e-b0d8-85f2e6b482c6"
      },
      "source": [
        "from google.colab import drive\n",
        "drive.mount('/content/drive')"
      ],
      "execution_count": 186,
      "outputs": [
        {
          "output_type": "stream",
          "name": "stdout",
          "text": [
            "Drive already mounted at /content/drive; to attempt to forcibly remount, call drive.mount(\"/content/drive\", force_remount=True).\n"
          ]
        }
      ]
    },
    {
      "cell_type": "markdown",
      "metadata": {
        "id": "_dT-k3EwPR8E"
      },
      "source": [
        "**Dacon 데이터**"
      ]
    },
    {
      "cell_type": "code",
      "metadata": {
        "colab": {
          "base_uri": "https://localhost:8080/"
        },
        "id": "EnVAqy-5cnDW",
        "outputId": "eb4c41d1-0896-4101-be86-b9b0b30ad4a9"
      },
      "source": [
        "new_people = pd.read_csv('/content/drive/MyDrive/codestates/codestates project 1/new_people.csv', encoding='cp949')\n",
        "process = pd.read_csv('/content/drive/MyDrive/codestates/codestates project 1/process.csv')\n",
        "suggest = pd.read_csv('/content/drive/MyDrive/codestates/codestates project 1/suggest.csv')"
      ],
      "execution_count": 187,
      "outputs": [
        {
          "output_type": "stream",
          "name": "stderr",
          "text": [
            "/usr/local/lib/python3.7/dist-packages/IPython/core/interactiveshell.py:2718: DtypeWarning: Columns (2,5,17) have mixed types.Specify dtype option on import or set low_memory=False.\n",
            "  interactivity=interactivity, compiler=compiler, result=result)\n"
          ]
        }
      ]
    },
    {
      "cell_type": "markdown",
      "metadata": {
        "id": "bQE_vGyvVkWW"
      },
      "source": [
        "**국회의원 발의법안 추가 데이터(열려라 국회)**\n",
        "- 21대 국회 발의 법안 데이터 concat (suggest_1 + suggest_2 = suggest_21)"
      ]
    },
    {
      "cell_type": "code",
      "metadata": {
        "id": "Ihpllu8BVizS"
      },
      "source": [
        "suggest_1 = pd.read_csv('/content/drive/MyDrive/codestates/codestates project 1/국회의원발의법률안(20.6~20.12).csv', encoding='cp949')\n",
        "suggest_2 = pd.read_csv('/content/drive/MyDrive/codestates/codestates project 1/국회의원발의법률안 (21.1~21.1019).csv', encoding='cp949')"
      ],
      "execution_count": 188,
      "outputs": []
    },
    {
      "cell_type": "code",
      "metadata": {
        "colab": {
          "base_uri": "https://localhost:8080/"
        },
        "id": "oslqFAdNX5Gk",
        "outputId": "ae4bafbf-fd73-4d4d-ce68-4e7b0c7fa8a0"
      },
      "source": [
        "print(suggest_1.shape, suggest_2.shape)"
      ],
      "execution_count": 189,
      "outputs": [
        {
          "output_type": "stream",
          "name": "stdout",
          "text": [
            "(6463, 11) (5221, 11)\n"
          ]
        }
      ]
    },
    {
      "cell_type": "code",
      "metadata": {
        "colab": {
          "base_uri": "https://localhost:8080/"
        },
        "id": "CErnE8mdXhgD",
        "outputId": "7f11dd47-1da0-43fe-843a-0a8a8f75cf53"
      },
      "source": [
        "suggest_21 = pd.concat([suggest_1, suggest_2])\n",
        "suggest_21.info()"
      ],
      "execution_count": 190,
      "outputs": [
        {
          "output_type": "stream",
          "name": "stdout",
          "text": [
            "<class 'pandas.core.frame.DataFrame'>\n",
            "Int64Index: 11684 entries, 0 to 5220\n",
            "Data columns (total 11 columns):\n",
            " #   Column   Non-Null Count  Dtype \n",
            "---  ------   --------------  ----- \n",
            " 0   의안번호     11684 non-null  int64 \n",
            " 1   대수       11684 non-null  int64 \n",
            " 2   법률안명     11684 non-null  object\n",
            " 3   제안자      11684 non-null  object\n",
            " 4   대표발의자    11684 non-null  object\n",
            " 5   공동발의자    11684 non-null  object\n",
            " 6   상세페이지    11684 non-null  object\n",
            " 7   소관위원회    11658 non-null  object\n",
            " 8   제안일      11684 non-null  object\n",
            " 9   처리상태     2478 non-null   object\n",
            " 10  제안자목록링크  11684 non-null  object\n",
            "dtypes: int64(2), object(9)\n",
            "memory usage: 1.1+ MB\n"
          ]
        }
      ]
    },
    {
      "cell_type": "code",
      "metadata": {
        "colab": {
          "base_uri": "https://localhost:8080/",
          "height": 307
        },
        "id": "AItF0y7YYwE4",
        "outputId": "21fa3ed6-b1b5-47f0-badb-39db447695a5"
      },
      "source": [
        "suggest_21.head()"
      ],
      "execution_count": 15,
      "outputs": [
        {
          "output_type": "execute_result",
          "data": {
            "text/html": [
              "<div>\n",
              "<style scoped>\n",
              "    .dataframe tbody tr th:only-of-type {\n",
              "        vertical-align: middle;\n",
              "    }\n",
              "\n",
              "    .dataframe tbody tr th {\n",
              "        vertical-align: top;\n",
              "    }\n",
              "\n",
              "    .dataframe thead th {\n",
              "        text-align: right;\n",
              "    }\n",
              "</style>\n",
              "<table border=\"1\" class=\"dataframe\">\n",
              "  <thead>\n",
              "    <tr style=\"text-align: right;\">\n",
              "      <th></th>\n",
              "      <th>의안번호</th>\n",
              "      <th>대수</th>\n",
              "      <th>법률안명</th>\n",
              "      <th>제안자</th>\n",
              "      <th>대표발의자</th>\n",
              "      <th>공동발의자</th>\n",
              "      <th>상세페이지</th>\n",
              "      <th>소관위원회</th>\n",
              "      <th>제안일</th>\n",
              "      <th>처리상태</th>\n",
              "      <th>제안자목록링크</th>\n",
              "    </tr>\n",
              "  </thead>\n",
              "  <tbody>\n",
              "    <tr>\n",
              "      <th>0</th>\n",
              "      <td>2107128</td>\n",
              "      <td>21</td>\n",
              "      <td>검사징계법 일부개정법률안</td>\n",
              "      <td>이수진의원등20인</td>\n",
              "      <td>이수진</td>\n",
              "      <td>권인숙,김경만,김남국,김병기,김승원,문진석,민형배,박찬대,설훈,신동근,유정주,이규민...</td>\n",
              "      <td>http://likms.assembly.go.kr/bill/billDetail.do...</td>\n",
              "      <td>법제사법위원회</td>\n",
              "      <td>2020-12-31</td>\n",
              "      <td>NaN</td>\n",
              "      <td>http://likms.assembly.go.kr/bill/coactorListPo...</td>\n",
              "    </tr>\n",
              "    <tr>\n",
              "      <th>1</th>\n",
              "      <td>2107126</td>\n",
              "      <td>21</td>\n",
              "      <td>전기사업법 일부개정법률안</td>\n",
              "      <td>이규민의원등12인</td>\n",
              "      <td>이규민</td>\n",
              "      <td>김남국,김성환,김승원,김정호,김홍걸,민형배,윤미향,이동주,이장섭,임오경,홍정민</td>\n",
              "      <td>http://likms.assembly.go.kr/bill/billDetail.do...</td>\n",
              "      <td>산업통상자원중소벤처기업위원회</td>\n",
              "      <td>2020-12-31</td>\n",
              "      <td>NaN</td>\n",
              "      <td>http://likms.assembly.go.kr/bill/coactorListPo...</td>\n",
              "    </tr>\n",
              "    <tr>\n",
              "      <th>2</th>\n",
              "      <td>2107125</td>\n",
              "      <td>21</td>\n",
              "      <td>국가재정법 일부개정법률안</td>\n",
              "      <td>이규민의원등11인</td>\n",
              "      <td>이규민</td>\n",
              "      <td>김남국,김승원,박상혁,오영환,윤미향,이동주,임오경,조오섭,홍기원,홍성국</td>\n",
              "      <td>http://likms.assembly.go.kr/bill/billDetail.do...</td>\n",
              "      <td>기획재정위원회</td>\n",
              "      <td>2020-12-31</td>\n",
              "      <td>NaN</td>\n",
              "      <td>http://likms.assembly.go.kr/bill/coactorListPo...</td>\n",
              "    </tr>\n",
              "    <tr>\n",
              "      <th>3</th>\n",
              "      <td>2107124</td>\n",
              "      <td>21</td>\n",
              "      <td>가축분뇨의 관리 및 이용에 관한 법률 일부개정법률안</td>\n",
              "      <td>이규민의원 등 14인</td>\n",
              "      <td>이규민</td>\n",
              "      <td>김남국,박상혁,박찬대,서삼석,송영길,윤미향,이동주,임오경,조오섭,허영,홍기원,홍성국...</td>\n",
              "      <td>http://likms.assembly.go.kr/bill/billDetail.do...</td>\n",
              "      <td>환경노동위원회</td>\n",
              "      <td>2020-12-31</td>\n",
              "      <td>NaN</td>\n",
              "      <td>http://likms.assembly.go.kr/bill/coactorListPo...</td>\n",
              "    </tr>\n",
              "    <tr>\n",
              "      <th>4</th>\n",
              "      <td>2107123</td>\n",
              "      <td>21</td>\n",
              "      <td>형사소송법 일부개정법률안</td>\n",
              "      <td>이수진의원등23인</td>\n",
              "      <td>이수진</td>\n",
              "      <td>강선우,권인숙,김경만,김남국,김민석,김병기,김승원,문진석,민형배,박찬대,설훈,신동근...</td>\n",
              "      <td>http://likms.assembly.go.kr/bill/billDetail.do...</td>\n",
              "      <td>법제사법위원회</td>\n",
              "      <td>2020-12-31</td>\n",
              "      <td>NaN</td>\n",
              "      <td>http://likms.assembly.go.kr/bill/coactorListPo...</td>\n",
              "    </tr>\n",
              "  </tbody>\n",
              "</table>\n",
              "</div>"
            ],
            "text/plain": [
              "      의안번호  대수  ... 처리상태                                            제안자목록링크\n",
              "0  2107128  21  ...  NaN  http://likms.assembly.go.kr/bill/coactorListPo...\n",
              "1  2107126  21  ...  NaN  http://likms.assembly.go.kr/bill/coactorListPo...\n",
              "2  2107125  21  ...  NaN  http://likms.assembly.go.kr/bill/coactorListPo...\n",
              "3  2107124  21  ...  NaN  http://likms.assembly.go.kr/bill/coactorListPo...\n",
              "4  2107123  21  ...  NaN  http://likms.assembly.go.kr/bill/coactorListPo...\n",
              "\n",
              "[5 rows x 11 columns]"
            ]
          },
          "metadata": {},
          "execution_count": 15
        }
      ]
    },
    {
      "cell_type": "markdown",
      "metadata": {
        "id": "4Mx3U1o6O87m"
      },
      "source": [
        "**21대 국회의원 당선인 데이터**"
      ]
    },
    {
      "cell_type": "code",
      "metadata": {
        "id": "7Ku16WBwO3te"
      },
      "source": [
        "df_21 = pd.read_excel('/content/drive/MyDrive/codestates/codestates project 1/제21대_국회의원선거(재보궐선거_포함)_당선인명부.xlsx')"
      ],
      "execution_count": 16,
      "outputs": []
    },
    {
      "cell_type": "code",
      "metadata": {
        "colab": {
          "base_uri": "https://localhost:8080/",
          "height": 204
        },
        "id": "_uyE48gJYs1T",
        "outputId": "987a673c-be18-4a95-e7ef-dcc0e9b14c40"
      },
      "source": [
        "df_21.head()"
      ],
      "execution_count": 17,
      "outputs": [
        {
          "output_type": "execute_result",
          "data": {
            "text/html": [
              "<div>\n",
              "<style scoped>\n",
              "    .dataframe tbody tr th:only-of-type {\n",
              "        vertical-align: middle;\n",
              "    }\n",
              "\n",
              "    .dataframe tbody tr th {\n",
              "        vertical-align: top;\n",
              "    }\n",
              "\n",
              "    .dataframe thead th {\n",
              "        text-align: right;\n",
              "    }\n",
              "</style>\n",
              "<table border=\"1\" class=\"dataframe\">\n",
              "  <thead>\n",
              "    <tr style=\"text-align: right;\">\n",
              "      <th></th>\n",
              "      <th>시도명</th>\n",
              "      <th>선거구명</th>\n",
              "      <th>소속정당명</th>\n",
              "      <th>성명</th>\n",
              "      <th>한자</th>\n",
              "      <th>성별</th>\n",
              "      <th>생년월일</th>\n",
              "      <th>연령</th>\n",
              "      <th>직업</th>\n",
              "      <th>학력</th>\n",
              "      <th>경력1</th>\n",
              "      <th>경력2</th>\n",
              "    </tr>\n",
              "  </thead>\n",
              "  <tbody>\n",
              "    <tr>\n",
              "      <th>0</th>\n",
              "      <td>서울특별시</td>\n",
              "      <td>종로구</td>\n",
              "      <td>더불어민주당</td>\n",
              "      <td>이낙연</td>\n",
              "      <td>李洛淵</td>\n",
              "      <td>남</td>\n",
              "      <td>19521220</td>\n",
              "      <td>67</td>\n",
              "      <td>정당인</td>\n",
              "      <td>서울대학교 법과대학 법학과 졸업</td>\n",
              "      <td>(현)민주당 코로나19국난극복위원장</td>\n",
              "      <td>(전)제45대 국무총리</td>\n",
              "    </tr>\n",
              "    <tr>\n",
              "      <th>1</th>\n",
              "      <td>서울특별시</td>\n",
              "      <td>중구성동구을</td>\n",
              "      <td>더불어민주당</td>\n",
              "      <td>박성준</td>\n",
              "      <td>朴省俊</td>\n",
              "      <td>남</td>\n",
              "      <td>19690423</td>\n",
              "      <td>50</td>\n",
              "      <td>정당인</td>\n",
              "      <td>성균관대학교 정치외교학과 정치학 박사</td>\n",
              "      <td>(전) JTBC 아나운서</td>\n",
              "      <td>(현)더불어민주당 중앙당 부대변인</td>\n",
              "    </tr>\n",
              "    <tr>\n",
              "      <th>2</th>\n",
              "      <td>서울특별시</td>\n",
              "      <td>용산구</td>\n",
              "      <td>미래통합당</td>\n",
              "      <td>권영세</td>\n",
              "      <td>權寧世</td>\n",
              "      <td>남</td>\n",
              "      <td>19590224</td>\n",
              "      <td>61</td>\n",
              "      <td>변호사</td>\n",
              "      <td>하버드대학교 케네디스쿨 졸업 (행정학석사 2000.7~2001.6)</td>\n",
              "      <td>(전) 주중국대한민국 대사</td>\n",
              "      <td>(전) 제16ㆍ17ㆍ18대 국회의원</td>\n",
              "    </tr>\n",
              "    <tr>\n",
              "      <th>3</th>\n",
              "      <td>서울특별시</td>\n",
              "      <td>중구성동구갑</td>\n",
              "      <td>더불어민주당</td>\n",
              "      <td>홍익표</td>\n",
              "      <td>洪翼杓</td>\n",
              "      <td>남</td>\n",
              "      <td>19671120</td>\n",
              "      <td>52</td>\n",
              "      <td>정치인</td>\n",
              "      <td>한양대학교 대학원 정치외교학과 졸업(정치학박사)</td>\n",
              "      <td>(현)국회의원(제19대.20대)</td>\n",
              "      <td>(전)더불어민주당 수석대변인</td>\n",
              "    </tr>\n",
              "    <tr>\n",
              "      <th>4</th>\n",
              "      <td>서울특별시</td>\n",
              "      <td>광진구갑</td>\n",
              "      <td>더불어민주당</td>\n",
              "      <td>전혜숙</td>\n",
              "      <td>全惠淑</td>\n",
              "      <td>여</td>\n",
              "      <td>19550505</td>\n",
              "      <td>64</td>\n",
              "      <td>국회의원</td>\n",
              "      <td>성균관대학교 임상약학대학원 약학석사(사회약학)</td>\n",
              "      <td>(현) 제20대 광진구갑 국회의원</td>\n",
              "      <td>(현) 국회 행정안전위원회 위원장</td>\n",
              "    </tr>\n",
              "  </tbody>\n",
              "</table>\n",
              "</div>"
            ],
            "text/plain": [
              "     시도명    선거구명  ...                  경력1                  경력2\n",
              "0  서울특별시     종로구  ...  (현)민주당 코로나19국난극복위원장         (전)제45대 국무총리\n",
              "1  서울특별시  중구성동구을  ...        (전) JTBC 아나운서   (현)더불어민주당 중앙당 부대변인\n",
              "2  서울특별시     용산구  ...       (전) 주중국대한민국 대사  (전) 제16ㆍ17ㆍ18대 국회의원\n",
              "3  서울특별시  중구성동구갑  ...    (현)국회의원(제19대.20대)      (전)더불어민주당 수석대변인\n",
              "4  서울특별시    광진구갑  ...   (현) 제20대 광진구갑 국회의원   (현) 국회 행정안전위원회 위원장\n",
              "\n",
              "[5 rows x 12 columns]"
            ]
          },
          "metadata": {},
          "execution_count": 17
        }
      ]
    },
    {
      "cell_type": "markdown",
      "metadata": {
        "id": "YqReYUAwOgBk"
      },
      "source": [
        "**인구 통계 데이터 (연령별/성별)(국내거주자, 2021.09.30 기준)**"
      ]
    },
    {
      "cell_type": "code",
      "metadata": {
        "id": "5ibs4r1t1z8C"
      },
      "source": [
        "population = pd.read_csv('/content/drive/MyDrive/codestates/codestates project 1/202109_202109_연령별인구현황_월간.csv',encoding='cp949')"
      ],
      "execution_count": 18,
      "outputs": []
    },
    {
      "cell_type": "code",
      "metadata": {
        "colab": {
          "base_uri": "https://localhost:8080/",
          "height": 446
        },
        "id": "5emY7jxK1mcR",
        "outputId": "74095f8f-9948-4feb-9557-7d901e0ee0e1"
      },
      "source": [
        "population.head()"
      ],
      "execution_count": 19,
      "outputs": [
        {
          "output_type": "execute_result",
          "data": {
            "text/html": [
              "<div>\n",
              "<style scoped>\n",
              "    .dataframe tbody tr th:only-of-type {\n",
              "        vertical-align: middle;\n",
              "    }\n",
              "\n",
              "    .dataframe tbody tr th {\n",
              "        vertical-align: top;\n",
              "    }\n",
              "\n",
              "    .dataframe thead th {\n",
              "        text-align: right;\n",
              "    }\n",
              "</style>\n",
              "<table border=\"1\" class=\"dataframe\">\n",
              "  <thead>\n",
              "    <tr style=\"text-align: right;\">\n",
              "      <th></th>\n",
              "      <th>행정구역</th>\n",
              "      <th>2021년09월_거주자_총인구수</th>\n",
              "      <th>2021년09월_거주자_연령구간인구수</th>\n",
              "      <th>2021년09월_거주자_20~29세</th>\n",
              "      <th>2021년09월_거주자_30~39세</th>\n",
              "      <th>2021년09월_거주자_40~49세</th>\n",
              "      <th>2021년09월_거주자_50~59세</th>\n",
              "      <th>2021년09월_거주자_60~69세</th>\n",
              "      <th>2021년09월_거주자_70~79세</th>\n",
              "      <th>2021년09월_거주자_80~89세</th>\n",
              "      <th>2021년09월_거주자_90~99세</th>\n",
              "      <th>2021년09월_거주자_100세 이상</th>\n",
              "      <th>2021년09월_남_거주자_총인구수</th>\n",
              "      <th>2021년09월_남_거주자_연령구간인구수</th>\n",
              "      <th>2021년09월_남_거주자_20~29세</th>\n",
              "      <th>2021년09월_남_거주자_30~39세</th>\n",
              "      <th>2021년09월_남_거주자_40~49세</th>\n",
              "      <th>2021년09월_남_거주자_50~59세</th>\n",
              "      <th>2021년09월_남_거주자_60~69세</th>\n",
              "      <th>2021년09월_남_거주자_70~79세</th>\n",
              "      <th>2021년09월_남_거주자_80~89세</th>\n",
              "      <th>2021년09월_남_거주자_90~99세</th>\n",
              "      <th>2021년09월_남_거주자_100세 이상</th>\n",
              "      <th>2021년09월_여_거주자_총인구수</th>\n",
              "      <th>2021년09월_여_거주자_연령구간인구수</th>\n",
              "      <th>2021년09월_여_거주자_20~29세</th>\n",
              "      <th>2021년09월_여_거주자_30~39세</th>\n",
              "      <th>2021년09월_여_거주자_40~49세</th>\n",
              "      <th>2021년09월_여_거주자_50~59세</th>\n",
              "      <th>2021년09월_여_거주자_60~69세</th>\n",
              "      <th>2021년09월_여_거주자_70~79세</th>\n",
              "      <th>2021년09월_여_거주자_80~89세</th>\n",
              "      <th>2021년09월_여_거주자_90~99세</th>\n",
              "      <th>2021년09월_여_거주자_100세 이상</th>\n",
              "    </tr>\n",
              "  </thead>\n",
              "  <tbody>\n",
              "    <tr>\n",
              "      <th>0</th>\n",
              "      <td>전국  (0000000000)</td>\n",
              "      <td>51,341,905</td>\n",
              "      <td>42,814,896</td>\n",
              "      <td>6,685,839</td>\n",
              "      <td>6,707,107</td>\n",
              "      <td>8,115,215</td>\n",
              "      <td>8,526,055</td>\n",
              "      <td>7,036,562</td>\n",
              "      <td>3,683,612</td>\n",
              "      <td>1,798,626</td>\n",
              "      <td>254,995</td>\n",
              "      <td>6,885</td>\n",
              "      <td>25,591,420</td>\n",
              "      <td>21,201,746</td>\n",
              "      <td>3,508,446</td>\n",
              "      <td>3,460,997</td>\n",
              "      <td>4,122,023</td>\n",
              "      <td>4,304,721</td>\n",
              "      <td>3,444,997</td>\n",
              "      <td>1,666,057</td>\n",
              "      <td>637,685</td>\n",
              "      <td>55,744</td>\n",
              "      <td>1,076</td>\n",
              "      <td>25,750,485</td>\n",
              "      <td>21,613,150</td>\n",
              "      <td>3,177,393</td>\n",
              "      <td>3,246,110</td>\n",
              "      <td>3,993,192</td>\n",
              "      <td>4,221,334</td>\n",
              "      <td>3,591,565</td>\n",
              "      <td>2,017,555</td>\n",
              "      <td>1,160,941</td>\n",
              "      <td>199,251</td>\n",
              "      <td>5,809</td>\n",
              "    </tr>\n",
              "    <tr>\n",
              "      <th>1</th>\n",
              "      <td>서울특별시  (1100000000)</td>\n",
              "      <td>9,433,622</td>\n",
              "      <td>8,082,103</td>\n",
              "      <td>1,428,881</td>\n",
              "      <td>1,432,518</td>\n",
              "      <td>1,469,698</td>\n",
              "      <td>1,479,099</td>\n",
              "      <td>1,258,439</td>\n",
              "      <td>687,000</td>\n",
              "      <td>285,839</td>\n",
              "      <td>39,478</td>\n",
              "      <td>1,151</td>\n",
              "      <td>4,581,312</td>\n",
              "      <td>3,888,130</td>\n",
              "      <td>688,688</td>\n",
              "      <td>715,865</td>\n",
              "      <td>727,841</td>\n",
              "      <td>727,126</td>\n",
              "      <td>593,819</td>\n",
              "      <td>312,697</td>\n",
              "      <td>112,100</td>\n",
              "      <td>9,755</td>\n",
              "      <td>239</td>\n",
              "      <td>4,852,310</td>\n",
              "      <td>4,193,973</td>\n",
              "      <td>740,193</td>\n",
              "      <td>716,653</td>\n",
              "      <td>741,857</td>\n",
              "      <td>751,973</td>\n",
              "      <td>664,620</td>\n",
              "      <td>374,303</td>\n",
              "      <td>173,739</td>\n",
              "      <td>29,723</td>\n",
              "      <td>912</td>\n",
              "    </tr>\n",
              "    <tr>\n",
              "      <th>2</th>\n",
              "      <td>부산광역시  (2600000000)</td>\n",
              "      <td>3,337,924</td>\n",
              "      <td>2,848,664</td>\n",
              "      <td>419,491</td>\n",
              "      <td>406,152</td>\n",
              "      <td>499,195</td>\n",
              "      <td>550,460</td>\n",
              "      <td>542,649</td>\n",
              "      <td>294,584</td>\n",
              "      <td>120,998</td>\n",
              "      <td>14,800</td>\n",
              "      <td>335</td>\n",
              "      <td>1,632,912</td>\n",
              "      <td>1,381,331</td>\n",
              "      <td>217,739</td>\n",
              "      <td>208,022</td>\n",
              "      <td>251,735</td>\n",
              "      <td>267,614</td>\n",
              "      <td>256,188</td>\n",
              "      <td>133,042</td>\n",
              "      <td>43,834</td>\n",
              "      <td>3,112</td>\n",
              "      <td>45</td>\n",
              "      <td>1,705,012</td>\n",
              "      <td>1,467,333</td>\n",
              "      <td>201,752</td>\n",
              "      <td>198,130</td>\n",
              "      <td>247,460</td>\n",
              "      <td>282,846</td>\n",
              "      <td>286,461</td>\n",
              "      <td>161,542</td>\n",
              "      <td>77,164</td>\n",
              "      <td>11,688</td>\n",
              "      <td>290</td>\n",
              "    </tr>\n",
              "    <tr>\n",
              "      <th>3</th>\n",
              "      <td>대구광역시  (2700000000)</td>\n",
              "      <td>2,380,981</td>\n",
              "      <td>1,991,190</td>\n",
              "      <td>312,726</td>\n",
              "      <td>285,269</td>\n",
              "      <td>371,843</td>\n",
              "      <td>416,228</td>\n",
              "      <td>337,980</td>\n",
              "      <td>176,074</td>\n",
              "      <td>81,139</td>\n",
              "      <td>9,710</td>\n",
              "      <td>221</td>\n",
              "      <td>1,172,995</td>\n",
              "      <td>971,271</td>\n",
              "      <td>166,556</td>\n",
              "      <td>149,250</td>\n",
              "      <td>183,346</td>\n",
              "      <td>203,505</td>\n",
              "      <td>160,716</td>\n",
              "      <td>77,153</td>\n",
              "      <td>28,656</td>\n",
              "      <td>2,064</td>\n",
              "      <td>25</td>\n",
              "      <td>1,207,986</td>\n",
              "      <td>1,019,919</td>\n",
              "      <td>146,170</td>\n",
              "      <td>136,019</td>\n",
              "      <td>188,497</td>\n",
              "      <td>212,723</td>\n",
              "      <td>177,264</td>\n",
              "      <td>98,921</td>\n",
              "      <td>52,483</td>\n",
              "      <td>7,646</td>\n",
              "      <td>196</td>\n",
              "    </tr>\n",
              "    <tr>\n",
              "      <th>4</th>\n",
              "      <td>인천광역시  (2800000000)</td>\n",
              "      <td>2,921,009</td>\n",
              "      <td>2,430,600</td>\n",
              "      <td>391,308</td>\n",
              "      <td>398,122</td>\n",
              "      <td>476,127</td>\n",
              "      <td>503,785</td>\n",
              "      <td>389,854</td>\n",
              "      <td>177,486</td>\n",
              "      <td>81,072</td>\n",
              "      <td>12,485</td>\n",
              "      <td>361</td>\n",
              "      <td>1,461,405</td>\n",
              "      <td>1,209,573</td>\n",
              "      <td>203,934</td>\n",
              "      <td>206,083</td>\n",
              "      <td>243,495</td>\n",
              "      <td>251,150</td>\n",
              "      <td>192,852</td>\n",
              "      <td>81,222</td>\n",
              "      <td>28,159</td>\n",
              "      <td>2,613</td>\n",
              "      <td>65</td>\n",
              "      <td>1,459,604</td>\n",
              "      <td>1,221,027</td>\n",
              "      <td>187,374</td>\n",
              "      <td>192,039</td>\n",
              "      <td>232,632</td>\n",
              "      <td>252,635</td>\n",
              "      <td>197,002</td>\n",
              "      <td>96,264</td>\n",
              "      <td>52,913</td>\n",
              "      <td>9,872</td>\n",
              "      <td>296</td>\n",
              "    </tr>\n",
              "  </tbody>\n",
              "</table>\n",
              "</div>"
            ],
            "text/plain": [
              "                  행정구역  ... 2021년09월_여_거주자_100세 이상\n",
              "0     전국  (0000000000)  ...                  5,809\n",
              "1  서울특별시  (1100000000)  ...                    912\n",
              "2  부산광역시  (2600000000)  ...                    290\n",
              "3  대구광역시  (2700000000)  ...                    196\n",
              "4  인천광역시  (2800000000)  ...                    296\n",
              "\n",
              "[5 rows x 34 columns]"
            ]
          },
          "metadata": {},
          "execution_count": 19
        }
      ]
    },
    {
      "cell_type": "code",
      "metadata": {
        "colab": {
          "base_uri": "https://localhost:8080/"
        },
        "id": "WND058mo3dmO",
        "outputId": "ace25168-57cc-407d-c253-f5ccc88892fd"
      },
      "source": [
        "population.info()"
      ],
      "execution_count": 20,
      "outputs": [
        {
          "output_type": "stream",
          "name": "stdout",
          "text": [
            "<class 'pandas.core.frame.DataFrame'>\n",
            "RangeIndex: 18 entries, 0 to 17\n",
            "Data columns (total 34 columns):\n",
            " #   Column                  Non-Null Count  Dtype \n",
            "---  ------                  --------------  ----- \n",
            " 0   행정구역                    18 non-null     object\n",
            " 1   2021년09월_거주자_총인구수       18 non-null     object\n",
            " 2   2021년09월_거주자_연령구간인구수    18 non-null     object\n",
            " 3   2021년09월_거주자_20~29세     18 non-null     object\n",
            " 4   2021년09월_거주자_30~39세     18 non-null     object\n",
            " 5   2021년09월_거주자_40~49세     18 non-null     object\n",
            " 6   2021년09월_거주자_50~59세     18 non-null     object\n",
            " 7   2021년09월_거주자_60~69세     18 non-null     object\n",
            " 8   2021년09월_거주자_70~79세     18 non-null     object\n",
            " 9   2021년09월_거주자_80~89세     18 non-null     object\n",
            " 10  2021년09월_거주자_90~99세     18 non-null     object\n",
            " 11  2021년09월_거주자_100세 이상    18 non-null     object\n",
            " 12  2021년09월_남_거주자_총인구수     18 non-null     object\n",
            " 13  2021년09월_남_거주자_연령구간인구수  18 non-null     object\n",
            " 14  2021년09월_남_거주자_20~29세   18 non-null     object\n",
            " 15  2021년09월_남_거주자_30~39세   18 non-null     object\n",
            " 16  2021년09월_남_거주자_40~49세   18 non-null     object\n",
            " 17  2021년09월_남_거주자_50~59세   18 non-null     object\n",
            " 18  2021년09월_남_거주자_60~69세   18 non-null     object\n",
            " 19  2021년09월_남_거주자_70~79세   18 non-null     object\n",
            " 20  2021년09월_남_거주자_80~89세   18 non-null     object\n",
            " 21  2021년09월_남_거주자_90~99세   18 non-null     object\n",
            " 22  2021년09월_남_거주자_100세 이상  18 non-null     object\n",
            " 23  2021년09월_여_거주자_총인구수     18 non-null     object\n",
            " 24  2021년09월_여_거주자_연령구간인구수  18 non-null     object\n",
            " 25  2021년09월_여_거주자_20~29세   18 non-null     object\n",
            " 26  2021년09월_여_거주자_30~39세   18 non-null     object\n",
            " 27  2021년09월_여_거주자_40~49세   18 non-null     object\n",
            " 28  2021년09월_여_거주자_50~59세   18 non-null     object\n",
            " 29  2021년09월_여_거주자_60~69세   18 non-null     object\n",
            " 30  2021년09월_여_거주자_70~79세   18 non-null     object\n",
            " 31  2021년09월_여_거주자_80~89세   18 non-null     object\n",
            " 32  2021년09월_여_거주자_90~99세   18 non-null     object\n",
            " 33  2021년09월_여_거주자_100세 이상  18 non-null     object\n",
            "dtypes: object(34)\n",
            "memory usage: 4.9+ KB\n"
          ]
        }
      ]
    },
    {
      "cell_type": "code",
      "metadata": {
        "id": "aXUGqJbT3cpC"
      },
      "source": [
        "# 총 인구수, 남성, 여성 데이터 분리\n",
        "\n",
        "total_col = ['2021년09월_거주자_총인구수', '2021년09월_거주자_연령구간인구수',\n",
        "       '2021년09월_거주자_20~29세', '2021년09월_거주자_30~39세', '2021년09월_거주자_40~49세',\n",
        "       '2021년09월_거주자_50~59세', '2021년09월_거주자_60~69세', '2021년09월_거주자_70~79세',\n",
        "       '2021년09월_거주자_80~89세', '2021년09월_거주자_90~99세', '2021년09월_거주자_100세 이상']\n",
        "\n",
        "men_col = ['2021년09월_남_거주자_총인구수', '2021년09월_남_거주자_연령구간인구수',\n",
        "       '2021년09월_남_거주자_20~29세', '2021년09월_남_거주자_30~39세',\n",
        "       '2021년09월_남_거주자_40~49세', '2021년09월_남_거주자_50~59세',\n",
        "       '2021년09월_남_거주자_60~69세', '2021년09월_남_거주자_70~79세',\n",
        "       '2021년09월_남_거주자_80~89세', '2021년09월_남_거주자_90~99세',\n",
        "       '2021년09월_남_거주자_100세 이상']\n",
        "\n",
        "women_col = ['2021년09월_여_거주자_총인구수',\n",
        "       '2021년09월_여_거주자_연령구간인구수', '2021년09월_여_거주자_20~29세',\n",
        "       '2021년09월_여_거주자_30~39세', '2021년09월_여_거주자_40~49세',\n",
        "       '2021년09월_여_거주자_50~59세', '2021년09월_여_거주자_60~69세',\n",
        "       '2021년09월_여_거주자_70~79세', '2021년09월_여_거주자_80~89세',\n",
        "       '2021년09월_여_거주자_90~99세', '2021년09월_여_거주자_100세 이상']\n",
        "\n",
        "\n",
        "pop_total = population[total_col]\n",
        "pop_men = population[men_col]\n",
        "pop_women = population[women_col]"
      ],
      "execution_count": 21,
      "outputs": []
    },
    {
      "cell_type": "code",
      "metadata": {
        "id": "ukDQ8j2y5IaD"
      },
      "source": [
        "# 컬럼 명 변경 (데이터 : 거주자, 20 ~ 100세 이상 기준)\n",
        "\n",
        "pop_total.columns = ['총인구수', '20대~100세 이상',\n",
        "       '20대', '30대', '40대',\n",
        "       '50대', '60대', '70대',\n",
        "       '80대', '90대', '100세 이상']\n",
        "\n",
        "pop_men.columns = ['남자_총인구수', '20대~100세 이상',\n",
        "       '20대', '30대', '40대',\n",
        "       '50대', '60대', '70대',\n",
        "       '80대', '90대', '100세 이상']\n",
        "\n",
        "\n",
        "pop_women.columns = ['여자_총인구수', '20대~100세 이상',\n",
        "       '20대', '30대', '40대',\n",
        "       '50대', '60대', '70대',\n",
        "       '80대', '90대', '100세 이상']"
      ],
      "execution_count": 22,
      "outputs": []
    },
    {
      "cell_type": "code",
      "metadata": {
        "id": "wRgaYKlX61QO"
      },
      "source": [
        "# 분석 위해 데이터 타입 int로 변경\n",
        "\n",
        "# 함수 만들기\n",
        "def toint(object):\n",
        "  return int(object.replace(',',''))\n",
        "\n",
        "# apply, for문 사용\n",
        "def toint2(df):\n",
        "  for col in df:\n",
        "    df[col] = df[col].apply(toint)\n",
        "    df[col] = df[col].astype(int)\n"
      ],
      "execution_count": 23,
      "outputs": []
    },
    {
      "cell_type": "code",
      "metadata": {
        "colab": {
          "base_uri": "https://localhost:8080/"
        },
        "id": "tWz3l8nl94vc",
        "outputId": "113d320f-33e1-4c91-adf6-3a2d4abbb731"
      },
      "source": [
        "toint2(pop_total)\n",
        "toint2(pop_women)\n",
        "toint2(pop_men)"
      ],
      "execution_count": 24,
      "outputs": [
        {
          "output_type": "stream",
          "name": "stderr",
          "text": [
            "/usr/local/lib/python3.7/dist-packages/ipykernel_launcher.py:10: SettingWithCopyWarning: \n",
            "A value is trying to be set on a copy of a slice from a DataFrame.\n",
            "Try using .loc[row_indexer,col_indexer] = value instead\n",
            "\n",
            "See the caveats in the documentation: https://pandas.pydata.org/pandas-docs/stable/user_guide/indexing.html#returning-a-view-versus-a-copy\n",
            "  # Remove the CWD from sys.path while we load stuff.\n",
            "/usr/local/lib/python3.7/dist-packages/ipykernel_launcher.py:11: SettingWithCopyWarning: \n",
            "A value is trying to be set on a copy of a slice from a DataFrame.\n",
            "Try using .loc[row_indexer,col_indexer] = value instead\n",
            "\n",
            "See the caveats in the documentation: https://pandas.pydata.org/pandas-docs/stable/user_guide/indexing.html#returning-a-view-versus-a-copy\n",
            "  # This is added back by InteractiveShellApp.init_path()\n"
          ]
        }
      ]
    },
    {
      "cell_type": "markdown",
      "metadata": {
        "id": "na_BYDFg6joz"
      },
      "source": [
        "**크롤링 데이터 - 21대 발의안 내용**\n",
        "- 출처 : 의안정보시스템 (http://likms.assembly.go.kr/bill/main.do)\n",
        "- 2021.8.4 ~ 2021.10.20 (시간상 크롤링 다 못함 ㅠㅠ)\n",
        "- 21대 국회의원이 발의한 발의 내용 상세 정보 크롤링\n",
        "- suggest(발의안 모음)와 '의안 번호'로 merge 예정\n"
      ]
    },
    {
      "cell_type": "code",
      "metadata": {
        "id": "wwM8iHAm7Etm"
      },
      "source": [
        "bill_content_21 = pd.read_csv('/content/drive/MyDrive/codestates/codestates project 1/21대 국회 의안정보.csv')"
      ],
      "execution_count": 174,
      "outputs": []
    },
    {
      "cell_type": "code",
      "metadata": {
        "colab": {
          "base_uri": "https://localhost:8080/",
          "height": 307
        },
        "id": "htyKOPQb7T-P",
        "outputId": "66751e0d-3408-41f7-80ec-f82214b7ba5b"
      },
      "source": [
        "bill_content_21.tail()"
      ],
      "execution_count": 183,
      "outputs": [
        {
          "output_type": "execute_result",
          "data": {
            "text/html": [
              "<div>\n",
              "<style scoped>\n",
              "    .dataframe tbody tr th:only-of-type {\n",
              "        vertical-align: middle;\n",
              "    }\n",
              "\n",
              "    .dataframe tbody tr th {\n",
              "        vertical-align: top;\n",
              "    }\n",
              "\n",
              "    .dataframe thead th {\n",
              "        text-align: right;\n",
              "    }\n",
              "</style>\n",
              "<table border=\"1\" class=\"dataframe\">\n",
              "  <thead>\n",
              "    <tr style=\"text-align: right;\">\n",
              "      <th></th>\n",
              "      <th>의안번호</th>\n",
              "      <th>의안명</th>\n",
              "      <th>제안일자</th>\n",
              "      <th>제안자구분</th>\n",
              "      <th>의결일자</th>\n",
              "      <th>의결결과</th>\n",
              "      <th>제안회기</th>\n",
              "      <th>제안이유</th>\n",
              "      <th>소관위원회</th>\n",
              "      <th>제안자</th>\n",
              "    </tr>\n",
              "  </thead>\n",
              "  <tbody>\n",
              "    <tr>\n",
              "      <th>930</th>\n",
              "      <td>2111902</td>\n",
              "      <td>사회복지사 등의 처우 및 지위 향상을 위한 법률 일부개정법률안(안규백의원 등 10인)</td>\n",
              "      <td>2021-08-04</td>\n",
              "      <td>의원</td>\n",
              "      <td>NaN</td>\n",
              "      <td>NaN</td>\n",
              "      <td>제21대 (2020~2024) 제389회</td>\n",
              "      <td>['제안이유 및 주요내용현행법에서 국가는 사회복지사 등의 적정 인건비에 관한 기준을...</td>\n",
              "      <td>보건복지위원회</td>\n",
              "      <td>[]</td>\n",
              "    </tr>\n",
              "    <tr>\n",
              "      <th>931</th>\n",
              "      <td>2111901</td>\n",
              "      <td>조세특례제한법 일부개정법률안(고용진의원등20인)</td>\n",
              "      <td>2021-08-04</td>\n",
              "      <td>의원</td>\n",
              "      <td>NaN</td>\n",
              "      <td>NaN</td>\n",
              "      <td>제21대 (2020~2024) 제389회</td>\n",
              "      <td>['제안이유 및 주요내용현행법은 종합소득이 있는 50세 이상의 거주자(원천징수된 이...</td>\n",
              "      <td>기획재정위원회</td>\n",
              "      <td>[]</td>\n",
              "    </tr>\n",
              "    <tr>\n",
              "      <th>932</th>\n",
              "      <td>2111900</td>\n",
              "      <td>소득세법 일부개정법률안(고용진의원 등 21인)</td>\n",
              "      <td>2021-08-04</td>\n",
              "      <td>의원</td>\n",
              "      <td>NaN</td>\n",
              "      <td>NaN</td>\n",
              "      <td>제21대 (2020~2024) 제389회</td>\n",
              "      <td>['제안이유 및 주요내용현행법은 연금계좌 납입액의 일정비율에 해당하는 금액을 종합소...</td>\n",
              "      <td>기획재정위원회</td>\n",
              "      <td>[]</td>\n",
              "    </tr>\n",
              "    <tr>\n",
              "      <th>933</th>\n",
              "      <td>2111899</td>\n",
              "      <td>국가재정법 일부개정법률안(이낙연의원등25인)</td>\n",
              "      <td>2021-08-04</td>\n",
              "      <td>의원</td>\n",
              "      <td>NaN</td>\n",
              "      <td>NaN</td>\n",
              "      <td>제21대 (2020~2024) 제389회</td>\n",
              "      <td>['제안이유 및 주요내용현행법은 연기금 등 국가재정에 관한 사항을 정함으로써 효율적...</td>\n",
              "      <td>기획재정위원회</td>\n",
              "      <td>[]</td>\n",
              "    </tr>\n",
              "    <tr>\n",
              "      <th>934</th>\n",
              "      <td>2111898</td>\n",
              "      <td>국민연금법 일부개정법률안(이낙연의원등25인)</td>\n",
              "      <td>2021-08-04</td>\n",
              "      <td>의원</td>\n",
              "      <td>NaN</td>\n",
              "      <td>NaN</td>\n",
              "      <td>제21대 (2020~2024) 제389회</td>\n",
              "      <td>['제안이유 및 주요내용현행법에 따르면 국민연금기금을 증권의 매매나 대여를 통해 관...</td>\n",
              "      <td>보건복지위원회</td>\n",
              "      <td>[]</td>\n",
              "    </tr>\n",
              "  </tbody>\n",
              "</table>\n",
              "</div>"
            ],
            "text/plain": [
              "        의안번호                                                의안명  ...    소관위원회 제안자\n",
              "930  2111902    사회복지사 등의 처우 및 지위 향상을 위한 법률 일부개정법률안(안규백의원 등 10인)  ...  보건복지위원회  []\n",
              "931  2111901                         조세특례제한법 일부개정법률안(고용진의원등20인)  ...  기획재정위원회  []\n",
              "932  2111900                          소득세법 일부개정법률안(고용진의원 등 21인)  ...  기획재정위원회  []\n",
              "933  2111899                           국가재정법 일부개정법률안(이낙연의원등25인)  ...  기획재정위원회  []\n",
              "934  2111898                           국민연금법 일부개정법률안(이낙연의원등25인)  ...  보건복지위원회  []\n",
              "\n",
              "[5 rows x 10 columns]"
            ]
          },
          "metadata": {},
          "execution_count": 183
        }
      ]
    },
    {
      "cell_type": "markdown",
      "metadata": {
        "id": "2Nq7dCbWXGLa"
      },
      "source": [
        "#**1. 21대 국회의원 기본 특징**\n",
        "- 사용 데이터 \n",
        "  ```\n",
        "  1) 21대 국회의원 당선인 데이터\n",
        "  2) 인구통계데이터 (국내 거주자/2021.09.30(현 시점 가장 최근) 기준)\n",
        "  ```\n",
        "- 연령, 성별, 학력, 전공, 경력 및 기타 특징"
      ]
    },
    {
      "cell_type": "markdown",
      "metadata": {
        "id": "ux5vLefNYe8Z"
      },
      "source": [
        "###**데이터 준비 및 전처리**"
      ]
    },
    {
      "cell_type": "code",
      "metadata": {
        "colab": {
          "base_uri": "https://localhost:8080/",
          "height": 547
        },
        "id": "d_cpKPtFgpzF",
        "outputId": "5d31bfd5-7153-4b55-ffec-82ff9360dfbd"
      },
      "source": [
        "df_21.head(10)"
      ],
      "execution_count": 25,
      "outputs": [
        {
          "output_type": "execute_result",
          "data": {
            "text/html": [
              "<div>\n",
              "<style scoped>\n",
              "    .dataframe tbody tr th:only-of-type {\n",
              "        vertical-align: middle;\n",
              "    }\n",
              "\n",
              "    .dataframe tbody tr th {\n",
              "        vertical-align: top;\n",
              "    }\n",
              "\n",
              "    .dataframe thead th {\n",
              "        text-align: right;\n",
              "    }\n",
              "</style>\n",
              "<table border=\"1\" class=\"dataframe\">\n",
              "  <thead>\n",
              "    <tr style=\"text-align: right;\">\n",
              "      <th></th>\n",
              "      <th>시도명</th>\n",
              "      <th>선거구명</th>\n",
              "      <th>소속정당명</th>\n",
              "      <th>성명</th>\n",
              "      <th>한자</th>\n",
              "      <th>성별</th>\n",
              "      <th>생년월일</th>\n",
              "      <th>연령</th>\n",
              "      <th>직업</th>\n",
              "      <th>학력</th>\n",
              "      <th>경력1</th>\n",
              "      <th>경력2</th>\n",
              "    </tr>\n",
              "  </thead>\n",
              "  <tbody>\n",
              "    <tr>\n",
              "      <th>0</th>\n",
              "      <td>서울특별시</td>\n",
              "      <td>종로구</td>\n",
              "      <td>더불어민주당</td>\n",
              "      <td>이낙연</td>\n",
              "      <td>李洛淵</td>\n",
              "      <td>남</td>\n",
              "      <td>19521220</td>\n",
              "      <td>67</td>\n",
              "      <td>정당인</td>\n",
              "      <td>서울대학교 법과대학 법학과 졸업</td>\n",
              "      <td>(현)민주당 코로나19국난극복위원장</td>\n",
              "      <td>(전)제45대 국무총리</td>\n",
              "    </tr>\n",
              "    <tr>\n",
              "      <th>1</th>\n",
              "      <td>서울특별시</td>\n",
              "      <td>중구성동구을</td>\n",
              "      <td>더불어민주당</td>\n",
              "      <td>박성준</td>\n",
              "      <td>朴省俊</td>\n",
              "      <td>남</td>\n",
              "      <td>19690423</td>\n",
              "      <td>50</td>\n",
              "      <td>정당인</td>\n",
              "      <td>성균관대학교 정치외교학과 정치학 박사</td>\n",
              "      <td>(전) JTBC 아나운서</td>\n",
              "      <td>(현)더불어민주당 중앙당 부대변인</td>\n",
              "    </tr>\n",
              "    <tr>\n",
              "      <th>2</th>\n",
              "      <td>서울특별시</td>\n",
              "      <td>용산구</td>\n",
              "      <td>미래통합당</td>\n",
              "      <td>권영세</td>\n",
              "      <td>權寧世</td>\n",
              "      <td>남</td>\n",
              "      <td>19590224</td>\n",
              "      <td>61</td>\n",
              "      <td>변호사</td>\n",
              "      <td>하버드대학교 케네디스쿨 졸업 (행정학석사 2000.7~2001.6)</td>\n",
              "      <td>(전) 주중국대한민국 대사</td>\n",
              "      <td>(전) 제16ㆍ17ㆍ18대 국회의원</td>\n",
              "    </tr>\n",
              "    <tr>\n",
              "      <th>3</th>\n",
              "      <td>서울특별시</td>\n",
              "      <td>중구성동구갑</td>\n",
              "      <td>더불어민주당</td>\n",
              "      <td>홍익표</td>\n",
              "      <td>洪翼杓</td>\n",
              "      <td>남</td>\n",
              "      <td>19671120</td>\n",
              "      <td>52</td>\n",
              "      <td>정치인</td>\n",
              "      <td>한양대학교 대학원 정치외교학과 졸업(정치학박사)</td>\n",
              "      <td>(현)국회의원(제19대.20대)</td>\n",
              "      <td>(전)더불어민주당 수석대변인</td>\n",
              "    </tr>\n",
              "    <tr>\n",
              "      <th>4</th>\n",
              "      <td>서울특별시</td>\n",
              "      <td>광진구갑</td>\n",
              "      <td>더불어민주당</td>\n",
              "      <td>전혜숙</td>\n",
              "      <td>全惠淑</td>\n",
              "      <td>여</td>\n",
              "      <td>19550505</td>\n",
              "      <td>64</td>\n",
              "      <td>국회의원</td>\n",
              "      <td>성균관대학교 임상약학대학원 약학석사(사회약학)</td>\n",
              "      <td>(현) 제20대 광진구갑 국회의원</td>\n",
              "      <td>(현) 국회 행정안전위원회 위원장</td>\n",
              "    </tr>\n",
              "    <tr>\n",
              "      <th>5</th>\n",
              "      <td>서울특별시</td>\n",
              "      <td>광진구을</td>\n",
              "      <td>더불어민주당</td>\n",
              "      <td>고민정</td>\n",
              "      <td>高旼廷</td>\n",
              "      <td>여</td>\n",
              "      <td>19790823</td>\n",
              "      <td>40</td>\n",
              "      <td>정당인</td>\n",
              "      <td>경희대학교 외국어학부 동아시아어학과(중국어 전공) 졸업</td>\n",
              "      <td>(전) 문재인 정부 청와대 대변인</td>\n",
              "      <td>(전) KBS 아나운서</td>\n",
              "    </tr>\n",
              "    <tr>\n",
              "      <th>6</th>\n",
              "      <td>서울특별시</td>\n",
              "      <td>동대문구갑</td>\n",
              "      <td>더불어민주당</td>\n",
              "      <td>안규백</td>\n",
              "      <td>安圭伯</td>\n",
              "      <td>남</td>\n",
              "      <td>19610429</td>\n",
              "      <td>58</td>\n",
              "      <td>국회의원</td>\n",
              "      <td>성균관대학교 무역대학원 무역학과 석사과정 수료</td>\n",
              "      <td>(현)제20대 동대문구갑 국회의원</td>\n",
              "      <td>(현)국회 국방위원장</td>\n",
              "    </tr>\n",
              "    <tr>\n",
              "      <th>7</th>\n",
              "      <td>서울특별시</td>\n",
              "      <td>동대문구을</td>\n",
              "      <td>더불어민주당</td>\n",
              "      <td>장경태</td>\n",
              "      <td>張耿態</td>\n",
              "      <td>남</td>\n",
              "      <td>19831012</td>\n",
              "      <td>36</td>\n",
              "      <td>정당인</td>\n",
              "      <td>성균관대학교 국정전문대학원 행정학과 수료(박사학위과정)</td>\n",
              "      <td>(현)문재인 대통령직속 국가균형발전위원회 국민소통특별위원</td>\n",
              "      <td>(현)더불어민주당 도시교통특별위원장</td>\n",
              "    </tr>\n",
              "    <tr>\n",
              "      <th>8</th>\n",
              "      <td>서울특별시</td>\n",
              "      <td>중랑구갑</td>\n",
              "      <td>더불어민주당</td>\n",
              "      <td>서영교</td>\n",
              "      <td>徐瑛敎</td>\n",
              "      <td>여</td>\n",
              "      <td>19641111</td>\n",
              "      <td>55</td>\n",
              "      <td>국회의원</td>\n",
              "      <td>이화여자대학교대학원 동아시아학연구 비교정치경제전공 박사학위과정수료</td>\n",
              "      <td>(전)더불어민주당 원내수석부대표</td>\n",
              "      <td>(현)제20대 국회의원</td>\n",
              "    </tr>\n",
              "    <tr>\n",
              "      <th>9</th>\n",
              "      <td>서울특별시</td>\n",
              "      <td>중랑구을</td>\n",
              "      <td>더불어민주당</td>\n",
              "      <td>박홍근</td>\n",
              "      <td>朴洪根</td>\n",
              "      <td>남</td>\n",
              "      <td>19691008</td>\n",
              "      <td>50</td>\n",
              "      <td>제20대 국회의원</td>\n",
              "      <td>경희대학교 행정대학원 환경행정학과 졸업(행정학석사)</td>\n",
              "      <td>(현) 국회의원(제19대, 20대)</td>\n",
              "      <td>(전) 더불어민주당 원내수석부대표</td>\n",
              "    </tr>\n",
              "  </tbody>\n",
              "</table>\n",
              "</div>"
            ],
            "text/plain": [
              "     시도명    선거구명  ...                              경력1                  경력2\n",
              "0  서울특별시     종로구  ...              (현)민주당 코로나19국난극복위원장         (전)제45대 국무총리\n",
              "1  서울특별시  중구성동구을  ...                    (전) JTBC 아나운서   (현)더불어민주당 중앙당 부대변인\n",
              "2  서울특별시     용산구  ...                   (전) 주중국대한민국 대사  (전) 제16ㆍ17ㆍ18대 국회의원\n",
              "3  서울특별시  중구성동구갑  ...                (현)국회의원(제19대.20대)      (전)더불어민주당 수석대변인\n",
              "4  서울특별시    광진구갑  ...               (현) 제20대 광진구갑 국회의원   (현) 국회 행정안전위원회 위원장\n",
              "5  서울특별시    광진구을  ...               (전) 문재인 정부 청와대 대변인         (전) KBS 아나운서\n",
              "6  서울특별시   동대문구갑  ...               (현)제20대 동대문구갑 국회의원          (현)국회 국방위원장\n",
              "7  서울특별시   동대문구을  ...  (현)문재인 대통령직속 국가균형발전위원회 국민소통특별위원  (현)더불어민주당 도시교통특별위원장\n",
              "8  서울특별시    중랑구갑  ...                (전)더불어민주당 원내수석부대표         (현)제20대 국회의원\n",
              "9  서울특별시    중랑구을  ...              (현) 국회의원(제19대, 20대)   (전) 더불어민주당 원내수석부대표\n",
              "\n",
              "[10 rows x 12 columns]"
            ]
          },
          "metadata": {},
          "execution_count": 25
        }
      ]
    },
    {
      "cell_type": "code",
      "metadata": {
        "colab": {
          "base_uri": "https://localhost:8080/"
        },
        "id": "iNtzgt73ThCD",
        "outputId": "3be13a99-1114-4755-cc74-3cdb6f3a9d25"
      },
      "source": [
        "df_21.isnull().sum()"
      ],
      "execution_count": 26,
      "outputs": [
        {
          "output_type": "execute_result",
          "data": {
            "text/plain": [
              "시도명      0\n",
              "선거구명     0\n",
              "소속정당명    0\n",
              "성명       0\n",
              "한자       0\n",
              "성별       0\n",
              "생년월일     0\n",
              "연령       0\n",
              "직업       0\n",
              "학력       0\n",
              "경력1      0\n",
              "경력2      1\n",
              "dtype: int64"
            ]
          },
          "metadata": {},
          "execution_count": 26
        }
      ]
    },
    {
      "cell_type": "code",
      "metadata": {
        "colab": {
          "base_uri": "https://localhost:8080/"
        },
        "id": "R_B1t8hVT53a",
        "outputId": "bbf48ae7-9b08-46b4-e84e-92b9b2b226f2"
      },
      "source": [
        "# 필요 컬럼만 남기기\n",
        "df_21_columns = ['시도명', '선거구명', '소속정당명', '성명', '성별', '연령', '직업', '학력', '경력1', '경력2']\n",
        "\n",
        "df_21 = df_21[df_21_columns]\n",
        "df_21.shape"
      ],
      "execution_count": 27,
      "outputs": [
        {
          "output_type": "execute_result",
          "data": {
            "text/plain": [
              "(253, 10)"
            ]
          },
          "metadata": {},
          "execution_count": 27
        }
      ]
    },
    {
      "cell_type": "markdown",
      "metadata": {
        "id": "vc674MrzfdTk"
      },
      "source": [
        "###**성별**"
      ]
    },
    {
      "cell_type": "markdown",
      "metadata": {
        "id": "0jXcl8PaP38m"
      },
      "source": [
        "**국회의원 성별**"
      ]
    },
    {
      "cell_type": "code",
      "metadata": {
        "id": "jp-2cvHjYm2O"
      },
      "source": [
        "sex_counts = df_21['성별'].value_counts()"
      ],
      "execution_count": 28,
      "outputs": []
    },
    {
      "cell_type": "code",
      "metadata": {
        "colab": {
          "base_uri": "https://localhost:8080/",
          "height": 263
        },
        "id": "BmRR_4DUfmXx",
        "outputId": "52ab6b8e-f901-4933-892b-e56e73d6850e"
      },
      "source": [
        "# 국회의원 성별 파이 차트\n",
        "plt.rc('font', family='NanumBarunGothic') \n",
        "\n",
        "plt.pie(x=sex_counts,labels=sex_counts.index, autopct='%.1f%%', shadow=True )\n",
        "plt.title('국회의원 성별 비율(%)')\n",
        "plt.show()"
      ],
      "execution_count": 29,
      "outputs": [
        {
          "output_type": "display_data",
          "data": {
            "image/png": "[encoded data removed]",
            "text/plain": [
              "<Figure size 432x288 with 1 Axes>"
            ]
          },
          "metadata": {}
        }
      ]
    },
    {
      "cell_type": "markdown",
      "metadata": {
        "id": "izfIsNUgP79B"
      },
      "source": [
        "**인구 통계 성별**"
      ]
    },
    {
      "cell_type": "code",
      "metadata": {
        "colab": {
          "base_uri": "https://localhost:8080/",
          "height": 204
        },
        "id": "plHqK-aIhf6m",
        "outputId": "fbec5658-1758-47e8-ab7a-5a15366027fe"
      },
      "source": [
        "pop_men.head()"
      ],
      "execution_count": 30,
      "outputs": [
        {
          "output_type": "execute_result",
          "data": {
            "text/html": [
              "<div>\n",
              "<style scoped>\n",
              "    .dataframe tbody tr th:only-of-type {\n",
              "        vertical-align: middle;\n",
              "    }\n",
              "\n",
              "    .dataframe tbody tr th {\n",
              "        vertical-align: top;\n",
              "    }\n",
              "\n",
              "    .dataframe thead th {\n",
              "        text-align: right;\n",
              "    }\n",
              "</style>\n",
              "<table border=\"1\" class=\"dataframe\">\n",
              "  <thead>\n",
              "    <tr style=\"text-align: right;\">\n",
              "      <th></th>\n",
              "      <th>남자_총인구수</th>\n",
              "      <th>20대~100세 이상</th>\n",
              "      <th>20대</th>\n",
              "      <th>30대</th>\n",
              "      <th>40대</th>\n",
              "      <th>50대</th>\n",
              "      <th>60대</th>\n",
              "      <th>70대</th>\n",
              "      <th>80대</th>\n",
              "      <th>90대</th>\n",
              "      <th>100세 이상</th>\n",
              "    </tr>\n",
              "  </thead>\n",
              "  <tbody>\n",
              "    <tr>\n",
              "      <th>0</th>\n",
              "      <td>25591420</td>\n",
              "      <td>21201746</td>\n",
              "      <td>3508446</td>\n",
              "      <td>3460997</td>\n",
              "      <td>4122023</td>\n",
              "      <td>4304721</td>\n",
              "      <td>3444997</td>\n",
              "      <td>1666057</td>\n",
              "      <td>637685</td>\n",
              "      <td>55744</td>\n",
              "      <td>1076</td>\n",
              "    </tr>\n",
              "    <tr>\n",
              "      <th>1</th>\n",
              "      <td>4581312</td>\n",
              "      <td>3888130</td>\n",
              "      <td>688688</td>\n",
              "      <td>715865</td>\n",
              "      <td>727841</td>\n",
              "      <td>727126</td>\n",
              "      <td>593819</td>\n",
              "      <td>312697</td>\n",
              "      <td>112100</td>\n",
              "      <td>9755</td>\n",
              "      <td>239</td>\n",
              "    </tr>\n",
              "    <tr>\n",
              "      <th>2</th>\n",
              "      <td>1632912</td>\n",
              "      <td>1381331</td>\n",
              "      <td>217739</td>\n",
              "      <td>208022</td>\n",
              "      <td>251735</td>\n",
              "      <td>267614</td>\n",
              "      <td>256188</td>\n",
              "      <td>133042</td>\n",
              "      <td>43834</td>\n",
              "      <td>3112</td>\n",
              "      <td>45</td>\n",
              "    </tr>\n",
              "    <tr>\n",
              "      <th>3</th>\n",
              "      <td>1172995</td>\n",
              "      <td>971271</td>\n",
              "      <td>166556</td>\n",
              "      <td>149250</td>\n",
              "      <td>183346</td>\n",
              "      <td>203505</td>\n",
              "      <td>160716</td>\n",
              "      <td>77153</td>\n",
              "      <td>28656</td>\n",
              "      <td>2064</td>\n",
              "      <td>25</td>\n",
              "    </tr>\n",
              "    <tr>\n",
              "      <th>4</th>\n",
              "      <td>1461405</td>\n",
              "      <td>1209573</td>\n",
              "      <td>203934</td>\n",
              "      <td>206083</td>\n",
              "      <td>243495</td>\n",
              "      <td>251150</td>\n",
              "      <td>192852</td>\n",
              "      <td>81222</td>\n",
              "      <td>28159</td>\n",
              "      <td>2613</td>\n",
              "      <td>65</td>\n",
              "    </tr>\n",
              "  </tbody>\n",
              "</table>\n",
              "</div>"
            ],
            "text/plain": [
              "    남자_총인구수  20대~100세 이상      20대      30대  ...      70대     80대    90대  100세 이상\n",
              "0  25591420     21201746  3508446  3460997  ...  1666057  637685  55744     1076\n",
              "1   4581312      3888130   688688   715865  ...   312697  112100   9755      239\n",
              "2   1632912      1381331   217739   208022  ...   133042   43834   3112       45\n",
              "3   1172995       971271   166556   149250  ...    77153   28656   2064       25\n",
              "4   1461405      1209573   203934   206083  ...    81222   28159   2613       65\n",
              "\n",
              "[5 rows x 11 columns]"
            ]
          },
          "metadata": {},
          "execution_count": 30
        }
      ]
    },
    {
      "cell_type": "code",
      "metadata": {
        "colab": {
          "base_uri": "https://localhost:8080/"
        },
        "id": "uICGhulaQA7W",
        "outputId": "88552a28-a0f4-4e99-dc76-46107ac81d66"
      },
      "source": [
        "total_men = pop_men.iloc[0,0]\n",
        "total_women = pop_women.iloc[0,0]\n",
        "men_percent = round(total_men / (total_men + total_women) * 100, 1)\n",
        "women_percent = round(total_women / (total_men + total_women) * 100, 1)\n",
        "\n",
        "men_percent, women_percent"
      ],
      "execution_count": 31,
      "outputs": [
        {
          "output_type": "execute_result",
          "data": {
            "text/plain": [
              "(49.8, 50.2)"
            ]
          },
          "metadata": {},
          "execution_count": 31
        }
      ]
    },
    {
      "cell_type": "code",
      "metadata": {
        "colab": {
          "base_uri": "https://localhost:8080/",
          "height": 263
        },
        "id": "1mFmwlkrOHId",
        "outputId": "3ad62b56-92ad-48ea-faa5-acdfc1e321a3"
      },
      "source": [
        "# 인구통계 성별 파이 차트\n",
        "\n",
        "labels = ['남성','여성']\n",
        "ratio = [ men_percent, women_percent]\n",
        "\n",
        "plt.pie(ratio, labels=labels, autopct='%1.1f%%')\n",
        "plt.title(\"인구통계 성별 비율(%)\")\n",
        "plt.show()"
      ],
      "execution_count": 32,
      "outputs": [
        {
          "output_type": "display_data",
          "data": {
            "image/png": "[encoded data removed]",
            "text/plain": [
              "<Figure size 432x288 with 1 Axes>"
            ]
          },
          "metadata": {}
        }
      ]
    },
    {
      "cell_type": "markdown",
      "metadata": {
        "id": "En9TjUWCfhJa"
      },
      "source": [
        "###**연령 + 범주화**"
      ]
    },
    {
      "cell_type": "code",
      "metadata": {
        "colab": {
          "base_uri": "https://localhost:8080/"
        },
        "id": "DKvga7hsdGn3",
        "outputId": "6b7715ab-779f-4735-b4a9-6ab658cc07f6"
      },
      "source": [
        "df_21['연령'].describe()"
      ],
      "execution_count": 33,
      "outputs": [
        {
          "output_type": "execute_result",
          "data": {
            "text/plain": [
              "count    253.000000\n",
              "mean      55.608696\n",
              "std        6.556912\n",
              "min       32.000000\n",
              "25%       52.000000\n",
              "50%       56.000000\n",
              "75%       59.000000\n",
              "max       72.000000\n",
              "Name: 연령, dtype: float64"
            ]
          },
          "metadata": {},
          "execution_count": 33
        }
      ]
    },
    {
      "cell_type": "code",
      "metadata": {
        "id": "JSf0IFYZc87s"
      },
      "source": [
        "# 연령별 범주화 - pd.cut\n",
        "\n",
        "ages = df_21['연령']\n",
        "bins = [20,30,40,50,60,70,80,90]\n",
        "labels = ['20대','30대','40대','50대','60대','70대','80대']\n",
        "cuts = pd.cut(ages, bins, right=False, labels=labels)\n",
        "df_21['연령대'] = cuts"
      ],
      "execution_count": 34,
      "outputs": []
    },
    {
      "cell_type": "code",
      "metadata": {
        "colab": {
          "base_uri": "https://localhost:8080/",
          "height": 204
        },
        "id": "-JBIk5JYhu4r",
        "outputId": "7033b891-d992-4396-8699-1b43bd3eda4d"
      },
      "source": [
        "df_21.head()"
      ],
      "execution_count": 35,
      "outputs": [
        {
          "output_type": "execute_result",
          "data": {
            "text/html": [
              "<div>\n",
              "<style scoped>\n",
              "    .dataframe tbody tr th:only-of-type {\n",
              "        vertical-align: middle;\n",
              "    }\n",
              "\n",
              "    .dataframe tbody tr th {\n",
              "        vertical-align: top;\n",
              "    }\n",
              "\n",
              "    .dataframe thead th {\n",
              "        text-align: right;\n",
              "    }\n",
              "</style>\n",
              "<table border=\"1\" class=\"dataframe\">\n",
              "  <thead>\n",
              "    <tr style=\"text-align: right;\">\n",
              "      <th></th>\n",
              "      <th>시도명</th>\n",
              "      <th>선거구명</th>\n",
              "      <th>소속정당명</th>\n",
              "      <th>성명</th>\n",
              "      <th>성별</th>\n",
              "      <th>연령</th>\n",
              "      <th>직업</th>\n",
              "      <th>학력</th>\n",
              "      <th>경력1</th>\n",
              "      <th>경력2</th>\n",
              "      <th>연령대</th>\n",
              "    </tr>\n",
              "  </thead>\n",
              "  <tbody>\n",
              "    <tr>\n",
              "      <th>0</th>\n",
              "      <td>서울특별시</td>\n",
              "      <td>종로구</td>\n",
              "      <td>더불어민주당</td>\n",
              "      <td>이낙연</td>\n",
              "      <td>남</td>\n",
              "      <td>67</td>\n",
              "      <td>정당인</td>\n",
              "      <td>서울대학교 법과대학 법학과 졸업</td>\n",
              "      <td>(현)민주당 코로나19국난극복위원장</td>\n",
              "      <td>(전)제45대 국무총리</td>\n",
              "      <td>60대</td>\n",
              "    </tr>\n",
              "    <tr>\n",
              "      <th>1</th>\n",
              "      <td>서울특별시</td>\n",
              "      <td>중구성동구을</td>\n",
              "      <td>더불어민주당</td>\n",
              "      <td>박성준</td>\n",
              "      <td>남</td>\n",
              "      <td>50</td>\n",
              "      <td>정당인</td>\n",
              "      <td>성균관대학교 정치외교학과 정치학 박사</td>\n",
              "      <td>(전) JTBC 아나운서</td>\n",
              "      <td>(현)더불어민주당 중앙당 부대변인</td>\n",
              "      <td>50대</td>\n",
              "    </tr>\n",
              "    <tr>\n",
              "      <th>2</th>\n",
              "      <td>서울특별시</td>\n",
              "      <td>용산구</td>\n",
              "      <td>미래통합당</td>\n",
              "      <td>권영세</td>\n",
              "      <td>남</td>\n",
              "      <td>61</td>\n",
              "      <td>변호사</td>\n",
              "      <td>하버드대학교 케네디스쿨 졸업 (행정학석사 2000.7~2001.6)</td>\n",
              "      <td>(전) 주중국대한민국 대사</td>\n",
              "      <td>(전) 제16ㆍ17ㆍ18대 국회의원</td>\n",
              "      <td>60대</td>\n",
              "    </tr>\n",
              "    <tr>\n",
              "      <th>3</th>\n",
              "      <td>서울특별시</td>\n",
              "      <td>중구성동구갑</td>\n",
              "      <td>더불어민주당</td>\n",
              "      <td>홍익표</td>\n",
              "      <td>남</td>\n",
              "      <td>52</td>\n",
              "      <td>정치인</td>\n",
              "      <td>한양대학교 대학원 정치외교학과 졸업(정치학박사)</td>\n",
              "      <td>(현)국회의원(제19대.20대)</td>\n",
              "      <td>(전)더불어민주당 수석대변인</td>\n",
              "      <td>50대</td>\n",
              "    </tr>\n",
              "    <tr>\n",
              "      <th>4</th>\n",
              "      <td>서울특별시</td>\n",
              "      <td>광진구갑</td>\n",
              "      <td>더불어민주당</td>\n",
              "      <td>전혜숙</td>\n",
              "      <td>여</td>\n",
              "      <td>64</td>\n",
              "      <td>국회의원</td>\n",
              "      <td>성균관대학교 임상약학대학원 약학석사(사회약학)</td>\n",
              "      <td>(현) 제20대 광진구갑 국회의원</td>\n",
              "      <td>(현) 국회 행정안전위원회 위원장</td>\n",
              "      <td>60대</td>\n",
              "    </tr>\n",
              "  </tbody>\n",
              "</table>\n",
              "</div>"
            ],
            "text/plain": [
              "     시도명    선거구명   소속정당명  ...                  경력1                  경력2  연령대\n",
              "0  서울특별시     종로구  더불어민주당  ...  (현)민주당 코로나19국난극복위원장         (전)제45대 국무총리  60대\n",
              "1  서울특별시  중구성동구을  더불어민주당  ...        (전) JTBC 아나운서   (현)더불어민주당 중앙당 부대변인  50대\n",
              "2  서울특별시     용산구   미래통합당  ...       (전) 주중국대한민국 대사  (전) 제16ㆍ17ㆍ18대 국회의원  60대\n",
              "3  서울특별시  중구성동구갑  더불어민주당  ...    (현)국회의원(제19대.20대)      (전)더불어민주당 수석대변인  50대\n",
              "4  서울특별시    광진구갑  더불어민주당  ...   (현) 제20대 광진구갑 국회의원   (현) 국회 행정안전위원회 위원장  60대\n",
              "\n",
              "[5 rows x 11 columns]"
            ]
          },
          "metadata": {},
          "execution_count": 35
        }
      ]
    },
    {
      "cell_type": "code",
      "metadata": {
        "id": "5fCuk2Rth8U3"
      },
      "source": [
        "age_counts = df_21['연령대'].value_counts()"
      ],
      "execution_count": 36,
      "outputs": []
    },
    {
      "cell_type": "code",
      "metadata": {
        "colab": {
          "base_uri": "https://localhost:8080/",
          "height": 280
        },
        "id": "moZlL0XFjMBS",
        "outputId": "0f757bb0-ded0-4f9d-cb2d-3d4d1d6194f3"
      },
      "source": [
        "# '연령' 컬럼 박스 플롯\n",
        "df_21['연령'].plot(kind='box', notch=True, sym='bo',vert=0);\n",
        "plt.title(\"국회의원 연령 분포\")\n",
        "\n",
        "plt.show()"
      ],
      "execution_count": 37,
      "outputs": [
        {
          "output_type": "display_data",
          "data": {
            "image/png": "[encoded data removed]",
            "text/plain": [
              "<Figure size 432x288 with 1 Axes>"
            ]
          },
          "metadata": {
            "needs_background": "light"
          }
        }
      ]
    },
    {
      "cell_type": "code",
      "metadata": {
        "colab": {
          "base_uri": "https://localhost:8080/",
          "height": 263
        },
        "id": "r4qtAbq4iEkJ",
        "outputId": "92105a55-792f-435f-a974-aa0a434c57bb"
      },
      "source": [
        "# '연령대' 컬럼 파이 차트 1\n",
        "plt.pie(x=age_counts, labels=age_counts.index, autopct='%.1f%%', shadow=True )\n",
        "plt.title(\"국회의원 연령대 별 비율(%)\")\n",
        "plt.show();"
      ],
      "execution_count": 38,
      "outputs": [
        {
          "output_type": "display_data",
          "data": {
            "image/png": "[encoded data removed]",
            "text/plain": [
              "<Figure size 432x288 with 1 Axes>"
            ]
          },
          "metadata": {}
        }
      ]
    },
    {
      "cell_type": "code",
      "metadata": {
        "colab": {
          "base_uri": "https://localhost:8080/",
          "height": 481
        },
        "id": "VJcR_YDDnVKq",
        "outputId": "f43815ba-6e68-4e7a-a6cb-500fb4459240"
      },
      "source": [
        "# '연령대' 컬럼 파이 차트 2\n",
        "\n",
        "colors = ['pink','orange','yellowgreen','lemonchiffon','lightcoral']\n",
        "labels = age_counts.index\n",
        "frequency = age_counts\n",
        "\n",
        "labels_frequency = zip(labels,frequency,colors) \n",
        "labels_frequency = sorted(labels_frequency,key=lambda x: x[1],reverse=True)\n",
        "\n",
        "sorted_labels = [x[0] for x in labels_frequency] ## 정렬된 라벨\n",
        "sorted_frequency = [x[1] for x in labels_frequency] ## 정렬된 빈도수\n",
        "sorted_colors = [x[2] for x in labels_frequency] ## 정렬된 색상\n",
        " \n",
        "fig = plt.figure(figsize=(8,8)) ## 캔버스 생성\n",
        "fig.set_facecolor('white') ## 캔버스 배경색을 하얀색으로 설정\n",
        "ax = fig.add_subplot() ## 프레임 생성\n",
        " \n",
        "pie = ax.pie(sorted_frequency, ## 파이차트 출력\n",
        "       startangle=90, ## 시작점을 90도(degree)로 지정\n",
        "       counterclock=False, ## 시계방향으로 그려짐\n",
        "       colors = sorted_colors, ## 색상 지정\n",
        "       )\n",
        " \n",
        "total = np.sum(frequency) ## 빈도수 합\n",
        " \n",
        "threshold = 10\n",
        "sum_pct = 0 ## 퍼센티지\n",
        "count_less_5pct = 0 ## 5%보다 작은 라벨의 개수\n",
        "spacing = 0.1\n",
        "for i,l in enumerate(sorted_labels):\n",
        "    ang1, ang2 = ax.patches[i].theta1, ax.patches[i].theta2 ## 파이의 시작 각도와 끝 각도\n",
        "    center, r = ax.patches[i].center, ax.patches[i].r ## 파이의 중심 좌표\n",
        "    \n",
        "    ## 비율 상한선보다 작은 것들은 계단형태로 만든다.\n",
        "    if sorted_frequency[i]/total*100 < threshold:\n",
        "        x = (r/2+spacing*count_less_5pct)*np.cos(np.pi/180*((ang1+ang2)/2)) + center[0] ## 텍스트 x좌표\n",
        "        y = (r/2+spacing*count_less_5pct)*np.sin(np.pi/180*((ang1+ang2)/2)) + center[1] ## 텍스트 y좌표\n",
        "        count_less_5pct += 1\n",
        "    else:\n",
        "        x = (r/2)*np.cos(np.pi/180*((ang1+ang2)/2)) + center[0] ## 텍스트 x좌표\n",
        "        y = (r/2)*np.sin(np.pi/180*((ang1+ang2)/2)) + center[1] ## 텍스트 y좌표\n",
        "    \n",
        "    ## 퍼센티지 출력\n",
        "    if i < len(labels) - 1:\n",
        "        sum_pct += float(f'{sorted_frequency[i]/total*100:.2f}')\n",
        "        ax.text(x,y,f'{sorted_frequency[i]/total*100:.2f}%',ha='center',va='center',fontsize=12)\n",
        "    # else: ## 마지막 파이 조각은 퍼센티지의 합이 100이 되도록 비율을 조절\n",
        "    #     ax.text(x,y,f'{100-sum_pct:.2f}%',ha='center',va='center',fontsize=12)\n",
        " \n",
        "plt.legend(pie[0],labels) ## 범례\n",
        "plt.title(\"국회의원 연령대 별 비율(%)\")\n",
        "plt.show()"
      ],
      "execution_count": 39,
      "outputs": [
        {
          "output_type": "display_data",
          "data": {
            "image/png": "[encoded data removed]",
            "text/plain": [
              "<Figure size 576x576 with 1 Axes>"
            ]
          },
          "metadata": {}
        }
      ]
    },
    {
      "cell_type": "markdown",
      "metadata": {
        "id": "pnjjtpf98b05"
      },
      "source": [
        "###**인구 통계 데이터 (연령별/성별)(국내거주자, 2021.09.30 기준)**"
      ]
    },
    {
      "cell_type": "code",
      "metadata": {
        "colab": {
          "base_uri": "https://localhost:8080/"
        },
        "id": "pg4dt9eJAvFc",
        "outputId": "71bf8d48-791c-416a-f411-6101100668b4"
      },
      "source": [
        "pop_total.info()"
      ],
      "execution_count": 40,
      "outputs": [
        {
          "output_type": "stream",
          "name": "stdout",
          "text": [
            "<class 'pandas.core.frame.DataFrame'>\n",
            "RangeIndex: 18 entries, 0 to 17\n",
            "Data columns (total 11 columns):\n",
            " #   Column       Non-Null Count  Dtype\n",
            "---  ------       --------------  -----\n",
            " 0   총인구수         18 non-null     int64\n",
            " 1   20대~100세 이상  18 non-null     int64\n",
            " 2   20대          18 non-null     int64\n",
            " 3   30대          18 non-null     int64\n",
            " 4   40대          18 non-null     int64\n",
            " 5   50대          18 non-null     int64\n",
            " 6   60대          18 non-null     int64\n",
            " 7   70대          18 non-null     int64\n",
            " 8   80대          18 non-null     int64\n",
            " 9   90대          18 non-null     int64\n",
            " 10  100세 이상      18 non-null     int64\n",
            "dtypes: int64(11)\n",
            "memory usage: 1.7 KB\n"
          ]
        }
      ]
    },
    {
      "cell_type": "code",
      "metadata": {
        "id": "vpwbC-63DZpY"
      },
      "source": [
        "x = np.arange(8)\n",
        "ages = pop_total.columns[2:]\n",
        "values = pop_total.iloc[0,2:10]"
      ],
      "execution_count": 41,
      "outputs": []
    },
    {
      "cell_type": "code",
      "metadata": {
        "colab": {
          "base_uri": "https://localhost:8080/",
          "height": 280
        },
        "id": "F7HzFd40GVaB",
        "outputId": "6f56328e-47c3-4273-d9fd-89c932f090cf"
      },
      "source": [
        "plt.bar(x, values)\n",
        "plt.xticks(x,ages)\n",
        "plt.ylim\n",
        "plt.title(\"인구통계 연령대 별 분포\")\n",
        "\n",
        "plt.show();"
      ],
      "execution_count": 42,
      "outputs": [
        {
          "output_type": "display_data",
          "data": {
            "image/png": "[encoded data removed]",
            "text/plain": [
              "<Figure size 432x288 with 1 Axes>"
            ]
          },
          "metadata": {
            "needs_background": "light"
          }
        }
      ]
    },
    {
      "cell_type": "code",
      "metadata": {
        "id": "Bg7okO6jHF5S"
      },
      "source": [
        "# percentage\n",
        "trans_pop = pop_total.transpose()\n",
        "# trans_pop['20~29세':'100세 이상']\n",
        "trans_pop['percent'] = round(trans_pop[0]/trans_pop.iloc[1,0] *100,1)"
      ],
      "execution_count": 43,
      "outputs": []
    },
    {
      "cell_type": "code",
      "metadata": {
        "colab": {
          "base_uri": "https://localhost:8080/"
        },
        "id": "S8RqpOIRIm5C",
        "outputId": "75b72e9f-c7b5-49aa-bd9c-9b69cd67d5b5"
      },
      "source": [
        "# 20 - 100세 이상 총 인구수\n",
        "trans_pop.iloc[1,0]"
      ],
      "execution_count": 44,
      "outputs": [
        {
          "output_type": "execute_result",
          "data": {
            "text/plain": [
              "42814896"
            ]
          },
          "metadata": {},
          "execution_count": 44
        }
      ]
    },
    {
      "cell_type": "code",
      "metadata": {
        "colab": {
          "base_uri": "https://localhost:8080/"
        },
        "id": "GCDukw_OJboA",
        "outputId": "4dbfd7f6-daa2-471f-9714-ea2eb9c77178"
      },
      "source": [
        "trans_pop['percent'][2:]"
      ],
      "execution_count": 45,
      "outputs": [
        {
          "output_type": "execute_result",
          "data": {
            "text/plain": [
              "20대        15.6\n",
              "30대        15.7\n",
              "40대        19.0\n",
              "50대        19.9\n",
              "60대        16.4\n",
              "70대         8.6\n",
              "80대         4.2\n",
              "90대         0.6\n",
              "100세 이상     0.0\n",
              "Name: percent, dtype: float64"
            ]
          },
          "metadata": {},
          "execution_count": 45
        }
      ]
    },
    {
      "cell_type": "code",
      "metadata": {
        "colab": {
          "base_uri": "https://localhost:8080/",
          "height": 263
        },
        "id": "UkuyzoFsBx6q",
        "outputId": "7c2e39f7-5588-4885-e9a8-991755dc97fa"
      },
      "source": [
        "labels = trans_pop.index[2:10]\n",
        "ratio = trans_pop['percent'][2:10]\n",
        "\n",
        "plt.pie(ratio, labels=labels, autopct='%1.1f%%')\n",
        "plt.title(\"인구통계 연령대 별 비율\")\n",
        "plt.show()"
      ],
      "execution_count": 46,
      "outputs": [
        {
          "output_type": "display_data",
          "data": {
            "image/png": "[encoded data removed]",
            "text/plain": [
              "<Figure size 432x288 with 1 Axes>"
            ]
          },
          "metadata": {}
        }
      ]
    },
    {
      "cell_type": "markdown",
      "metadata": {
        "id": "VS7HyH4GprJO"
      },
      "source": [
        "**국회의원 전체 연령대 vs. 인구 통계 연령대**\n",
        "\n",
        "- 21대 국회의원 중 50대와 60대 국회의원이 압도적인 비율을 차지하고 있음을 알 수 있다. (약 85%)\n",
        "  - 인구 통계 데이터에서 50+60대 비율은 36.3%로, 같은 나이대 국회의원 비율과 2배 이상 차이나는 모습\n",
        "\n",
        "\n",
        "- 이 외에 20대는 전무하며, 흔히 '청년층'이라 함께 묶이는 30대와 40대 국회의원의 수도 합쳤을 때, 전체 비율에서 약 13퍼센트만을 차지하고 있다. \n",
        "  - 인구 통계 데이터에서 30+40대의 비율은 34.7%로 같은 나이대의 국회의원 비율과 괴리가 있음. \n",
        "\n",
        "\n",
        "\n",
        "- 국회의원 선거 후보자 연령대 제한 : 선거일 만 25세 이상의 국민\n",
        "  - cf. 지방선거 연령대 : 선거일 당일 만 25세 이상의 국민\n",
        "  - cf. 대통령 후보자 연령대 : 선거일 당일 40살\n",
        "  - cf. 유권자 연령대 : 18세 이상\n",
        "- 연령대 별 전국민 분포 통계 : 가장 최근 자료인 2021.09자료 (https://jumin.mois.go.kr/ageStatMonth.do#none)\n",
        "- 연령대 별 전국민 분포와 비교해보았을 때, 국민의 입장을 대변하는 입법 활동에 대한 의무를 지닌 국회의원이 임기동안 의무를 다 할 수 있을지는 확실치 않다.\n",
        "  ```\n",
        "  **인구 통계 데이터**\n",
        "    20대 : 15.6%\n",
        "    30대 :15.7%\n",
        "    40대 :19.0%\n",
        "    30+40대 : 34.7%\n",
        "    50대 :19.9%\n",
        "    60대 :16.4%\n",
        "    50+60대 : 36.3%\n",
        "  ```\n"
      ]
    },
    {
      "cell_type": "markdown",
      "metadata": {
        "id": "9VbML6MFYdQE"
      },
      "source": [
        "###**성별 + 연령 groupby**"
      ]
    },
    {
      "cell_type": "code",
      "metadata": {
        "colab": {
          "base_uri": "https://localhost:8080/",
          "height": 279
        },
        "id": "xu8WBszmllqN",
        "outputId": "6fa4259d-b55e-4d2e-bd79-c0536fb1d7bb"
      },
      "source": [
        "# 성별 + 연령 그룹 박스 플롯\n",
        "\n",
        "sns.boxplot(x='연령', y='성별', data=df_21)\n",
        "plt.show()"
      ],
      "execution_count": 47,
      "outputs": [
        {
          "output_type": "display_data",
          "data": {
            "image/png": "[encoded data removed]",
            "text/plain": [
              "<Figure size 432x288 with 1 Axes>"
            ]
          },
          "metadata": {
            "needs_background": "light"
          }
        }
      ]
    },
    {
      "cell_type": "markdown",
      "metadata": {
        "id": "lEqTGCjEmB3V"
      },
      "source": [
        "- 남성 국회의원의 평균 나이대 및 최고 나이대가 여성보다 높음을 알 수 있다. "
      ]
    },
    {
      "cell_type": "markdown",
      "metadata": {
        "id": "ZdC2zmPZpFvB"
      },
      "source": [
        "###**정당 표기 / 경력 / 학력**\n",
        "- 국회는 입법 기관으로서 이곳에 소속된 국회의원들의 가장 중요한 의무는 국민의 대리인으로서 국민 권리를 위해 대한민국의 법을 만드는 것이다. \n",
        "- 그렇다면, 과연 법과 관련된 이력이 있거나, 법과 관련된 전공을 한 의원들이 다른 이들보다 법안을 만드는 의무에 좀 더 두각을 나타내고 있을까?\n",
        "- 해당 부분을 평가하는 지표로 \"정성들여 만든 법안의 질\"도 중요하지만, 데이터로 판가름할 수 있는 \"발의 및 가결안의 '양'\"을 삼았다. \n",
        "\n"
      ]
    },
    {
      "cell_type": "code",
      "metadata": {
        "colab": {
          "base_uri": "https://localhost:8080/"
        },
        "id": "KmsruPIoqJC4",
        "outputId": "643dd2a3-898d-4241-ef71-027b52578eed"
      },
      "source": [
        "new_people.info()"
      ],
      "execution_count": 48,
      "outputs": [
        {
          "output_type": "stream",
          "name": "stdout",
          "text": [
            "<class 'pandas.core.frame.DataFrame'>\n",
            "RangeIndex: 5605 entries, 0 to 5604\n",
            "Data columns (total 16 columns):\n",
            " #   Column    Non-Null Count  Dtype \n",
            "---  ------    --------------  ----- \n",
            " 0   DAESU     5605 non-null   int64 \n",
            " 1   DAE       5605 non-null   object\n",
            " 2   DAE_NM    5605 non-null   object\n",
            " 3   NAME      5605 non-null   object\n",
            " 4   NAME_HAN  5605 non-null   object\n",
            " 5   JA        90 non-null     object\n",
            " 6   HO        1383 non-null   object\n",
            " 7   BIRTH     5605 non-null   object\n",
            " 8   BON       2777 non-null   object\n",
            " 9   POSI      4317 non-null   object\n",
            " 10  HAK       5598 non-null   object\n",
            " 11  HOBBY     2297 non-null   object\n",
            " 12  BOOK      1880 non-null   object\n",
            " 13  SANG      2230 non-null   object\n",
            " 14  DEAD      5605 non-null   object\n",
            " 15  URL       5605 non-null   object\n",
            "dtypes: int64(1), object(15)\n",
            "memory usage: 700.8+ KB\n"
          ]
        }
      ]
    },
    {
      "cell_type": "code",
      "metadata": {
        "id": "8C5BHz3ep3VQ"
      },
      "source": [
        "people = new_people[(new_people['DAESU']==21) | (new_people['DAESU']==20) | (new_people['DAESU']==19)]"
      ],
      "execution_count": 49,
      "outputs": []
    },
    {
      "cell_type": "code",
      "metadata": {
        "colab": {
          "base_uri": "https://localhost:8080/",
          "height": 392
        },
        "id": "wt--dJasxEsU",
        "outputId": "f1ecc0c8-cae8-405e-c073-504b3dc0467a"
      },
      "source": [
        "people.head()"
      ],
      "execution_count": 50,
      "outputs": [
        {
          "output_type": "execute_result",
          "data": {
            "text/html": [
              "<div>\n",
              "<style scoped>\n",
              "    .dataframe tbody tr th:only-of-type {\n",
              "        vertical-align: middle;\n",
              "    }\n",
              "\n",
              "    .dataframe tbody tr th {\n",
              "        vertical-align: top;\n",
              "    }\n",
              "\n",
              "    .dataframe thead th {\n",
              "        text-align: right;\n",
              "    }\n",
              "</style>\n",
              "<table border=\"1\" class=\"dataframe\">\n",
              "  <thead>\n",
              "    <tr style=\"text-align: right;\">\n",
              "      <th></th>\n",
              "      <th>DAESU</th>\n",
              "      <th>DAE</th>\n",
              "      <th>DAE_NM</th>\n",
              "      <th>NAME</th>\n",
              "      <th>NAME_HAN</th>\n",
              "      <th>JA</th>\n",
              "      <th>HO</th>\n",
              "      <th>BIRTH</th>\n",
              "      <th>BON</th>\n",
              "      <th>POSI</th>\n",
              "      <th>HAK</th>\n",
              "      <th>HOBBY</th>\n",
              "      <th>BOOK</th>\n",
              "      <th>SANG</th>\n",
              "      <th>DEAD</th>\n",
              "      <th>URL</th>\n",
              "    </tr>\n",
              "  </thead>\n",
              "  <tbody>\n",
              "    <tr>\n",
              "      <th>0</th>\n",
              "      <td>21</td>\n",
              "      <td>제19대국회의원(경남 창원시성산구) 정당_66\\r\\n제21대국회의원(경남 창원시성산...</td>\n",
              "      <td>21대의원</td>\n",
              "      <td>강기윤</td>\n",
              "      <td>姜起潤</td>\n",
              "      <td>NaN</td>\n",
              "      <td>NaN</td>\n",
              "      <td>1960년 06월 04일</td>\n",
              "      <td>NaN</td>\n",
              "      <td>NaN</td>\n",
              "      <td>창원상남초등학교 \\r\\n창원남중학교\\r\\n마산공업고등학교  \\r\\n창원대학교 행정학...</td>\n",
              "      <td>NaN</td>\n",
              "      <td>NaN</td>\n",
              "      <td>NaN</td>\n",
              "      <td>년   월   일</td>\n",
              "      <td>http://www.rokps.or.kr/profile/profile_view.as...</td>\n",
              "    </tr>\n",
              "    <tr>\n",
              "      <th>1</th>\n",
              "      <td>21</td>\n",
              "      <td>제21대국회의원(대구동구을) 정당_74</td>\n",
              "      <td>21대의원</td>\n",
              "      <td>강대식</td>\n",
              "      <td>姜大植</td>\n",
              "      <td>NaN</td>\n",
              "      <td>NaN</td>\n",
              "      <td>1959년 11월 02일</td>\n",
              "      <td>NaN</td>\n",
              "      <td>NaN</td>\n",
              "      <td>경북대학교 사범대학 부속고등학교\\r\\n영남대학교 경영대학원 경영학 석사, 박사\\r\\...</td>\n",
              "      <td>NaN</td>\n",
              "      <td>NaN</td>\n",
              "      <td>NaN</td>\n",
              "      <td>년   월   일</td>\n",
              "      <td>http://www.rokps.or.kr/profile/profile_view.as...</td>\n",
              "    </tr>\n",
              "    <tr>\n",
              "      <th>2</th>\n",
              "      <td>21</td>\n",
              "      <td>제21대국회의원(경기안양시만안구) 정당_7</td>\n",
              "      <td>21대의원</td>\n",
              "      <td>강득구</td>\n",
              "      <td>姜得求</td>\n",
              "      <td>NaN</td>\n",
              "      <td>NaN</td>\n",
              "      <td>1963년 05월 27일</td>\n",
              "      <td>NaN</td>\n",
              "      <td>NaN</td>\n",
              "      <td>성균관대학교 한국철학과 학사\\r\\n연세대학교 행정대학원 정치행정리더십학 석사\\r\\n...</td>\n",
              "      <td>NaN</td>\n",
              "      <td>2015. 우산이 필요한 당신에게\\r\\n2019. 득구있다</td>\n",
              "      <td>NaN</td>\n",
              "      <td>년   월   일</td>\n",
              "      <td>http://www.rokps.or.kr/profile/profile_view.as...</td>\n",
              "    </tr>\n",
              "    <tr>\n",
              "      <th>3</th>\n",
              "      <td>21</td>\n",
              "      <td>제21대국회의원(경남진주시을) 정당_74</td>\n",
              "      <td>21대의원</td>\n",
              "      <td>강민국</td>\n",
              "      <td>姜旻局</td>\n",
              "      <td>NaN</td>\n",
              "      <td>NaN</td>\n",
              "      <td>1971년 03월 03일</td>\n",
              "      <td>NaN</td>\n",
              "      <td>NaN</td>\n",
              "      <td>경남대학교 대학원 법학과 졸업(법학박사)\\r\\n\\r\\n2004. 진주국제대학교 경찰...</td>\n",
              "      <td>NaN</td>\n",
              "      <td>NaN</td>\n",
              "      <td>NaN</td>\n",
              "      <td>년   월   일</td>\n",
              "      <td>http://www.rokps.or.kr/profile/profile_view.as...</td>\n",
              "    </tr>\n",
              "    <tr>\n",
              "      <th>4</th>\n",
              "      <td>21</td>\n",
              "      <td>제21대국회의원(비례대표) 정당_30</td>\n",
              "      <td>21대의원</td>\n",
              "      <td>강민정</td>\n",
              "      <td>姜旼姃</td>\n",
              "      <td>NaN</td>\n",
              "      <td>NaN</td>\n",
              "      <td>1961년 04월 26일</td>\n",
              "      <td>NaN</td>\n",
              "      <td>NaN</td>\n",
              "      <td>서울대학교 사범대학 역사교육과 졸업\\r\\n\\r\\n2005. 전국교직원노동조합 서울북...</td>\n",
              "      <td>NaN</td>\n",
              "      <td>2013. 교사와 학부모가 함께 읽는 주제통합수업\\r\\n2017. 혁신학교, 한국교...</td>\n",
              "      <td>NaN</td>\n",
              "      <td>년   월   일</td>\n",
              "      <td>http://www.rokps.or.kr/profile/profile_view.as...</td>\n",
              "    </tr>\n",
              "  </tbody>\n",
              "</table>\n",
              "</div>"
            ],
            "text/plain": [
              "   DAESU  ...                                                URL\n",
              "0     21  ...  http://www.rokps.or.kr/profile/profile_view.as...\n",
              "1     21  ...  http://www.rokps.or.kr/profile/profile_view.as...\n",
              "2     21  ...  http://www.rokps.or.kr/profile/profile_view.as...\n",
              "3     21  ...  http://www.rokps.or.kr/profile/profile_view.as...\n",
              "4     21  ...  http://www.rokps.or.kr/profile/profile_view.as...\n",
              "\n",
              "[5 rows x 16 columns]"
            ]
          },
          "metadata": {},
          "execution_count": 50
        }
      ]
    },
    {
      "cell_type": "markdown",
      "metadata": {
        "id": "Gz_K8Sym4mSc"
      },
      "source": [
        "**정당 표기**"
      ]
    },
    {
      "cell_type": "code",
      "metadata": {
        "colab": {
          "base_uri": "https://localhost:8080/",
          "height": 204
        },
        "id": "damdK8hc4lq_",
        "outputId": "83ca91a1-28a4-4d72-af30-08c2af56f3e9"
      },
      "source": [
        "party = people[['DAESU','DAE','NAME','HAK']]\n",
        "party.head()"
      ],
      "execution_count": 51,
      "outputs": [
        {
          "output_type": "execute_result",
          "data": {
            "text/html": [
              "<div>\n",
              "<style scoped>\n",
              "    .dataframe tbody tr th:only-of-type {\n",
              "        vertical-align: middle;\n",
              "    }\n",
              "\n",
              "    .dataframe tbody tr th {\n",
              "        vertical-align: top;\n",
              "    }\n",
              "\n",
              "    .dataframe thead th {\n",
              "        text-align: right;\n",
              "    }\n",
              "</style>\n",
              "<table border=\"1\" class=\"dataframe\">\n",
              "  <thead>\n",
              "    <tr style=\"text-align: right;\">\n",
              "      <th></th>\n",
              "      <th>DAESU</th>\n",
              "      <th>DAE</th>\n",
              "      <th>NAME</th>\n",
              "      <th>HAK</th>\n",
              "    </tr>\n",
              "  </thead>\n",
              "  <tbody>\n",
              "    <tr>\n",
              "      <th>0</th>\n",
              "      <td>21</td>\n",
              "      <td>제19대국회의원(경남 창원시성산구) 정당_66\\r\\n제21대국회의원(경남 창원시성산...</td>\n",
              "      <td>강기윤</td>\n",
              "      <td>창원상남초등학교 \\r\\n창원남중학교\\r\\n마산공업고등학교  \\r\\n창원대학교 행정학...</td>\n",
              "    </tr>\n",
              "    <tr>\n",
              "      <th>1</th>\n",
              "      <td>21</td>\n",
              "      <td>제21대국회의원(대구동구을) 정당_74</td>\n",
              "      <td>강대식</td>\n",
              "      <td>경북대학교 사범대학 부속고등학교\\r\\n영남대학교 경영대학원 경영학 석사, 박사\\r\\...</td>\n",
              "    </tr>\n",
              "    <tr>\n",
              "      <th>2</th>\n",
              "      <td>21</td>\n",
              "      <td>제21대국회의원(경기안양시만안구) 정당_7</td>\n",
              "      <td>강득구</td>\n",
              "      <td>성균관대학교 한국철학과 학사\\r\\n연세대학교 행정대학원 정치행정리더십학 석사\\r\\n...</td>\n",
              "    </tr>\n",
              "    <tr>\n",
              "      <th>3</th>\n",
              "      <td>21</td>\n",
              "      <td>제21대국회의원(경남진주시을) 정당_74</td>\n",
              "      <td>강민국</td>\n",
              "      <td>경남대학교 대학원 법학과 졸업(법학박사)\\r\\n\\r\\n2004. 진주국제대학교 경찰...</td>\n",
              "    </tr>\n",
              "    <tr>\n",
              "      <th>4</th>\n",
              "      <td>21</td>\n",
              "      <td>제21대국회의원(비례대표) 정당_30</td>\n",
              "      <td>강민정</td>\n",
              "      <td>서울대학교 사범대학 역사교육과 졸업\\r\\n\\r\\n2005. 전국교직원노동조합 서울북...</td>\n",
              "    </tr>\n",
              "  </tbody>\n",
              "</table>\n",
              "</div>"
            ],
            "text/plain": [
              "   DAESU  ...                                                HAK\n",
              "0     21  ...  창원상남초등학교 \\r\\n창원남중학교\\r\\n마산공업고등학교  \\r\\n창원대학교 행정학...\n",
              "1     21  ...  경북대학교 사범대학 부속고등학교\\r\\n영남대학교 경영대학원 경영학 석사, 박사\\r\\...\n",
              "2     21  ...  성균관대학교 한국철학과 학사\\r\\n연세대학교 행정대학원 정치행정리더십학 석사\\r\\n...\n",
              "3     21  ...  경남대학교 대학원 법학과 졸업(법학박사)\\r\\n\\r\\n2004. 진주국제대학교 경찰...\n",
              "4     21  ...  서울대학교 사범대학 역사교육과 졸업\\r\\n\\r\\n2005. 전국교직원노동조합 서울북...\n",
              "\n",
              "[5 rows x 4 columns]"
            ]
          },
          "metadata": {},
          "execution_count": 51
        }
      ]
    },
    {
      "cell_type": "code",
      "metadata": {
        "colab": {
          "base_uri": "https://localhost:8080/",
          "height": 35
        },
        "id": "Fbm3XZX0tTrn",
        "outputId": "58cfa1e0-7744-4591-d3ec-478fffccfa37"
      },
      "source": [
        "party['DAE'][0]"
      ],
      "execution_count": 52,
      "outputs": [
        {
          "output_type": "execute_result",
          "data": {
            "application/vnd.google.colaboratory.intrinsic+json": {
              "type": "string"
            },
            "text/plain": [
              "'제19대국회의원(경남 창원시성산구) 정당_66\\r\\n제21대국회의원(경남 창원시성산구) 정당_74'"
            ]
          },
          "metadata": {},
          "execution_count": 52
        }
      ]
    },
    {
      "cell_type": "code",
      "metadata": {
        "colab": {
          "base_uri": "https://localhost:8080/",
          "height": 35
        },
        "id": "q3gjKiXx4xeD",
        "outputId": "6cc3d36c-6f0a-4805-f656-2225a7487f76"
      },
      "source": [
        "str(party['DAESU'][800])"
      ],
      "execution_count": 53,
      "outputs": [
        {
          "output_type": "execute_result",
          "data": {
            "application/vnd.google.colaboratory.intrinsic+json": {
              "type": "string"
            },
            "text/plain": [
              "'19'"
            ]
          },
          "metadata": {},
          "execution_count": 53
        }
      ]
    },
    {
      "cell_type": "code",
      "metadata": {
        "colab": {
          "base_uri": "https://localhost:8080/"
        },
        "id": "8fHbqTP13Miw",
        "outputId": "983bfd90-57de-4717-88c1-459805fcb178"
      },
      "source": [
        "party['DAE'][0].find(str(party['DAESU'][0]))"
      ],
      "execution_count": 54,
      "outputs": [
        {
          "output_type": "execute_result",
          "data": {
            "text/plain": [
              "28"
            ]
          },
          "metadata": {},
          "execution_count": 54
        }
      ]
    },
    {
      "cell_type": "code",
      "metadata": {
        "colab": {
          "base_uri": "https://localhost:8080/"
        },
        "id": "RW9I1d8NxQ6S",
        "outputId": "8890ef20-00ed-4718-9493-d5aef486454c"
      },
      "source": [
        "# 정당 표기\n",
        "# find(string, start, end) ==> 있으면, 해당 index, 없으면 -1 print\n",
        "# 20대 ==> 20대 정당 출력 (대수에 맞는 정당 출력)\n",
        "# 정당, 무소속\n",
        "\n",
        "party_list = []\n",
        "\n",
        "# 21, 20, 19 ==> 21대, 20대, 19대로 바꿔놓기 위한 DAESU_2\n",
        "# 정당 표기에도 숫자가 혼용되어 있기 때문에 확실한 식벽을 위해 '대'를 붙여서 사용\n",
        "party['DAESU_2'] = np.NaN\n",
        "\n",
        "\n",
        "for idx in range(len(party)):\n",
        "  dae = party['DAE'][idx]\n",
        "  party['DAESU_2'][idx] = str(party['DAESU'][idx])+'대'\n",
        "\n",
        "  if dae.find('정당',dae.find(str(party['DAESU_2'][idx]))) >= 0:\n",
        "    if dae.find('무소속', dae.find(str(party['DAESU_2'][idx]))) >=0:\n",
        "      if dae.find('정당', dae.find(str(party['DAESU_2'][idx]))) < dae.find('무소속', dae.find(str(party['DAESU_2'][idx]))):\n",
        "        party_list.append(dae[dae.find('정당',dae.find(str(party['DAESU_2'][idx]))): \\\n",
        "        dae.find('정당', dae.find(str(party['DAESU_2'][idx]))) + 5])\n",
        "      else:\n",
        "        party_list.append('무소속')\n",
        "\n",
        "    else:\n",
        "      party_list.append(dae[dae.find('정당', dae.find(str(party['DAESU_2'][idx]))): \\\n",
        "                                   dae.find('정당', dae.find(str(party['DAESU_2'][idx]))) + 5])\n",
        "  else:\n",
        "    party_list.append('무소속')\n",
        "\n",
        "party['DAE'] = party_list"
      ],
      "execution_count": 55,
      "outputs": [
        {
          "output_type": "stream",
          "name": "stderr",
          "text": [
            "/usr/local/lib/python3.7/dist-packages/ipykernel_launcher.py:10: SettingWithCopyWarning: \n",
            "A value is trying to be set on a copy of a slice from a DataFrame.\n",
            "Try using .loc[row_indexer,col_indexer] = value instead\n",
            "\n",
            "See the caveats in the documentation: https://pandas.pydata.org/pandas-docs/stable/user_guide/indexing.html#returning-a-view-versus-a-copy\n",
            "  # Remove the CWD from sys.path while we load stuff.\n",
            "/usr/local/lib/python3.7/dist-packages/ipykernel_launcher.py:15: SettingWithCopyWarning: \n",
            "A value is trying to be set on a copy of a slice from a DataFrame\n",
            "\n",
            "See the caveats in the documentation: https://pandas.pydata.org/pandas-docs/stable/user_guide/indexing.html#returning-a-view-versus-a-copy\n",
            "  from ipykernel import kernelapp as app\n",
            "/usr/local/lib/python3.7/dist-packages/pandas/core/indexing.py:670: SettingWithCopyWarning: \n",
            "A value is trying to be set on a copy of a slice from a DataFrame\n",
            "\n",
            "See the caveats in the documentation: https://pandas.pydata.org/pandas-docs/stable/user_guide/indexing.html#returning-a-view-versus-a-copy\n",
            "  iloc._setitem_with_indexer(indexer, value)\n",
            "/usr/local/lib/python3.7/dist-packages/pandas/core/series.py:1009: SettingWithCopyWarning: \n",
            "A value is trying to be set on a copy of a slice from a DataFrame\n",
            "\n",
            "See the caveats in the documentation: https://pandas.pydata.org/pandas-docs/stable/user_guide/indexing.html#returning-a-view-versus-a-copy\n",
            "  self.loc[key] = value\n",
            "/usr/local/lib/python3.7/dist-packages/IPython/core/interactiveshell.py:2882: SettingWithCopyWarning: \n",
            "A value is trying to be set on a copy of a slice from a DataFrame\n",
            "\n",
            "See the caveats in the documentation: https://pandas.pydata.org/pandas-docs/stable/user_guide/indexing.html#returning-a-view-versus-a-copy\n",
            "  exec(code_obj, self.user_global_ns, self.user_ns)\n",
            "/usr/local/lib/python3.7/dist-packages/ipykernel_launcher.py:29: SettingWithCopyWarning: \n",
            "A value is trying to be set on a copy of a slice from a DataFrame.\n",
            "Try using .loc[row_indexer,col_indexer] = value instead\n",
            "\n",
            "See the caveats in the documentation: https://pandas.pydata.org/pandas-docs/stable/user_guide/indexing.html#returning-a-view-versus-a-copy\n"
          ]
        }
      ]
    },
    {
      "cell_type": "code",
      "metadata": {
        "colab": {
          "base_uri": "https://localhost:8080/",
          "height": 204
        },
        "id": "BKMbdIZq_cDG",
        "outputId": "3c189db0-966e-4a05-ac59-ad4c0217dcfd"
      },
      "source": [
        "party.head()"
      ],
      "execution_count": 56,
      "outputs": [
        {
          "output_type": "execute_result",
          "data": {
            "text/html": [
              "<div>\n",
              "<style scoped>\n",
              "    .dataframe tbody tr th:only-of-type {\n",
              "        vertical-align: middle;\n",
              "    }\n",
              "\n",
              "    .dataframe tbody tr th {\n",
              "        vertical-align: top;\n",
              "    }\n",
              "\n",
              "    .dataframe thead th {\n",
              "        text-align: right;\n",
              "    }\n",
              "</style>\n",
              "<table border=\"1\" class=\"dataframe\">\n",
              "  <thead>\n",
              "    <tr style=\"text-align: right;\">\n",
              "      <th></th>\n",
              "      <th>DAESU</th>\n",
              "      <th>DAE</th>\n",
              "      <th>NAME</th>\n",
              "      <th>HAK</th>\n",
              "      <th>DAESU_2</th>\n",
              "    </tr>\n",
              "  </thead>\n",
              "  <tbody>\n",
              "    <tr>\n",
              "      <th>0</th>\n",
              "      <td>21</td>\n",
              "      <td>정당_74</td>\n",
              "      <td>강기윤</td>\n",
              "      <td>창원상남초등학교 \\r\\n창원남중학교\\r\\n마산공업고등학교  \\r\\n창원대학교 행정학...</td>\n",
              "      <td>21대</td>\n",
              "    </tr>\n",
              "    <tr>\n",
              "      <th>1</th>\n",
              "      <td>21</td>\n",
              "      <td>정당_74</td>\n",
              "      <td>강대식</td>\n",
              "      <td>경북대학교 사범대학 부속고등학교\\r\\n영남대학교 경영대학원 경영학 석사, 박사\\r\\...</td>\n",
              "      <td>21대</td>\n",
              "    </tr>\n",
              "    <tr>\n",
              "      <th>2</th>\n",
              "      <td>21</td>\n",
              "      <td>정당_7</td>\n",
              "      <td>강득구</td>\n",
              "      <td>성균관대학교 한국철학과 학사\\r\\n연세대학교 행정대학원 정치행정리더십학 석사\\r\\n...</td>\n",
              "      <td>21대</td>\n",
              "    </tr>\n",
              "    <tr>\n",
              "      <th>3</th>\n",
              "      <td>21</td>\n",
              "      <td>정당_74</td>\n",
              "      <td>강민국</td>\n",
              "      <td>경남대학교 대학원 법학과 졸업(법학박사)\\r\\n\\r\\n2004. 진주국제대학교 경찰...</td>\n",
              "      <td>21대</td>\n",
              "    </tr>\n",
              "    <tr>\n",
              "      <th>4</th>\n",
              "      <td>21</td>\n",
              "      <td>정당_30</td>\n",
              "      <td>강민정</td>\n",
              "      <td>서울대학교 사범대학 역사교육과 졸업\\r\\n\\r\\n2005. 전국교직원노동조합 서울북...</td>\n",
              "      <td>21대</td>\n",
              "    </tr>\n",
              "  </tbody>\n",
              "</table>\n",
              "</div>"
            ],
            "text/plain": [
              "   DAESU    DAE NAME                                                HAK DAESU_2\n",
              "0     21  정당_74  강기윤  창원상남초등학교 \\r\\n창원남중학교\\r\\n마산공업고등학교  \\r\\n창원대학교 행정학...     21대\n",
              "1     21  정당_74  강대식  경북대학교 사범대학 부속고등학교\\r\\n영남대학교 경영대학원 경영학 석사, 박사\\r\\...     21대\n",
              "2     21   정당_7  강득구  성균관대학교 한국철학과 학사\\r\\n연세대학교 행정대학원 정치행정리더십학 석사\\r\\n...     21대\n",
              "3     21  정당_74  강민국  경남대학교 대학원 법학과 졸업(법학박사)\\r\\n\\r\\n2004. 진주국제대학교 경찰...     21대\n",
              "4     21  정당_30  강민정  서울대학교 사범대학 역사교육과 졸업\\r\\n\\r\\n2005. 전국교직원노동조합 서울북...     21대"
            ]
          },
          "metadata": {},
          "execution_count": 56
        }
      ]
    },
    {
      "cell_type": "code",
      "metadata": {
        "colab": {
          "base_uri": "https://localhost:8080/"
        },
        "id": "4guelFu7_wAn",
        "outputId": "6843403f-fb49-4d3f-d010-cb883a554b50"
      },
      "source": [
        "party['DAE'].unique()"
      ],
      "execution_count": 57,
      "outputs": [
        {
          "output_type": "execute_result",
          "data": {
            "text/plain": [
              "array(['정당_74', '정당_7', '정당_30', '정당_7\\r', '정당_72', '무소속', '정당_75',\n",
              "       '정당_7)', '정당_6', '정당_6,', '정당_66', '정당_8', '정당_8\\r', '정당_25',\n",
              "       '정당_46', '정당_7,', '정당_45', '정당_70', '정당_12', '정당_52', '정당_34',\n",
              "       '정당_47'], dtype=object)"
            ]
          },
          "metadata": {},
          "execution_count": 57
        }
      ]
    },
    {
      "cell_type": "code",
      "metadata": {
        "colab": {
          "base_uri": "https://localhost:8080/"
        },
        "id": "cWG-rq12_8ff",
        "outputId": "02bf32d0-0d28-43e5-95b9-d1f52e9c2bec"
      },
      "source": [
        "party['DAE'].value_counts()"
      ],
      "execution_count": 58,
      "outputs": [
        {
          "output_type": "execute_result",
          "data": {
            "text/plain": [
              "정당_66     288\n",
              "정당_7\\r    171\n",
              "정당_7      145\n",
              "정당_45     131\n",
              "정당_74      84\n",
              "정당_75      40\n",
              "무소속        23\n",
              "정당_6       17\n",
              "정당_12      13\n",
              "정당_72      12\n",
              "정당_52       3\n",
              "정당_30       3\n",
              "정당_8\\r      2\n",
              "정당_6,       2\n",
              "정당_7,       1\n",
              "정당_7)       1\n",
              "정당_70       1\n",
              "정당_8        1\n",
              "정당_46       1\n",
              "정당_25       1\n",
              "정당_34       1\n",
              "정당_47       1\n",
              "Name: DAE, dtype: int64"
            ]
          },
          "metadata": {},
          "execution_count": 58
        }
      ]
    },
    {
      "cell_type": "code",
      "metadata": {
        "colab": {
          "base_uri": "https://localhost:8080/"
        },
        "id": "ZiOqj9bt_jZz",
        "outputId": "83021f64-bdfd-4c97-a393-b438e5a038f0"
      },
      "source": [
        "for idx in range(len(party)):\n",
        "  party['DAE'][idx] = party['DAE'][idx].replace('\\r','').replace(',','').replace(')','')\n",
        "\n",
        "# 쓸모를 다한 ['DAESU_2] 컬럼은 삭제\n",
        "party.drop(['DAESU_2'],axis=1, inplace=True)\n",
        "party=party.rename({'DAE':'PARTY'}, axis='columns')"
      ],
      "execution_count": 59,
      "outputs": [
        {
          "output_type": "stream",
          "name": "stderr",
          "text": [
            "/usr/local/lib/python3.7/dist-packages/ipykernel_launcher.py:2: SettingWithCopyWarning: \n",
            "A value is trying to be set on a copy of a slice from a DataFrame\n",
            "\n",
            "See the caveats in the documentation: https://pandas.pydata.org/pandas-docs/stable/user_guide/indexing.html#returning-a-view-versus-a-copy\n",
            "  \n",
            "/usr/local/lib/python3.7/dist-packages/IPython/core/interactiveshell.py:2882: SettingWithCopyWarning: \n",
            "A value is trying to be set on a copy of a slice from a DataFrame\n",
            "\n",
            "See the caveats in the documentation: https://pandas.pydata.org/pandas-docs/stable/user_guide/indexing.html#returning-a-view-versus-a-copy\n",
            "  exec(code_obj, self.user_global_ns, self.user_ns)\n",
            "/usr/local/lib/python3.7/dist-packages/pandas/core/frame.py:4174: SettingWithCopyWarning: \n",
            "A value is trying to be set on a copy of a slice from a DataFrame\n",
            "\n",
            "See the caveats in the documentation: https://pandas.pydata.org/pandas-docs/stable/user_guide/indexing.html#returning-a-view-versus-a-copy\n",
            "  errors=errors,\n"
          ]
        }
      ]
    },
    {
      "cell_type": "code",
      "metadata": {
        "colab": {
          "base_uri": "https://localhost:8080/",
          "height": 204
        },
        "id": "6gxW8Xe2B5r3",
        "outputId": "6b394126-149a-4581-c01f-66f5efb5b650"
      },
      "source": [
        "party.head()"
      ],
      "execution_count": 60,
      "outputs": [
        {
          "output_type": "execute_result",
          "data": {
            "text/html": [
              "<div>\n",
              "<style scoped>\n",
              "    .dataframe tbody tr th:only-of-type {\n",
              "        vertical-align: middle;\n",
              "    }\n",
              "\n",
              "    .dataframe tbody tr th {\n",
              "        vertical-align: top;\n",
              "    }\n",
              "\n",
              "    .dataframe thead th {\n",
              "        text-align: right;\n",
              "    }\n",
              "</style>\n",
              "<table border=\"1\" class=\"dataframe\">\n",
              "  <thead>\n",
              "    <tr style=\"text-align: right;\">\n",
              "      <th></th>\n",
              "      <th>DAESU</th>\n",
              "      <th>PARTY</th>\n",
              "      <th>NAME</th>\n",
              "      <th>HAK</th>\n",
              "    </tr>\n",
              "  </thead>\n",
              "  <tbody>\n",
              "    <tr>\n",
              "      <th>0</th>\n",
              "      <td>21</td>\n",
              "      <td>정당_74</td>\n",
              "      <td>강기윤</td>\n",
              "      <td>창원상남초등학교 \\r\\n창원남중학교\\r\\n마산공업고등학교  \\r\\n창원대학교 행정학...</td>\n",
              "    </tr>\n",
              "    <tr>\n",
              "      <th>1</th>\n",
              "      <td>21</td>\n",
              "      <td>정당_74</td>\n",
              "      <td>강대식</td>\n",
              "      <td>경북대학교 사범대학 부속고등학교\\r\\n영남대학교 경영대학원 경영학 석사, 박사\\r\\...</td>\n",
              "    </tr>\n",
              "    <tr>\n",
              "      <th>2</th>\n",
              "      <td>21</td>\n",
              "      <td>정당_7</td>\n",
              "      <td>강득구</td>\n",
              "      <td>성균관대학교 한국철학과 학사\\r\\n연세대학교 행정대학원 정치행정리더십학 석사\\r\\n...</td>\n",
              "    </tr>\n",
              "    <tr>\n",
              "      <th>3</th>\n",
              "      <td>21</td>\n",
              "      <td>정당_74</td>\n",
              "      <td>강민국</td>\n",
              "      <td>경남대학교 대학원 법학과 졸업(법학박사)\\r\\n\\r\\n2004. 진주국제대학교 경찰...</td>\n",
              "    </tr>\n",
              "    <tr>\n",
              "      <th>4</th>\n",
              "      <td>21</td>\n",
              "      <td>정당_30</td>\n",
              "      <td>강민정</td>\n",
              "      <td>서울대학교 사범대학 역사교육과 졸업\\r\\n\\r\\n2005. 전국교직원노동조합 서울북...</td>\n",
              "    </tr>\n",
              "  </tbody>\n",
              "</table>\n",
              "</div>"
            ],
            "text/plain": [
              "   DAESU  PARTY NAME                                                HAK\n",
              "0     21  정당_74  강기윤  창원상남초등학교 \\r\\n창원남중학교\\r\\n마산공업고등학교  \\r\\n창원대학교 행정학...\n",
              "1     21  정당_74  강대식  경북대학교 사범대학 부속고등학교\\r\\n영남대학교 경영대학원 경영학 석사, 박사\\r\\...\n",
              "2     21   정당_7  강득구  성균관대학교 한국철학과 학사\\r\\n연세대학교 행정대학원 정치행정리더십학 석사\\r\\n...\n",
              "3     21  정당_74  강민국  경남대학교 대학원 법학과 졸업(법학박사)\\r\\n\\r\\n2004. 진주국제대학교 경찰...\n",
              "4     21  정당_30  강민정  서울대학교 사범대학 역사교육과 졸업\\r\\n\\r\\n2005. 전국교직원노동조합 서울북..."
            ]
          },
          "metadata": {},
          "execution_count": 60
        }
      ]
    },
    {
      "cell_type": "code",
      "metadata": {
        "colab": {
          "base_uri": "https://localhost:8080/",
          "height": 577
        },
        "id": "aNvnDQ6IB_Vc",
        "outputId": "c9d99def-847e-40d5-bf9a-11f9a33921fd"
      },
      "source": [
        "party_name = pd.DataFrame(party['PARTY'].value_counts()).reset_index()\n",
        "party_name"
      ],
      "execution_count": 61,
      "outputs": [
        {
          "output_type": "execute_result",
          "data": {
            "text/html": [
              "<div>\n",
              "<style scoped>\n",
              "    .dataframe tbody tr th:only-of-type {\n",
              "        vertical-align: middle;\n",
              "    }\n",
              "\n",
              "    .dataframe tbody tr th {\n",
              "        vertical-align: top;\n",
              "    }\n",
              "\n",
              "    .dataframe thead th {\n",
              "        text-align: right;\n",
              "    }\n",
              "</style>\n",
              "<table border=\"1\" class=\"dataframe\">\n",
              "  <thead>\n",
              "    <tr style=\"text-align: right;\">\n",
              "      <th></th>\n",
              "      <th>index</th>\n",
              "      <th>PARTY</th>\n",
              "    </tr>\n",
              "  </thead>\n",
              "  <tbody>\n",
              "    <tr>\n",
              "      <th>0</th>\n",
              "      <td>정당_7</td>\n",
              "      <td>318</td>\n",
              "    </tr>\n",
              "    <tr>\n",
              "      <th>1</th>\n",
              "      <td>정당_66</td>\n",
              "      <td>288</td>\n",
              "    </tr>\n",
              "    <tr>\n",
              "      <th>2</th>\n",
              "      <td>정당_45</td>\n",
              "      <td>131</td>\n",
              "    </tr>\n",
              "    <tr>\n",
              "      <th>3</th>\n",
              "      <td>정당_74</td>\n",
              "      <td>84</td>\n",
              "    </tr>\n",
              "    <tr>\n",
              "      <th>4</th>\n",
              "      <td>정당_75</td>\n",
              "      <td>40</td>\n",
              "    </tr>\n",
              "    <tr>\n",
              "      <th>5</th>\n",
              "      <td>무소속</td>\n",
              "      <td>23</td>\n",
              "    </tr>\n",
              "    <tr>\n",
              "      <th>6</th>\n",
              "      <td>정당_6</td>\n",
              "      <td>19</td>\n",
              "    </tr>\n",
              "    <tr>\n",
              "      <th>7</th>\n",
              "      <td>정당_12</td>\n",
              "      <td>13</td>\n",
              "    </tr>\n",
              "    <tr>\n",
              "      <th>8</th>\n",
              "      <td>정당_72</td>\n",
              "      <td>12</td>\n",
              "    </tr>\n",
              "    <tr>\n",
              "      <th>9</th>\n",
              "      <td>정당_52</td>\n",
              "      <td>3</td>\n",
              "    </tr>\n",
              "    <tr>\n",
              "      <th>10</th>\n",
              "      <td>정당_8</td>\n",
              "      <td>3</td>\n",
              "    </tr>\n",
              "    <tr>\n",
              "      <th>11</th>\n",
              "      <td>정당_30</td>\n",
              "      <td>3</td>\n",
              "    </tr>\n",
              "    <tr>\n",
              "      <th>12</th>\n",
              "      <td>정당_47</td>\n",
              "      <td>1</td>\n",
              "    </tr>\n",
              "    <tr>\n",
              "      <th>13</th>\n",
              "      <td>정당_70</td>\n",
              "      <td>1</td>\n",
              "    </tr>\n",
              "    <tr>\n",
              "      <th>14</th>\n",
              "      <td>정당_46</td>\n",
              "      <td>1</td>\n",
              "    </tr>\n",
              "    <tr>\n",
              "      <th>15</th>\n",
              "      <td>정당_25</td>\n",
              "      <td>1</td>\n",
              "    </tr>\n",
              "    <tr>\n",
              "      <th>16</th>\n",
              "      <td>정당_34</td>\n",
              "      <td>1</td>\n",
              "    </tr>\n",
              "  </tbody>\n",
              "</table>\n",
              "</div>"
            ],
            "text/plain": [
              "    index  PARTY\n",
              "0    정당_7    318\n",
              "1   정당_66    288\n",
              "2   정당_45    131\n",
              "3   정당_74     84\n",
              "4   정당_75     40\n",
              "5     무소속     23\n",
              "6    정당_6     19\n",
              "7   정당_12     13\n",
              "8   정당_72     12\n",
              "9   정당_52      3\n",
              "10   정당_8      3\n",
              "11  정당_30      3\n",
              "12  정당_47      1\n",
              "13  정당_70      1\n",
              "14  정당_46      1\n",
              "15  정당_25      1\n",
              "16  정당_34      1"
            ]
          },
          "metadata": {},
          "execution_count": 61
        }
      ]
    },
    {
      "cell_type": "code",
      "metadata": {
        "colab": {
          "base_uri": "https://localhost:8080/",
          "height": 204
        },
        "id": "4TeFn-zdCUS5",
        "outputId": "59c78e1e-f036-4ec6-b641-5644fa3fe865"
      },
      "source": [
        "party_name['PARTY_NAME'] = ['더불어민주당','새누리당','새정치민주연합','미래통합당','국민의당','무소속','국민의힘','통합진보당','정의당','열린민주당','자유한국당','자유선진당','한나라당','자유민주연합','국민의당','국민의당','한나라당' ]\n",
        "\n",
        "party_name.drop('PARTY',axis=1,inplace=True)\n",
        "\n",
        "party_name.head()"
      ],
      "execution_count": 62,
      "outputs": [
        {
          "output_type": "execute_result",
          "data": {
            "text/html": [
              "<div>\n",
              "<style scoped>\n",
              "    .dataframe tbody tr th:only-of-type {\n",
              "        vertical-align: middle;\n",
              "    }\n",
              "\n",
              "    .dataframe tbody tr th {\n",
              "        vertical-align: top;\n",
              "    }\n",
              "\n",
              "    .dataframe thead th {\n",
              "        text-align: right;\n",
              "    }\n",
              "</style>\n",
              "<table border=\"1\" class=\"dataframe\">\n",
              "  <thead>\n",
              "    <tr style=\"text-align: right;\">\n",
              "      <th></th>\n",
              "      <th>index</th>\n",
              "      <th>PARTY_NAME</th>\n",
              "    </tr>\n",
              "  </thead>\n",
              "  <tbody>\n",
              "    <tr>\n",
              "      <th>0</th>\n",
              "      <td>정당_7</td>\n",
              "      <td>더불어민주당</td>\n",
              "    </tr>\n",
              "    <tr>\n",
              "      <th>1</th>\n",
              "      <td>정당_66</td>\n",
              "      <td>새누리당</td>\n",
              "    </tr>\n",
              "    <tr>\n",
              "      <th>2</th>\n",
              "      <td>정당_45</td>\n",
              "      <td>새정치민주연합</td>\n",
              "    </tr>\n",
              "    <tr>\n",
              "      <th>3</th>\n",
              "      <td>정당_74</td>\n",
              "      <td>미래통합당</td>\n",
              "    </tr>\n",
              "    <tr>\n",
              "      <th>4</th>\n",
              "      <td>정당_75</td>\n",
              "      <td>국민의당</td>\n",
              "    </tr>\n",
              "  </tbody>\n",
              "</table>\n",
              "</div>"
            ],
            "text/plain": [
              "   index PARTY_NAME\n",
              "0   정당_7     더불어민주당\n",
              "1  정당_66       새누리당\n",
              "2  정당_45    새정치민주연합\n",
              "3  정당_74      미래통합당\n",
              "4  정당_75       국민의당"
            ]
          },
          "metadata": {},
          "execution_count": 62
        }
      ]
    },
    {
      "cell_type": "code",
      "metadata": {
        "id": "pEBs_sgiLjWB"
      },
      "source": [
        "party_name=party_name.rename({'index':'PARTY'}, axis='columns')"
      ],
      "execution_count": 63,
      "outputs": []
    },
    {
      "cell_type": "code",
      "metadata": {
        "colab": {
          "base_uri": "https://localhost:8080/",
          "height": 204
        },
        "id": "wQ84nrFYMB2C",
        "outputId": "c6058678-01a4-4f37-d1fd-ab4c0229208c"
      },
      "source": [
        "party_name.head()"
      ],
      "execution_count": 64,
      "outputs": [
        {
          "output_type": "execute_result",
          "data": {
            "text/html": [
              "<div>\n",
              "<style scoped>\n",
              "    .dataframe tbody tr th:only-of-type {\n",
              "        vertical-align: middle;\n",
              "    }\n",
              "\n",
              "    .dataframe tbody tr th {\n",
              "        vertical-align: top;\n",
              "    }\n",
              "\n",
              "    .dataframe thead th {\n",
              "        text-align: right;\n",
              "    }\n",
              "</style>\n",
              "<table border=\"1\" class=\"dataframe\">\n",
              "  <thead>\n",
              "    <tr style=\"text-align: right;\">\n",
              "      <th></th>\n",
              "      <th>PARTY</th>\n",
              "      <th>PARTY_NAME</th>\n",
              "    </tr>\n",
              "  </thead>\n",
              "  <tbody>\n",
              "    <tr>\n",
              "      <th>0</th>\n",
              "      <td>정당_7</td>\n",
              "      <td>더불어민주당</td>\n",
              "    </tr>\n",
              "    <tr>\n",
              "      <th>1</th>\n",
              "      <td>정당_66</td>\n",
              "      <td>새누리당</td>\n",
              "    </tr>\n",
              "    <tr>\n",
              "      <th>2</th>\n",
              "      <td>정당_45</td>\n",
              "      <td>새정치민주연합</td>\n",
              "    </tr>\n",
              "    <tr>\n",
              "      <th>3</th>\n",
              "      <td>정당_74</td>\n",
              "      <td>미래통합당</td>\n",
              "    </tr>\n",
              "    <tr>\n",
              "      <th>4</th>\n",
              "      <td>정당_75</td>\n",
              "      <td>국민의당</td>\n",
              "    </tr>\n",
              "  </tbody>\n",
              "</table>\n",
              "</div>"
            ],
            "text/plain": [
              "   PARTY PARTY_NAME\n",
              "0   정당_7     더불어민주당\n",
              "1  정당_66       새누리당\n",
              "2  정당_45    새정치민주연합\n",
              "3  정당_74      미래통합당\n",
              "4  정당_75       국민의당"
            ]
          },
          "metadata": {},
          "execution_count": 64
        }
      ]
    },
    {
      "cell_type": "code",
      "metadata": {
        "colab": {
          "base_uri": "https://localhost:8080/",
          "height": 204
        },
        "id": "MgZjmhDxLLL2",
        "outputId": "31dadef0-b7f6-4d05-84b4-f03bff89c197"
      },
      "source": [
        "party = party.merge(party_name, on='PARTY',how='left')\n",
        "\n",
        "party.head()"
      ],
      "execution_count": 65,
      "outputs": [
        {
          "output_type": "execute_result",
          "data": {
            "text/html": [
              "<div>\n",
              "<style scoped>\n",
              "    .dataframe tbody tr th:only-of-type {\n",
              "        vertical-align: middle;\n",
              "    }\n",
              "\n",
              "    .dataframe tbody tr th {\n",
              "        vertical-align: top;\n",
              "    }\n",
              "\n",
              "    .dataframe thead th {\n",
              "        text-align: right;\n",
              "    }\n",
              "</style>\n",
              "<table border=\"1\" class=\"dataframe\">\n",
              "  <thead>\n",
              "    <tr style=\"text-align: right;\">\n",
              "      <th></th>\n",
              "      <th>DAESU</th>\n",
              "      <th>PARTY</th>\n",
              "      <th>NAME</th>\n",
              "      <th>HAK</th>\n",
              "      <th>PARTY_NAME</th>\n",
              "    </tr>\n",
              "  </thead>\n",
              "  <tbody>\n",
              "    <tr>\n",
              "      <th>0</th>\n",
              "      <td>21</td>\n",
              "      <td>정당_74</td>\n",
              "      <td>강기윤</td>\n",
              "      <td>창원상남초등학교 \\r\\n창원남중학교\\r\\n마산공업고등학교  \\r\\n창원대학교 행정학...</td>\n",
              "      <td>미래통합당</td>\n",
              "    </tr>\n",
              "    <tr>\n",
              "      <th>1</th>\n",
              "      <td>21</td>\n",
              "      <td>정당_74</td>\n",
              "      <td>강대식</td>\n",
              "      <td>경북대학교 사범대학 부속고등학교\\r\\n영남대학교 경영대학원 경영학 석사, 박사\\r\\...</td>\n",
              "      <td>미래통합당</td>\n",
              "    </tr>\n",
              "    <tr>\n",
              "      <th>2</th>\n",
              "      <td>21</td>\n",
              "      <td>정당_7</td>\n",
              "      <td>강득구</td>\n",
              "      <td>성균관대학교 한국철학과 학사\\r\\n연세대학교 행정대학원 정치행정리더십학 석사\\r\\n...</td>\n",
              "      <td>더불어민주당</td>\n",
              "    </tr>\n",
              "    <tr>\n",
              "      <th>3</th>\n",
              "      <td>21</td>\n",
              "      <td>정당_74</td>\n",
              "      <td>강민국</td>\n",
              "      <td>경남대학교 대학원 법학과 졸업(법학박사)\\r\\n\\r\\n2004. 진주국제대학교 경찰...</td>\n",
              "      <td>미래통합당</td>\n",
              "    </tr>\n",
              "    <tr>\n",
              "      <th>4</th>\n",
              "      <td>21</td>\n",
              "      <td>정당_30</td>\n",
              "      <td>강민정</td>\n",
              "      <td>서울대학교 사범대학 역사교육과 졸업\\r\\n\\r\\n2005. 전국교직원노동조합 서울북...</td>\n",
              "      <td>자유선진당</td>\n",
              "    </tr>\n",
              "  </tbody>\n",
              "</table>\n",
              "</div>"
            ],
            "text/plain": [
              "   DAESU  PARTY  ...                                                HAK PARTY_NAME\n",
              "0     21  정당_74  ...  창원상남초등학교 \\r\\n창원남중학교\\r\\n마산공업고등학교  \\r\\n창원대학교 행정학...      미래통합당\n",
              "1     21  정당_74  ...  경북대학교 사범대학 부속고등학교\\r\\n영남대학교 경영대학원 경영학 석사, 박사\\r\\...      미래통합당\n",
              "2     21   정당_7  ...  성균관대학교 한국철학과 학사\\r\\n연세대학교 행정대학원 정치행정리더십학 석사\\r\\n...     더불어민주당\n",
              "3     21  정당_74  ...  경남대학교 대학원 법학과 졸업(법학박사)\\r\\n\\r\\n2004. 진주국제대학교 경찰...      미래통합당\n",
              "4     21  정당_30  ...  서울대학교 사범대학 역사교육과 졸업\\r\\n\\r\\n2005. 전국교직원노동조합 서울북...      자유선진당\n",
              "\n",
              "[5 rows x 5 columns]"
            ]
          },
          "metadata": {},
          "execution_count": 65
        }
      ]
    },
    {
      "cell_type": "markdown",
      "metadata": {
        "id": "wKVKlj9WO8mK"
      },
      "source": [
        "**경력 및 학력 표기(보류)**"
      ]
    },
    {
      "cell_type": "markdown",
      "metadata": {
        "id": "GYY4LlntNFF4"
      },
      "source": [
        "**suggest(발의법안 데이터)에 정당 정보 기입**"
      ]
    },
    {
      "cell_type": "code",
      "metadata": {
        "id": "57mO7g9qOTHQ"
      },
      "source": [
        "party_21 = party[party['DAESU']==21]\n",
        "party_20 = party[party['DAESU']==20]"
      ],
      "execution_count": 66,
      "outputs": []
    },
    {
      "cell_type": "code",
      "metadata": {
        "colab": {
          "base_uri": "https://localhost:8080/",
          "height": 634
        },
        "id": "3xllj57oGIGI",
        "outputId": "30c0fcd0-988d-4381-a53a-813be3c30e61"
      },
      "source": [
        "suggest_20 = suggest[suggest['AGE']==20]\n",
        "suggest_20.tail()"
      ],
      "execution_count": 67,
      "outputs": [
        {
          "output_type": "execute_result",
          "data": {
            "text/html": [
              "<div>\n",
              "<style scoped>\n",
              "    .dataframe tbody tr th:only-of-type {\n",
              "        vertical-align: middle;\n",
              "    }\n",
              "\n",
              "    .dataframe tbody tr th {\n",
              "        vertical-align: top;\n",
              "    }\n",
              "\n",
              "    .dataframe thead th {\n",
              "        text-align: right;\n",
              "    }\n",
              "</style>\n",
              "<table border=\"1\" class=\"dataframe\">\n",
              "  <thead>\n",
              "    <tr style=\"text-align: right;\">\n",
              "      <th></th>\n",
              "      <th>BILL_ID</th>\n",
              "      <th>BILL_NO</th>\n",
              "      <th>BILL_NAME</th>\n",
              "      <th>COMMITTEE</th>\n",
              "      <th>PROPOSE_DT</th>\n",
              "      <th>PROC_RESULT</th>\n",
              "      <th>AGE</th>\n",
              "      <th>DETAIL_LINK</th>\n",
              "      <th>PROPOSER</th>\n",
              "      <th>MEMBER_LIST</th>\n",
              "      <th>RST_PROPOSER</th>\n",
              "      <th>PUBL_PROPOSER</th>\n",
              "    </tr>\n",
              "  </thead>\n",
              "  <tbody>\n",
              "    <tr>\n",
              "      <th>25604</th>\n",
              "      <td>PRC_S1J6G0G5Q3A0J0H9A1F5Z1T4V8H7L6</td>\n",
              "      <td>2000005</td>\n",
              "      <td>교육기본법 일부개정법률안</td>\n",
              "      <td>교육위원회</td>\n",
              "      <td>2016-05-30</td>\n",
              "      <td>임기만료폐기</td>\n",
              "      <td>20</td>\n",
              "      <td>http://likms.assembly.go.kr/bill/billDetail.do...</td>\n",
              "      <td>이찬열의원 등 10인</td>\n",
              "      <td>http://likms.assembly.go.kr/bill/coactorListPo...</td>\n",
              "      <td>이찬열</td>\n",
              "      <td>김경협,백재현,변재일,안규백,오제세,원혜영,이춘석,정성호,조정식</td>\n",
              "    </tr>\n",
              "    <tr>\n",
              "      <th>25605</th>\n",
              "      <td>PRC_M1K6X0P5B3E0V0X9T3U4I3P0A4E3M6</td>\n",
              "      <td>2000004</td>\n",
              "      <td>정부조직법 일부개정법률안</td>\n",
              "      <td>행정안전위원회</td>\n",
              "      <td>2016-05-30</td>\n",
              "      <td>임기만료폐기</td>\n",
              "      <td>20</td>\n",
              "      <td>http://likms.assembly.go.kr/bill/billDetail.do...</td>\n",
              "      <td>이종배의원 등 11인</td>\n",
              "      <td>http://likms.assembly.go.kr/bill/coactorListPo...</td>\n",
              "      <td>이종배</td>\n",
              "      <td>권성동,김재경,박덕흠,박명재,배덕광,안상수,이철우,이학재,이현재,주호영</td>\n",
              "    </tr>\n",
              "    <tr>\n",
              "      <th>25606</th>\n",
              "      <td>PRC_W1V6P0D5G3U0I0E9Q2Q1G3C2W7G7I7</td>\n",
              "      <td>2000003</td>\n",
              "      <td>근로기준법 일부개정법률안</td>\n",
              "      <td>환경노동위원회</td>\n",
              "      <td>2016-05-30</td>\n",
              "      <td>임기만료폐기</td>\n",
              "      <td>20</td>\n",
              "      <td>http://likms.assembly.go.kr/bill/billDetail.do...</td>\n",
              "      <td>이찬열의원 등 11인</td>\n",
              "      <td>http://likms.assembly.go.kr/bill/coactorListPo...</td>\n",
              "      <td>이찬열</td>\n",
              "      <td>김경협,김현미,민병두,박홍근,변재일,안규백,오제세,원혜영,이춘석,정성호</td>\n",
              "    </tr>\n",
              "    <tr>\n",
              "      <th>25607</th>\n",
              "      <td>PRC_E1Z6M0V5E3V0A0G9C0G9K2M6Q5Y5S8</td>\n",
              "      <td>2000002</td>\n",
              "      <td>빅데이터의 이용 및 산업진흥 등에 관한 법률안</td>\n",
              "      <td>과학기술정보방송통신위원회</td>\n",
              "      <td>2016-05-30</td>\n",
              "      <td>임기만료폐기</td>\n",
              "      <td>20</td>\n",
              "      <td>http://likms.assembly.go.kr/bill/billDetail.do...</td>\n",
              "      <td>배덕광의원 등 14인</td>\n",
              "      <td>http://likms.assembly.go.kr/bill/coactorListPo...</td>\n",
              "      <td>배덕광</td>\n",
              "      <td>김세연,김정훈,김한표,박맹우,박주선,유기준,유재중,이종배,이진복,이채익,이헌승,조경...</td>\n",
              "    </tr>\n",
              "    <tr>\n",
              "      <th>25608</th>\n",
              "      <td>PRC_U1M6O0E5N3O0I0T9Z0J2T2J2X1F3Q6</td>\n",
              "      <td>2000001</td>\n",
              "      <td>통일경제파주특별자치시의 설치 및 파주평화경제특별구역의 조성·운영과 지원에 관한 특별법안</td>\n",
              "      <td>외교통일위원회</td>\n",
              "      <td>2016-05-30</td>\n",
              "      <td>임기만료폐기</td>\n",
              "      <td>20</td>\n",
              "      <td>http://likms.assembly.go.kr/bill/billDetail.do...</td>\n",
              "      <td>박정의원 등 17인</td>\n",
              "      <td>http://likms.assembly.go.kr/bill/coactorListPo...</td>\n",
              "      <td>박정</td>\n",
              "      <td>김경협,노웅래,박광온,박영선,박지원,박찬대,소병훈,송영길,신경민,오제세,윤후덕,이찬...</td>\n",
              "    </tr>\n",
              "  </tbody>\n",
              "</table>\n",
              "</div>"
            ],
            "text/plain": [
              "                                  BILL_ID  ...                                      PUBL_PROPOSER\n",
              "25604  PRC_S1J6G0G5Q3A0J0H9A1F5Z1T4V8H7L6  ...                김경협,백재현,변재일,안규백,오제세,원혜영,이춘석,정성호,조정식\n",
              "25605  PRC_M1K6X0P5B3E0V0X9T3U4I3P0A4E3M6  ...            권성동,김재경,박덕흠,박명재,배덕광,안상수,이철우,이학재,이현재,주호영\n",
              "25606  PRC_W1V6P0D5G3U0I0E9Q2Q1G3C2W7G7I7  ...            김경협,김현미,민병두,박홍근,변재일,안규백,오제세,원혜영,이춘석,정성호\n",
              "25607  PRC_E1Z6M0V5E3V0A0G9C0G9K2M6Q5Y5S8  ...  김세연,김정훈,김한표,박맹우,박주선,유기준,유재중,이종배,이진복,이채익,이헌승,조경...\n",
              "25608  PRC_U1M6O0E5N3O0I0T9Z0J2T2J2X1F3Q6  ...  김경협,노웅래,박광온,박영선,박지원,박찬대,소병훈,송영길,신경민,오제세,윤후덕,이찬...\n",
              "\n",
              "[5 rows x 12 columns]"
            ]
          },
          "metadata": {},
          "execution_count": 67
        }
      ]
    },
    {
      "cell_type": "code",
      "metadata": {
        "colab": {
          "base_uri": "https://localhost:8080/"
        },
        "id": "0oLcTwVGOGOn",
        "outputId": "674928e8-378e-44bc-b820-2c9b447d2a38"
      },
      "source": [
        "suggest_21['NAME'] = suggest_21['대표발의자']\n",
        "suggest_20['NAME'] = suggest_20['RST_PROPOSER']\n",
        "\n",
        "suggest_21 = suggest_21.merge(party_21, on='NAME' ,how='left')\n",
        "suggest_20 = suggest_20.merge(party_20, on='NAME', how='left')"
      ],
      "execution_count": 68,
      "outputs": [
        {
          "output_type": "stream",
          "name": "stderr",
          "text": [
            "/usr/local/lib/python3.7/dist-packages/ipykernel_launcher.py:2: SettingWithCopyWarning: \n",
            "A value is trying to be set on a copy of a slice from a DataFrame.\n",
            "Try using .loc[row_indexer,col_indexer] = value instead\n",
            "\n",
            "See the caveats in the documentation: https://pandas.pydata.org/pandas-docs/stable/user_guide/indexing.html#returning-a-view-versus-a-copy\n",
            "  \n"
          ]
        }
      ]
    },
    {
      "cell_type": "code",
      "metadata": {
        "id": "83ixnPKEN2Ac"
      },
      "source": [
        "suggest_21.drop(['DAESU','PARTY','HAK'],axis=1, inplace=True)"
      ],
      "execution_count": 69,
      "outputs": []
    },
    {
      "cell_type": "code",
      "metadata": {
        "id": "eCOjTPeZTEZV"
      },
      "source": [
        "suggest_20.drop(['DAESU','PARTY','HAK'],axis=1, inplace=True)"
      ],
      "execution_count": 70,
      "outputs": []
    },
    {
      "cell_type": "code",
      "metadata": {
        "colab": {
          "base_uri": "https://localhost:8080/",
          "height": 409
        },
        "id": "2qVW7hTgThTm",
        "outputId": "2f5324a0-4359-4471-9c55-98b7f01477f6"
      },
      "source": [
        "suggest_21[suggest_21['PARTY_NAME'].isnull()]"
      ],
      "execution_count": 71,
      "outputs": [
        {
          "output_type": "execute_result",
          "data": {
            "text/html": [
              "<div>\n",
              "<style scoped>\n",
              "    .dataframe tbody tr th:only-of-type {\n",
              "        vertical-align: middle;\n",
              "    }\n",
              "\n",
              "    .dataframe tbody tr th {\n",
              "        vertical-align: top;\n",
              "    }\n",
              "\n",
              "    .dataframe thead th {\n",
              "        text-align: right;\n",
              "    }\n",
              "</style>\n",
              "<table border=\"1\" class=\"dataframe\">\n",
              "  <thead>\n",
              "    <tr style=\"text-align: right;\">\n",
              "      <th></th>\n",
              "      <th>의안번호</th>\n",
              "      <th>대수</th>\n",
              "      <th>법률안명</th>\n",
              "      <th>제안자</th>\n",
              "      <th>대표발의자</th>\n",
              "      <th>공동발의자</th>\n",
              "      <th>상세페이지</th>\n",
              "      <th>소관위원회</th>\n",
              "      <th>제안일</th>\n",
              "      <th>처리상태</th>\n",
              "      <th>제안자목록링크</th>\n",
              "      <th>NAME</th>\n",
              "      <th>PARTY_NAME</th>\n",
              "    </tr>\n",
              "  </thead>\n",
              "  <tbody>\n",
              "    <tr>\n",
              "      <th>6640</th>\n",
              "      <td>2112788</td>\n",
              "      <td>21</td>\n",
              "      <td>문화재보호법 일부개정법률안</td>\n",
              "      <td>김의겸의원 등 10인</td>\n",
              "      <td>김의겸</td>\n",
              "      <td>강민정,김승남,김정호,남인순,민형배,서동용,장경태,조오섭,최기상</td>\n",
              "      <td>http://likms.assembly.go.kr/bill/billDetail.do...</td>\n",
              "      <td>문화체육관광위원회</td>\n",
              "      <td>2021-10-05</td>\n",
              "      <td>NaN</td>\n",
              "      <td>http://likms.assembly.go.kr/bill/coactorListPo...</td>\n",
              "      <td>김의겸</td>\n",
              "      <td>NaN</td>\n",
              "    </tr>\n",
              "    <tr>\n",
              "      <th>7804</th>\n",
              "      <td>2111462</td>\n",
              "      <td>21</td>\n",
              "      <td>지역신문발전지원 특별법 일부개정법률안</td>\n",
              "      <td>김의겸의원 등 10인</td>\n",
              "      <td>김의겸</td>\n",
              "      <td>강민정,김승원,김종민,김홍걸,민형배,서동용,장경태,정필모,최강욱</td>\n",
              "      <td>http://likms.assembly.go.kr/bill/billDetail.do...</td>\n",
              "      <td>문화체육관광위원회</td>\n",
              "      <td>2021-07-12</td>\n",
              "      <td>NaN</td>\n",
              "      <td>http://likms.assembly.go.kr/bill/coactorListPo...</td>\n",
              "      <td>김의겸</td>\n",
              "      <td>NaN</td>\n",
              "    </tr>\n",
              "    <tr>\n",
              "      <th>8395</th>\n",
              "      <td>2110817</td>\n",
              "      <td>21</td>\n",
              "      <td>신문 등의 진흥에 관한 법률 일부개정법률안</td>\n",
              "      <td>김의겸의원등12인</td>\n",
              "      <td>김의겸</td>\n",
              "      <td>강민정,권인숙,김승원,김종민,박상혁,박영순,서동용,양정숙,이동주,이수진,최강욱</td>\n",
              "      <td>http://likms.assembly.go.kr/bill/billDetail.do...</td>\n",
              "      <td>문화체육관광위원회</td>\n",
              "      <td>2021-06-16</td>\n",
              "      <td>NaN</td>\n",
              "      <td>http://likms.assembly.go.kr/bill/coactorListPo...</td>\n",
              "      <td>김의겸</td>\n",
              "      <td>NaN</td>\n",
              "    </tr>\n",
              "    <tr>\n",
              "      <th>8396</th>\n",
              "      <td>2110816</td>\n",
              "      <td>21</td>\n",
              "      <td>정부기관 및 공공법인 등의 광고시행에 관한 법률 일부개정법률안</td>\n",
              "      <td>김의겸의원등11인</td>\n",
              "      <td>김의겸</td>\n",
              "      <td>강민정,권인숙,김승원,김종민,박영순,서동용,양정숙,이동주,이수진,최강욱</td>\n",
              "      <td>http://likms.assembly.go.kr/bill/billDetail.do...</td>\n",
              "      <td>문화체육관광위원회</td>\n",
              "      <td>2021-06-16</td>\n",
              "      <td>NaN</td>\n",
              "      <td>http://likms.assembly.go.kr/bill/coactorListPo...</td>\n",
              "      <td>김의겸</td>\n",
              "      <td>NaN</td>\n",
              "    </tr>\n",
              "    <tr>\n",
              "      <th>8409</th>\n",
              "      <td>2110802</td>\n",
              "      <td>21</td>\n",
              "      <td>신문 등의 진흥에 관한 법률 일부개정법률안</td>\n",
              "      <td>김의겸의원등11인</td>\n",
              "      <td>김의겸</td>\n",
              "      <td>강민정,권인숙,김승원,김종민,박영순,서동용,이동주,이수진,장경태,최강욱</td>\n",
              "      <td>http://likms.assembly.go.kr/bill/billDetail.do...</td>\n",
              "      <td>문화체육관광위원회</td>\n",
              "      <td>2021-06-15</td>\n",
              "      <td>NaN</td>\n",
              "      <td>http://likms.assembly.go.kr/bill/coactorListPo...</td>\n",
              "      <td>김의겸</td>\n",
              "      <td>NaN</td>\n",
              "    </tr>\n",
              "  </tbody>\n",
              "</table>\n",
              "</div>"
            ],
            "text/plain": [
              "         의안번호  대수  ... NAME PARTY_NAME\n",
              "6640  2112788  21  ...  김의겸        NaN\n",
              "7804  2111462  21  ...  김의겸        NaN\n",
              "8395  2110817  21  ...  김의겸        NaN\n",
              "8396  2110816  21  ...  김의겸        NaN\n",
              "8409  2110802  21  ...  김의겸        NaN\n",
              "\n",
              "[5 rows x 13 columns]"
            ]
          },
          "metadata": {},
          "execution_count": 71
        }
      ]
    },
    {
      "cell_type": "code",
      "metadata": {
        "colab": {
          "base_uri": "https://localhost:8080/"
        },
        "id": "7nqlRNFeT0O1",
        "outputId": "38dd5284-4c52-4807-9a34-1ba568054871"
      },
      "source": [
        "# 21대 김의겸의원만 소속 정당이 null\n",
        "# 한번에 하려니 안된다... ==> 따로 떼주고, 수정 후에 다시 붙여주기!\n",
        "\n",
        "suggest_21_null = suggest_21[suggest_21['PARTY_NAME'].isnull()]\n",
        "suggest_21 = suggest_21[suggest_21['PARTY_NAME'].notnull()]\n",
        "\n",
        "suggest_21_kim = suggest_21_null[suggest_21_null['대표발의자'] == '김의겸']\n",
        "suggest_21_kim['PARTY_NAME'] = '열린민주당'\n",
        "\n",
        "suggest_21 = suggest_21.append(suggest_21_kim)\n",
        "suggest_21.shape\n"
      ],
      "execution_count": 72,
      "outputs": [
        {
          "output_type": "execute_result",
          "data": {
            "text/plain": [
              "(11907, 13)"
            ]
          },
          "metadata": {},
          "execution_count": 72
        }
      ]
    },
    {
      "cell_type": "code",
      "metadata": {
        "colab": {
          "base_uri": "https://localhost:8080/",
          "height": 409
        },
        "id": "zwKHF_mzUDk8",
        "outputId": "aa64167c-3845-4814-d8fd-32993d9f1c08"
      },
      "source": [
        "# 21대 국회 김의겸 의원 정당 수정 완료\n",
        "suggest_21[suggest_21['NAME']=='김의겸']"
      ],
      "execution_count": 73,
      "outputs": [
        {
          "output_type": "execute_result",
          "data": {
            "text/html": [
              "<div>\n",
              "<style scoped>\n",
              "    .dataframe tbody tr th:only-of-type {\n",
              "        vertical-align: middle;\n",
              "    }\n",
              "\n",
              "    .dataframe tbody tr th {\n",
              "        vertical-align: top;\n",
              "    }\n",
              "\n",
              "    .dataframe thead th {\n",
              "        text-align: right;\n",
              "    }\n",
              "</style>\n",
              "<table border=\"1\" class=\"dataframe\">\n",
              "  <thead>\n",
              "    <tr style=\"text-align: right;\">\n",
              "      <th></th>\n",
              "      <th>의안번호</th>\n",
              "      <th>대수</th>\n",
              "      <th>법률안명</th>\n",
              "      <th>제안자</th>\n",
              "      <th>대표발의자</th>\n",
              "      <th>공동발의자</th>\n",
              "      <th>상세페이지</th>\n",
              "      <th>소관위원회</th>\n",
              "      <th>제안일</th>\n",
              "      <th>처리상태</th>\n",
              "      <th>제안자목록링크</th>\n",
              "      <th>NAME</th>\n",
              "      <th>PARTY_NAME</th>\n",
              "    </tr>\n",
              "  </thead>\n",
              "  <tbody>\n",
              "    <tr>\n",
              "      <th>6640</th>\n",
              "      <td>2112788</td>\n",
              "      <td>21</td>\n",
              "      <td>문화재보호법 일부개정법률안</td>\n",
              "      <td>김의겸의원 등 10인</td>\n",
              "      <td>김의겸</td>\n",
              "      <td>강민정,김승남,김정호,남인순,민형배,서동용,장경태,조오섭,최기상</td>\n",
              "      <td>http://likms.assembly.go.kr/bill/billDetail.do...</td>\n",
              "      <td>문화체육관광위원회</td>\n",
              "      <td>2021-10-05</td>\n",
              "      <td>NaN</td>\n",
              "      <td>http://likms.assembly.go.kr/bill/coactorListPo...</td>\n",
              "      <td>김의겸</td>\n",
              "      <td>열린민주당</td>\n",
              "    </tr>\n",
              "    <tr>\n",
              "      <th>7804</th>\n",
              "      <td>2111462</td>\n",
              "      <td>21</td>\n",
              "      <td>지역신문발전지원 특별법 일부개정법률안</td>\n",
              "      <td>김의겸의원 등 10인</td>\n",
              "      <td>김의겸</td>\n",
              "      <td>강민정,김승원,김종민,김홍걸,민형배,서동용,장경태,정필모,최강욱</td>\n",
              "      <td>http://likms.assembly.go.kr/bill/billDetail.do...</td>\n",
              "      <td>문화체육관광위원회</td>\n",
              "      <td>2021-07-12</td>\n",
              "      <td>NaN</td>\n",
              "      <td>http://likms.assembly.go.kr/bill/coactorListPo...</td>\n",
              "      <td>김의겸</td>\n",
              "      <td>열린민주당</td>\n",
              "    </tr>\n",
              "    <tr>\n",
              "      <th>8395</th>\n",
              "      <td>2110817</td>\n",
              "      <td>21</td>\n",
              "      <td>신문 등의 진흥에 관한 법률 일부개정법률안</td>\n",
              "      <td>김의겸의원등12인</td>\n",
              "      <td>김의겸</td>\n",
              "      <td>강민정,권인숙,김승원,김종민,박상혁,박영순,서동용,양정숙,이동주,이수진,최강욱</td>\n",
              "      <td>http://likms.assembly.go.kr/bill/billDetail.do...</td>\n",
              "      <td>문화체육관광위원회</td>\n",
              "      <td>2021-06-16</td>\n",
              "      <td>NaN</td>\n",
              "      <td>http://likms.assembly.go.kr/bill/coactorListPo...</td>\n",
              "      <td>김의겸</td>\n",
              "      <td>열린민주당</td>\n",
              "    </tr>\n",
              "    <tr>\n",
              "      <th>8396</th>\n",
              "      <td>2110816</td>\n",
              "      <td>21</td>\n",
              "      <td>정부기관 및 공공법인 등의 광고시행에 관한 법률 일부개정법률안</td>\n",
              "      <td>김의겸의원등11인</td>\n",
              "      <td>김의겸</td>\n",
              "      <td>강민정,권인숙,김승원,김종민,박영순,서동용,양정숙,이동주,이수진,최강욱</td>\n",
              "      <td>http://likms.assembly.go.kr/bill/billDetail.do...</td>\n",
              "      <td>문화체육관광위원회</td>\n",
              "      <td>2021-06-16</td>\n",
              "      <td>NaN</td>\n",
              "      <td>http://likms.assembly.go.kr/bill/coactorListPo...</td>\n",
              "      <td>김의겸</td>\n",
              "      <td>열린민주당</td>\n",
              "    </tr>\n",
              "    <tr>\n",
              "      <th>8409</th>\n",
              "      <td>2110802</td>\n",
              "      <td>21</td>\n",
              "      <td>신문 등의 진흥에 관한 법률 일부개정법률안</td>\n",
              "      <td>김의겸의원등11인</td>\n",
              "      <td>김의겸</td>\n",
              "      <td>강민정,권인숙,김승원,김종민,박영순,서동용,이동주,이수진,장경태,최강욱</td>\n",
              "      <td>http://likms.assembly.go.kr/bill/billDetail.do...</td>\n",
              "      <td>문화체육관광위원회</td>\n",
              "      <td>2021-06-15</td>\n",
              "      <td>NaN</td>\n",
              "      <td>http://likms.assembly.go.kr/bill/coactorListPo...</td>\n",
              "      <td>김의겸</td>\n",
              "      <td>열린민주당</td>\n",
              "    </tr>\n",
              "  </tbody>\n",
              "</table>\n",
              "</div>"
            ],
            "text/plain": [
              "         의안번호  대수  ... NAME PARTY_NAME\n",
              "6640  2112788  21  ...  김의겸      열린민주당\n",
              "7804  2111462  21  ...  김의겸      열린민주당\n",
              "8395  2110817  21  ...  김의겸      열린민주당\n",
              "8396  2110816  21  ...  김의겸      열린민주당\n",
              "8409  2110802  21  ...  김의겸      열린민주당\n",
              "\n",
              "[5 rows x 13 columns]"
            ]
          },
          "metadata": {},
          "execution_count": 73
        }
      ]
    },
    {
      "cell_type": "code",
      "metadata": {
        "colab": {
          "base_uri": "https://localhost:8080/",
          "height": 1000
        },
        "id": "ft0jJ6dbZliE",
        "outputId": "e595961d-8103-40a3-a0f5-0082282255f9"
      },
      "source": [
        "# 20대 국회 - 김종태 의원의 소속 정당 null\n",
        "\n",
        "suggest_20[suggest_20['PARTY_NAME'].isnull()]"
      ],
      "execution_count": 74,
      "outputs": [
        {
          "output_type": "execute_result",
          "data": {
            "text/html": [
              "<div>\n",
              "<style scoped>\n",
              "    .dataframe tbody tr th:only-of-type {\n",
              "        vertical-align: middle;\n",
              "    }\n",
              "\n",
              "    .dataframe tbody tr th {\n",
              "        vertical-align: top;\n",
              "    }\n",
              "\n",
              "    .dataframe thead th {\n",
              "        text-align: right;\n",
              "    }\n",
              "</style>\n",
              "<table border=\"1\" class=\"dataframe\">\n",
              "  <thead>\n",
              "    <tr style=\"text-align: right;\">\n",
              "      <th></th>\n",
              "      <th>BILL_ID</th>\n",
              "      <th>BILL_NO</th>\n",
              "      <th>BILL_NAME</th>\n",
              "      <th>COMMITTEE</th>\n",
              "      <th>PROPOSE_DT</th>\n",
              "      <th>PROC_RESULT</th>\n",
              "      <th>AGE</th>\n",
              "      <th>DETAIL_LINK</th>\n",
              "      <th>PROPOSER</th>\n",
              "      <th>MEMBER_LIST</th>\n",
              "      <th>RST_PROPOSER</th>\n",
              "      <th>PUBL_PROPOSER</th>\n",
              "      <th>NAME</th>\n",
              "      <th>PARTY_NAME</th>\n",
              "    </tr>\n",
              "  </thead>\n",
              "  <tbody>\n",
              "    <tr>\n",
              "      <th>17046</th>\n",
              "      <td>PRC_Z1R7G0B1K2J5W1Q8R1L2B2S2R2U4X4</td>\n",
              "      <td>2005297</td>\n",
              "      <td>해사안전법 일부개정법률안</td>\n",
              "      <td>농림축산식품해양수산위원회</td>\n",
              "      <td>2017-01-25</td>\n",
              "      <td>대안반영폐기</td>\n",
              "      <td>20</td>\n",
              "      <td>http://likms.assembly.go.kr/bill/billDetail.do...</td>\n",
              "      <td>김종태의원 등 11인</td>\n",
              "      <td>http://likms.assembly.go.kr/bill/coactorListPo...</td>\n",
              "      <td>김종태</td>\n",
              "      <td>김성찬,김해영,박명재,안상수,윤영일,이양수,이종배,이철우,정태옥,홍문표</td>\n",
              "      <td>김종태</td>\n",
              "      <td>NaN</td>\n",
              "    </tr>\n",
              "    <tr>\n",
              "      <th>17864</th>\n",
              "      <td>PRC_G1I6K1J2A1Q2T1H7E3B3R5U1R0P1M3</td>\n",
              "      <td>2004317</td>\n",
              "      <td>부동산소유권 이전등기 등에 관한 특별조치법안</td>\n",
              "      <td>법제사법위원회</td>\n",
              "      <td>2016-12-12</td>\n",
              "      <td>대안반영폐기</td>\n",
              "      <td>20</td>\n",
              "      <td>http://likms.assembly.go.kr/bill/billDetail.do...</td>\n",
              "      <td>김종태의원 등 11인</td>\n",
              "      <td>http://likms.assembly.go.kr/bill/coactorListPo...</td>\n",
              "      <td>김종태</td>\n",
              "      <td>강석호,김석기,김성찬,김태흠,박명재,위성곤,윤종필,이철우,홍문표,홍철호</td>\n",
              "      <td>김종태</td>\n",
              "      <td>NaN</td>\n",
              "    </tr>\n",
              "    <tr>\n",
              "      <th>17880</th>\n",
              "      <td>PRC_B1T6M1D2Y1V2P1H3P3O9E2H0T1E1J7</td>\n",
              "      <td>2004301</td>\n",
              "      <td>전기사업법 일부개정법률안</td>\n",
              "      <td>산업통상자원중소벤처기업위원회</td>\n",
              "      <td>2016-12-12</td>\n",
              "      <td>임기만료폐기</td>\n",
              "      <td>20</td>\n",
              "      <td>http://likms.assembly.go.kr/bill/billDetail.do...</td>\n",
              "      <td>김종태의원 등 12인</td>\n",
              "      <td>http://likms.assembly.go.kr/bill/coactorListPo...</td>\n",
              "      <td>김종태</td>\n",
              "      <td>강석호,김석기,김성찬,김중로,김현아,박명재,윤종필,이종명,이종배,장석춘,홍문표</td>\n",
              "      <td>김종태</td>\n",
              "      <td>NaN</td>\n",
              "    </tr>\n",
              "    <tr>\n",
              "      <th>17884</th>\n",
              "      <td>PRC_C1F6D1B2X1W2H1S1T3B8I0G3N2S0Z1</td>\n",
              "      <td>2004297</td>\n",
              "      <td>가축분뇨의 관리 및 이용에 관한 법률 일부개정법률안</td>\n",
              "      <td>환경노동위원회</td>\n",
              "      <td>2016-12-12</td>\n",
              "      <td>임기만료폐기</td>\n",
              "      <td>20</td>\n",
              "      <td>http://likms.assembly.go.kr/bill/billDetail.do...</td>\n",
              "      <td>김종태의원 등 12인</td>\n",
              "      <td>http://likms.assembly.go.kr/bill/coactorListPo...</td>\n",
              "      <td>김종태</td>\n",
              "      <td>강석호,김석기,김태흠,김현아,박명재,윤영일,윤종필,이철우,장석춘,홍문표,홍철호</td>\n",
              "      <td>김종태</td>\n",
              "      <td>NaN</td>\n",
              "    </tr>\n",
              "    <tr>\n",
              "      <th>17885</th>\n",
              "      <td>PRC_J1U6T1D2P1E2S1I1Q3O0U4C9R7T4E3</td>\n",
              "      <td>2004296</td>\n",
              "      <td>산림자원의 조성 및 관리에 관한 법률 일부개정법률안</td>\n",
              "      <td>농림축산식품해양수산위원회</td>\n",
              "      <td>2016-12-12</td>\n",
              "      <td>폐기</td>\n",
              "      <td>20</td>\n",
              "      <td>http://likms.assembly.go.kr/bill/billDetail.do...</td>\n",
              "      <td>김종태의원 등 11인</td>\n",
              "      <td>http://likms.assembly.go.kr/bill/coactorListPo...</td>\n",
              "      <td>김종태</td>\n",
              "      <td>강석호,김석기,김성찬,김중로,김현아,박명재,윤종필,이철우,홍문표,홍철호</td>\n",
              "      <td>김종태</td>\n",
              "      <td>NaN</td>\n",
              "    </tr>\n",
              "    <tr>\n",
              "      <th>17886</th>\n",
              "      <td>PRC_T1J6I1K2T1L2Y1P1Z2T8P5C9U1D1S8</td>\n",
              "      <td>2004295</td>\n",
              "      <td>자유무역협정 체결에 따른 농어업인 등의 지원에 관한 특별법 일부개정법률안</td>\n",
              "      <td>농림축산식품해양수산위원회</td>\n",
              "      <td>2016-12-12</td>\n",
              "      <td>임기만료폐기</td>\n",
              "      <td>20</td>\n",
              "      <td>http://likms.assembly.go.kr/bill/billDetail.do...</td>\n",
              "      <td>김종태의원 등 12인</td>\n",
              "      <td>http://likms.assembly.go.kr/bill/coactorListPo...</td>\n",
              "      <td>김종태</td>\n",
              "      <td>강석호,김석기,김중로,김현아,박명재,위성곤,윤영일,윤종필,이철우,홍문표,홍철호</td>\n",
              "      <td>김종태</td>\n",
              "      <td>NaN</td>\n",
              "    </tr>\n",
              "    <tr>\n",
              "      <th>17887</th>\n",
              "      <td>PRC_M1X6O1A2F1L2Q1F1Z2X8E3E0X4I3O7</td>\n",
              "      <td>2004294</td>\n",
              "      <td>수도법 일부개정법률안</td>\n",
              "      <td>환경노동위원회</td>\n",
              "      <td>2016-12-12</td>\n",
              "      <td>임기만료폐기</td>\n",
              "      <td>20</td>\n",
              "      <td>http://likms.assembly.go.kr/bill/billDetail.do...</td>\n",
              "      <td>김종태의원 등 10인</td>\n",
              "      <td>http://likms.assembly.go.kr/bill/coactorListPo...</td>\n",
              "      <td>김종태</td>\n",
              "      <td>강석호,김석기,김성찬,김현아,박명재,신상진,윤종필,이종명,홍문표</td>\n",
              "      <td>김종태</td>\n",
              "      <td>NaN</td>\n",
              "    </tr>\n",
              "    <tr>\n",
              "      <th>18481</th>\n",
              "      <td>PRC_X1C6K1T1N1Y4E1L6M3M8X5M1H6Z6P8</td>\n",
              "      <td>2003556</td>\n",
              "      <td>수자원의 조사ㆍ계획 및 관리에 관한 법률안</td>\n",
              "      <td>국토교통위원회</td>\n",
              "      <td>2016-11-14</td>\n",
              "      <td>대안반영폐기</td>\n",
              "      <td>20</td>\n",
              "      <td>http://likms.assembly.go.kr/bill/billDetail.do...</td>\n",
              "      <td>김종태의원 등 11인</td>\n",
              "      <td>http://likms.assembly.go.kr/bill/coactorListPo...</td>\n",
              "      <td>김종태</td>\n",
              "      <td>김성태,김현아,박맹우,박명재,박순자,박완수,안규백,이헌승,정용기,최경환</td>\n",
              "      <td>김종태</td>\n",
              "      <td>NaN</td>\n",
              "    </tr>\n",
              "    <tr>\n",
              "      <th>21199</th>\n",
              "      <td>PRC_U1K6F0X6D3I0M1I5Q1N8F4D7N3A3E3</td>\n",
              "      <td>2000600</td>\n",
              "      <td>6·25전쟁 전후 비정규군 공로자 보상에 관한 법률안</td>\n",
              "      <td>국방위원회</td>\n",
              "      <td>2016-06-30</td>\n",
              "      <td>임기만료폐기</td>\n",
              "      <td>20</td>\n",
              "      <td>http://likms.assembly.go.kr/bill/billDetail.do...</td>\n",
              "      <td>김종태의원 등 11인</td>\n",
              "      <td>http://likms.assembly.go.kr/bill/coactorListPo...</td>\n",
              "      <td>김종태</td>\n",
              "      <td>김성태,김중로,김학용,박덕흠,박맹우,안규백,이명수,이우현,이종명,이학재</td>\n",
              "      <td>김종태</td>\n",
              "      <td>NaN</td>\n",
              "    </tr>\n",
              "    <tr>\n",
              "      <th>21250</th>\n",
              "      <td>PRC_T1H6M0T6P2Q8H1F4R4Y7N2Z6M3X4V1</td>\n",
              "      <td>2000523</td>\n",
              "      <td>부정청탁 및 금품등 수수의 금지에 관한 법률 일부개정법률안</td>\n",
              "      <td>정무위원회</td>\n",
              "      <td>2016-06-28</td>\n",
              "      <td>폐기</td>\n",
              "      <td>20</td>\n",
              "      <td>http://likms.assembly.go.kr/bill/billDetail.do...</td>\n",
              "      <td>김종태의원 등 13인</td>\n",
              "      <td>http://likms.assembly.go.kr/bill/coactorListPo...</td>\n",
              "      <td>김종태</td>\n",
              "      <td>김성원,김성찬,김태흠,박덕흠,백승주,안규백,안상수,유성엽,이만희,이명수,홍문표,황주홍</td>\n",
              "      <td>김종태</td>\n",
              "      <td>NaN</td>\n",
              "    </tr>\n",
              "  </tbody>\n",
              "</table>\n",
              "</div>"
            ],
            "text/plain": [
              "                                  BILL_ID  BILL_NO  ... NAME PARTY_NAME\n",
              "17046  PRC_Z1R7G0B1K2J5W1Q8R1L2B2S2R2U4X4  2005297  ...  김종태        NaN\n",
              "17864  PRC_G1I6K1J2A1Q2T1H7E3B3R5U1R0P1M3  2004317  ...  김종태        NaN\n",
              "17880  PRC_B1T6M1D2Y1V2P1H3P3O9E2H0T1E1J7  2004301  ...  김종태        NaN\n",
              "17884  PRC_C1F6D1B2X1W2H1S1T3B8I0G3N2S0Z1  2004297  ...  김종태        NaN\n",
              "17885  PRC_J1U6T1D2P1E2S1I1Q3O0U4C9R7T4E3  2004296  ...  김종태        NaN\n",
              "17886  PRC_T1J6I1K2T1L2Y1P1Z2T8P5C9U1D1S8  2004295  ...  김종태        NaN\n",
              "17887  PRC_M1X6O1A2F1L2Q1F1Z2X8E3E0X4I3O7  2004294  ...  김종태        NaN\n",
              "18481  PRC_X1C6K1T1N1Y4E1L6M3M8X5M1H6Z6P8  2003556  ...  김종태        NaN\n",
              "21199  PRC_U1K6F0X6D3I0M1I5Q1N8F4D7N3A3E3  2000600  ...  김종태        NaN\n",
              "21250  PRC_T1H6M0T6P2Q8H1F4R4Y7N2Z6M3X4V1  2000523  ...  김종태        NaN\n",
              "\n",
              "[10 rows x 14 columns]"
            ]
          },
          "metadata": {},
          "execution_count": 74
        }
      ]
    },
    {
      "cell_type": "code",
      "metadata": {
        "colab": {
          "base_uri": "https://localhost:8080/"
        },
        "id": "uXrzci4yac2B",
        "outputId": "44ac3ab1-9bd0-489e-f631-80982be87c51"
      },
      "source": [
        "# null 값 채우기 - 20대 김종태 의원은 '새누리당' 소속\n",
        "suggest_20_null = suggest_20[suggest_20['PARTY_NAME'].isnull()]\n",
        "suggest_20 = suggest_20[suggest_20['PARTY_NAME'].notnull()]\n",
        "\n",
        "suggest_20_kim = suggest_20_null[suggest_20_null['RST_PROPOSER'] == '김종태']\n",
        "suggest_20_kim['PARTY_NAME'] = '새누리당'\n",
        "\n",
        "suggest_20 = suggest_20.append(suggest_20_kim)\n",
        "suggest_20.shape"
      ],
      "execution_count": 75,
      "outputs": [
        {
          "output_type": "execute_result",
          "data": {
            "text/plain": [
              "(21696, 14)"
            ]
          },
          "metadata": {},
          "execution_count": 75
        }
      ]
    },
    {
      "cell_type": "code",
      "metadata": {
        "colab": {
          "base_uri": "https://localhost:8080/",
          "height": 1000
        },
        "id": "Fy27WAXIa8cz",
        "outputId": "5bcaa48e-d258-4253-b77d-58bf41cfdd65"
      },
      "source": [
        "suggest_20[suggest_20['NAME']=='김종태']"
      ],
      "execution_count": 76,
      "outputs": [
        {
          "output_type": "execute_result",
          "data": {
            "text/html": [
              "<div>\n",
              "<style scoped>\n",
              "    .dataframe tbody tr th:only-of-type {\n",
              "        vertical-align: middle;\n",
              "    }\n",
              "\n",
              "    .dataframe tbody tr th {\n",
              "        vertical-align: top;\n",
              "    }\n",
              "\n",
              "    .dataframe thead th {\n",
              "        text-align: right;\n",
              "    }\n",
              "</style>\n",
              "<table border=\"1\" class=\"dataframe\">\n",
              "  <thead>\n",
              "    <tr style=\"text-align: right;\">\n",
              "      <th></th>\n",
              "      <th>BILL_ID</th>\n",
              "      <th>BILL_NO</th>\n",
              "      <th>BILL_NAME</th>\n",
              "      <th>COMMITTEE</th>\n",
              "      <th>PROPOSE_DT</th>\n",
              "      <th>PROC_RESULT</th>\n",
              "      <th>AGE</th>\n",
              "      <th>DETAIL_LINK</th>\n",
              "      <th>PROPOSER</th>\n",
              "      <th>MEMBER_LIST</th>\n",
              "      <th>RST_PROPOSER</th>\n",
              "      <th>PUBL_PROPOSER</th>\n",
              "      <th>NAME</th>\n",
              "      <th>PARTY_NAME</th>\n",
              "    </tr>\n",
              "  </thead>\n",
              "  <tbody>\n",
              "    <tr>\n",
              "      <th>17046</th>\n",
              "      <td>PRC_Z1R7G0B1K2J5W1Q8R1L2B2S2R2U4X4</td>\n",
              "      <td>2005297</td>\n",
              "      <td>해사안전법 일부개정법률안</td>\n",
              "      <td>농림축산식품해양수산위원회</td>\n",
              "      <td>2017-01-25</td>\n",
              "      <td>대안반영폐기</td>\n",
              "      <td>20</td>\n",
              "      <td>http://likms.assembly.go.kr/bill/billDetail.do...</td>\n",
              "      <td>김종태의원 등 11인</td>\n",
              "      <td>http://likms.assembly.go.kr/bill/coactorListPo...</td>\n",
              "      <td>김종태</td>\n",
              "      <td>김성찬,김해영,박명재,안상수,윤영일,이양수,이종배,이철우,정태옥,홍문표</td>\n",
              "      <td>김종태</td>\n",
              "      <td>새누리당</td>\n",
              "    </tr>\n",
              "    <tr>\n",
              "      <th>17864</th>\n",
              "      <td>PRC_G1I6K1J2A1Q2T1H7E3B3R5U1R0P1M3</td>\n",
              "      <td>2004317</td>\n",
              "      <td>부동산소유권 이전등기 등에 관한 특별조치법안</td>\n",
              "      <td>법제사법위원회</td>\n",
              "      <td>2016-12-12</td>\n",
              "      <td>대안반영폐기</td>\n",
              "      <td>20</td>\n",
              "      <td>http://likms.assembly.go.kr/bill/billDetail.do...</td>\n",
              "      <td>김종태의원 등 11인</td>\n",
              "      <td>http://likms.assembly.go.kr/bill/coactorListPo...</td>\n",
              "      <td>김종태</td>\n",
              "      <td>강석호,김석기,김성찬,김태흠,박명재,위성곤,윤종필,이철우,홍문표,홍철호</td>\n",
              "      <td>김종태</td>\n",
              "      <td>새누리당</td>\n",
              "    </tr>\n",
              "    <tr>\n",
              "      <th>17880</th>\n",
              "      <td>PRC_B1T6M1D2Y1V2P1H3P3O9E2H0T1E1J7</td>\n",
              "      <td>2004301</td>\n",
              "      <td>전기사업법 일부개정법률안</td>\n",
              "      <td>산업통상자원중소벤처기업위원회</td>\n",
              "      <td>2016-12-12</td>\n",
              "      <td>임기만료폐기</td>\n",
              "      <td>20</td>\n",
              "      <td>http://likms.assembly.go.kr/bill/billDetail.do...</td>\n",
              "      <td>김종태의원 등 12인</td>\n",
              "      <td>http://likms.assembly.go.kr/bill/coactorListPo...</td>\n",
              "      <td>김종태</td>\n",
              "      <td>강석호,김석기,김성찬,김중로,김현아,박명재,윤종필,이종명,이종배,장석춘,홍문표</td>\n",
              "      <td>김종태</td>\n",
              "      <td>새누리당</td>\n",
              "    </tr>\n",
              "    <tr>\n",
              "      <th>17884</th>\n",
              "      <td>PRC_C1F6D1B2X1W2H1S1T3B8I0G3N2S0Z1</td>\n",
              "      <td>2004297</td>\n",
              "      <td>가축분뇨의 관리 및 이용에 관한 법률 일부개정법률안</td>\n",
              "      <td>환경노동위원회</td>\n",
              "      <td>2016-12-12</td>\n",
              "      <td>임기만료폐기</td>\n",
              "      <td>20</td>\n",
              "      <td>http://likms.assembly.go.kr/bill/billDetail.do...</td>\n",
              "      <td>김종태의원 등 12인</td>\n",
              "      <td>http://likms.assembly.go.kr/bill/coactorListPo...</td>\n",
              "      <td>김종태</td>\n",
              "      <td>강석호,김석기,김태흠,김현아,박명재,윤영일,윤종필,이철우,장석춘,홍문표,홍철호</td>\n",
              "      <td>김종태</td>\n",
              "      <td>새누리당</td>\n",
              "    </tr>\n",
              "    <tr>\n",
              "      <th>17885</th>\n",
              "      <td>PRC_J1U6T1D2P1E2S1I1Q3O0U4C9R7T4E3</td>\n",
              "      <td>2004296</td>\n",
              "      <td>산림자원의 조성 및 관리에 관한 법률 일부개정법률안</td>\n",
              "      <td>농림축산식품해양수산위원회</td>\n",
              "      <td>2016-12-12</td>\n",
              "      <td>폐기</td>\n",
              "      <td>20</td>\n",
              "      <td>http://likms.assembly.go.kr/bill/billDetail.do...</td>\n",
              "      <td>김종태의원 등 11인</td>\n",
              "      <td>http://likms.assembly.go.kr/bill/coactorListPo...</td>\n",
              "      <td>김종태</td>\n",
              "      <td>강석호,김석기,김성찬,김중로,김현아,박명재,윤종필,이철우,홍문표,홍철호</td>\n",
              "      <td>김종태</td>\n",
              "      <td>새누리당</td>\n",
              "    </tr>\n",
              "    <tr>\n",
              "      <th>17886</th>\n",
              "      <td>PRC_T1J6I1K2T1L2Y1P1Z2T8P5C9U1D1S8</td>\n",
              "      <td>2004295</td>\n",
              "      <td>자유무역협정 체결에 따른 농어업인 등의 지원에 관한 특별법 일부개정법률안</td>\n",
              "      <td>농림축산식품해양수산위원회</td>\n",
              "      <td>2016-12-12</td>\n",
              "      <td>임기만료폐기</td>\n",
              "      <td>20</td>\n",
              "      <td>http://likms.assembly.go.kr/bill/billDetail.do...</td>\n",
              "      <td>김종태의원 등 12인</td>\n",
              "      <td>http://likms.assembly.go.kr/bill/coactorListPo...</td>\n",
              "      <td>김종태</td>\n",
              "      <td>강석호,김석기,김중로,김현아,박명재,위성곤,윤영일,윤종필,이철우,홍문표,홍철호</td>\n",
              "      <td>김종태</td>\n",
              "      <td>새누리당</td>\n",
              "    </tr>\n",
              "    <tr>\n",
              "      <th>17887</th>\n",
              "      <td>PRC_M1X6O1A2F1L2Q1F1Z2X8E3E0X4I3O7</td>\n",
              "      <td>2004294</td>\n",
              "      <td>수도법 일부개정법률안</td>\n",
              "      <td>환경노동위원회</td>\n",
              "      <td>2016-12-12</td>\n",
              "      <td>임기만료폐기</td>\n",
              "      <td>20</td>\n",
              "      <td>http://likms.assembly.go.kr/bill/billDetail.do...</td>\n",
              "      <td>김종태의원 등 10인</td>\n",
              "      <td>http://likms.assembly.go.kr/bill/coactorListPo...</td>\n",
              "      <td>김종태</td>\n",
              "      <td>강석호,김석기,김성찬,김현아,박명재,신상진,윤종필,이종명,홍문표</td>\n",
              "      <td>김종태</td>\n",
              "      <td>새누리당</td>\n",
              "    </tr>\n",
              "    <tr>\n",
              "      <th>18481</th>\n",
              "      <td>PRC_X1C6K1T1N1Y4E1L6M3M8X5M1H6Z6P8</td>\n",
              "      <td>2003556</td>\n",
              "      <td>수자원의 조사ㆍ계획 및 관리에 관한 법률안</td>\n",
              "      <td>국토교통위원회</td>\n",
              "      <td>2016-11-14</td>\n",
              "      <td>대안반영폐기</td>\n",
              "      <td>20</td>\n",
              "      <td>http://likms.assembly.go.kr/bill/billDetail.do...</td>\n",
              "      <td>김종태의원 등 11인</td>\n",
              "      <td>http://likms.assembly.go.kr/bill/coactorListPo...</td>\n",
              "      <td>김종태</td>\n",
              "      <td>김성태,김현아,박맹우,박명재,박순자,박완수,안규백,이헌승,정용기,최경환</td>\n",
              "      <td>김종태</td>\n",
              "      <td>새누리당</td>\n",
              "    </tr>\n",
              "    <tr>\n",
              "      <th>21199</th>\n",
              "      <td>PRC_U1K6F0X6D3I0M1I5Q1N8F4D7N3A3E3</td>\n",
              "      <td>2000600</td>\n",
              "      <td>6·25전쟁 전후 비정규군 공로자 보상에 관한 법률안</td>\n",
              "      <td>국방위원회</td>\n",
              "      <td>2016-06-30</td>\n",
              "      <td>임기만료폐기</td>\n",
              "      <td>20</td>\n",
              "      <td>http://likms.assembly.go.kr/bill/billDetail.do...</td>\n",
              "      <td>김종태의원 등 11인</td>\n",
              "      <td>http://likms.assembly.go.kr/bill/coactorListPo...</td>\n",
              "      <td>김종태</td>\n",
              "      <td>김성태,김중로,김학용,박덕흠,박맹우,안규백,이명수,이우현,이종명,이학재</td>\n",
              "      <td>김종태</td>\n",
              "      <td>새누리당</td>\n",
              "    </tr>\n",
              "    <tr>\n",
              "      <th>21250</th>\n",
              "      <td>PRC_T1H6M0T6P2Q8H1F4R4Y7N2Z6M3X4V1</td>\n",
              "      <td>2000523</td>\n",
              "      <td>부정청탁 및 금품등 수수의 금지에 관한 법률 일부개정법률안</td>\n",
              "      <td>정무위원회</td>\n",
              "      <td>2016-06-28</td>\n",
              "      <td>폐기</td>\n",
              "      <td>20</td>\n",
              "      <td>http://likms.assembly.go.kr/bill/billDetail.do...</td>\n",
              "      <td>김종태의원 등 13인</td>\n",
              "      <td>http://likms.assembly.go.kr/bill/coactorListPo...</td>\n",
              "      <td>김종태</td>\n",
              "      <td>김성원,김성찬,김태흠,박덕흠,백승주,안규백,안상수,유성엽,이만희,이명수,홍문표,황주홍</td>\n",
              "      <td>김종태</td>\n",
              "      <td>새누리당</td>\n",
              "    </tr>\n",
              "  </tbody>\n",
              "</table>\n",
              "</div>"
            ],
            "text/plain": [
              "                                  BILL_ID  BILL_NO  ... NAME PARTY_NAME\n",
              "17046  PRC_Z1R7G0B1K2J5W1Q8R1L2B2S2R2U4X4  2005297  ...  김종태       새누리당\n",
              "17864  PRC_G1I6K1J2A1Q2T1H7E3B3R5U1R0P1M3  2004317  ...  김종태       새누리당\n",
              "17880  PRC_B1T6M1D2Y1V2P1H3P3O9E2H0T1E1J7  2004301  ...  김종태       새누리당\n",
              "17884  PRC_C1F6D1B2X1W2H1S1T3B8I0G3N2S0Z1  2004297  ...  김종태       새누리당\n",
              "17885  PRC_J1U6T1D2P1E2S1I1Q3O0U4C9R7T4E3  2004296  ...  김종태       새누리당\n",
              "17886  PRC_T1J6I1K2T1L2Y1P1Z2T8P5C9U1D1S8  2004295  ...  김종태       새누리당\n",
              "17887  PRC_M1X6O1A2F1L2Q1F1Z2X8E3E0X4I3O7  2004294  ...  김종태       새누리당\n",
              "18481  PRC_X1C6K1T1N1Y4E1L6M3M8X5M1H6Z6P8  2003556  ...  김종태       새누리당\n",
              "21199  PRC_U1K6F0X6D3I0M1I5Q1N8F4D7N3A3E3  2000600  ...  김종태       새누리당\n",
              "21250  PRC_T1H6M0T6P2Q8H1F4R4Y7N2Z6M3X4V1  2000523  ...  김종태       새누리당\n",
              "\n",
              "[10 rows x 14 columns]"
            ]
          },
          "metadata": {},
          "execution_count": 76
        }
      ]
    },
    {
      "cell_type": "markdown",
      "metadata": {
        "id": "wbw_az1PsPRF"
      },
      "source": [
        "#**대표 발의자별 / 정당별 법안 발의 횟수 + 가결율**\n",
        "- 활용 데이터 \n",
        "  ```\n",
        "  suggest.csv (출처 : 데이콘, 1대 국회 ~ 21대 국회 발의 법안 모음)\n",
        "  suggest_21.csv(출처 : 열려라 국회 - 21대 국회 발의 법안(가장 최근 것까지 업데이트)\n",
        "  ```\n",
        "\n",
        "- 발의된 법안 : 가결 vs 폐기\n",
        "  ```\n",
        "    - 가결 : 법안의 '내용'이 본회의에 부의됨. \n",
        "        원안가결: 제안된 법안이 수정 없이 본회의 심사를 통과\n",
        "        수정가결: 제안된 법안이 본회의에서 수정되어 통과\n",
        "        대안반영폐기: 다른 의안과 하나로 통합돼 본회의에 부의되지 않음\n",
        "        수정안반영폐기: 다른 의안에 내용을 일부 또는 전부 반영하여 본회의에 부의되지 않음\n",
        "    - 폐기\n",
        "        임기만료폐기: 국회의원의 임기가 끝날 경우 국회에 제출된 법률안이 폐기됨\n",
        "        폐기: 제안된 법안이 심사를 통과하지 못하여 본회의에 회부되지 못함\n",
        "        철회: 제안된 법안이 제안자에 의해 철회됨\n",
        "  ```\n",
        "\n",
        "- 생각해보아야 할 것\n",
        "\n",
        "```\n",
        "- 발의안 자기 복제에 대한 문제(http://newslabit.hankyung.com/article/201906260653G) \n",
        "    - 핵심은 국회의원의 본업인 법안 발의에 대한 정확한 평가 지표가 없다는 점\n",
        "    - 따라서 발의 횟수보다, '가결 횟수가 중요'\n",
        "    - 최소한의 법안 발의 의무 기준을 \"전체 의원 발의 횟수 평균 이상\"으로 잡고, 이 이상인 의원만 추려내어 '가결률' 분석\n",
        "      - 1개 법안 발의 => 가결 => 가결률 100% \n",
        "      - 100개 법안 발의 => 60개 가결 => 가결률 60% \n",
        "      - 위 두 사례의 경우를 방지하기 위해서.\n",
        "\n",
        "- '대표 발의자'로서 법안 제출 횟수가 중요한 이유 (http://newslabit.hankyung.com/article/201804195943G)\n",
        "- 성별/ 학력/ 경력이 법안 발의라는 국회의원의 최우선 의무 실행 능력과 결부하는가?\n",
        "\n",
        "```\n",
        "- 정당 관련\n",
        "  - 기존 정당 의석 수 대비, 발의율, 가결율의 비례하는가에 대해서도 생각해볼 수 있음. \n",
        "  - 발의를 많이 하는 정당이 가결도 많이 되는가? 에 대해서도 \n",
        "\n",
        "\n",
        "*그러나 발의를 많이 한 의원도 국회의원으로서의 책무를 다했다고 볼 수 는 없습니다. 모든 발의 법안을 새로이 만든 것이 아니라, 자기 복제 수준의 법안들을 계속 발의했기 때문입니다.*\n",
        "> 참고 기사 : http://newslabit.hankyung.com/article/201906260653G\n",
        "\n",
        "*법안 자기 복제 검증에는 TF-IDF 알고리즘을 사용했습니다. 법안에서 키워드를 추출하고 키워드가 동일한 법안끼리 묶었습니다.*\n",
        "\n"
      ]
    },
    {
      "cell_type": "code",
      "metadata": {
        "colab": {
          "base_uri": "https://localhost:8080/"
        },
        "id": "q1StgfLYsU59",
        "outputId": "73a24b3a-f8be-4b3f-a06a-61db8a426bb1"
      },
      "source": [
        "suggest.info()"
      ],
      "execution_count": 77,
      "outputs": [
        {
          "output_type": "stream",
          "name": "stdout",
          "text": [
            "<class 'pandas.core.frame.DataFrame'>\n",
            "RangeIndex: 62658 entries, 0 to 62657\n",
            "Data columns (total 12 columns):\n",
            " #   Column         Non-Null Count  Dtype \n",
            "---  ------         --------------  ----- \n",
            " 0   BILL_ID        62658 non-null  object\n",
            " 1   BILL_NO        62658 non-null  int64 \n",
            " 2   BILL_NAME      62658 non-null  object\n",
            " 3   COMMITTEE      61821 non-null  object\n",
            " 4   PROPOSE_DT     62651 non-null  object\n",
            " 5   PROC_RESULT    58842 non-null  object\n",
            " 6   AGE            62658 non-null  int64 \n",
            " 7   DETAIL_LINK    62658 non-null  object\n",
            " 8   PROPOSER       62657 non-null  object\n",
            " 9   MEMBER_LIST    62658 non-null  object\n",
            " 10  RST_PROPOSER   62566 non-null  object\n",
            " 11  PUBL_PROPOSER  59950 non-null  object\n",
            "dtypes: int64(2), object(10)\n",
            "memory usage: 5.7+ MB\n"
          ]
        }
      ]
    },
    {
      "cell_type": "code",
      "metadata": {
        "colab": {
          "base_uri": "https://localhost:8080/"
        },
        "id": "wfyMz1J2hSVU",
        "outputId": "86d9cd39-2a1b-4eba-89f9-1c7a6d86835f"
      },
      "source": [
        "suggest_21.info()"
      ],
      "execution_count": 78,
      "outputs": [
        {
          "output_type": "stream",
          "name": "stdout",
          "text": [
            "<class 'pandas.core.frame.DataFrame'>\n",
            "Int64Index: 11907 entries, 0 to 8409\n",
            "Data columns (total 13 columns):\n",
            " #   Column      Non-Null Count  Dtype \n",
            "---  ------      --------------  ----- \n",
            " 0   의안번호        11907 non-null  int64 \n",
            " 1   대수          11907 non-null  int64 \n",
            " 2   법률안명        11907 non-null  object\n",
            " 3   제안자         11907 non-null  object\n",
            " 4   대표발의자       11907 non-null  object\n",
            " 5   공동발의자       11907 non-null  object\n",
            " 6   상세페이지       11907 non-null  object\n",
            " 7   소관위원회       11880 non-null  object\n",
            " 8   제안일         11907 non-null  object\n",
            " 9   처리상태        2519 non-null   object\n",
            " 10  제안자목록링크     11907 non-null  object\n",
            " 11  NAME        11907 non-null  object\n",
            " 12  PARTY_NAME  11907 non-null  object\n",
            "dtypes: int64(2), object(11)\n",
            "memory usage: 1.3+ MB\n"
          ]
        }
      ]
    },
    {
      "cell_type": "code",
      "metadata": {
        "colab": {
          "base_uri": "https://localhost:8080/"
        },
        "id": "h4ByFJ8Phfe4",
        "outputId": "6f0e4a10-0ca0-495a-aff7-1e4c1e8ad620"
      },
      "source": [
        "suggest_21.isnull().sum()"
      ],
      "execution_count": 79,
      "outputs": [
        {
          "output_type": "execute_result",
          "data": {
            "text/plain": [
              "의안번호             0\n",
              "대수               0\n",
              "법률안명             0\n",
              "제안자              0\n",
              "대표발의자            0\n",
              "공동발의자            0\n",
              "상세페이지            0\n",
              "소관위원회           27\n",
              "제안일              0\n",
              "처리상태          9388\n",
              "제안자목록링크          0\n",
              "NAME             0\n",
              "PARTY_NAME       0\n",
              "dtype: int64"
            ]
          },
          "metadata": {},
          "execution_count": 79
        }
      ]
    },
    {
      "cell_type": "markdown",
      "metadata": {
        "id": "6SyQTOSuSRRe"
      },
      "source": [
        "### **법안 처리 현황(21대)**\n",
        "- 21대 국회는 임기 종료 전이므로, '임기만료폐기' 카테고리가 존재하지 X"
      ]
    },
    {
      "cell_type": "code",
      "metadata": {
        "colab": {
          "base_uri": "https://localhost:8080/",
          "height": 388
        },
        "id": "23Uwi7sflbRk",
        "outputId": "b459d57f-c88f-4742-d15d-456f48f0e4aa"
      },
      "source": [
        "sns.set_palette(\"pastel\")\n",
        "sns.countplot(data= suggest_21, x= '처리상태' )\n",
        "suggest_21['처리상태'].value_counts()"
      ],
      "execution_count": 80,
      "outputs": [
        {
          "output_type": "execute_result",
          "data": {
            "text/plain": [
              "대안반영폐기    1810\n",
              "수정가결       358\n",
              "원안가결       160\n",
              "철회         121\n",
              "폐기          70\n",
              "Name: 처리상태, dtype: int64"
            ]
          },
          "metadata": {},
          "execution_count": 80
        },
        {
          "output_type": "display_data",
          "data": {
            "image/png": "[encoded data removed]",
            "text/plain": [
              "<Figure size 432x288 with 1 Axes>"
            ]
          },
          "metadata": {
            "needs_background": "light"
          }
        }
      ]
    },
    {
      "cell_type": "code",
      "metadata": {
        "id": "G1ezc13knWpp"
      },
      "source": [
        "# 가결 / 폐기 카테고리 분류 매핑\n",
        "\n",
        "map = {'대안반영폐기':'가결',\n",
        "       '수정가결':'가결',\n",
        "       '원안가결':'가결',\n",
        "       '폐기':'폐기',\n",
        "       '철회':'폐기',\n",
        "       '임기만료폐기':'폐기' }\n",
        "\n",
        "suggest_21[\"가결상태\"] = suggest_21['처리상태'].map(map)"
      ],
      "execution_count": 81,
      "outputs": []
    },
    {
      "cell_type": "code",
      "metadata": {
        "colab": {
          "base_uri": "https://localhost:8080/"
        },
        "id": "QAv6rW_d09pZ",
        "outputId": "82febea0-03d1-4266-cf42-2cbb505caf18"
      },
      "source": [
        "suggest_21.isnull().sum()"
      ],
      "execution_count": 82,
      "outputs": [
        {
          "output_type": "execute_result",
          "data": {
            "text/plain": [
              "의안번호             0\n",
              "대수               0\n",
              "법률안명             0\n",
              "제안자              0\n",
              "대표발의자            0\n",
              "공동발의자            0\n",
              "상세페이지            0\n",
              "소관위원회           27\n",
              "제안일              0\n",
              "처리상태          9388\n",
              "제안자목록링크          0\n",
              "NAME             0\n",
              "PARTY_NAME       0\n",
              "가결상태          9388\n",
              "dtype: int64"
            ]
          },
          "metadata": {},
          "execution_count": 82
        }
      ]
    },
    {
      "cell_type": "code",
      "metadata": {
        "colab": {
          "base_uri": "https://localhost:8080/",
          "height": 333
        },
        "id": "0C2PJvaiprin",
        "outputId": "590537a9-7399-4d1b-b32a-6e30becb7d96"
      },
      "source": [
        "sns.set_palette(\"pastel\")\n",
        "sns.countplot(data= suggest_21, x= '가결상태' )\n",
        "suggest_21['가결상태'].value_counts()"
      ],
      "execution_count": 83,
      "outputs": [
        {
          "output_type": "execute_result",
          "data": {
            "text/plain": [
              "가결    2328\n",
              "폐기     191\n",
              "Name: 가결상태, dtype: int64"
            ]
          },
          "metadata": {},
          "execution_count": 83
        },
        {
          "output_type": "display_data",
          "data": {
            "image/png": "[encoded data removed]",
            "text/plain": [
              "<Figure size 432x288 with 1 Axes>"
            ]
          },
          "metadata": {
            "needs_background": "light"
          }
        }
      ]
    },
    {
      "cell_type": "markdown",
      "metadata": {
        "id": "9FyJMz7C2ycM"
      },
      "source": [
        "### **대표 발의자 별 법안 제출수 (21대)**"
      ]
    },
    {
      "cell_type": "code",
      "metadata": {
        "colab": {
          "base_uri": "https://localhost:8080/"
        },
        "id": "Q8wXK1QG46H7",
        "outputId": "22c2e710-f6c0-4979-a4b3-4657ed6c8b43"
      },
      "source": [
        "# 발의 법안 전체 경우 (가결안 + 폐기안)\n",
        "suggest_21['대표발의자'].value_counts()"
      ],
      "execution_count": 84,
      "outputs": [
        {
          "output_type": "execute_result",
          "data": {
            "text/plain": [
              "이수진    280\n",
              "민형배    170\n",
              "김병욱    166\n",
              "정청래    155\n",
              "정춘숙    125\n",
              "      ... \n",
              "조수진      5\n",
              "이상직      5\n",
              "김의겸      5\n",
              "윤건영      5\n",
              "김태년      3\n",
              "Name: 대표발의자, Length: 298, dtype: int64"
            ]
          },
          "metadata": {},
          "execution_count": 84
        }
      ]
    },
    {
      "cell_type": "code",
      "metadata": {
        "colab": {
          "base_uri": "https://localhost:8080/"
        },
        "id": "aCbol0B2i099",
        "outputId": "1c05ad49-ebf8-4d55-a48a-c8b2a1f6c59c"
      },
      "source": [
        "# 전체 의원 발의 법안 개수 평균 - 21대 (2020년 5월 30일 ~ 2021년 10월 5일 )\n",
        "suggest_mean_21 = suggest_21['대표발의자'].value_counts().mean()\n",
        "print(\"21대 국회의원 평균 법안 발의 횟수: \", round(suggest_mean_21,1),\"개\")"
      ],
      "execution_count": 85,
      "outputs": [
        {
          "output_type": "stream",
          "name": "stdout",
          "text": [
            "21대 국회의원 평균 법안 발의 횟수:  40.0 개\n"
          ]
        }
      ]
    },
    {
      "cell_type": "code",
      "metadata": {
        "colab": {
          "base_uri": "https://localhost:8080/",
          "height": 419
        },
        "id": "9HGSBuoYfpzI",
        "outputId": "a19d34b8-c329-4f3a-8b61-a7a99d9ee696"
      },
      "source": [
        "# 법안 발의(가결안 + 폐기안) top 10\n",
        "\n",
        "plt.figure(figsize=(10,6))  # sns.countplot 코드 밑에 코드 작성시 적용 X\n",
        "sns.countplot(data=suggest_21,\n",
        "              x = '대표발의자',\n",
        "              order = suggest_21['대표발의자'].value_counts()[:10].index)\n",
        "plt.title(\" 전체 발의안 수 기준 대표 발의자 top10 (21대)\")\n",
        "plt.xticks(rotation=45)\n",
        "plt.show();"
      ],
      "execution_count": 86,
      "outputs": [
        {
          "output_type": "display_data",
          "data": {
            "image/png": "[encoded data removed]",
            "text/plain": [
              "<Figure size 720x432 with 1 Axes>"
            ]
          },
          "metadata": {
            "needs_background": "light"
          }
        }
      ]
    },
    {
      "cell_type": "code",
      "metadata": {
        "colab": {
          "base_uri": "https://localhost:8080/",
          "height": 419
        },
        "id": "TYgjHQ4Kfv1r",
        "outputId": "774c5fc0-0d1e-46ee-a414-d116257a7dd5"
      },
      "source": [
        "# 법안 발의(가결안 + 폐기안) 최하위 10위\n",
        "\n",
        "plt.figure(figsize=(10,6))  # sns.countplot 코드 밑에 코드 작성시 적용 X\n",
        "sns.countplot(data=suggest_21,\n",
        "              x = '대표발의자',\n",
        "              order = suggest_21['대표발의자'].value_counts(ascending=True)[:10].index)\n",
        "plt.title(\" 전체 발의안 수 기준 대표 발의자 최하위 10위 (21대)\")\n",
        "plt.xticks(rotation=45)\n",
        "plt.show();"
      ],
      "execution_count": 87,
      "outputs": [
        {
          "output_type": "display_data",
          "data": {
            "image/png": "[encoded data removed]",
            "text/plain": [
              "<Figure size 720x432 with 1 Axes>"
            ]
          },
          "metadata": {
            "needs_background": "light"
          }
        }
      ]
    },
    {
      "cell_type": "code",
      "metadata": {
        "id": "LozOcprs7LAw",
        "colab": {
          "base_uri": "https://localhost:8080/"
        },
        "outputId": "a1d5d64d-1dd6-497c-ab32-c080a9a91261"
      },
      "source": [
        "# 발의 법안 중 가결안 경우 (only 가결안)\n",
        "suggest_21[suggest_21['가결상태']=='가결']['대표발의자'].value_counts()"
      ],
      "execution_count": 88,
      "outputs": [
        {
          "output_type": "execute_result",
          "data": {
            "text/plain": [
              "이수진    46\n",
              "송옥주    33\n",
              "서영교    32\n",
              "김병욱    32\n",
              "임이자    31\n",
              "       ..\n",
              "신원식     1\n",
              "이낙연     1\n",
              "최형두     1\n",
              "안병길     1\n",
              "송영길     1\n",
              "Name: 대표발의자, Length: 284, dtype: int64"
            ]
          },
          "metadata": {},
          "execution_count": 88
        }
      ]
    },
    {
      "cell_type": "code",
      "metadata": {
        "colab": {
          "base_uri": "https://localhost:8080/",
          "height": 419
        },
        "id": "SLu77vpHipfk",
        "outputId": "5407b97e-b08f-4dfd-f563-ca5f71ded3fc"
      },
      "source": [
        "# 법안 발의 (가결안) top 10\n",
        "\n",
        "plt.figure(figsize=(10,6)) # sns.countplot 코드 밑에 코드 작성시 적용 X\n",
        "\n",
        "sns.countplot(data = suggest_21[suggest_21['가결상태']=='가결'],\n",
        "              x = '대표발의자',\n",
        "              order = suggest_21[suggest_21['가결상태']=='가결']['대표발의자'].value_counts()[:10].index)\n",
        "plt.title(\" 가결안 수 기준 대표 발의자 top10 (21대)\")\n",
        "plt.xticks(rotation=45)\n",
        "plt.show();"
      ],
      "execution_count": 89,
      "outputs": [
        {
          "output_type": "display_data",
          "data": {
            "image/png": "[encoded data removed]",
            "text/plain": [
              "<Figure size 720x432 with 1 Axes>"
            ]
          },
          "metadata": {
            "needs_background": "light"
          }
        }
      ]
    },
    {
      "cell_type": "markdown",
      "metadata": {
        "id": "7kDeyNiUeoCN"
      },
      "source": [
        "###**가결률 (21대)**"
      ]
    },
    {
      "cell_type": "code",
      "metadata": {
        "id": "TyUt498CeoCY"
      },
      "source": [
        "# 발의 법안 전체 경우 (가결안 + 폐기안) - 21대 국회\n",
        "# suggest_mean_21 = suggest_21['대표발의자'].value_counts().mean() >> 39.2개\n",
        "# 발의 법안이 전체 평균 이상인 의원만 추려내어 '가결률' 분석\n",
        "\n",
        "bill_sum_21 = suggest_21['대표발의자'].value_counts()\n",
        "bill_sum_21_over_m = bill_sum_21[bill_sum_21 > suggest_mean_21]\n",
        "\n",
        "\n",
        "# 발의 법안 중 가결안 경우 (only 가결안)\n",
        "bill_pass_21 = suggest_21[suggest_21['가결상태']=='가결']['대표발의자'].value_counts()\n"
      ],
      "execution_count": 90,
      "outputs": []
    },
    {
      "cell_type": "code",
      "metadata": {
        "colab": {
          "base_uri": "https://localhost:8080/"
        },
        "id": "JeyK6t2Qj_51",
        "outputId": "7b22078a-5903-4254-ba23-fb02c97d610a"
      },
      "source": [
        "bill_sum_21_over_m"
      ],
      "execution_count": 91,
      "outputs": [
        {
          "output_type": "execute_result",
          "data": {
            "text/plain": [
              "이수진    280\n",
              "민형배    170\n",
              "김병욱    166\n",
              "정청래    155\n",
              "정춘숙    125\n",
              "      ... \n",
              "김홍걸     41\n",
              "서영석     41\n",
              "윤재옥     40\n",
              "김미애     40\n",
              "김민기     40\n",
              "Name: 대표발의자, Length: 118, dtype: int64"
            ]
          },
          "metadata": {},
          "execution_count": 91
        }
      ]
    },
    {
      "cell_type": "code",
      "metadata": {
        "colab": {
          "base_uri": "https://localhost:8080/"
        },
        "id": "1Hr5S8mWeoCZ",
        "outputId": "20b44a39-0f4a-4219-8d30-6275bb141228"
      },
      "source": [
        "# 평균 발의 횟수 이상 - 가결률\n",
        "\n",
        "pass_percent_21 = round(bill_pass_21 / bill_sum_21_over_m, 2)\n",
        "pass_percent_21.sort_values(ascending = False)[:10]"
      ],
      "execution_count": 92,
      "outputs": [
        {
          "output_type": "execute_result",
          "data": {
            "text/plain": [
              "안호영    0.49\n",
              "임이자    0.46\n",
              "이주환    0.39\n",
              "김성주    0.38\n",
              "박재호    0.35\n",
              "김경협    0.33\n",
              "정필모    0.33\n",
              "박홍근    0.33\n",
              "남인순    0.33\n",
              "송갑석    0.33\n",
              "Name: 대표발의자, dtype: float64"
            ]
          },
          "metadata": {},
          "execution_count": 92
        }
      ]
    },
    {
      "cell_type": "code",
      "metadata": {
        "colab": {
          "base_uri": "https://localhost:8080/",
          "height": 405
        },
        "id": "Xhorc4PYeoCa",
        "outputId": "bdcaea85-8d41-470d-a45a-a4d936417b95"
      },
      "source": [
        "# 가결율 top 10 (21대)\n",
        "plt.figure(figsize = (10,6))\n",
        "\n",
        "colors=['powderblue', 'gold', 'coral', 'maroon', 'salmon', 'pink', 'olive', 'orchid', 'lightpink','tan'] \n",
        "pass_percent_21.sort_values(ascending = False)[:10].plot(kind='bar', color= colors)\n",
        "plt.title(\"가결율 top10 (21대)\")\n",
        "plt.xticks(rotation=45)\n",
        "plt.show()"
      ],
      "execution_count": 93,
      "outputs": [
        {
          "output_type": "display_data",
          "data": {
            "image/png": "[encoded data removed]",
            "text/plain": [
              "<Figure size 720x432 with 1 Axes>"
            ]
          },
          "metadata": {
            "needs_background": "light"
          }
        }
      ]
    },
    {
      "cell_type": "markdown",
      "metadata": {
        "id": "Fj4z5bPYb1uu"
      },
      "source": [
        "###**정당 별 법안 제출 수 및 가결율 (21대)**"
      ]
    },
    {
      "cell_type": "code",
      "metadata": {
        "colab": {
          "base_uri": "https://localhost:8080/"
        },
        "id": "JPHYXd0NbujL",
        "outputId": "3563ce66-d856-4283-bcd0-8617b880de17"
      },
      "source": [
        "# 법안 제출 수 \n",
        "party_sum_21 = suggest_21['PARTY_NAME'].value_counts()\n",
        "party_sum_21.values"
      ],
      "execution_count": 94,
      "outputs": [
        {
          "output_type": "execute_result",
          "data": {
            "text/plain": [
              "array([7832, 2975,  633,  165,  157,   74,   66,    5])"
            ]
          },
          "metadata": {},
          "execution_count": 94
        }
      ]
    },
    {
      "cell_type": "code",
      "metadata": {
        "colab": {
          "base_uri": "https://localhost:8080/",
          "height": 424
        },
        "id": "3JwMAo2eb8u9",
        "outputId": "552fe817-f826-4e7c-d0cb-50b32a960c4f"
      },
      "source": [
        "# 가결률 - 많은 의석을 차지한 더불어민주당이 당연히 많은 법안을 발의할 것이므로, 가결률을 확인한다. \n",
        "plt.figure(figsize=(10,6))\n",
        "\n",
        "\n",
        "party_pass_21 = suggest_21[suggest_21['가결상태']=='가결']['PARTY_NAME'].value_counts()\n",
        "\n",
        "party_percent_21 = round(party_pass_21 / party_sum_21, 2)*100\n",
        "party_percent_21.sort_values(ascending=False).plot(kind='bar', color=colors)\n",
        "\n",
        "plt.xticks(rotation=45)\n",
        "plt.title(\"정당별 발의 법안 가결률(%)(21대)\")\n",
        "plt.show();"
      ],
      "execution_count": 95,
      "outputs": [
        {
          "output_type": "display_data",
          "data": {
            "image/png": "[encoded data removed]",
            "text/plain": [
              "<Figure size 720x432 with 1 Axes>"
            ]
          },
          "metadata": {
            "needs_background": "light"
          }
        }
      ]
    },
    {
      "cell_type": "code",
      "metadata": {
        "colab": {
          "base_uri": "https://localhost:8080/",
          "height": 392
        },
        "id": "CiJHwwPZfrDy",
        "outputId": "e783da72-d780-4f6d-a6b4-985ffac1bc58"
      },
      "source": [
        "fig = plt.figure(figsize=(10,6))\n",
        "fig.set_facecolor('white')\n",
        "ax1 = fig.add_subplot() # axes 생성\n",
        "\n",
        "colors = sns.color_palette('summer',len(party_percent_21)) \n",
        "\n",
        "xtick_label_position = list(range(len(party_percent_21))) # x축 눈금 표시 좌표\n",
        "ax1.set_xticks(xtick_label_position) # x축 눈금 표시\n",
        "ax1.set_xticklabels(party_percent_21.sort_values(ascending=False).index) # x축 눈금 라벨\n",
        "ax1.bar(xtick_label_position, party_percent_21.sort_values(ascending=False).values,color=colors) #바차트 출력\n",
        "\n",
        "\n",
        "color = 'blue'\n",
        "ax2 = ax1.twinx() #새로운 axis 생성\n",
        "ax2.plot(xtick_label_position, party_sum_21.values, color=color, linestyle='--',marker='o')\n",
        "ax2.tick_params(axis='y', labelcolor=color)\n",
        "\n",
        "plt.title(\"정당별 발의 횟수 및 법안 가결률(%)(21대)\", fontsize=15)\n",
        "# plt.xticks(rotation=45)\n",
        "plt.show();\n",
        "\n",
        "\n"
      ],
      "execution_count": 96,
      "outputs": [
        {
          "output_type": "display_data",
          "data": {
            "image/png": "[encoded data removed]",
            "text/plain": [
              "<Figure size 720x432 with 2 Axes>"
            ]
          },
          "metadata": {}
        }
      ]
    },
    {
      "cell_type": "markdown",
      "metadata": {
        "id": "gj3K3T2M1hQ6"
      },
      "source": [
        "### **법안 처리 현황(20대)**\n"
      ]
    },
    {
      "cell_type": "code",
      "metadata": {
        "colab": {
          "base_uri": "https://localhost:8080/",
          "height": 457
        },
        "id": "-kWiZhv-1hQ6",
        "outputId": "8e1258cd-859a-44ed-c2a4-e4097568a1d3"
      },
      "source": [
        "sns.set_palette(\"pastel\")\n",
        "sns.countplot(data= suggest_20, x= 'PROC_RESULT' )\n",
        "plt.title(\"법안 처리 현황 (20대)\")\n",
        "\n",
        "suggest_20['PROC_RESULT'].value_counts()"
      ],
      "execution_count": 97,
      "outputs": [
        {
          "output_type": "execute_result",
          "data": {
            "text/plain": [
              "임기만료폐기     14716\n",
              "대안반영폐기      5156\n",
              "수정가결         872\n",
              "원안가결         570\n",
              "철회           215\n",
              "폐기           124\n",
              "수정안반영폐기       41\n",
              "부결             2\n",
              "Name: PROC_RESULT, dtype: int64"
            ]
          },
          "metadata": {},
          "execution_count": 97
        },
        {
          "output_type": "display_data",
          "data": {
            "image/png": "[encoded data removed]",
            "text/plain": [
              "<Figure size 432x288 with 1 Axes>"
            ]
          },
          "metadata": {
            "needs_background": "light"
          }
        }
      ]
    },
    {
      "cell_type": "code",
      "metadata": {
        "id": "YF9w7Pkk1hQ7"
      },
      "source": [
        "# 가결 / 폐기 카테고리 분류 매핑\n",
        "\n",
        "map_20 = {'대안반영폐기':'가결',\n",
        "       '수정가결':'가결',\n",
        "       '원안가결':'가결',\n",
        "       '수정안반영폐기':'가결',\n",
        "       '임기만료폐기':'폐기',\n",
        "       '폐기':'폐기',\n",
        "       '철회':'폐기' }\n",
        "\n",
        "suggest_20['RESULT'] = suggest_20['PROC_RESULT'].map(map_20)"
      ],
      "execution_count": 98,
      "outputs": []
    },
    {
      "cell_type": "code",
      "metadata": {
        "colab": {
          "base_uri": "https://localhost:8080/"
        },
        "id": "KS5x5Vfw1hQ7",
        "outputId": "fc3db8f7-4797-4274-fc1a-21a0de9427a8"
      },
      "source": [
        "suggest_20.isnull().sum()"
      ],
      "execution_count": 99,
      "outputs": [
        {
          "output_type": "execute_result",
          "data": {
            "text/plain": [
              "BILL_ID          0\n",
              "BILL_NO          0\n",
              "BILL_NAME        0\n",
              "COMMITTEE        4\n",
              "PROPOSE_DT       0\n",
              "PROC_RESULT      0\n",
              "AGE              0\n",
              "DETAIL_LINK      0\n",
              "PROPOSER         0\n",
              "MEMBER_LIST      0\n",
              "RST_PROPOSER     0\n",
              "PUBL_PROPOSER    3\n",
              "NAME             0\n",
              "PARTY_NAME       0\n",
              "RESULT           2\n",
              "dtype: int64"
            ]
          },
          "metadata": {},
          "execution_count": 99
        }
      ]
    },
    {
      "cell_type": "code",
      "metadata": {
        "colab": {
          "base_uri": "https://localhost:8080/",
          "height": 348
        },
        "id": "d6k0oYtE1hQ7",
        "outputId": "9b1f67d4-1f8b-424c-a2f2-b1da97f5d296"
      },
      "source": [
        "sns.set_palette(\"pastel\")\n",
        "sns.countplot(data= suggest_20, x= 'RESULT' )\n",
        "plt.title(\"법안 가결 현황 (20대)\")\n",
        "suggest_20['RESULT'].value_counts()"
      ],
      "execution_count": 100,
      "outputs": [
        {
          "output_type": "execute_result",
          "data": {
            "text/plain": [
              "폐기    15055\n",
              "가결     6639\n",
              "Name: RESULT, dtype: int64"
            ]
          },
          "metadata": {},
          "execution_count": 100
        },
        {
          "output_type": "display_data",
          "data": {
            "image/png": "[encoded data removed]",
            "text/plain": [
              "<Figure size 432x288 with 1 Axes>"
            ]
          },
          "metadata": {
            "needs_background": "light"
          }
        }
      ]
    },
    {
      "cell_type": "markdown",
      "metadata": {
        "id": "SmM7bikd2_Yu"
      },
      "source": [
        "### **대표 발의자 별 법안 제출수 (20대)**"
      ]
    },
    {
      "cell_type": "code",
      "metadata": {
        "colab": {
          "base_uri": "https://localhost:8080/"
        },
        "id": "AnOMjSV71hQ7",
        "outputId": "bac920a2-0dec-424c-9577-7205fe178825"
      },
      "source": [
        "# 발의 법안 전체 경우 (가결안 + 폐기안) - 20대 국회\n",
        "suggest_20['RST_PROPOSER'].value_counts()"
      ],
      "execution_count": 101,
      "outputs": [
        {
          "output_type": "execute_result",
          "data": {
            "text/plain": [
              "황주홍    696\n",
              "박광온    389\n",
              "이찬열    324\n",
              "김도읍    238\n",
              "박정     228\n",
              "      ... \n",
              "허윤정      4\n",
              "이군현      4\n",
              "김무성      2\n",
              "진영       2\n",
              "김종인      1\n",
              "Name: RST_PROPOSER, Length: 318, dtype: int64"
            ]
          },
          "metadata": {},
          "execution_count": 101
        }
      ]
    },
    {
      "cell_type": "code",
      "metadata": {
        "colab": {
          "base_uri": "https://localhost:8080/"
        },
        "id": "a1WwMcyviZeP",
        "outputId": "41113f26-8009-41db-e5e3-1dd77f8e8886"
      },
      "source": [
        "# 전체 의원 발의 법안 개수 평균 - 20대\n",
        "suggest_mean_20 = suggest_20['RST_PROPOSER'].value_counts().mean()\n",
        "print(\"20대 국회의원 평균 법안 발의 횟수: \", round(suggest_mean_20,1),\"개\")"
      ],
      "execution_count": 102,
      "outputs": [
        {
          "output_type": "stream",
          "name": "stdout",
          "text": [
            "20대 국회의원 평균 법안 발의 횟수:  68.2 개\n"
          ]
        }
      ]
    },
    {
      "cell_type": "code",
      "metadata": {
        "id": "XFL6U1Ck1hQ8",
        "colab": {
          "base_uri": "https://localhost:8080/",
          "height": 0
        },
        "outputId": "742d1d0f-f922-49e8-a3a8-2715317d845b"
      },
      "source": [
        "# 법안 발의(가결안 + 폐기안) top 10\n",
        "\n",
        "plt.figure(figsize=(10,6))  # sns.countplot 코드 밑에 코드 작성시 적용 X\n",
        "sns.countplot(data=suggest_20,\n",
        "              x = 'RST_PROPOSER',\n",
        "              order = suggest_20['RST_PROPOSER'].value_counts()[:10].index)\n",
        "plt.title(\" 전체 발의안 수 기준 대표 발의자 top10 (20대)\")\n",
        "plt.xticks(rotation=45)\n",
        "plt.show();"
      ],
      "execution_count": 103,
      "outputs": [
        {
          "output_type": "display_data",
          "data": {
            "image/png": "[encoded data removed]",
            "text/plain": [
              "<Figure size 720x432 with 1 Axes>"
            ]
          },
          "metadata": {
            "needs_background": "light"
          }
        }
      ]
    },
    {
      "cell_type": "code",
      "metadata": {
        "colab": {
          "base_uri": "https://localhost:8080/",
          "height": 0
        },
        "id": "PPcdW4IqgZ7V",
        "outputId": "da0f21ec-ed5c-44d0-c373-181009bf4ea3"
      },
      "source": [
        "# 법안 발의(가결안 + 폐기안) 최하위 10위\n",
        "\n",
        "plt.figure(figsize=(10,6))  # sns.countplot 코드 밑에 코드 작성시 적용 X\n",
        "sns.countplot(data=suggest_20,\n",
        "              x = 'RST_PROPOSER',\n",
        "              order = suggest_20['RST_PROPOSER'].value_counts(ascending=True)[:10].index)\n",
        "plt.title(\" 전체 발의안 수 기준 대표 발의자 최하위 10위 (20대)\")\n",
        "plt.xticks(rotation=45)\n",
        "plt.show();"
      ],
      "execution_count": 104,
      "outputs": [
        {
          "output_type": "display_data",
          "data": {
            "image/png": "[encoded data removed]",
            "text/plain": [
              "<Figure size 720x432 with 1 Axes>"
            ]
          },
          "metadata": {
            "needs_background": "light"
          }
        }
      ]
    },
    {
      "cell_type": "code",
      "metadata": {
        "colab": {
          "base_uri": "https://localhost:8080/"
        },
        "id": "sezU79armziF",
        "outputId": "ef7e6594-c498-484c-cbcf-ebe2d97884a1"
      },
      "source": [
        "# 발의 법안 중 가결안 경우 (only 가결안)\n",
        "suggest_20[suggest_20['RESULT']=='가결']['RST_PROPOSER'].value_counts()"
      ],
      "execution_count": 105,
      "outputs": [
        {
          "output_type": "execute_result",
          "data": {
            "text/plain": [
              "황주홍    214\n",
              "박광온    137\n",
              "이찬열    127\n",
              "이명수     95\n",
              "김종회     81\n",
              "      ... \n",
              "최재성      1\n",
              "허윤정      1\n",
              "서청원      1\n",
              "김종훈      1\n",
              "김재경      1\n",
              "Name: RST_PROPOSER, Length: 310, dtype: int64"
            ]
          },
          "metadata": {},
          "execution_count": 105
        }
      ]
    },
    {
      "cell_type": "code",
      "metadata": {
        "colab": {
          "base_uri": "https://localhost:8080/",
          "height": 0
        },
        "id": "yWk9uUwWmzjR",
        "outputId": "39ea8e23-45dd-40af-8d24-de00a1dbdbe3"
      },
      "source": [
        "# 법안 발의 (가결안) top 10\n",
        "\n",
        "plt.figure(figsize=(10,6)) # sns.countplot 코드 밑에 코드 작성시 적용 X\n",
        "\n",
        "sns.countplot(data = suggest_20[suggest_20['RESULT']=='가결'],\n",
        "              x = 'RST_PROPOSER',\n",
        "              order = suggest_20[suggest_20['RESULT']=='가결']['RST_PROPOSER'].value_counts()[:10].index)\n",
        "plt.title(\" 가결안 수 기준 대표 발의자 top10 (20대)\")\n",
        "plt.xticks(rotation=45)\n",
        "plt.show();"
      ],
      "execution_count": 106,
      "outputs": [
        {
          "output_type": "display_data",
          "data": {
            "image/png": "[encoded data removed]",
            "text/plain": [
              "<Figure size 720x432 with 1 Axes>"
            ]
          },
          "metadata": {
            "needs_background": "light"
          }
        }
      ]
    },
    {
      "cell_type": "code",
      "metadata": {
        "colab": {
          "base_uri": "https://localhost:8080/"
        },
        "id": "hrS3LleXbdnb",
        "outputId": "6762cd83-9d5c-4d26-b262-a42cbfebdd8f"
      },
      "source": [
        "suggest_20['RST_PROPOSER']"
      ],
      "execution_count": 107,
      "outputs": [
        {
          "output_type": "execute_result",
          "data": {
            "text/plain": [
              "0        김병관\n",
              "1        김병관\n",
              "2        채이배\n",
              "3        문진국\n",
              "4        송석준\n",
              "        ... \n",
              "17886    김종태\n",
              "17887    김종태\n",
              "18481    김종태\n",
              "21199    김종태\n",
              "21250    김종태\n",
              "Name: RST_PROPOSER, Length: 21696, dtype: object"
            ]
          },
          "metadata": {},
          "execution_count": 107
        }
      ]
    },
    {
      "cell_type": "markdown",
      "metadata": {
        "id": "ik9DQ2ko1hQ8"
      },
      "source": [
        "###**가결률 (20대)**"
      ]
    },
    {
      "cell_type": "code",
      "metadata": {
        "id": "1wNUsumFXwVR"
      },
      "source": [
        "# 발의 법안 전체 경우 (가결안 + 폐기안) - 20대 국회\n",
        "# suggest_mean_20 = suggest_20['RST_PROPOSER'].value_counts().mean()\n",
        "\n",
        "bill_sum = suggest_20['RST_PROPOSER'].value_counts()\n",
        "bill_sum_20_over_m = bill_sum[bill_sum > suggest_mean_20]\n",
        "\n",
        "# 발의 법안 중 가결안 경우 (only 가결안)\n",
        "bill_pass = suggest_20[suggest_20['RESULT']=='가결']['RST_PROPOSER'].value_counts()"
      ],
      "execution_count": 108,
      "outputs": []
    },
    {
      "cell_type": "code",
      "metadata": {
        "colab": {
          "base_uri": "https://localhost:8080/"
        },
        "id": "Z1KL90Z1mEs3",
        "outputId": "1f095fb8-567e-41a3-f82d-b2aefb3b3a4b"
      },
      "source": [
        "bill_sum_20_over_m[:20]"
      ],
      "execution_count": 109,
      "outputs": [
        {
          "output_type": "execute_result",
          "data": {
            "text/plain": [
              "황주홍    696\n",
              "박광온    389\n",
              "이찬열    324\n",
              "김도읍    238\n",
              "박정     228\n",
              "이명수    215\n",
              "김종회    180\n",
              "김승희    167\n",
              "송옥주    166\n",
              "백혜련    160\n",
              "김삼화    160\n",
              "박홍근    158\n",
              "함진규    156\n",
              "최도자    155\n",
              "설훈     154\n",
              "주승용    154\n",
              "김관영    153\n",
              "신창현    152\n",
              "김광수    152\n",
              "서영교    151\n",
              "Name: RST_PROPOSER, dtype: int64"
            ]
          },
          "metadata": {},
          "execution_count": 109
        }
      ]
    },
    {
      "cell_type": "code",
      "metadata": {
        "colab": {
          "base_uri": "https://localhost:8080/"
        },
        "id": "wSuG2lZKYsKB",
        "outputId": "47351e58-b49f-437e-f171-9094d13908ed"
      },
      "source": [
        "# 평균 발의 횟수 이상 - 가결률\n",
        "pass_percent = round(bill_pass / bill_sum_20_over_m , 2)\n",
        "\n",
        "pass_percent.sort_values(ascending = False)[:10]"
      ],
      "execution_count": 110,
      "outputs": [
        {
          "output_type": "execute_result",
          "data": {
            "text/plain": [
              "조정식    0.67\n",
              "김상훈    0.62\n",
              "김현권    0.61\n",
              "박완주    0.59\n",
              "오제세    0.56\n",
              "양승조    0.55\n",
              "추경호    0.54\n",
              "김성찬    0.53\n",
              "김기선    0.52\n",
              "설훈     0.51\n",
              "Name: RST_PROPOSER, dtype: float64"
            ]
          },
          "metadata": {},
          "execution_count": 110
        }
      ]
    },
    {
      "cell_type": "code",
      "metadata": {
        "colab": {
          "base_uri": "https://localhost:8080/",
          "height": 405
        },
        "id": "OyD85GefaQjC",
        "outputId": "b794ba57-3032-4e49-97ec-02e695417379"
      },
      "source": [
        "# 가결율 top 10\n",
        "plt.figure(figsize = (10,6))\n",
        "# sns.barplot(data = pass_percent,\n",
        "#             order = pass_percent.sort_values(ascending = False)[:10] )\n",
        "\n",
        "\n",
        "colors=['powderblue', 'gold', 'coral', 'maroon', 'salmon', 'pink', 'olive', 'orchid', 'lightpink','tan'] \n",
        "pass_percent.sort_values(ascending = False)[:10].plot(kind='bar', color= colors)\n",
        "plt.title(\"가결율 top10 (20대)\")\n",
        "plt.xticks(rotation=45)\n",
        "plt.show()"
      ],
      "execution_count": 111,
      "outputs": [
        {
          "output_type": "display_data",
          "data": {
            "image/png": "[encoded data removed]",
            "text/plain": [
              "<Figure size 720x432 with 1 Axes>"
            ]
          },
          "metadata": {
            "needs_background": "light"
          }
        }
      ]
    },
    {
      "cell_type": "markdown",
      "metadata": {
        "id": "yDHzN_gpeYf0"
      },
      "source": [
        "###**정당 별 법안 제출 수 및 가결율 (20대)**"
      ]
    },
    {
      "cell_type": "code",
      "metadata": {
        "colab": {
          "base_uri": "https://localhost:8080/"
        },
        "id": "GrZAe853eYf0",
        "outputId": "71547523-5bf1-445e-f5ab-df74c9bef157"
      },
      "source": [
        "# 법안 제출 수 \n",
        "party_sum_20 = suggest_20['PARTY_NAME'].value_counts()\n",
        "party_sum_20"
      ],
      "execution_count": 112,
      "outputs": [
        {
          "output_type": "execute_result",
          "data": {
            "text/plain": [
              "더불어민주당    11065\n",
              "새누리당       6283\n",
              "국민의당       3508\n",
              "정의당         405\n",
              "무소속         373\n",
              "자유한국당        62\n",
              "Name: PARTY_NAME, dtype: int64"
            ]
          },
          "metadata": {},
          "execution_count": 112
        }
      ]
    },
    {
      "cell_type": "code",
      "metadata": {
        "colab": {
          "base_uri": "https://localhost:8080/",
          "height": 424
        },
        "id": "N_Dm-1KjeYf1",
        "outputId": "76d2002b-2430-48e7-f4ce-258df3dbd5f9"
      },
      "source": [
        "# 가결률 - 많은 의석을 차지한 더불어민주당이 당연히 많은 법안을 발의할 것이므로, 가결률을 확인한다. \n",
        "plt.figure(figsize=(10,6))\n",
        "\n",
        "party_pass_20 = suggest_20[suggest_20['RESULT']=='가결']['PARTY_NAME'].value_counts()\n",
        "\n",
        "olors=['maroon', 'powderblue', 'coral', 'salmon', 'pink',  'gold']  \n",
        "party_percent_20 = round(party_pass_20 / party_sum_20, 2)*100\n",
        "party_percent_20.sort_values(ascending=False).plot(kind='bar', color=colors)\n",
        "\n",
        "plt.xticks(rotation=45)\n",
        "plt.title(\"정당별 발의 법안 가결률(%)(20대)\")\n",
        "plt.show();"
      ],
      "execution_count": 113,
      "outputs": [
        {
          "output_type": "display_data",
          "data": {
            "image/png": "[encoded data removed]",
            "text/plain": [
              "<Figure size 720x432 with 1 Axes>"
            ]
          },
          "metadata": {
            "needs_background": "light"
          }
        }
      ]
    },
    {
      "cell_type": "code",
      "metadata": {
        "colab": {
          "base_uri": "https://localhost:8080/"
        },
        "id": "2Atgao8qlOHy",
        "outputId": "6eb76031-69f1-4dae-9007-1ee1c380aa24"
      },
      "source": [
        "party_percent_20.sort_values(ascending=False)"
      ],
      "execution_count": 114,
      "outputs": [
        {
          "output_type": "execute_result",
          "data": {
            "text/plain": [
              "새누리당      33.0\n",
              "더불어민주당    30.0\n",
              "국민의당      30.0\n",
              "무소속       27.0\n",
              "정의당       24.0\n",
              "자유한국당     18.0\n",
              "Name: PARTY_NAME, dtype: float64"
            ]
          },
          "metadata": {},
          "execution_count": 114
        }
      ]
    },
    {
      "cell_type": "code",
      "metadata": {
        "id": "S3J5EJR2Ka4e"
      },
      "source": [
        "df_percent_20 = party_percent_20.to_frame()\n",
        "df_percent_20 = df_percent_20.reset_index()\n",
        "df_percent_20.rename(columns={'index':'party_name', 'PARTY_NAME':'percent'},inplace=True)"
      ],
      "execution_count": 115,
      "outputs": []
    },
    {
      "cell_type": "code",
      "metadata": {
        "id": "qDoqO1GVH2Wc"
      },
      "source": [
        "df_sum_20 =party_sum_20.to_frame()\n",
        "df_sum_20 = df_sum_20.reset_index()\n",
        "df_sum_20.rename(columns={'index':'party_name', 'PARTY_NAME':'count'}, inplace=True)"
      ],
      "execution_count": 116,
      "outputs": []
    },
    {
      "cell_type": "code",
      "metadata": {
        "colab": {
          "base_uri": "https://localhost:8080/",
          "height": 235
        },
        "id": "B3KSQKgSJyMG",
        "outputId": "b2b69aec-3eb7-495e-c367-2e9f66e57f24"
      },
      "source": [
        "df_20 = df_sum_20.merge(df_percent_20,on='party_name', how='left')\n",
        "df_20"
      ],
      "execution_count": 117,
      "outputs": [
        {
          "output_type": "execute_result",
          "data": {
            "text/html": [
              "<div>\n",
              "<style scoped>\n",
              "    .dataframe tbody tr th:only-of-type {\n",
              "        vertical-align: middle;\n",
              "    }\n",
              "\n",
              "    .dataframe tbody tr th {\n",
              "        vertical-align: top;\n",
              "    }\n",
              "\n",
              "    .dataframe thead th {\n",
              "        text-align: right;\n",
              "    }\n",
              "</style>\n",
              "<table border=\"1\" class=\"dataframe\">\n",
              "  <thead>\n",
              "    <tr style=\"text-align: right;\">\n",
              "      <th></th>\n",
              "      <th>party_name</th>\n",
              "      <th>count</th>\n",
              "      <th>percent</th>\n",
              "    </tr>\n",
              "  </thead>\n",
              "  <tbody>\n",
              "    <tr>\n",
              "      <th>0</th>\n",
              "      <td>더불어민주당</td>\n",
              "      <td>11065</td>\n",
              "      <td>30.0</td>\n",
              "    </tr>\n",
              "    <tr>\n",
              "      <th>1</th>\n",
              "      <td>새누리당</td>\n",
              "      <td>6283</td>\n",
              "      <td>33.0</td>\n",
              "    </tr>\n",
              "    <tr>\n",
              "      <th>2</th>\n",
              "      <td>국민의당</td>\n",
              "      <td>3508</td>\n",
              "      <td>30.0</td>\n",
              "    </tr>\n",
              "    <tr>\n",
              "      <th>3</th>\n",
              "      <td>정의당</td>\n",
              "      <td>405</td>\n",
              "      <td>24.0</td>\n",
              "    </tr>\n",
              "    <tr>\n",
              "      <th>4</th>\n",
              "      <td>무소속</td>\n",
              "      <td>373</td>\n",
              "      <td>27.0</td>\n",
              "    </tr>\n",
              "    <tr>\n",
              "      <th>5</th>\n",
              "      <td>자유한국당</td>\n",
              "      <td>62</td>\n",
              "      <td>18.0</td>\n",
              "    </tr>\n",
              "  </tbody>\n",
              "</table>\n",
              "</div>"
            ],
            "text/plain": [
              "  party_name  count  percent\n",
              "0     더불어민주당  11065     30.0\n",
              "1       새누리당   6283     33.0\n",
              "2       국민의당   3508     30.0\n",
              "3        정의당    405     24.0\n",
              "4        무소속    373     27.0\n",
              "5      자유한국당     62     18.0"
            ]
          },
          "metadata": {},
          "execution_count": 117
        }
      ]
    },
    {
      "cell_type": "code",
      "metadata": {
        "colab": {
          "base_uri": "https://localhost:8080/",
          "height": 392
        },
        "id": "cLsJnqr-kroY",
        "outputId": "eca3ce5b-96ea-4b9c-e3bb-6dcfe1977208"
      },
      "source": [
        "fig = plt.figure(figsize=(10,6))\n",
        "fig.set_facecolor('white')\n",
        "ax1 = fig.add_subplot() # axes 생성\n",
        "\n",
        "colors = sns.color_palette('spring',len(df_20)) ## 바 차트 색상\n",
        "\n",
        "xtick_label_position = list(range(len(df_20))) # x축 눈금 표시 좌표\n",
        "\n",
        "\n",
        "\n",
        "ax1.set_xticks(xtick_label_position) # x축 눈금 표시\n",
        "# ax1.set_xticklabels(xtick_label_position, df_20['paraty_name']) # x축 눈금 라벨\n",
        "plt.xticks(xtick_label_position, df_20['party_name']) ## x축 눈금 라벨 출력\n",
        "ax1.bar(xtick_label_position, df_20['percent'], color=colors) #바차트 출력\n",
        "\n",
        "color = 'blue'\n",
        "ax2 = ax1.twinx() #새로운 axis 생성\n",
        "ax2.plot(xtick_label_position, df_20['count'], color=color, linestyle='--',marker='o')\n",
        "ax2.tick_params(axis='y', labelcolor=color)\n",
        "\n",
        "plt.title(\"정당별 발의 횟수 및 법안 가결률(%)(20대)\", fontsize=15)\n",
        "plt.show();\n"
      ],
      "execution_count": 118,
      "outputs": [
        {
          "output_type": "display_data",
          "data": {
            "image/png": "[encoded data removed]",
            "text/plain": [
              "<Figure size 720x432 with 2 Axes>"
            ]
          },
          "metadata": {}
        }
      ]
    },
    {
      "cell_type": "markdown",
      "metadata": {
        "id": "DDz8sEJRsVWT"
      },
      "source": [
        "#**국회 출석률(보류)**\n",
        "\n",
        "- 참고 기사 : http://newslabit.hankyung.com/article/201906163394G , http://newslabit.hankyung.com/article/201907117204G \n",
        "- 본회의 vs. 상임위 출석률 격차"
      ]
    },
    {
      "cell_type": "markdown",
      "metadata": {
        "id": "MsccvghZp-OP"
      },
      "source": [
        "#**(추가)발의 법안 주제**"
      ]
    },
    {
      "cell_type": "code",
      "metadata": {
        "colab": {
          "base_uri": "https://localhost:8080/"
        },
        "id": "Rq6PByrQnha6",
        "outputId": "11d75061-3ebf-463d-cd65-e3d1f320e452"
      },
      "source": [
        "suggest_21['법률안명'].value_counts()[:20]"
      ],
      "execution_count": 124,
      "outputs": [
        {
          "output_type": "execute_result",
          "data": {
            "text/plain": [
              "조세특례제한법 일부개정법률안                      349\n",
              "공직선거법 일부개정법률안                        195\n",
              "국회법 일부개정법률안                          168\n",
              "지방세특례제한법 일부개정법률안                     153\n",
              "도로교통법 일부개정법률안                        152\n",
              "감염병의 예방 및 관리에 관한 법률 일부개정법률안          147\n",
              "근로기준법 일부개정법률안                        144\n",
              "아동복지법 일부개정법률안                        125\n",
              "국가재정법 일부개정법률안                        116\n",
              "의료법 일부개정법률안                           93\n",
              "지방세법 일부개정법률안                          80\n",
              "형사소송법 일부개정법률안                         78\n",
              "아동학대범죄의 처벌 등에 관한 특례법 일부개정법률안          77\n",
              "남녀고용평등과 일·가정 양립 지원에 관한 법률 일부개정법률안     73\n",
              "소득세법 일부개정법률안                          69\n",
              "국민건강보험법 일부개정법률안                       68\n",
              "지방자치법 일부개정법률안                         68\n",
              "정부조직법 일부개정법률안                         66\n",
              "형법 일부개정법률안                            66\n",
              "동물보호법 일부개정법률안                         64\n",
              "Name: 법률안명, dtype: int64"
            ]
          },
          "metadata": {},
          "execution_count": 124
        }
      ]
    },
    {
      "cell_type": "code",
      "metadata": {
        "colab": {
          "base_uri": "https://localhost:8080/",
          "height": 610
        },
        "id": "FGueygkSwJTG",
        "outputId": "4c2e677e-cb3f-4383-acde-889f07dcb2ab"
      },
      "source": [
        "plt.figure(figsize=(10,7))\n",
        "\n",
        "sns.countplot(data = suggest_21,\n",
        "              x = '법률안명',\n",
        "              order = suggest_21['법률안명'].value_counts()[:10].index)\n",
        "plt.title(\"법률안명별 발의 개수 (21대)\", fontsize=15)\n",
        "plt.xticks(rotation=50)\n",
        "plt.show();"
      ],
      "execution_count": 152,
      "outputs": [
        {
          "output_type": "display_data",
          "data": {
            "image/png": "[encoded data removed]",
            "text/plain": [
              "<Figure size 720x504 with 1 Axes>"
            ]
          },
          "metadata": {
            "needs_background": "light"
          }
        }
      ]
    },
    {
      "cell_type": "code",
      "metadata": {
        "colab": {
          "base_uri": "https://localhost:8080/"
        },
        "id": "d0fmDThCxu09",
        "outputId": "52e4d990-5923-47ee-dbaf-6b9794af3b0d"
      },
      "source": [
        "suggest_20['BILL_NAME'].value_counts()[:20]"
      ],
      "execution_count": 143,
      "outputs": [
        {
          "output_type": "execute_result",
          "data": {
            "text/plain": [
              "조세특례제한법 일부개정법률안                       608\n",
              "공직선거법 일부개정법률안                         343\n",
              "도로교통법 일부개정법률안                         277\n",
              "국회법 일부개정법률안                           267\n",
              "근로기준법 일부개정법률안                         217\n",
              "지방세특례제한법 일부개정법률안                      197\n",
              "국가재정법 일부개정법률안                         187\n",
              "의료법 일부개정법률안                           183\n",
              "형법 일부개정법률안                            158\n",
              "소득세법 일부개정법률안                          154\n",
              "정보통신망 이용촉진 및 정보보호 등에 관한 법률 일부개정법률안    154\n",
              "국민건강보험법 일부개정법률안                       143\n",
              "남녀고용평등과 일·가정 양립 지원에 관한 법률 일부개정법률안     132\n",
              "성폭력범죄의 처벌 등에 관한 특례법 일부개정법률안           128\n",
              "자동차관리법 일부개정법률안                        126\n",
              "전기사업법 일부개정법률안                         121\n",
              "국민연금법 일부개정법률안                         119\n",
              "공공기관의 운영에 관한 법률 일부개정법률안               118\n",
              "독점규제 및 공정거래에 관한 법률 일부개정법률안            117\n",
              "형사소송법 일부개정법률안                         116\n",
              "Name: BILL_NAME, dtype: int64"
            ]
          },
          "metadata": {},
          "execution_count": 143
        }
      ]
    },
    {
      "cell_type": "code",
      "metadata": {
        "colab": {
          "base_uri": "https://localhost:8080/",
          "height": 561
        },
        "id": "tDB7h-7Mxu1M",
        "outputId": "188b8e6b-4095-4b59-d569-a3c63492eae0"
      },
      "source": [
        "plt.figure(figsize=(10,7))\n",
        "\n",
        "sns.countplot(data = suggest_20,\n",
        "              x = 'BILL_NAME',\n",
        "              order = suggest_20['BILL_NAME'].value_counts()[:10].index)\n",
        "plt.title(\"법률안명별 발의 개수 (20대)\", fontsize=15)\n",
        "plt.xticks(rotation=50)\n",
        "plt.show();"
      ],
      "execution_count": 151,
      "outputs": [
        {
          "output_type": "display_data",
          "data": {
            "image/png": "[encoded data removed]",
            "text/plain": [
              "<Figure size 720x504 with 1 Axes>"
            ]
          },
          "metadata": {
            "needs_background": "light"
          }
        }
      ]
    },
    {
      "cell_type": "code",
      "metadata": {
        "colab": {
          "base_uri": "https://localhost:8080/",
          "height": 372
        },
        "id": "zyoFlxRNy1YR",
        "outputId": "ac9327a7-3111-42ac-d597-2bfbc58e0e99"
      },
      "source": [
        "# 법률안명별 발의 개수 (20대) + 그래프 위에 수치 텍스트 첨부\n",
        "graph=sns.countplot(data = suggest_20,\n",
        "              x = 'BILL_NAME',\n",
        "              order = suggest_20['BILL_NAME'].value_counts()[:10].index)\n",
        "\n",
        "total_amt = suggest_20[suggest_20.PROC_RESULT.notnull()==True].shape[0]\n",
        "\n",
        "for bar in graph.patches:\n",
        "  height = bar.get_height() \n",
        "  graph.text(bar.get_x()+bar.get_width()/2.,\n",
        "             height + 4,\n",
        "             '{:1.1f}%'.format(height/total_amt*100),\n",
        "             ha=\"center\",fontsize=10)\n",
        "  \n",
        "plt.xticks(rotation=45)\n",
        "plt.show();"
      ],
      "execution_count": 172,
      "outputs": [
        {
          "output_type": "display_data",
          "data": {
            "image/png": "[encoded data removed]",
            "text/plain": [
              "<Figure size 432x288 with 1 Axes>"
            ]
          },
          "metadata": {
            "needs_background": "light"
          }
        }
      ]
    },
    {
      "cell_type": "markdown",
      "metadata": {
        "id": "CK0lb-GUooia"
      },
      "source": [
        "###**공공데이터 의안 관련 open api (아직 어떻게 사용하는지 모름)**"
      ]
    },
    {
      "cell_type": "code",
      "metadata": {
        "id": "59hrzq_oqFQL",
        "colab": {
          "base_uri": "https://localhost:8080/"
        },
        "outputId": "5dcaeeed-7295-4b08-94a6-553faf867503"
      },
      "source": [
        "import requests\n",
        "\n",
        "url = 'http://apis.data.go.kr/9710000/BillInfoService2/getBillInfoList'\n",
        "params ={'serviceKey' : '서비스키', 'pageNo' : '1', 'numOfRows' : '10', 'mem_name_check' : 'G01', 'mem_name' : '김영주', 'hj_nm' : '金榮珠', 'ord' : 'A01', 'start_ord' : '19', 'end_ord' : '19', 'process_num' : '-', 'start_process_num' : '-', 'end_process_num' : '-', 'propose_num' : '-', 'start_propose_num' : '-', 'end_propose_num' : '-', 'start_propose_date' : '2013-01-01', 'end_propose_date' : '2015-01-01', 'start_committee_dt' : '2014-01-01', 'end_committee_dt' : '2015-01-01', 'bill_kind_cd' : 'B04', 'curr_committee' : '9700008', 'proposer_kind_cd' : 'F01', 'p_proc_result_cd' : 'D01', 'b_proc_result_cd' : 'E01', 'bill_name' : '기', 'gbn' : 'dae_num_name', 'amendmentyn' : 'false', 'budget' : 'false' }\n",
        "\n",
        "response = requests.get(url, params=params)\n",
        "print(response.content)"
      ],
      "execution_count": 120,
      "outputs": [
        {
          "output_type": "stream",
          "name": "stdout",
          "text": [
            "b'<OpenAPI_ServiceResponse>\\n\\t<cmmMsgHeader>\\n\\t\\t<errMsg>SERVICE ERROR</errMsg>\\n\\t\\t<returnAuthMsg>SERVICE_KEY_IS_NOT_REGISTERED_ERROR</returnAuthMsg>\\n\\t\\t<returnReasonCode>30</returnReasonCode>\\n\\t</cmmMsgHeader>\\n</OpenAPI_ServiceResponse>'\n"
          ]
        }
      ]
    }
  ]
}